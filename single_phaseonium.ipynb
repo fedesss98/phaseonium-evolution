{
 "cells": [
  {
   "cell_type": "code",
   "execution_count": 1,
   "id": "b8a89679",
   "metadata": {},
   "outputs": [],
   "source": [
    "%matplotlib inline\n",
    "import copy\n",
    "from qutip import *\n",
    "import numpy as np\n",
    "import math, cmath\n",
    "import matplotlib.pyplot as plt\n",
    "from tqdm import tqdm\n",
    "\n",
    "import utilities as use\n",
    "from stateobj import QState, QAncilla\n",
    "\n",
    "from IPython.display import Markdown, display"
   ]
  },
  {
   "cell_type": "code",
   "execution_count": 2,
   "id": "0bbba983",
   "metadata": {},
   "outputs": [],
   "source": [
    "UNITARY_EVOLUTION = False  # Slower\n",
    "MEQ_EVOLUTION = True\n",
    "SIM_ID = '60D'  # string (system dimentions)\n",
    "PLOT = True\n",
    "\n",
    "TIMESTEPS = 10000\n",
    "TIMEDELTA = 1e-02 \n",
    "OMEGA = 10  # Strength of Interaction"
   ]
  },
  {
   "cell_type": "markdown",
   "id": "f8c219d5",
   "metadata": {},
   "source": [
    "## System"
   ]
  },
  {
   "cell_type": "code",
   "execution_count": 3,
   "id": "d0f549d7",
   "metadata": {},
   "outputs": [
    {
     "data": {
      "text/latex": [
       "Quantum object: dims = [[60], [60]], shape = (60, 60), type = oper, isherm = True\\begin{equation*}\\left(\\begin{array}{*{11}c}1.0 & 0.0 & 0.0 & 0.0 & 0.0 & \\cdots & 0.0 & 0.0 & 0.0 & 0.0 & 0.0\\\\0.0 & 0.0 & 0.0 & 0.0 & 0.0 & \\cdots & 0.0 & 0.0 & 0.0 & 0.0 & 0.0\\\\0.0 & 0.0 & 0.0 & 0.0 & 0.0 & \\cdots & 0.0 & 0.0 & 0.0 & 0.0 & 0.0\\\\0.0 & 0.0 & 0.0 & 0.0 & 0.0 & \\cdots & 0.0 & 0.0 & 0.0 & 0.0 & 0.0\\\\0.0 & 0.0 & 0.0 & 0.0 & 0.0 & \\cdots & 0.0 & 0.0 & 0.0 & 0.0 & 0.0\\\\\\vdots & \\vdots & \\vdots & \\vdots & \\vdots & \\ddots & \\vdots & \\vdots & \\vdots & \\vdots & \\vdots\\\\0.0 & 0.0 & 0.0 & 0.0 & 0.0 & \\cdots & 0.0 & 0.0 & 0.0 & 0.0 & 0.0\\\\0.0 & 0.0 & 0.0 & 0.0 & 0.0 & \\cdots & 0.0 & 0.0 & 0.0 & 0.0 & 0.0\\\\0.0 & 0.0 & 0.0 & 0.0 & 0.0 & \\cdots & 0.0 & 0.0 & 0.0 & 0.0 & 0.0\\\\0.0 & 0.0 & 0.0 & 0.0 & 0.0 & \\cdots & 0.0 & 0.0 & 0.0 & 0.0 & 0.0\\\\0.0 & 0.0 & 0.0 & 0.0 & 0.0 & \\cdots & 0.0 & 0.0 & 0.0 & 0.0 & 0.0\\\\\\end{array}\\right)\\end{equation*}"
      ],
      "text/plain": [
       "Quantum object: dims = [[60], [60]], shape = (60, 60), type = oper, isherm = True\n",
       "Qobj data =\n",
       "[[1. 0. 0. ... 0. 0. 0.]\n",
       " [0. 0. 0. ... 0. 0. 0.]\n",
       " [0. 0. 0. ... 0. 0. 0.]\n",
       " ...\n",
       " [0. 0. 0. ... 0. 0. 0.]\n",
       " [0. 0. 0. ... 0. 0. 0.]\n",
       " [0. 0. 0. ... 0. 0. 0.]]"
      ]
     },
     "metadata": {},
     "output_type": "display_data"
    }
   ],
   "source": [
    "# SYSTEM\n",
    "system_dimentions = 60\n",
    "system_energy = 1\n",
    "system = use.create_system('fock', n_dims=system_dimentions, n=0)\n",
    "system.energy = system_energy\n",
    "# Stampa informazioni sul Sistema\n",
    "display(system)"
   ]
  },
  {
   "cell_type": "markdown",
   "id": "65f5311e",
   "metadata": {},
   "source": [
    "## Ancilla"
   ]
  },
  {
   "cell_type": "code",
   "execution_count": 4,
   "id": "83808070",
   "metadata": {},
   "outputs": [
    {
     "data": {
      "text/latex": [
       "Quantum object: dims = [[3], [3]], shape = (3, 3), type = oper, isherm = True\\begin{equation*}\\left(\\begin{array}{*{11}c}0.500 & 0.0 & 0.0\\\\0.0 & 0.250 & (0.125+0.217j)\\\\0.0 & (0.125-0.217j) & 0.250\\\\\\end{array}\\right)\\end{equation*}"
      ],
      "text/plain": [
       "Quantum object: dims = [[3], [3]], shape = (3, 3), type = oper, isherm = True\n",
       "Qobj data =\n",
       "[[0.5  +0.j         0.   +0.j         0.   +0.j        ]\n",
       " [0.   +0.j         0.25 +0.j         0.125+0.21650635j]\n",
       " [0.   +0.j         0.125-0.21650635j 0.25 +0.j        ]]"
      ]
     },
     "metadata": {},
     "output_type": "display_data"
    },
    {
     "data": {
      "text/markdown": [
       "This will thermalize the System to $T = -3.476059496782208$"
      ],
      "text/plain": [
       "<IPython.core.display.Markdown object>"
      ]
     },
     "metadata": {},
     "output_type": "display_data"
    }
   ],
   "source": [
    "alpha = complex(1/math.sqrt(2), 0)\n",
    "beta = complex(1/math.sqrt(2), 0)\n",
    "phi = np.pi/3\n",
    "eta = QAncilla(alpha, beta, phi)\n",
    "# Stampa informazioni sull'Ancella\n",
    "display(eta)\n",
    "stable_temperature = - system.energy / math.log(eta.factor)\n",
    "display(Markdown(\n",
    "    f\"This will thermalize the System to $T = {stable_temperature}$\")\n",
    ")"
   ]
  },
  {
   "cell_type": "markdown",
   "id": "c0950e7d",
   "metadata": {},
   "source": [
    "### Interaction\n",
    "$$\n",
    "  \\hat{V}_n = \\hbar\\Omega[A_+B_+ + A_-B_-], \\\\\n",
    "  A_+ = \\hat{a}^\\dagger, \\\\\n",
    "  A_- = \\hat{a}, \\\\\n",
    "  B_+ = \\hat{\\sigma}_1^- + \\hat{\\sigma}_2^- \\equiv \\begin{pmatrix} 0&0&0\\\\1&0&0\\\\1&0&0 \\end{pmatrix}, \\\\\n",
    "  B_- = \\hat{\\sigma}_1^+ + \\hat{\\sigma}_2^+ \\equiv \\begin{pmatrix} 0&1&1\\\\0&0&0\\\\0&0&0 \\end{pmatrix} .\n",
    "$$"
   ]
  },
  {
   "cell_type": "code",
   "execution_count": 5,
   "id": "41f89ccc",
   "metadata": {},
   "outputs": [],
   "source": [
    "# System Opeators\n",
    "ap_int = tensor(system.ap, qeye(3))\n",
    "am_int = tensor(system.am, qeye(3))\n",
    "# Ancilla Operators \n",
    "bp_int = tensor(qeye(system_dimentions), eta.sigmaminus)\n",
    "bm_int = tensor(qeye(system_dimentions), eta.sigmaplus)\n",
    "# INTERACTION\n",
    "V = OMEGA * ( ap_int*bp_int + am_int*bm_int )"
   ]
  },
  {
   "cell_type": "markdown",
   "id": "bae9ea2a",
   "metadata": {},
   "source": [
    "## Unitary Evolution"
   ]
  },
  {
   "cell_type": "code",
   "execution_count": 6,
   "id": "57188131",
   "metadata": {},
   "outputs": [],
   "source": [
    "rho = copy.deepcopy(system)"
   ]
  },
  {
   "cell_type": "code",
   "execution_count": 7,
   "id": "ebf5ecdb",
   "metadata": {},
   "outputs": [
    {
     "name": "stdout",
     "output_type": "stream",
     "text": [
      "Error!\n",
      " [Errno 2] No such file or directory: 'objects/steadystate_unitary_60D.qu'\n"
     ]
    }
   ],
   "source": [
    "if UNITARY_EVOLUTION:\n",
    "    \"\"\"Fa evolvere il sistema tramite [timesteps] collisioni con l'Ancilla\n",
    "    nello stato eta.\n",
    "    Calcola il tempo di termalizzazione e il tempo per raggiungere una\n",
    "    temperatura stabile. \n",
    "    Salva il vettore di Temperature calcolate a ogni step e lo stato del\n",
    "    Sistema\"\"\"    \n",
    "    for t in tqdm(range(TIMESTEPS)):\n",
    "        rho = rho.interact(eta, V, TIMEDELTA)\n",
    "    \n",
    "    temperatures = np.array([rho.get_temperature() for rho in rho.history])\n",
    "    first_stable = np.where(np.isclose(temperatures, temperatures[-1], rtol=1e-04))[0][0]\n",
    "    \n",
    "    print(f\"Temperature becomes stable at step {first_stable}:\\n\"\n",
    "          f\"First stable Temperature: {temperatures[first_stable]};\\n\"\n",
    "          f\"Last stable Temperature: {temperatures[-1]}.\")\n",
    "    rho.check_time(first_stable)\n",
    "    \n",
    "    if SIM_ID is not None:\n",
    "        qsave(rho, f'objects/steadystate_unitary_{SIM_ID}')\n",
    "        np.save(f'objects/system_temperatures_unitary_{SIM_ID}', temperatures)\n",
    "else:\n",
    "    try:\n",
    "        \"\"\"Carica i file delle Temperature e lo stato del Sistema\"\"\"\n",
    "        rho = qload(f'objects/steadystate_unitary_{SIM_ID}')\n",
    "        rho = QState(rho, energy=system_energy)\n",
    "        temperatures = np.load(f'objects/system_temperatures_unitary_{SIM_ID}.npy')\n",
    "        PLOT = True\n",
    "    except FileNotFoundError as e:\n",
    "        print('Error!\\n', str(e))\n",
    "        PLOT = False"
   ]
  },
  {
   "cell_type": "code",
   "execution_count": 8,
   "id": "f751dc92",
   "metadata": {},
   "outputs": [
    {
     "data": {
      "text/plain": [
       "1"
      ]
     },
     "execution_count": 8,
     "metadata": {},
     "output_type": "execute_result"
    }
   ],
   "source": [
    "rho.energy"
   ]
  },
  {
   "cell_type": "code",
   "execution_count": 9,
   "id": "2c9535a1",
   "metadata": {},
   "outputs": [],
   "source": [
    "if UNITARY_EVOLUTION or PLOT:\n",
    "    plt.plot(temperatures)\n",
    "    plt.title(\"Phaseonium Temperature in time (by Unitary Evolution)\")\n",
    "    plt.ylim(0, stable_temperature+0.25*stable_temperature)\n",
    "    plt.axhline(temperatures[-1], ls='--', color='r', label=f'Stable Temperature: {temperatures[-1]:.4}')\n",
    "    plt.legend()\n",
    "    plt.show()"
   ]
  },
  {
   "cell_type": "code",
   "execution_count": 10,
   "id": "54af91fe",
   "metadata": {},
   "outputs": [
    {
     "data": {
      "image/png": "[encoded data removed]",
      "text/plain": [
       "<Figure size 432x288 with 1 Axes>"
      ]
     },
     "metadata": {
      "needs_background": "light"
     },
     "output_type": "display_data"
    },
    {
     "name": "stdout",
     "output_type": "stream",
     "text": [
      "Negative Temperature from Boltzmann-like distribution:\n",
      "nan\n"
     ]
    },
    {
     "name": "stderr",
     "output_type": "stream",
     "text": [
      "/tmp/ipykernel_19913/735186426.py:4: RuntimeWarning: invalid value encountered in double_scalars\n",
      "  temperature = -rho.energy / math.log(rho.diag()[-2]/rho.diag()[-1])\n"
     ]
    }
   ],
   "source": [
    "plt.plot(rho.diag())\n",
    "plt.title(\"Diagonal Elements of the Steady State\\n[distributed like an exp]\")\n",
    "plt.show()\n",
    "temperature = -rho.energy / math.log(rho.diag()[-2]/rho.diag()[-1])\n",
    "print(f\"Negative Temperature from Boltzmann-like distribution:\\n{temperature}\")"
   ]
  },
  {
   "cell_type": "markdown",
   "id": "77a3ea6e",
   "metadata": {},
   "source": [
    "## Evolution by Master Equation"
   ]
  },
  {
   "cell_type": "markdown",
   "id": "6fbf3ba9",
   "metadata": {},
   "source": [
    "$$\\begin{split}\n",
    "    \\frac{\\Delta\\rho}{\\Delta t} = (\\hbar\\Omega)^2\\Delta t \\big( \n",
    "        \\langle B_+B_- \\rangle (A_-\\rho A_+ -\\frac{1}{2}[A_+A_-; \\rho]) \\\\\n",
    "        + \\langle B_-B_+ \\rangle (A_+\\rho A_- -\\frac{1}{2}[A_-A_+; \\rho])\n",
    "    \\big)\n",
    "\\end{split}$$"
   ]
  },
  {
   "cell_type": "code",
   "execution_count": 11,
   "id": "6213c24b",
   "metadata": {},
   "outputs": [],
   "source": [
    "rho = copy.deepcopy(system)"
   ]
  },
  {
   "cell_type": "code",
   "execution_count": 12,
   "id": "d7b4f10e",
   "metadata": {},
   "outputs": [
    {
     "name": "stderr",
     "output_type": "stream",
     "text": [
      "100%|████████████████████████████████████| 10000/10000 [00:31<00:00, 322.50it/s]\n",
      "/home/fedesss/PROGRAMMAZIONE/QUANTUM/stateobj.py:44: RuntimeWarning: divide by zero encountered in log\n",
      "  return - self._energy / np.log(self.diag()[1].real / self.diag()[0].real)\n"
     ]
    },
    {
     "name": "stdout",
     "output_type": "stream",
     "text": [
      "Temperature becomes stable at step 8088:\n",
      "First stable Temperature: -3.5897147551690005;\n",
      "Last stable Temperature: -3.5895462846895176.\n"
     ]
    },
    {
     "data": {
      "text/markdown": [
       "### System State at time 8088"
      ],
      "text/plain": [
       "<IPython.core.display.Markdown object>"
      ]
     },
     "metadata": {},
     "output_type": "display_data"
    },
    {
     "data": {
      "text/latex": [
       "Quantum object: dims = [[60], [60]], shape = (60, 60), type = oper, isherm = True\\begin{equation*}\\left(\\begin{array}{*{11}c}1.103\\times10^{-08} & 0.0 & 0.0 & 0.0 & 0.0 & \\cdots & 0.0 & 0.0 & 0.0 & 0.0 & 0.0\\\\0.0 & 1.458\\times10^{-08} & 0.0 & 0.0 & 0.0 & \\cdots & 0.0 & 0.0 & 0.0 & 0.0 & 0.0\\\\0.0 & 0.0 & 1.930\\times10^{-08} & 0.0 & 0.0 & \\cdots & 0.0 & 0.0 & 0.0 & 0.0 & 0.0\\\\0.0 & 0.0 & 0.0 & 2.560\\times10^{-08} & 0.0 & \\cdots & 0.0 & 0.0 & 0.0 & 0.0 & 0.0\\\\0.0 & 0.0 & 0.0 & 0.0 & 3.400\\times10^{-08} & \\cdots & 0.0 & 0.0 & 0.0 & 0.0 & 0.0\\\\\\vdots & \\vdots & \\vdots & \\vdots & \\vdots & \\ddots & \\vdots & \\vdots & \\vdots & \\vdots & \\vdots\\\\0.0 & 0.0 & 0.0 & 0.0 & 0.0 & \\cdots & 0.079 & 0.0 & 0.0 & 0.0 & 0.0\\\\0.0 & 0.0 & 0.0 & 0.0 & 0.0 & \\cdots & 0.0 & 0.105 & 0.0 & 0.0 & 0.0\\\\0.0 & 0.0 & 0.0 & 0.0 & 0.0 & \\cdots & 0.0 & 0.0 & 0.141 & 0.0 & 0.0\\\\0.0 & 0.0 & 0.0 & 0.0 & 0.0 & \\cdots & 0.0 & 0.0 & 0.0 & 0.188 & 0.0\\\\0.0 & 0.0 & 0.0 & 0.0 & 0.0 & \\cdots & 0.0 & 0.0 & 0.0 & 0.0 & 0.250\\\\\\end{array}\\right)\\end{equation*}"
      ],
      "text/plain": [
       "Quantum object: dims = [[60], [60]], shape = (60, 60), type = oper, isherm = True\n",
       "Qobj data =\n",
       "[[1.10336691e-08 0.00000000e+00 0.00000000e+00 ... 0.00000000e+00\n",
       "  0.00000000e+00 0.00000000e+00]\n",
       " [0.00000000e+00 1.45781684e-08 0.00000000e+00 ... 0.00000000e+00\n",
       "  0.00000000e+00 0.00000000e+00]\n",
       " [0.00000000e+00 0.00000000e+00 1.93038628e-08 ... 0.00000000e+00\n",
       "  0.00000000e+00 0.00000000e+00]\n",
       " ...\n",
       " [0.00000000e+00 0.00000000e+00 0.00000000e+00 ... 1.40625002e-01\n",
       "  0.00000000e+00 0.00000000e+00]\n",
       " [0.00000000e+00 0.00000000e+00 0.00000000e+00 ... 0.00000000e+00\n",
       "  1.87500002e-01 0.00000000e+00]\n",
       " [0.00000000e+00 0.00000000e+00 0.00000000e+00 ... 0.00000000e+00\n",
       "  0.00000000e+00 2.50000003e-01]]"
      ]
     },
     "metadata": {},
     "output_type": "display_data"
    },
    {
     "data": {
      "text/markdown": [
       "*System Temperature undefined*"
      ],
      "text/plain": [
       "<IPython.core.display.Markdown object>"
      ]
     },
     "metadata": {},
     "output_type": "display_data"
    }
   ],
   "source": [
    "if MEQ_EVOLUTION:\n",
    "    \"\"\"Fa evolvere il sistema tramite [TIMESTEPS] collisioni con l'Ancilla\n",
    "    nello stato eta.\n",
    "    Usa la Master Equation.\n",
    "    Calcola il tempo di termalizzazione e il tempo per raggiungere una\n",
    "    temperatura stabile. \n",
    "    Salva il vettore di Temperature calcolate a ogni step e lo stato del\n",
    "    Sistema\"\"\"\n",
    "\n",
    "    for t in tqdm(range(TIMESTEPS)):\n",
    "        rho = rho.meq_step(eta, OMEGA, TIMEDELTA)\n",
    "    \n",
    "    temperatures = np.array([rho.get_temperature() for rho in rho.history])\n",
    "    \n",
    "    first_stable = np.where(np.isclose(temperatures, temperatures[-1], rtol=1e-04))[0][0]\n",
    "    print(f\"Temperature becomes stable at step {first_stable}:\\n\"\n",
    "          f\"First stable Temperature: {temperatures[first_stable]};\\n\"\n",
    "          f\"Last stable Temperature: {temperatures[-1]}.\")\n",
    "    rho.check_time(first_stable)\n",
    "    \n",
    "    if SIM_ID is not None:\n",
    "        qsave(rho, f'objects/steadystate_meq_{SIM_ID}')\n",
    "        np.save(f'objects/system_temperatures_meq_{SIM_ID}', temperatures)\n",
    "else:\n",
    "    try:\n",
    "        \"\"\"Carica i file delle Temperature e lo stato del Sistema\"\"\"\n",
    "        rho = qload(f'objects/steadystate_meq_{SIM_ID}')\n",
    "        temperatures = np.load(f'objects/system_temperatures_meq_{SIM_ID}.npy')\n",
    "        PLOT = True\n",
    "    except FileNotFoundError as e:\n",
    "        print('Error!\\n', str(e))\n",
    "        PLOT = False"
   ]
  },
  {
   "cell_type": "code",
   "execution_count": 13,
   "id": "ba223e76",
   "metadata": {},
   "outputs": [
    {
     "data": {
      "image/png": "[encoded data removed]",
      "text/plain": [
       "<Figure size 432x288 with 1 Axes>"
      ]
     },
     "metadata": {
      "needs_background": "light"
     },
     "output_type": "display_data"
    }
   ],
   "source": [
    "if MEQ_EVOLUTION or PLOT:\n",
    "    plt.plot(temperatures)\n",
    "    plt.title(\"Phaseonium Temperature in time (by Master Equation)\")\n",
    "    plt.ylim(0, stable_temperature+0.25*stable_temperature)\n",
    "    plt.axhline(temperatures[-1], ls='--', color='r', label=f'Stable Temperature: {temperatures[-1]:.4}')\n",
    "    plt.legend()\n",
    "    plt.show()"
   ]
  },
  {
   "cell_type": "markdown",
   "id": "fcff4f3b",
   "metadata": {},
   "source": [
    "### \"Negative\" Temperature\n",
    "Diagonal elements are distributed like $e^{mx+q}$:\n",
    "$$\n",
    "    \\exp\\{mx+q\\} = \\exp\\{q\\} \\exp\\{mx\\} \\equiv \\frac{1}{Z}\\exp\\left\\{x\\frac{\\hbar\\omega}{KT}\\right\\}\n",
    "$$"
   ]
  },
  {
   "cell_type": "code",
   "execution_count": 23,
   "id": "31fa6be9",
   "metadata": {},
   "outputs": [
    {
     "data": {
      "image/png": "[encoded data removed]",
      "text/plain": [
       "<Figure size 432x288 with 1 Axes>"
      ]
     },
     "metadata": {
      "needs_background": "light"
     },
     "output_type": "display_data"
    },
    {
     "name": "stdout",
     "output_type": "stream",
     "text": [
      "Negative Temperature from Boltzmann-like distribution:\n",
      "3.476059497628948\n"
     ]
    }
   ],
   "source": [
    "# Diagonal elements of rho are distributed like an exp\n",
    "plt.plot(rho.diag(), label=\"data\")\n",
    "# Regression of exp\n",
    "m = (np.log(rho.diag())[-1]-np.log(rho.diag())[-2])\n",
    "q = np.log(rho.diag())[0]-0.04\n",
    "plt.plot(np.exp(m*np.arange(0, 60)+q), 'r:', label=\"LinReg\")\n",
    "# Settings\n",
    "plt.title(\"Diagonal Elements of the Steady State\\n[distributed like an exp]\")\n",
    "plt.legend()\n",
    "plt.show()\n",
    "temperature = -rho.energy / math.log(rho.diag()[-2]/rho.diag()[-1])\n",
    "print(f\"Negative Temperature from Boltzmann-like distribution:\\n{temperature}\")"
   ]
  },
  {
   "cell_type": "markdown",
   "id": "01251b44",
   "metadata": {},
   "source": [
    "## Steady State\n",
    "\n",
    "$$\n",
    "\\rho^* = \\frac{1}{Z}\n",
    "\\begin{pmatrix}\n",
    "    1 &  &  &  \\\\\n",
    "    & \\exp\\left( \\frac{\\hbar\\omega}{KT} \\right) & & \\\\\n",
    "    & & \\exp\\left( 2\\frac{\\hbar\\omega}{KT} \\right) & \\\\\n",
    "    & & & \\ddots \\\\\n",
    "    & & & & \\exp\\left( n\\frac{\\hbar\\omega}{KT} \\right) \\\\\n",
    "    & & & & & \\ddots\n",
    "\\end{pmatrix}\n",
    "= \\frac{1}{Z}\n",
    "\\begin{pmatrix}\n",
    "    E^0 &  &  &  \\\\\n",
    "    & E^1 & & \\\\\n",
    "    & & E^2 & \\\\\n",
    "    & & & \\ddots \\\\\n",
    "    & & & & E^n \\\\\n",
    "    & & & & & \\ddots\n",
    "\\end{pmatrix}\n",
    "$$"
   ]
  },
  {
   "cell_type": "code",
   "execution_count": 27,
   "id": "1ab1956f",
   "metadata": {},
   "outputs": [
    {
     "data": {
      "text/plain": [
       "90689378.36736041"
      ]
     },
     "execution_count": 27,
     "metadata": {},
     "output_type": "execute_result"
    }
   ],
   "source": [
    "q = math.log(rho.diag()[0])\n",
    "1/math.exp(q)"
   ]
  },
  {
   "cell_type": "code",
   "execution_count": 16,
   "id": "33632472",
   "metadata": {},
   "outputs": [
    {
     "data": {
      "text/plain": [
       "90689378.36736034"
      ]
     },
     "execution_count": 16,
     "metadata": {},
     "output_type": "execute_result"
    }
   ],
   "source": [
    "rho.partition"
   ]
  },
  {
   "cell_type": "code",
   "execution_count": 17,
   "id": "9342dd1a",
   "metadata": {},
   "outputs": [
    {
     "data": {
      "text/plain": [
       "True"
      ]
     },
     "execution_count": 17,
     "metadata": {},
     "output_type": "execute_result"
    }
   ],
   "source": [
    "m = math.log(rho.diag()[-1])-math.log(rho.diag()[-2])\n",
    "round(math.exp(m),5) == round(eta.factor,5)"
   ]
  },
  {
   "cell_type": "code",
   "execution_count": null,
   "id": "15a5c6b8",
   "metadata": {},
   "outputs": [],
   "source": []
  }
 ],
 "metadata": {
  "kernelspec": {
   "display_name": "Python 3 (ipykernel)",
   "language": "python",
   "name": "python3"
  },
  "language_info": {
   "codemirror_mode": {
    "name": "ipython",
    "version": 3
   },
   "file_extension": ".py",
   "mimetype": "text/x-python",
   "name": "python",
   "nbconvert_exporter": "python",
   "pygments_lexer": "ipython3",
   "version": "3.10.2"
  }
 },
 "nbformat": 4,
 "nbformat_minor": 5
}
