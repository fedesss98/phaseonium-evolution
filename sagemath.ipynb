{
 "cells": [
  {
   "cell_type": "code",
   "execution_count": 56,
   "metadata": {},
   "outputs": [
    {
     "data": {
      "text/plain": [
       "[              alpha^2                     0                     0]\n",
       "[                    0            1/2*beta^2  1/2*beta^2*e^(I*phi)]\n",
       "[                    0 1/2*beta^2*e^(-I*phi)            1/2*beta^2]"
      ]
     },
     "execution_count": 56,
     "metadata": {},
     "output_type": "execute_result"
    }
   ],
   "source": [
    "# Ancilla\n",
    "a, b, f = var('alpha, beta, phi')\n",
    "eta = Matrix([\n",
    "    [a^2, 0, 0],\n",
    "    [0, b^2/2, b^2/2*e^(i*f)],\n",
    "    [0, b^2/2*e^(-i*f), b^2/2]\n",
    "])\n",
    "eta"
   ]
  },
  {
   "cell_type": "code",
   "execution_count": 53,
   "metadata": {},
   "outputs": [
    {
     "data": {
      "text/plain": [
       "[0 0 0]\n",
       "[1 0 0]\n",
       "[1 0 0]"
      ]
     },
     "metadata": {},
     "output_type": "display_data"
    },
    {
     "data": {
      "text/plain": [
       "[0 1 1]\n",
       "[0 0 0]\n",
       "[0 0 0]"
      ]
     },
     "metadata": {},
     "output_type": "display_data"
    }
   ],
   "source": [
    "bp = Matrix([[0,0,0], [1,0,0], [1,0,0]])\n",
    "bm = Matrix([[0,1,1], [0,0,0], [0,0,0]])\n",
    "display(bp)\n",
    "display(bm)"
   ]
  },
  {
   "cell_type": "code",
   "execution_count": 54,
   "metadata": {},
   "outputs": [
    {
     "data": {
      "text/plain": [
       "-beta^2*cos(phi) + 2*alpha^2 - beta^2"
      ]
     },
     "execution_count": 54,
     "metadata": {},
     "output_type": "execute_result"
    }
   ],
   "source": [
    "# <[Bm ; Bp]>\n",
    "comm = (bm*bp-bp*bm)*eta\n",
    "comm.trace().full_simplify()"
   ]
  },
  {
   "cell_type": "code",
   "execution_count": null,
   "metadata": {},
   "outputs": [],
   "source": []
  }
 ],
 "metadata": {
  "kernelspec": {
   "display_name": "SageMath 9.5",
   "language": "sage",
   "name": "sagemath"
  },
  "language_info": {
   "codemirror_mode": {
    "name": "ipython",
    "version": 3
   },
   "file_extension": ".py",
   "mimetype": "text/x-python",
   "name": "python",
   "nbconvert_exporter": "python",
   "pygments_lexer": "ipython3",
   "version": "3.10.2"
  }
 },
 "nbformat": 4,
 "nbformat_minor": 4
}
