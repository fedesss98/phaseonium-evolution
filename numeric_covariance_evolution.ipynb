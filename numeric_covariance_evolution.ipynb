{
 "cells": [
  {
   "cell_type": "code",
   "execution_count": 1,
   "id": "25297103-1261-4f04-bcac-953d9c7ddca4",
   "metadata": {
    "tags": []
   },
   "outputs": [],
   "source": [
    "%matplotlib inline\n",
    "import copy\n",
    "from qutip import *\n",
    "import numpy as np\n",
    "import math, cmath\n",
    "import matplotlib.pyplot as plt\n",
    "from tqdm import tqdm\n",
    "\n",
    "from stateobj import Physics\n",
    "\n",
    "import os\n",
    "\n",
    "from IPython.display import Markdown, display"
   ]
  },
  {
   "cell_type": "code",
   "execution_count": 2,
   "id": "71981417-83cf-4127-8652-f66cfe28fe43",
   "metadata": {},
   "outputs": [],
   "source": [
    "TIMESTEPS = 5000\n",
    "TIMEDELTA = 1e-01\n",
    "OMEGA = 0.5  # Strength of Interaction\n",
    "\n",
    "D = 20\n",
    "\n",
    "p = Physics(dimension=D, interaction_strength=OMEGA, interaction_time=TIMEDELTA)\n",
    "\n",
    "th = OMEGA * TIMEDELTA\n",
    "alpha = 0.1\n",
    "phi = np.pi/2\n",
    "ga = 2*alpha**2\n",
    "gb = (1-alpha)**2*(1-np.cos(phi))"
   ]
  },
  {
   "cell_type": "markdown",
   "id": "5a6dd804-723c-4ac2-9692-0c00eb7bab36",
   "metadata": {},
   "source": [
    "### Bosonic Operators\n",
    "$$\n",
    "\\hat{C} = \\cos(\\theta\\sqrt{2\\hat{a}\\hat{a}^\\dagger}), \\quad\n",
    "    \\hat{C}' = \\cos(\\theta\\sqrt{2\\hat{a}^\\dagger\\hat{a}}), \\quad\n",
    "    \\hat{S} = \\hat{a}^\\dagger\\frac{\\sin(\\theta\\sqrt{2\\hat{a}\\hat{a}^\\dagger})}{\\sqrt{2\\hat{a}\\hat{a}^\\dagger}}\n",
    "$$\n",
    "And then one defines:\n",
    "$$\n",
    "    M = (\\gamma_\\alpha CS-\\gamma_\\beta SC')\\otimes(CS^\\dagger-S^\\dagger C')\n",
    "$$"
   ]
  },
  {
   "cell_type": "code",
   "execution_count": 3,
   "id": "8132dbc7-0170-49d2-be18-13f97fc209c3",
   "metadata": {},
   "outputs": [
    {
     "ename": "AttributeError",
     "evalue": "'Physics' object has no attribute 'a'",
     "output_type": "error",
     "traceback": [
      "\u001b[1;31m---------------------------------------------------------------------------\u001b[0m",
      "\u001b[1;31mAttributeError\u001b[0m                            Traceback (most recent call last)",
      "Cell \u001b[1;32mIn [3], line 1\u001b[0m\n\u001b[1;32m----> 1\u001b[0m a \u001b[38;5;241m=\u001b[39m \u001b[43mp\u001b[49m\u001b[38;5;241;43m.\u001b[39;49m\u001b[43ma\u001b[49m\n\u001b[0;32m      2\u001b[0m ad \u001b[38;5;241m=\u001b[39m p\u001b[38;5;241m.\u001b[39mad\n\u001b[0;32m      5\u001b[0m M \u001b[38;5;241m=\u001b[39m tensor((ga\u001b[38;5;241m*\u001b[39mC\u001b[38;5;241m*\u001b[39mS \u001b[38;5;241m-\u001b[39m gb\u001b[38;5;241m*\u001b[39mS\u001b[38;5;241m*\u001b[39mCp), (C\u001b[38;5;241m*\u001b[39mS\u001b[38;5;241m.\u001b[39mdag() \u001b[38;5;241m-\u001b[39m S\u001b[38;5;241m.\u001b[39mdag()\u001b[38;5;241m*\u001b[39mCp))\n",
      "\u001b[1;31mAttributeError\u001b[0m: 'Physics' object has no attribute 'a'"
     ]
    }
   ],
   "source": [
    "a = p.a\n",
    "ad = p.ad\n",
    "\n",
    "\n",
    "M = tensor((ga*C*S - gb*S*Cp), (C*S.dag() - S.dag()*Cp))\n",
    "# The second term of M is null\n",
    "np.all(M.full() == 0)"
   ]
  },
  {
   "cell_type": "code",
   "execution_count": null,
   "id": "50d81a4e-6b2c-496f-a93d-c1742918f3c2",
   "metadata": {},
   "outputs": [],
   "source": [
    "def dissipator(X: Qobj, operator: Qobj):\n",
    "    return X.dag() * operator * X - 1/2 * commutator(X.dag()*X, operator, kind='anti')"
   ]
  },
  {
   "cell_type": "markdown",
   "id": "aab6190b-14b9-4e08-9da8-2343c574ed4a",
   "metadata": {},
   "source": [
    "## Operators Evolution\n",
    "$$\n",
    "\\begin{split}\n",
    "    \\Delta\\hat{O}_n= \\bigg[& \\;\n",
    "    \\gamma_\\alpha\\left(\n",
    "        \\tfrac{1}{2}\\mathcal{D}'[\\hat{C}\\otimes\\hat{C} - 2\\hat{S}\\otimes\\hat{S}^\\dagger]\n",
    "        + \\mathcal{D}'[\\hat{C}\\otimes\\hat{S} + \\hat{S}\\otimes\\hat{C}']\n",
    "    \\right) \\\\[0.6em]\n",
    "    &+ \\gamma_\\beta\\left( \n",
    "        \\tfrac{1}{2}\\mathcal{D}'[\\hat{C}'\\otimes\\hat{C}' - 2\\hat{S}^\\dagger\\otimes\\hat{S}] \n",
    "        + \\mathcal{D}'[\\hat{C}'\\otimes\\hat{S}^\\dagger + \\hat{S}^\\dagger\\otimes\\hat{C}]\n",
    "    \\right) \n",
    "    \\bigg]\\hat{O}_n\\\\[0.6em]\n",
    "    &- \\frac{1}{2}\\left[M+M^\\dagger; \\hat{O}_n\\right]_+\n",
    "\\end{split}\n",
    "$$"
   ]
  },
  {
   "cell_type": "code",
   "execution_count": 4,
   "id": "4d88823a-3a73-4b93-8967-6d9e5f2c66fa",
   "metadata": {},
   "outputs": [],
   "source": [
    "def evolve(operator):\n",
    "    first_line = ga * (0.5*dissipator(tensor(C, C) - 2*tensor(S, S.dag()), operator) + \n",
    "                       dissipator(tensor(C, S) + tensor(S, Cp), operator))\n",
    "    second_line = gb * (0.5*dissipator(tensor(Cp, Cp) - 2*tensor(S.dag(), S), operator) + \n",
    "                       dissipator(tensor(Cp, S.dag()) + tensor(S.dag(), C), operator))\n",
    "    return operator + first_line + second_line"
   ]
  },
  {
   "cell_type": "code",
   "execution_count": 5,
   "id": "7d692393-8261-4598-b17e-daeff26b6501",
   "metadata": {},
   "outputs": [
    {
     "ename": "NameError",
     "evalue": "name 'a' is not defined",
     "output_type": "error",
     "traceback": [
      "\u001b[1;31m---------------------------------------------------------------------------\u001b[0m",
      "\u001b[1;31mNameError\u001b[0m                                 Traceback (most recent call last)",
      "Cell \u001b[1;32mIn [5], line 1\u001b[0m\n\u001b[1;32m----> 1\u001b[0m a_ \u001b[38;5;241m=\u001b[39m tensor(\u001b[43ma\u001b[49m, qeye(D))\n\u001b[0;32m      2\u001b[0m ad_ \u001b[38;5;241m=\u001b[39m tensor(ad, qeye(D))\n\u001b[0;32m      3\u001b[0m b_ \u001b[38;5;241m=\u001b[39m tensor(qeye(D), a)\n",
      "\u001b[1;31mNameError\u001b[0m: name 'a' is not defined"
     ]
    }
   ],
   "source": [
    "a_ = tensor(a, qeye(D))\n",
    "ad_ = tensor(ad, qeye(D))\n",
    "b_ = tensor(qeye(D), a)\n",
    "bd_ = tensor(qeye(D), ad)\n",
    "class CovarianceMatrix:\n",
    "    operators = [\n",
    "        [a_*a_, 0.5*(a_*ad_ + ad_*a_), 0.5*(a_*b_ + b_*a_), 0.5*(a_*bd_ + bd_*a_)]\n",
    "    ]\n",
    "s = CovarianceMatrix()\n",
    "for o in [op for row in s.operators for op in row]:\n",
    "    evolve(o)"
   ]
  },
  {
   "cell_type": "code",
   "execution_count": 7,
   "id": "a0fc6ebf-84ab-4481-8002-90190e46cd78",
   "metadata": {},
   "outputs": [],
   "source": [
    "op = []\n",
    "op.append(tensor(ada, qeye(D)))\n",
    "for i in range(TIMESTEPS):\n",
    "    op.append(evolve(op[i]))"
   ]
  },
  {
   "cell_type": "code",
   "execution_count": 8,
   "id": "26ae010b-15e4-44c1-b6bb-fc98148b2bc5",
   "metadata": {},
   "outputs": [
    {
     "data": {
      "text/latex": [
       "Quantum object: dims = [[20, 20], [20, 20]], shape = (400, 400), type = oper, isherm = True\\begin{equation*}\\left(\\begin{array}{*{11}c}0.0 & 0.0 & 0.0 & 0.0 & 0.0 & \\cdots & 0.0 & 0.0 & 0.0 & 0.0 & 0.0\\\\0.0 & 0.0 & 0.0 & 0.0 & 0.0 & \\cdots & 0.0 & 0.0 & 0.0 & 0.0 & 0.0\\\\0.0 & 0.0 & 0.0 & 0.0 & 0.0 & \\cdots & 0.0 & 0.0 & 0.0 & 0.0 & 0.0\\\\0.0 & 0.0 & 0.0 & 0.0 & 0.0 & \\cdots & 0.0 & 0.0 & 0.0 & 0.0 & 0.0\\\\0.0 & 0.0 & 0.0 & 0.0 & 0.0 & \\cdots & 0.0 & 0.0 & 0.0 & 0.0 & 0.0\\\\\\vdots & \\vdots & \\vdots & \\vdots & \\vdots & \\ddots & \\vdots & \\vdots & \\vdots & \\vdots & \\vdots\\\\0.0 & 0.0 & 0.0 & 0.0 & 0.0 & \\cdots & 19.0 & 0.0 & 0.0 & 0.0 & 0.0\\\\0.0 & 0.0 & 0.0 & 0.0 & 0.0 & \\cdots & 0.0 & 19.0 & 0.0 & 0.0 & 0.0\\\\0.0 & 0.0 & 0.0 & 0.0 & 0.0 & \\cdots & 0.0 & 0.0 & 19.0 & 0.0 & 0.0\\\\0.0 & 0.0 & 0.0 & 0.0 & 0.0 & \\cdots & 0.0 & 0.0 & 0.0 & 19.0 & 0.0\\\\0.0 & 0.0 & 0.0 & 0.0 & 0.0 & \\cdots & 0.0 & 0.0 & 0.0 & 0.0 & 19.0\\\\\\end{array}\\right)\\end{equation*}"
      ],
      "text/plain": [
       "Quantum object: dims = [[20, 20], [20, 20]], shape = (400, 400), type = oper, isherm = True\n",
       "Qobj data =\n",
       "[[ 0.  0.  0. ...  0.  0.  0.]\n",
       " [ 0.  0.  0. ...  0.  0.  0.]\n",
       " [ 0.  0.  0. ...  0.  0.  0.]\n",
       " ...\n",
       " [ 0.  0.  0. ... 19.  0.  0.]\n",
       " [ 0.  0.  0. ...  0. 19.  0.]\n",
       " [ 0.  0.  0. ...  0.  0. 19.]]"
      ]
     },
     "metadata": {},
     "output_type": "display_data"
    },
    {
     "data": {
      "text/latex": [
       "Quantum object: dims = [[20, 20], [20, 20]], shape = (400, 400), type = oper, isherm = False\\begin{equation*}\\left(\\begin{array}{*{11}c}14.722 & 0.0 & 0.0 & 0.0 & 0.0 & \\cdots & 0.0 & 0.0 & 0.0 & 0.0 & 0.0\\\\0.0 & 14.724 & 0.0 & 0.0 & 0.0 & \\cdots & 0.0 & 0.0 & 0.0 & 0.0 & 0.0\\\\0.0 & 0.0 & 14.727 & 0.0 & 0.0 & \\cdots & 0.0 & 0.0 & 0.0 & 0.0 & 0.0\\\\0.0 & 0.0 & 0.0 & 14.729 & 0.0 & \\cdots & 0.0 & 0.0 & 0.0 & 0.0 & 0.0\\\\0.0 & 0.0 & 0.0 & 0.0 & 14.730 & \\cdots & 0.0 & 0.0 & 0.0 & 0.0 & 0.0\\\\\\vdots & \\vdots & \\vdots & \\vdots & \\vdots & \\ddots & \\vdots & \\vdots & \\vdots & \\vdots & \\vdots\\\\0.0 & 0.0 & 0.0 & 0.0 & 0.0 & \\cdots & 18.093 & 0.0 & 0.0 & 0.0 & 0.0\\\\0.0 & 0.0 & 0.0 & 0.0 & 0.0 & \\cdots & 0.0 & 18.093 & 0.0 & 0.0 & 0.0\\\\0.0 & 0.0 & 0.0 & 0.0 & 0.0 & \\cdots & 0.0 & 0.0 & 18.093 & 0.0 & 0.0\\\\0.0 & 0.0 & 0.0 & 0.0 & 0.0 & \\cdots & 0.0 & 0.0 & 0.0 & 18.093 & 0.0\\\\0.0 & 0.0 & 0.0 & 0.0 & 0.0 & \\cdots & 0.0 & 0.0 & 0.0 & 0.0 & 18.093\\\\\\end{array}\\right)\\end{equation*}"
      ],
      "text/plain": [
       "Quantum object: dims = [[20, 20], [20, 20]], shape = (400, 400), type = oper, isherm = False\n",
       "Qobj data =\n",
       "[[14.72170298  0.          0.         ...  0.          0.\n",
       "   0.        ]\n",
       " [ 0.         14.7244652   0.         ...  0.          0.\n",
       "   0.        ]\n",
       " [ 0.          0.         14.72670799 ...  0.          0.\n",
       "   0.        ]\n",
       " ...\n",
       " [ 0.          0.          0.         ... 18.09273233  0.\n",
       "   0.        ]\n",
       " [ 0.          0.          0.         ...  0.         18.09273384\n",
       "   0.        ]\n",
       " [ 0.          0.          0.         ...  0.          0.\n",
       "  18.09273476]]"
      ]
     },
     "metadata": {},
     "output_type": "display_data"
    }
   ],
   "source": [
    "display(op[0])\n",
    "display(op[-1])"
   ]
  },
  {
   "cell_type": "markdown",
   "id": "9ce3b9ef-8649-4f62-b28b-0d4eaf27f035",
   "metadata": {},
   "source": [
    "### First Cavity"
   ]
  },
  {
   "cell_type": "code",
   "execution_count": null,
   "id": "269a1c60-7d40-4ff5-88e5-22c5d08c5b71",
   "metadata": {},
   "outputs": [],
   "source": [
    "display(op[0].ptrace(0))\n",
    "display(op[-1].ptrace(0))"
   ]
  },
  {
   "cell_type": "code",
   "execution_count": null,
   "id": "57195494-cad9-40dc-8ed0-64a4f2438853",
   "metadata": {},
   "outputs": [],
   "source": [
    "# y = [np.real(o[0, 0]) / np.real(o[1, 1]) for o in op]\n",
    "y = [np.real(o[0, 0]) for o in op]"
   ]
  },
  {
   "cell_type": "code",
   "execution_count": null,
   "id": "b772a6c8-6b2c-4031-a54a-e170f8b002d6",
   "metadata": {},
   "outputs": [],
   "source": [
    "#x = np.linspace(0, 1, TIMESTEPS+1)\n",
    "x = range(TIMESTEPS + 1)\n",
    "plt.plot(x, y)\n",
    "plt.show()"
   ]
  },
  {
   "cell_type": "code",
   "execution_count": null,
   "id": "60dbebf0-05ec-4585-8406-c754fb6e5aae",
   "metadata": {},
   "outputs": [],
   "source": []
  }
 ],
 "metadata": {
  "kernelspec": {
   "display_name": "Python 3 (ipykernel)",
   "language": "python",
   "name": "python3"
  },
  "language_info": {
   "codemirror_mode": {
    "name": "ipython",
    "version": 3
   },
   "file_extension": ".py",
   "mimetype": "text/x-python",
   "name": "python",
   "nbconvert_exporter": "python",
   "pygments_lexer": "ipython3",
   "version": "3.10.8"
  }
 },
 "nbformat": 4,
 "nbformat_minor": 5
}
