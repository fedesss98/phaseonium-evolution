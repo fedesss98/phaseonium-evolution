{
 "cells": [
  {
   "cell_type": "code",
   "execution_count": 1,
   "id": "25297103-1261-4f04-bcac-953d9c7ddca4",
   "metadata": {
    "tags": []
   },
   "outputs": [],
   "source": [
    "%matplotlib inline\n",
    "import copy\n",
    "from qutip import *\n",
    "import numpy as np\n",
    "import math, cmath\n",
    "import matplotlib.pyplot as plt\n",
    "from tqdm import tqdm\n",
    "\n",
    "import os\n",
    "\n",
    "from IPython.display import Markdown, display"
   ]
  },
  {
   "cell_type": "code",
   "execution_count": 32,
   "id": "71981417-83cf-4127-8652-f66cfe28fe43",
   "metadata": {},
   "outputs": [
    {
     "name": "stderr",
     "output_type": "stream",
     "text": [
      "<>:11: SyntaxWarning: 'int' object is not callable; perhaps you missed a comma?\n",
      "<>:11: SyntaxWarning: 'int' object is not callable; perhaps you missed a comma?\n"
     ]
    },
    {
     "ename": "AttributeError",
     "evalue": "'Qobj' object has no attribute 'pi'",
     "output_type": "error",
     "traceback": [
      "\u001b[1;31m---------------------------------------------------------------\u001b[0m",
      "\u001b[1;31mAttributeError\u001b[0m                Traceback (most recent call last)",
      "Cell \u001b[1;32mIn [32], line 9\u001b[0m\n\u001b[0;32m      7\u001b[0m th \u001b[38;5;241m=\u001b[39m OMEGA \u001b[38;5;241m*\u001b[39m TIMEDELTA\n\u001b[0;32m      8\u001b[0m alpha \u001b[38;5;241m=\u001b[39m \u001b[38;5;241m0.5\u001b[39m\n\u001b[1;32m----> 9\u001b[0m phi \u001b[38;5;241m=\u001b[39m \u001b[43mnp\u001b[49m\u001b[38;5;241;43m.\u001b[39;49m\u001b[43mpi\u001b[49m\u001b[38;5;241m/\u001b[39m\u001b[38;5;241m2\u001b[39m\n\u001b[0;32m     10\u001b[0m ga \u001b[38;5;241m=\u001b[39m \u001b[38;5;241m2\u001b[39m\u001b[38;5;241m*\u001b[39malpha\u001b[38;5;241m*\u001b[39m\u001b[38;5;241m*\u001b[39m\u001b[38;5;241m2\u001b[39m\n\u001b[0;32m     11\u001b[0m gb \u001b[38;5;241m=\u001b[39m (\u001b[38;5;241m1\u001b[39m\u001b[38;5;241m-\u001b[39malpha)\u001b[38;5;241m*\u001b[39m\u001b[38;5;241m*\u001b[39m\u001b[38;5;241m2\u001b[39m(\u001b[38;5;241m1\u001b[39m\u001b[38;5;241m-\u001b[39mnp\u001b[38;5;241m.\u001b[39mcos(phi))\n",
      "\u001b[1;31mAttributeError\u001b[0m: 'Qobj' object has no attribute 'pi'"
     ]
    }
   ],
   "source": [
    "TIMESTEPS = 2000\n",
    "TIMEDELTA = 1e-02 \n",
    "OMEGA = 0.1  # Strength of Interaction\n",
    "\n",
    "D = 10\n",
    "\n",
    "th = OMEGA * TIMEDELTA\n",
    "alpha = 0.5\n",
    "phi = np.pi/2\n",
    "ga = 2*alpha**2\n",
    "gb = (1-alpha)**2(1-np.cos(phi))"
   ]
  },
  {
   "cell_type": "code",
   "execution_count": 29,
   "id": "7d70c6d1-f55a-4aa4-9262-9055bce176b3",
   "metadata": {},
   "outputs": [],
   "source": [
    "\n",
    "# Creation and Annihilation Operators\n",
    "ad = create(D)\n",
    "a = destroy(D)\n",
    "# Number Operators\n",
    "n = num(D)\n",
    "np = n+1\n",
    "\n",
    "# Bosonic Operators\n",
    "C = (th*(2*np).sqrtm()).cosm()\n",
    "Cp = (th*(2*n).sqrtm()).cosm()\n",
    "S = C = ad*(th*(2*np).sqrtm()).sinm()*((2*np).sqrtm()).inv()"
   ]
  },
  {
   "cell_type": "code",
   "execution_count": 31,
   "id": "50d81a4e-6b2c-496f-a93d-c1742918f3c2",
   "metadata": {},
   "outputs": [],
   "source": [
    "def commutator(A, B):\n",
    "    return A*B - B*A\n",
    "\n",
    "def anticommutator(A, B):\n",
    "    return A*B + B*A\n",
    "\n",
    "def dissipator(X: Qobj, operator: Qobj):\n",
    "    return X.dag() * operator * X - 1/2 * anticommutator(X.dag()*X, operator)\n",
    "        "
   ]
  },
  {
   "cell_type": "code",
   "execution_count": null,
   "id": "265a4895-7dd0-4cf2-950e-0ed3bb420f9e",
   "metadata": {},
   "outputs": [],
   "source": []
  }
 ],
 "metadata": {
  "kernelspec": {
   "display_name": "Python 3 (ipykernel)",
   "language": "python",
   "name": "python3"
  },
  "language_info": {
   "codemirror_mode": {
    "name": "ipython",
    "version": 3
   },
   "file_extension": ".py",
   "mimetype": "text/x-python",
   "name": "python",
   "nbconvert_exporter": "python",
   "pygments_lexer": "ipython3",
   "version": "3.10.8"
  }
 },
 "nbformat": 4,
 "nbformat_minor": 5
}
