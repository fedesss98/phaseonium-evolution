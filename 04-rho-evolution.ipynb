{
 "cells": [
  {
   "cell_type": "code",
   "execution_count": 2,
   "outputs": [],
   "source": [
    "%matplotlib inline\n",
    "import copy\n",
    "import qutip\n",
    "from qutip import Qobj\n",
    "import numpy as np\n",
    "import math, cmath\n",
    "import matplotlib.pyplot as plt\n",
    "from tqdm import tqdm, trange\n",
    "\n",
    "from stateobj import Physics\n",
    "import utilities as use\n",
    "import circuits as qc\n",
    "\n",
    "import os\n",
    "\n",
    "from IPython.display import Markdown, display"
   ],
   "metadata": {
    "collapsed": false,
    "ExecuteTime": {
     "end_time": "2023-07-06T18:00:07.478356300Z",
     "start_time": "2023-07-06T18:00:06.092017800Z"
    }
   }
  },
  {
   "cell_type": "code",
   "execution_count": 4,
   "outputs": [],
   "source": [
    "TIMESTEPS = 500\n",
    "TIMEDELTA = 1e-01\n",
    "OMEGA = 0.5  # Strength of Interaction\n",
    "\n",
    "D = 30\n",
    "\n",
    "p = Physics(dimension=D, interaction_strength=OMEGA, interaction_time=TIMEDELTA)\n",
    "\n",
    "th = OMEGA * TIMEDELTA\n",
    "alpha = complex(1/math.sqrt(2), 0)\n",
    "beta = cmath.sqrt(1 - alpha**2)\n",
    "phi = np.pi/2\n",
    "# Phase shifts\n",
    "delta1 = 0\n",
    "delta2 = -phi"
   ],
   "metadata": {
    "collapsed": false,
    "ExecuteTime": {
     "end_time": "2023-07-06T18:00:11.628496200Z",
     "start_time": "2023-07-06T18:00:11.602832200Z"
    }
   }
  },
  {
   "cell_type": "code",
   "execution_count": 7,
   "outputs": [],
   "source": [
    "eta = use.create_ancilla_qobj(alpha, beta, phi)\n",
    "rho1 = use.create_system_qobj('coherent', alpha=1, n_dims=D)\n",
    "rho2 = use.create_system_qobj('coherent', alpha=1, n_dims=D)\n",
    "rho = qutip.tensor(rho1, rho2)"
   ],
   "metadata": {
    "collapsed": false,
    "ExecuteTime": {
     "end_time": "2023-07-06T18:00:21.142698900Z",
     "start_time": "2023-07-06T18:00:21.117691200Z"
    }
   }
  },
  {
   "cell_type": "code",
   "execution_count": 8,
   "outputs": [],
   "source": [
    "def commutator(A: Qobj | np.ndarray, B: Qobj | np.ndarray, kind='regular'):\n",
    "    if kind == 'regular':\n",
    "        return A*B - B*A\n",
    "    elif kind == 'anti':\n",
    "        return A*B + B*A\n",
    "\n",
    "def dissipator(X: Qobj | np.ndarray, system: Qobj | np.ndarray, kind='regular'):\n",
    "    sandwich = X * system * X.dag()\n",
    "    if kind == 'anti':\n",
    "        sandwich = X.dag() * system * X\n",
    "    comm = qutip.commutator(X.dag()*X, system, kind='anti')\n",
    "    return sandwich - 1/2 * comm\n",
    "\n",
    "def master_equation(system):\n",
    "    ga = 2*alpha**2\n",
    "    gb = beta**2*(1-np.cos(phi))\n",
    "    # Bosonic Operators\n",
    "    C = p.C\n",
    "    Cp = p.Cp\n",
    "    S = p.S\n",
    "    Sd = p.S.dag()\n",
    "    first_line = 0.5*dissipator(qutip.tensor(C, C) - 2*qutip.tensor(S, Sd), system)\n",
    "    first_line += dissipator(qutip.tensor(C, S) + qutip.tensor(S, Cp), system)\n",
    "    second_line = 0.5*dissipator(qutip.tensor(Cp, Cp) - 2*qutip.tensor(Sd, S), system)\n",
    "    second_line += dissipator(qutip.tensor(Cp, Sd) + qutip.tensor(Sd, C), system)\n",
    "    return ga * first_line + gb * second_line\n",
    "\n",
    "def evolve(system):\n",
    "    delta_s = master_equation(system)\n",
    "    return system + delta_s"
   ],
   "metadata": {
    "collapsed": false,
    "ExecuteTime": {
     "end_time": "2023-07-06T18:00:27.333787400Z",
     "start_time": "2023-07-06T18:00:27.319273500Z"
    }
   }
  },
  {
   "cell_type": "code",
   "execution_count": 9,
   "outputs": [],
   "source": [
    "entropies = []\n",
    "purities = []"
   ],
   "metadata": {
    "collapsed": false,
    "ExecuteTime": {
     "end_time": "2023-07-06T18:00:28.113463200Z",
     "start_time": "2023-07-06T18:00:28.097938100Z"
    }
   }
  },
  {
   "cell_type": "code",
   "execution_count": 10,
   "outputs": [
    {
     "name": "stdout",
     "output_type": "stream",
     "text": [
      "Loaded values fot t=10099\n"
     ]
    }
   ],
   "source": [
    "# Search for file\n",
    "files = os.listdir('objects/')\n",
    "try:\n",
    "    # Extract the time from the file name\n",
    "    time = max([int(f.split('_')[-2][1:]) for f in files if f.startswith('rho_20230628')])\n",
    "    # Load partial data\n",
    "    name = f'20230628_t{time}_d{D}'\n",
    "    rho = qutip.fileio.qload('objects/rho_' + name + '.qu')\n",
    "    entropies = np.load('objects/entropies_' + name + '.npy').tolist()\n",
    "    purities = np.load('objects/purities_' + name + '.npy').tolist()\n",
    "    print(f'Loaded values fot t={time}')\n",
    "except ValueError as e:\n",
    "    # Files not found\n",
    "    print(e)\n",
    "    for t in trange(TIMESTEPS):\n",
    "        rho = evolve(rho)\n",
    "        entropies.append(qutip.entropy_vn(rho))\n",
    "        purities.append(rho.purity())\n",
    "    time = t + 1\n",
    "\n",
    "def check_clear_cut(system):\n",
    "    \"\"\"Check if the Hilbert space truncation is still valid\"\"\"\n",
    "    threshold = 9e-4\n",
    "    last_diagonal_element = system.diag()[-1]\n",
    "    return last_diagonal_element < threshold"
   ],
   "metadata": {
    "collapsed": false,
    "ExecuteTime": {
     "end_time": "2023-07-06T18:01:04.646252900Z",
     "start_time": "2023-07-06T18:01:04.598306600Z"
    }
   }
  },
  {
   "cell_type": "code",
   "execution_count": 11,
   "outputs": [
    {
     "data": {
      "text/plain": "<Figure size 640x480 with 1 Axes>",
      "image/png": "[encoded data removed]"
     },
     "metadata": {},
     "output_type": "display_data"
    }
   ],
   "source": [
    "# Calculate something\n",
    "plt.plot(entropies, label='Entropy')\n",
    "plt.plot(purities, label='Purity')\n",
    "plt.legend()\n",
    "plt.show()"
   ],
   "metadata": {
    "collapsed": false,
    "ExecuteTime": {
     "end_time": "2023-07-06T18:01:07.002916700Z",
     "start_time": "2023-07-06T18:01:06.891883900Z"
    }
   }
  },
  {
   "cell_type": "code",
   "execution_count": 9,
   "outputs": [
    {
     "name": "stderr",
     "output_type": "stream",
     "text": [
      "100%|██████████| 500/500 [14:59<00:00,  1.80s/it]\n"
     ]
    }
   ],
   "source": [
    "# Evolve again\n",
    "for t in trange(TIMESTEPS):\n",
    "    rho = evolve(rho)\n",
    "    entropies.append(qutip.entropy_vn(rho))\n",
    "    purities.append(rho.purity())\n",
    "time += t + 1"
   ],
   "metadata": {
    "collapsed": false,
    "ExecuteTime": {
     "end_time": "2023-07-02T16:23:42.499195400Z",
     "start_time": "2023-07-02T16:08:42.859611500Z"
    }
   }
  },
  {
   "cell_type": "code",
   "execution_count": 10,
   "outputs": [
    {
     "data": {
      "text/plain": "10099"
     },
     "execution_count": 10,
     "metadata": {},
     "output_type": "execute_result"
    }
   ],
   "source": [
    "time"
   ],
   "metadata": {
    "collapsed": false,
    "ExecuteTime": {
     "end_time": "2023-07-02T16:23:42.558465100Z",
     "start_time": "2023-07-02T16:23:42.500195200Z"
    }
   }
  },
  {
   "cell_type": "code",
   "execution_count": 22,
   "outputs": [
    {
     "data": {
      "text/plain": "Quantum object: dims = [[30, 30], [30, 30]], shape = (900, 900), type = oper, isherm = False\nQobj data =\n[[ 2.00605568e-10  0.00000000e+00  0.00000000e+00 ...  0.00000000e+00\n   0.00000000e+00  0.00000000e+00]\n [ 0.00000000e+00  2.43463276e-10  0.00000000e+00 ...  0.00000000e+00\n   0.00000000e+00  0.00000000e+00]\n [ 0.00000000e+00  0.00000000e+00  1.64392279e-10 ...  0.00000000e+00\n   0.00000000e+00  0.00000000e+00]\n ...\n [ 0.00000000e+00  0.00000000e+00  0.00000000e+00 ...  6.38009561e-02\n  -7.38991746e-08  3.51457092e-09]\n [ 0.00000000e+00  0.00000000e+00  0.00000000e+00 ... -7.39157185e-08\n   1.33873893e-01 -7.19570966e-08]\n [ 0.00000000e+00  0.00000000e+00  0.00000000e+00 ...  3.33609360e-09\n  -7.19703309e-08  2.80199361e-01]]",
      "text/latex": "Quantum object: dims = [[30, 30], [30, 30]], shape = (900, 900), type = oper, isherm = False\\begin{equation*}\\left(\\begin{array}{*{11}c}2.006\\times10^{-10} & 0.0 & 0.0 & 0.0 & 0.0 & \\cdots & 0.0 & 0.0 & 0.0 & 0.0 & 0.0\\\\0.0 & 2.435\\times10^{-10} & 0.0 & 4.258\\times10^{-12} & 4.932\\times10^{-12} & \\cdots & 0.0 & 0.0 & 0.0 & 0.0 & 0.0\\\\0.0 & 0.0 & 1.644\\times10^{-10} & 8.936\\times10^{-12} & 4.628\\times10^{-12} & \\cdots & 0.0 & 0.0 & 0.0 & 0.0 & 0.0\\\\0.0 & 4.703\\times10^{-12} & 8.251\\times10^{-12} & 1.239\\times10^{-10} & 9.156\\times10^{-12} & \\cdots & 0.0 & 0.0 & 0.0 & 0.0 & 0.0\\\\0.0 & 4.145\\times10^{-12} & 4.628\\times10^{-12} & 8.034\\times10^{-12} & 9.755\\times10^{-11} & \\cdots & 0.0 & 0.0 & 0.0 & 0.0 & 0.0\\\\\\vdots & \\vdots & \\vdots & \\vdots & \\vdots & \\ddots & \\vdots & \\vdots & \\vdots & \\vdots & \\vdots\\\\0.0 & 0.0 & 0.0 & 0.0 & 0.0 & \\cdots & 0.015 & -7.325\\times10^{-08} & 3.684\\times10^{-09} & -1.617\\times10^{-09} & 2.436\\times10^{-09}\\\\0.0 & 0.0 & 0.0 & 0.0 & 0.0 & \\cdots & -7.330\\times10^{-08} & 0.030 & -7.404\\times10^{-08} & 3.608\\times10^{-09} & -1.728\\times10^{-09}\\\\0.0 & 0.0 & 0.0 & 0.0 & 0.0 & \\cdots & 3.473\\times10^{-09} & -7.409\\times10^{-08} & 0.064 & -7.390\\times10^{-08} & 3.515\\times10^{-09}\\\\0.0 & 0.0 & 0.0 & 0.0 & 0.0 & \\cdots & -1.592\\times10^{-09} & 3.400\\times10^{-09} & -7.392\\times10^{-08} & 0.134 & -7.196\\times10^{-08}\\\\0.0 & 0.0 & 0.0 & 0.0 & 0.0 & \\cdots & 2.406\\times10^{-09} & -1.716\\times10^{-09} & 3.336\\times10^{-09} & -7.197\\times10^{-08} & 0.280\\\\\\end{array}\\right)\\end{equation*}"
     },
     "execution_count": 22,
     "metadata": {},
     "output_type": "execute_result"
    }
   ],
   "source": [
    "# Save partial data\n",
    "name = f'20230628_t{time}_d{D}'\n",
    "qutip.fileio.qsave(rho, 'objects/rho_' + name + '.qu')\n",
    "np.save('objects/entropies_' + name + '.npy', np.array(entropies))\n",
    "np.save('objects/purities_' + name + '.npy', np.array(purities))"
   ],
   "metadata": {
    "collapsed": false,
    "ExecuteTime": {
     "end_time": "2023-07-06T16:37:31.097486100Z",
     "start_time": "2023-07-06T16:37:31.067539700Z"
    }
   }
  },
  {
   "cell_type": "code",
   "execution_count": 12,
   "outputs": [
    {
     "data": {
      "text/plain": "Quantum object: dims = [[30, 30], [30, 30]], shape = (900, 900), type = oper, isherm = False\nQobj data =\n[[ 2.00605568e-10  0.00000000e+00  0.00000000e+00 ...  0.00000000e+00\n   0.00000000e+00  0.00000000e+00]\n [ 0.00000000e+00  2.43463276e-10  0.00000000e+00 ...  0.00000000e+00\n   0.00000000e+00  0.00000000e+00]\n [ 0.00000000e+00  0.00000000e+00  1.64392279e-10 ...  0.00000000e+00\n   0.00000000e+00  0.00000000e+00]\n ...\n [ 0.00000000e+00  0.00000000e+00  0.00000000e+00 ...  6.38009561e-02\n  -7.38991746e-08  3.51457092e-09]\n [ 0.00000000e+00  0.00000000e+00  0.00000000e+00 ... -7.39157185e-08\n   1.33873893e-01 -7.19570966e-08]\n [ 0.00000000e+00  0.00000000e+00  0.00000000e+00 ...  3.33609360e-09\n  -7.19703309e-08  2.80199361e-01]]",
      "text/latex": "Quantum object: dims = [[30, 30], [30, 30]], shape = (900, 900), type = oper, isherm = False\\begin{equation*}\\left(\\begin{array}{*{11}c}2.006\\times10^{-10} & 0.0 & 0.0 & 0.0 & 0.0 & \\cdots & 0.0 & 0.0 & 0.0 & 0.0 & 0.0\\\\0.0 & 2.435\\times10^{-10} & 0.0 & 4.258\\times10^{-12} & 4.932\\times10^{-12} & \\cdots & 0.0 & 0.0 & 0.0 & 0.0 & 0.0\\\\0.0 & 0.0 & 1.644\\times10^{-10} & 8.936\\times10^{-12} & 4.628\\times10^{-12} & \\cdots & 0.0 & 0.0 & 0.0 & 0.0 & 0.0\\\\0.0 & 4.703\\times10^{-12} & 8.251\\times10^{-12} & 1.239\\times10^{-10} & 9.156\\times10^{-12} & \\cdots & 0.0 & 0.0 & 0.0 & 0.0 & 0.0\\\\0.0 & 4.145\\times10^{-12} & 4.628\\times10^{-12} & 8.034\\times10^{-12} & 9.755\\times10^{-11} & \\cdots & 0.0 & 0.0 & 0.0 & 0.0 & 0.0\\\\\\vdots & \\vdots & \\vdots & \\vdots & \\vdots & \\ddots & \\vdots & \\vdots & \\vdots & \\vdots & \\vdots\\\\0.0 & 0.0 & 0.0 & 0.0 & 0.0 & \\cdots & 0.015 & -7.325\\times10^{-08} & 3.684\\times10^{-09} & -1.617\\times10^{-09} & 2.436\\times10^{-09}\\\\0.0 & 0.0 & 0.0 & 0.0 & 0.0 & \\cdots & -7.330\\times10^{-08} & 0.030 & -7.404\\times10^{-08} & 3.608\\times10^{-09} & -1.728\\times10^{-09}\\\\0.0 & 0.0 & 0.0 & 0.0 & 0.0 & \\cdots & 3.473\\times10^{-09} & -7.409\\times10^{-08} & 0.064 & -7.390\\times10^{-08} & 3.515\\times10^{-09}\\\\0.0 & 0.0 & 0.0 & 0.0 & 0.0 & \\cdots & -1.592\\times10^{-09} & 3.400\\times10^{-09} & -7.392\\times10^{-08} & 0.134 & -7.196\\times10^{-08}\\\\0.0 & 0.0 & 0.0 & 0.0 & 0.0 & \\cdots & 2.406\\times10^{-09} & -1.716\\times10^{-09} & 3.336\\times10^{-09} & -7.197\\times10^{-08} & 0.280\\\\\\end{array}\\right)\\end{equation*}"
     },
     "execution_count": 12,
     "metadata": {},
     "output_type": "execute_result"
    }
   ],
   "source": [
    "rho"
   ],
   "metadata": {
    "collapsed": false,
    "ExecuteTime": {
     "end_time": "2023-07-06T18:01:36.817981400Z",
     "start_time": "2023-07-06T18:01:36.803597800Z"
    }
   }
  },
  {
   "cell_type": "code",
   "execution_count": null,
   "outputs": [],
   "source": [],
   "metadata": {
    "collapsed": false
   }
  }
 ],
 "metadata": {
  "kernelspec": {
   "display_name": "Python 3",
   "language": "python",
   "name": "python3"
  },
  "language_info": {
   "codemirror_mode": {
    "name": "ipython",
    "version": 2
   },
   "file_extension": ".py",
   "mimetype": "text/x-python",
   "name": "python",
   "nbconvert_exporter": "python",
   "pygments_lexer": "ipython2",
   "version": "2.7.6"
  }
 },
 "nbformat": 4,
 "nbformat_minor": 0
}
