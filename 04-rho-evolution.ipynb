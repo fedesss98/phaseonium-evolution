{
 "cells": [
  {
   "cell_type": "code",
   "execution_count": 1,
   "outputs": [],
   "source": [
    "%matplotlib inline\n",
    "import copy\n",
    "import qutip\n",
    "from qutip import Qobj\n",
    "import numpy as np\n",
    "import math, cmath\n",
    "import matplotlib.pyplot as plt\n",
    "from tqdm import tqdm, trange\n",
    "\n",
    "from stateobj import Physics\n",
    "import utilities as use\n",
    "import circuits as qc\n",
    "\n",
    "import os\n",
    "\n",
    "from IPython.display import Markdown, display"
   ],
   "metadata": {
    "collapsed": false,
    "ExecuteTime": {
     "end_time": "2023-07-07T14:34:32.140923Z",
     "start_time": "2023-07-07T14:34:30.664518300Z"
    }
   }
  },
  {
   "cell_type": "code",
   "execution_count": 2,
   "outputs": [],
   "source": [
    "TIMESTEPS = 500\n",
    "TIMEDELTA = 1e-01\n",
    "OMEGA = 0.5  # Strength of Interaction\n",
    "\n",
    "D = 30\n",
    "\n",
    "p = Physics(dimension=D, interaction_strength=OMEGA, interaction_time=TIMEDELTA)\n",
    "\n",
    "th = OMEGA * TIMEDELTA\n",
    "alpha = complex(1/math.sqrt(6), 0)\n",
    "beta = cmath.sqrt(1 - alpha**2)\n",
    "phi = np.pi/2\n",
    "# Phase shifts\n",
    "delta1 = 0\n",
    "delta2 = -phi"
   ],
   "metadata": {
    "collapsed": false,
    "ExecuteTime": {
     "end_time": "2023-07-07T14:34:32.177016800Z",
     "start_time": "2023-07-07T14:34:32.145228400Z"
    }
   }
  },
  {
   "cell_type": "code",
   "execution_count": 3,
   "outputs": [],
   "source": [
    "eta = use.create_ancilla_qobj(alpha, beta, phi)\n",
    "rho1 = use.create_system_qobj('thermal', n=1, n_dims=D)\n",
    "rho2 = use.create_system_qobj('thermal', n=1, n_dims=D)\n",
    "rho = qutip.tensor(rho1, rho2)"
   ],
   "metadata": {
    "collapsed": false,
    "ExecuteTime": {
     "end_time": "2023-07-07T14:34:32.188965100Z",
     "start_time": "2023-07-07T14:34:32.178011900Z"
    }
   }
  },
  {
   "cell_type": "code",
   "execution_count": 4,
   "outputs": [],
   "source": [
    "ga = 2 * alpha ** 2\n",
    "gb = beta**2 * (1 + np.cos(phi))"
   ],
   "metadata": {
    "collapsed": false,
    "ExecuteTime": {
     "end_time": "2023-07-07T14:34:32.266855900Z",
     "start_time": "2023-07-07T14:34:32.252367400Z"
    }
   }
  },
  {
   "cell_type": "code",
   "execution_count": 5,
   "outputs": [],
   "source": [
    "def commutator(A: Qobj | np.ndarray, B: Qobj | np.ndarray, kind='regular'):\n",
    "    if kind == 'regular':\n",
    "        return A*B - B*A\n",
    "    elif kind == 'anti':\n",
    "        return A*B + B*A\n",
    "\n",
    "def dissipator(X: Qobj | np.ndarray, system: Qobj | np.ndarray, kind='regular'):\n",
    "    sandwich = X * system * X.dag()\n",
    "    if kind == 'anti':\n",
    "        sandwich = X.dag() * system * X\n",
    "    comm = qutip.commutator(X.dag()*X, system, kind='anti')\n",
    "    return sandwich - 1/2 * comm\n",
    "\n",
    "def master_equation(system, ga, gb):\n",
    "    # Bosonic Operators\n",
    "    C = p.C\n",
    "    Cp = p.Cp\n",
    "    S = p.S\n",
    "    Sd = p.S.dag()\n",
    "    first_line = 0.5*dissipator(qutip.tensor(C, C) - 2*qutip.tensor(S, Sd), system)\n",
    "    first_line += dissipator(qutip.tensor(C, S) + qutip.tensor(S, Cp), system)\n",
    "    second_line = 0.5*dissipator(qutip.tensor(Cp, Cp) - 2*qutip.tensor(Sd, S), system)\n",
    "    second_line += dissipator(qutip.tensor(Cp, Sd) + qutip.tensor(Sd, C), system)\n",
    "    return ga * first_line + gb * second_line\n",
    "\n",
    "def evolve(system, ga, gb):\n",
    "    delta_s = master_equation(system, ga, gb)\n",
    "    return system + delta_s\n",
    "\n",
    "def hilbert_is_good(system, check):\n",
    "    \"\"\"Check if the Hilbert space truncation is still valid\"\"\"\n",
    "    threshold = 9e-4\n",
    "    if check == 'unitary':\n",
    "        trace = system.tr()\n",
    "        return abs(trace - 1) < threshold\n",
    "    elif check == 'small_tail':\n",
    "        last_diagonal_element = system.diag()[-1]\n",
    "        return last_diagonal_element < threshold"
   ],
   "metadata": {
    "collapsed": false,
    "ExecuteTime": {
     "end_time": "2023-07-07T14:34:33.667024200Z",
     "start_time": "2023-07-07T14:34:33.643307300Z"
    }
   }
  },
  {
   "cell_type": "code",
   "execution_count": 6,
   "outputs": [],
   "source": [
    "entropies = []\n",
    "purities = []"
   ],
   "metadata": {
    "collapsed": false,
    "ExecuteTime": {
     "end_time": "2023-07-07T14:34:34.485201800Z",
     "start_time": "2023-07-07T14:34:34.471270200Z"
    }
   }
  },
  {
   "cell_type": "code",
   "execution_count": 7,
   "outputs": [
    {
     "name": "stdout",
     "output_type": "stream",
     "text": [
      "[Errno 2] No such file or directory: 'objects/rho_20230628_t18000_d30.qu'\n"
     ]
    },
    {
     "name": "stderr",
     "output_type": "stream",
     "text": [
      "100%|██████████| 500/500 [02:00<00:00,  4.14it/s]\n"
     ]
    }
   ],
   "source": [
    "# Search for file\n",
    "files = os.listdir('objects/')\n",
    "t = 0\n",
    "try:\n",
    "    # Extract the time from the file name\n",
    "    time = max([int(f.split('_')[-2][1:]) for f in files if f.startswith('rho_20230707')])\n",
    "    # Load partial data\n",
    "    name = f'20230628_t{time}_d{D}'\n",
    "    rho = qutip.fileio.qload('objects/rho_' + name + '.qu')\n",
    "    entropies = np.load('objects/entropies_' + name + '.npy').tolist()\n",
    "    purities = np.load('objects/purities_' + name + '.npy').tolist()\n",
    "    print(f'Loaded values fot t={time}')\n",
    "except FileNotFoundError as e:\n",
    "    # Files not found, run evolution\n",
    "    print(e)\n",
    "    for t in trange(TIMESTEPS):\n",
    "        rho = evolve(rho, ga, gb)\n",
    "        entropies.append(qutip.entropy_vn(rho))\n",
    "        purities.append(rho.purity())\n",
    "    time = t + 1"
   ],
   "metadata": {
    "collapsed": false,
    "ExecuteTime": {
     "end_time": "2023-07-07T12:49:50.975059400Z",
     "start_time": "2023-07-07T12:47:50.122781300Z"
    }
   }
  },
  {
   "cell_type": "code",
   "execution_count": 17,
   "outputs": [
    {
     "data": {
      "text/plain": "<Figure size 640x480 with 1 Axes>",
      "image/png": "[encoded data removed]"
     },
     "metadata": {},
     "output_type": "display_data"
    }
   ],
   "source": [
    "# Plot quantities\n",
    "plt.plot(entropies, label='Entropy')\n",
    "plt.plot(purities, label='Purity')\n",
    "plt.legend()\n",
    "plt.show()"
   ],
   "metadata": {
    "collapsed": false,
    "ExecuteTime": {
     "end_time": "2023-07-07T14:33:48.414979400Z",
     "start_time": "2023-07-07T14:33:48.271965900Z"
    }
   }
  },
  {
   "cell_type": "code",
   "execution_count": 16,
   "outputs": [
    {
     "name": "stderr",
     "output_type": "stream",
     "text": [
      "100%|██████████| 5000/5000 [21:16<00:00,  3.92it/s]\n"
     ]
    }
   ],
   "source": [
    "# Evolve again\n",
    "for t in trange(10 * TIMESTEPS):\n",
    "    rho = evolve(rho, ga, gb)\n",
    "    entropies.append(qutip.entropy_vn(rho))\n",
    "    purities.append(rho.purity())\n",
    "time += t + 1"
   ],
   "metadata": {
    "collapsed": false,
    "ExecuteTime": {
     "end_time": "2023-07-07T14:33:02.667155100Z",
     "start_time": "2023-07-07T14:11:45.680959800Z"
    }
   }
  },
  {
   "cell_type": "code",
   "execution_count": 18,
   "outputs": [
    {
     "data": {
      "text/plain": "15500"
     },
     "execution_count": 18,
     "metadata": {},
     "output_type": "execute_result"
    }
   ],
   "source": [
    "time"
   ],
   "metadata": {
    "collapsed": false,
    "ExecuteTime": {
     "end_time": "2023-07-07T14:33:53.032467300Z",
     "start_time": "2023-07-07T14:33:53.006880Z"
    }
   }
  },
  {
   "cell_type": "code",
   "execution_count": 19,
   "outputs": [],
   "source": [
    "# Save partial data\n",
    "name = f'20230707_t{time}_d{D}'\n",
    "qutip.fileio.qsave(rho, 'objects/rho_' + name + '.qu')\n",
    "np.save('objects/entropies_' + name + '.npy', np.array(entropies))\n",
    "np.save('objects/purities_' + name + '.npy', np.array(purities))"
   ],
   "metadata": {
    "collapsed": false,
    "ExecuteTime": {
     "end_time": "2023-07-07T14:33:56.861154800Z",
     "start_time": "2023-07-07T14:33:56.804658300Z"
    }
   }
  },
  {
   "cell_type": "code",
   "execution_count": 20,
   "outputs": [
    {
     "data": {
      "text/plain": "Quantum object: dims = [[30, 30], [30, 30]], shape = (900, 900), type = oper, isherm = False\nQobj data =\n[[ 3.59999699e-01 -2.46731634e-04  1.45297085e-07 ...  0.00000000e+00\n   0.00000000e+00  0.00000000e+00]\n [-2.46730829e-04  1.43999925e-01 -1.39697250e-04 ...  0.00000000e+00\n   0.00000000e+00  0.00000000e+00]\n [ 1.46014947e-07 -1.39696670e-04  5.75999919e-02 ...  0.00000000e+00\n   0.00000000e+00  0.00000000e+00]\n ...\n [ 0.00000000e+00  0.00000000e+00  0.00000000e+00 ...  0.00000000e+00\n   0.00000000e+00  0.00000000e+00]\n [ 0.00000000e+00  0.00000000e+00  0.00000000e+00 ...  0.00000000e+00\n   0.00000000e+00  0.00000000e+00]\n [ 0.00000000e+00  0.00000000e+00  0.00000000e+00 ...  0.00000000e+00\n   0.00000000e+00  0.00000000e+00]]",
      "text/latex": "Quantum object: dims = [[30, 30], [30, 30]], shape = (900, 900), type = oper, isherm = False\\begin{equation*}\\left(\\begin{array}{*{11}c}0.360 & -2.467\\times10^{-04} & 1.453\\times10^{-07} & -1.231\\times10^{-08} & 6.846\\times10^{-09} & \\cdots & 0.0 & 0.0 & 0.0 & 0.0 & 0.0\\\\-2.467\\times10^{-04} & 0.144 & -1.397\\times10^{-04} & 1.060\\times10^{-07} & -1.296\\times10^{-08} & \\cdots & 0.0 & 0.0 & 0.0 & 0.0 & 0.0\\\\1.460\\times10^{-07} & -1.397\\times10^{-04} & 0.058 & -6.850\\times10^{-05} & 6.678\\times10^{-08} & \\cdots & 0.0 & 0.0 & 0.0 & 0.0 & 0.0\\\\-1.277\\times10^{-08} & 1.064\\times10^{-07} & -6.850\\times10^{-05} & 0.023 & -3.167\\times10^{-05} & \\cdots & 0.0 & 0.0 & 0.0 & 0.0 & 0.0\\\\7.016\\times10^{-09} & -1.298\\times10^{-08} & 6.710\\times10^{-08} & -3.167\\times10^{-05} & 0.009 & \\cdots & 0.0 & 0.0 & 0.0 & 0.0 & 0.0\\\\\\vdots & \\vdots & \\vdots & \\vdots & \\vdots & \\ddots & \\vdots & \\vdots & \\vdots & \\vdots & \\vdots\\\\0.0 & 0.0 & 0.0 & 0.0 & 0.0 & \\cdots & 0.0 & 0.0 & 0.0 & 0.0 & 0.0\\\\0.0 & 0.0 & 0.0 & 0.0 & 0.0 & \\cdots & 0.0 & 0.0 & 0.0 & 0.0 & 0.0\\\\0.0 & 0.0 & 0.0 & 0.0 & 0.0 & \\cdots & 0.0 & 0.0 & 0.0 & 0.0 & 0.0\\\\0.0 & 0.0 & 0.0 & 0.0 & 0.0 & \\cdots & 0.0 & 0.0 & 0.0 & 0.0 & 0.0\\\\0.0 & 0.0 & 0.0 & 0.0 & 0.0 & \\cdots & 0.0 & 0.0 & 0.0 & 0.0 & 0.0\\\\\\end{array}\\right)\\end{equation*}"
     },
     "execution_count": 20,
     "metadata": {},
     "output_type": "execute_result"
    }
   ],
   "source": [
    "rho"
   ],
   "metadata": {
    "collapsed": false,
    "ExecuteTime": {
     "end_time": "2023-07-07T14:33:58.031964100Z",
     "start_time": "2023-07-07T14:33:58.008545600Z"
    }
   }
  },
  {
   "cell_type": "code",
   "execution_count": 12,
   "outputs": [],
   "source": [],
   "metadata": {
    "collapsed": false,
    "ExecuteTime": {
     "end_time": "2023-07-07T13:13:21.891206300Z",
     "start_time": "2023-07-07T13:13:21.866235800Z"
    }
   }
  }
 ],
 "metadata": {
  "kernelspec": {
   "display_name": "Python 3",
   "language": "python",
   "name": "python3"
  },
  "language_info": {
   "codemirror_mode": {
    "name": "ipython",
    "version": 2
   },
   "file_extension": ".py",
   "mimetype": "text/x-python",
   "name": "python",
   "nbconvert_exporter": "python",
   "pygments_lexer": "ipython2",
   "version": "2.7.6"
  }
 },
 "nbformat": 4,
 "nbformat_minor": 0
}
