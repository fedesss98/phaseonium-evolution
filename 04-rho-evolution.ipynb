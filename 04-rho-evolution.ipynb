{
 "cells": [
  {
   "cell_type": "code",
   "execution_count": 1,
   "outputs": [],
   "source": [
    "%matplotlib inline\n",
    "import copy\n",
    "import qutip\n",
    "from qutip import Qobj\n",
    "import numpy as np\n",
    "import math, cmath\n",
    "import matplotlib.pyplot as plt\n",
    "from tqdm import tqdm, trange\n",
    "\n",
    "from stateobj import Physics\n",
    "import utilities as use\n",
    "import circuits as qc\n",
    "\n",
    "import os\n",
    "\n",
    "from IPython.display import Markdown, display"
   ],
   "metadata": {
    "collapsed": false
   }
  },
  {
   "cell_type": "code",
   "execution_count": 2,
   "outputs": [],
   "source": [
    "TIMESTEPS = 7000\n",
    "TIMEDELTA = 1e-01\n",
    "OMEGA = 0.5  # Strength of Interaction\n",
    "\n",
    "D = 30\n",
    "\n",
    "p = Physics(dimension=D, interaction_strength=OMEGA, interaction_time=TIMEDELTA)\n",
    "\n",
    "th = OMEGA * TIMEDELTA\n",
    "alpha = complex(1/math.sqrt(2), 0)\n",
    "beta = cmath.sqrt(1 - alpha**2)\n",
    "phi = np.pi/2\n",
    "# Phase shifts\n",
    "delta1 = 0\n",
    "delta2 = -phi"
   ],
   "metadata": {
    "collapsed": false
   }
  },
  {
   "cell_type": "code",
   "execution_count": 3,
   "outputs": [],
   "source": [
    "eta = use.create_ancilla_qobj(alpha, beta, phi)\n",
    "rho1 = use.create_system_qobj('coherent', alpha=1, n_dims=D)\n",
    "rho2 = use.create_system_qobj('coherent', alpha=1, n_dims=D)\n",
    "rho = qutip.tensor(rho1, rho2)"
   ],
   "metadata": {
    "collapsed": false
   }
  },
  {
   "cell_type": "code",
   "execution_count": 4,
   "outputs": [],
   "source": [
    "def dissipator(X: Qobj, system: Qobj, kind='regular'):\n",
    "    sandwich = X * system * X.dag()\n",
    "    if kind == 'anti':\n",
    "        sandwich = X.dag() * system * X\n",
    "    comm = qutip.commutator(X.dag()*X, system, kind='anti')\n",
    "    return sandwich - 1/2 * comm\n",
    "\n",
    "def master_equation(system):\n",
    "    ga = 2*alpha**2\n",
    "    gb = beta**2*(1-np.cos(phi))\n",
    "    # Bosonic Operators\n",
    "    C = p.C\n",
    "    Cp = p.Cp\n",
    "    S = p.S\n",
    "    Sd = p.S.dag()\n",
    "    first_line = 0.5*dissipator(qutip.tensor(C, C) - 2*qutip.tensor(S, Sd), system)\n",
    "    first_line += dissipator(qutip.tensor(C, S) + qutip.tensor(S, Cp), system)\n",
    "    second_line = 0.5*dissipator(qutip.tensor(Cp, Cp) - 2*qutip.tensor(Sd, S), system)\n",
    "    second_line += dissipator(qutip.tensor(Cp, Sd) + qutip.tensor(Sd, C), system)\n",
    "    return ga * first_line + gb * second_line\n",
    "\n",
    "def evolve(system):\n",
    "    delta_s = master_equation(system)\n",
    "    return system + delta_s"
   ],
   "metadata": {
    "collapsed": false
   }
  },
  {
   "cell_type": "code",
   "execution_count": 5,
   "outputs": [],
   "source": [
    "entropies = []\n",
    "purities = []"
   ],
   "metadata": {
    "collapsed": false
   }
  },
  {
   "cell_type": "code",
   "execution_count": 6,
   "outputs": [
    {
     "name": "stdout",
     "output_type": "stream",
     "text": [
      "Loaded values fot t=3499\n"
     ]
    }
   ],
   "source": [
    "# Search for file\n",
    "files = os.listdir('objects/')\n",
    "try:\n",
    "    # Extract the time from the file name\n",
    "    time = max([int(f.split('_')[-2][1:]) for f in files if f.startswith('rho_20230628')])\n",
    "    # Load partial data\n",
    "    name = f'20230628_t{time}_d{D}'\n",
    "    rho = qutip.fileio.qload('objects/rho_' + name + '.qu')\n",
    "    entropies = np.load('objects/entropies_' + name + '.npy').tolist()\n",
    "    purities = np.load('objects/purities_' + name + '.npy').tolist()\n",
    "    print(f'Loaded values fot t={time}')\n",
    "except ValueError as e:\n",
    "    # Files not found\n",
    "    print(e)\n",
    "    for t in trange(100):\n",
    "        rho = evolve(rho)\n",
    "        entropies.append(qutip.entropy_vn(rho))\n",
    "        purities.append(rho.purity())\n",
    "    time = t"
   ],
   "metadata": {
    "collapsed": false
   }
  },
  {
   "cell_type": "code",
   "execution_count": 7,
   "outputs": [
    {
     "data": {
      "text/plain": "<Figure size 640x480 with 1 Axes>",
      "image/png": "[encoded data removed]"
     },
     "metadata": {},
     "output_type": "display_data"
    }
   ],
   "source": [
    "# Calculate something\n",
    "plt.plot(entropies, label='Entropy')\n",
    "plt.plot(purities, label='Purity')\n",
    "plt.legend()\n",
    "plt.show()"
   ],
   "metadata": {
    "collapsed": false
   }
  },
  {
   "cell_type": "code",
   "execution_count": 8,
   "outputs": [
    {
     "name": "stderr",
     "output_type": "stream",
     "text": [
      "100%|██████████| 55/55 [02:58<00:00,  3.24s/it]\n"
     ]
    }
   ],
   "source": [
    "# Evolve again\n",
    "for t in trange(55):\n",
    "    rho = evolve(rho)\n",
    "    entropies.append(qutip.entropy_vn(rho))\n",
    "    purities.append(rho.purity())\n",
    "time += t + 1"
   ],
   "metadata": {
    "collapsed": false
   }
  },
  {
   "cell_type": "code",
   "execution_count": 9,
   "outputs": [
    {
     "data": {
      "text/plain": "3554"
     },
     "execution_count": 9,
     "metadata": {},
     "output_type": "execute_result"
    }
   ],
   "source": [
    "time"
   ],
   "metadata": {
    "collapsed": false
   }
  },
  {
   "cell_type": "code",
   "execution_count": 10,
   "outputs": [],
   "source": [
    "# Save partial data\n",
    "name = f'20230628_t{time}_d{D}'\n",
    "qutip.fileio.qsave(rho, 'objects/rho_' + name + '.qu')\n",
    "np.save('objects/entropies_' + name + '.npy', np.array(entropies))\n",
    "np.save('objects/purities_' + name + '.npy', np.array(purities))"
   ],
   "metadata": {
    "collapsed": false
   }
  },
  {
   "cell_type": "code",
   "execution_count": 10,
   "outputs": [],
   "source": [],
   "metadata": {
    "collapsed": false
   }
  }
 ],
 "metadata": {
  "kernelspec": {
   "display_name": "Python 3",
   "language": "python",
   "name": "python3"
  },
  "language_info": {
   "codemirror_mode": {
    "name": "ipython",
    "version": 2
   },
   "file_extension": ".py",
   "mimetype": "text/x-python",
   "name": "python",
   "nbconvert_exporter": "python",
   "pygments_lexer": "ipython2",
   "version": "2.7.6"
  }
 },
 "nbformat": 4,
 "nbformat_minor": 0
}
