{
 "cells": [
  {
   "cell_type": "code",
   "execution_count": null,
   "outputs": [],
   "source": [
    "%matplotlib widget\n",
    "import matplotlib.pyplot as plt\n",
    "import numpy as np\n",
    "import os\n",
    "import pandas as pd\n",
    "import plotly.express as px\n",
    "from plotly.subplots import make_subplots\n",
    "import plotly.graph_objects as go\n",
    "\n",
    "from src.utilities import Matrix\n",
    "\n",
    "from src.observables import entropy_vn, covariance_invariants, symplectic_eigenvalues, symplectic_eigenvalues_transposed, symplectic_entropy, mutual_information, gaussian_quantum_discord, logarithmic_negativity\n",
    "\n",
    "SUFFIX = '.npy'"
   ],
   "metadata": {
    "collapsed": false
   }
  },
  {
   "cell_type": "code",
   "execution_count": null,
   "outputs": [],
   "source": [
    "# Files utilities\n",
    "\n",
    "def file_dims(filename):\n",
    "    return int(filename.split('_')[-3][1:])\n",
    "\n",
    "\n",
    "def file_time(filename):\n",
    "    return int(filename.split('_')[-2][1:])\n",
    "\n",
    "\n",
    "def file_timedelta(filename):\n",
    "    return float(filename.split('_')[-1][2:])\n",
    "\n",
    "\n",
    "def check_file_metadata(filename, d, dt):\n",
    "    dims = file_dims(filename)\n",
    "    timedelta = file_timedelta(filename)\n",
    "    return dims == d and timedelta == dt\n",
    "\n",
    "\n",
    "def get_all_files(state, observable):\n",
    "    files = [file for file in os.listdir(f'../objects/{state}') if file.endswith(SUFFIX) and file.startswith(f'rho_{observable}')]\n",
    "    return files\n",
    "\n",
    "def get_last_file(startswith, dims, state):\n",
    "    all_files = [f.removesuffix(SUFFIX) for f in os.listdir(f'../objects/{state}') if f.startswith(f'{startswith}')]\n",
    "    timedeltas = [file_timedelta(f) for f in all_files]\n",
    "    max_times = {dt: max([file_time(f) for f in all_files if check_file_metadata(f, dims, dt)]) for dt in timedeltas}\n",
    "    files = {dt: [f for f in all_files if check_file_metadata(f, dims, dt) and file_time(f) == max_times[dt]][0] for dt in timedeltas}\n",
    "    return dict(sorted(files.items()))\n",
    "\n",
    "def get_cov_of_dims(dims, state) -> dict:\n",
    "    files = get_last_file(f'rho_covariance_D{dims}', dims, state)\n",
    "    return files\n",
    "\n",
    "def get_heat_of_dims(dims, state) -> dict:\n",
    "    files = get_last_file(f'rho_heats_D{dims}', dims, state)\n",
    "    return files"
   ],
   "metadata": {
    "collapsed": false
   }
  },
  {
   "cell_type": "code",
   "execution_count": null,
   "outputs": [],
   "source": [
    "def get_observable(observable, covs, iterator):\n",
    "    if observable == 'Entropy':\n",
    "        func = symplectic_entropy\n",
    "    elif observable == 'Mutual Information':\n",
    "        func = mutual_information\n",
    "    elif observable == 'Quantum Discord':\n",
    "        func = gaussian_quantum_discord\n",
    "    elif observable == 'Logarithmic Negativity':\n",
    "        func = logarithmic_negativity\n",
    "    else:\n",
    "        raise ValueError(f'Observable {observable} not supported')\n",
    "\n",
    "    arr = []\n",
    "    for i in iterator:\n",
    "        arr.append(func(covs[i]))\n",
    "    return np.array(arr).real"
   ],
   "metadata": {
    "collapsed": false
   }
  },
  {
   "cell_type": "markdown",
   "source": [
    "# Effects of Interaction Time on the evolution"
   ],
   "metadata": {
    "collapsed": false
   }
  },
  {
   "cell_type": "code",
   "execution_count": null,
   "outputs": [],
   "source": [
    "observables = ['Entropy', 'Mutual Information', 'Quantum Discord', 'Logarithmic Negativity', 'Heat Flux']\n",
    "df = pd.DataFrame(columns=observables)\n",
    "state = 'thermal'\n",
    "dims = 17\n",
    "cov_files = get_cov_of_dims(dims, state)\n",
    "heat_transfers = get_heat_of_dims(dims, state)\n",
    "for timedelta, file in cov_files.items():\n",
    "    dt_df = pd.DataFrame(columns=observables)\n",
    "    cov_evolution = np.load(f'../objects/{state}/' + file + SUFFIX)\n",
    "    heat_transfer = np.load(f'../objects/{state}/' + heat_transfers[timedelta] + SUFFIX).real\n",
    "\n",
    "    iterator = np.linspace(0, len(cov_evolution) - 1, 1000).astype(int)\n",
    "    dt_df['Time'] = [i*timedelta for i in iterator]\n",
    "    dt_df['Interaction Time'] = timedelta\n",
    "\n",
    "    for obs in observables:\n",
    "        if obs == 'Heat Flux':\n",
    "            dt_df['J1'] = [heat_transfer[i, 0] for i in iterator]\n",
    "            dt_df['J2'] = [heat_transfer[i, 1] for i in iterator]\n",
    "            dt_df['Jc'] = [heat_transfer[i, 2] for i in iterator]\n",
    "        else:\n",
    "            dt_df[obs] = get_observable(obs, cov_evolution, iterator)\n",
    "\n",
    "    df = pd.concat([df, dt_df])\n",
    "df.drop('Heat Flux', axis=1, inplace=True)"
   ],
   "metadata": {
    "collapsed": false
   }
  },
  {
   "cell_type": "code",
   "execution_count": null,
   "outputs": [],
   "source": [
    "fig_entropy = px.line(df, x='Time', y='Entropy', color='Interaction Time', title='Entropy')\n",
    "fig_entropy.show()"
   ],
   "metadata": {
    "collapsed": false
   }
  },
  {
   "cell_type": "code",
   "execution_count": null,
   "outputs": [],
   "source": [
    "fig_discord = px.line(df, x='Time', y='Quantum Discord', color='Interaction Time', title='Quantum Discord')\n",
    "fig_discord.show()"
   ],
   "metadata": {
    "collapsed": false
   }
  },
  {
   "cell_type": "code",
   "execution_count": null,
   "outputs": [],
   "source": [
    "fig_mutinf = px.line(df, x='Time', y='Mutual Information', color='Interaction Time', title='Mutual Information')\n",
    "fig_mutinf.show()"
   ],
   "metadata": {
    "collapsed": false
   }
  },
  {
   "cell_type": "code",
   "execution_count": null,
   "outputs": [],
   "source": [
    "fig_logneg = px.line(df, x='Time', y='Logarithmic Negativity', color='Interaction Time', title='Logarithmic Negativity')\n",
    "fig_logneg.show()"
   ],
   "metadata": {
    "collapsed": false
   }
  },
  {
   "cell_type": "code",
   "execution_count": null,
   "outputs": [],
   "source": [
    "df_melt = df.melt(id_vars=['Time', 'Interaction Time'], value_vars=['J1', 'J2', 'Jc'], var_name='Current', value_name='Heat')\n",
    "fig_heat2 = px.line(df_melt, x='Time', y='Heat', color='Interaction Time', line_dash='Current', title='Heat Currents')\n",
    "fig_heat2.show()"
   ],
   "metadata": {
    "collapsed": false
   }
  },
  {
   "cell_type": "code",
   "execution_count": null,
   "outputs": [],
   "source": [],
   "metadata": {
    "collapsed": false
   }
  }
 ],
 "metadata": {
  "kernelspec": {
   "display_name": "Python 3",
   "language": "python",
   "name": "python3"
  },
  "language_info": {
   "codemirror_mode": {
    "name": "ipython",
    "version": 2
   },
   "file_extension": ".py",
   "mimetype": "text/x-python",
   "name": "python",
   "nbconvert_exporter": "python",
   "pygments_lexer": "ipython2",
   "version": "2.7.6"
  }
 },
 "nbformat": 4,
 "nbformat_minor": 0
}
