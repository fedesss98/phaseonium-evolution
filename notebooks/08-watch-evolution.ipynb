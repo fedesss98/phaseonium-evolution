{
 "cells": [
  {
   "cell_type": "code",
   "execution_count": null,
   "outputs": [],
   "source": [
    "%matplotlib widget\n",
    "import matplotlib.pyplot as plt\n",
    "import numpy as np\n",
    "import os\n",
    "import pandas as pd\n",
    "import plotly.express as px\n",
    "from plotly.subplots import make_subplots\n",
    "import plotly.graph_objects as go\n",
    "import plotly.io as pio\n",
    "# Set default plotly theme\n",
    "pio.templates.default = 'plotly_white'\n",
    "\n",
    "from src.utilities import Matrix\n",
    "\n",
    "from src.observables import *\n",
    "\n",
    "SUFFIX = '.npy'\n",
    "OMEGA = 1  # Interaction Strength\n",
    "\n",
    "HEAT = True\n",
    "TIMES = False  # For stochastic interaction times"
   ],
   "metadata": {
    "collapsed": false
   }
  },
  {
   "cell_type": "markdown",
   "source": [
    "### Functions"
   ],
   "metadata": {
    "collapsed": false
   }
  },
  {
   "cell_type": "code",
   "execution_count": null,
   "outputs": [],
   "source": [
    "# Files utilities\n",
    "\n",
    "def file_dims(filename):\n",
    "    return int(filename.split('_')[-3][1:])\n",
    "\n",
    "\n",
    "def file_time(filename):\n",
    "    return int(filename.split('_')[-2][1:])\n",
    "\n",
    "\n",
    "def file_timedelta(filename):\n",
    "    return float(filename.split('_')[-1][2:])\n",
    "\n",
    "\n",
    "def check_file_metadata(filename, d, dt):\n",
    "    dims = file_dims(filename)\n",
    "    timedelta = file_timedelta(filename)\n",
    "    return dims == d and timedelta == dt\n",
    "\n",
    "\n",
    "def get_all_files(state, key, observable):\n",
    "    files = [file for file in os.listdir(f'../objects/saved{state}_{key}') if file.endswith(SUFFIX) and file.startswith(f'rho_{observable}')]\n",
    "    return files\n",
    "\n",
    "def get_last_file(startswith, dims, state, key):\n",
    "    all_files = [f.removesuffix(SUFFIX) for f in os.listdir(f'../objects/saved/{state}_{key}') if f.startswith(f'{startswith}')]\n",
    "    timedeltas = [file_timedelta(f) for f in all_files]\n",
    "    max_times = {dt: max([file_time(f) for f in all_files if check_file_metadata(f, dims, dt)]) for dt in timedeltas}\n",
    "    files = {dt: [f for f in all_files if check_file_metadata(f, dims, dt) and file_time(f) == max_times[dt]][0] for dt in timedeltas}\n",
    "    return dict(sorted(files.items()))\n",
    "\n",
    "def get_cov_of_dims(dims, state, key, filtered_keys=None) -> dict:\n",
    "    files = get_last_file(f'rho_covariance_D{dims}', dims, state, key)\n",
    "    if filtered_keys is not None:\n",
    "        files = {k: files[k] for k in filtered_keys}\n",
    "    return files\n",
    "\n",
    "def get_heat_of_dims(dims, state, key, filtered_keys=None) -> dict:\n",
    "    files = get_last_file(f'rho_heats_D{dims}', dims, state, key)\n",
    "    if filtered_keys is not None:\n",
    "        files = {k: files[k] for k in filtered_keys}\n",
    "    return files\n",
    "\n",
    "def make_file_name(code, observable):\n",
    "    return f'../objects/saved/{code}_rho_{observable}.npy'\n",
    "\n",
    "#=======================================================================================================================\n",
    "\n",
    "def single_entropy(cov, system):\n",
    "    d1, d2 = symplectic_eigenvalues(cov)\n",
    "    if system == 1:\n",
    "        x1 = d1 + 1/2\n",
    "        x2 = d1 - 1/2\n",
    "    elif system == 2:\n",
    "        x1 = d2 + 1/2\n",
    "        x2 = d2 - 1/2\n",
    "    return x1 * np.log(x1) - x2 * np.log(x2)\n",
    "\n",
    "def get_observable(observable, covs, iterator):\n",
    "    if observable == 'Entropy':\n",
    "        func = symplectic_entropy\n",
    "    elif observable == 'Mutual Information':\n",
    "        func = mutual_information\n",
    "    elif observable == 'Quantum Discord':\n",
    "        func = gaussian_quantum_discord\n",
    "    elif observable == 'Logarithmic Negativity':\n",
    "        func = logarithmic_negativity\n",
    "    else:\n",
    "        raise ValueError(f'Observable {observable} not supported')\n",
    "\n",
    "    arr = []\n",
    "    for i in iterator:\n",
    "        arr.append(func(covs[i]))\n",
    "    return np.array(arr).real\n",
    "\n",
    "#====================================================================\n",
    "\n",
    "def stable_temperature(a, p):\n",
    "    a = float(a)\n",
    "    p = float(p)\n",
    "    ga = 2*a**2\n",
    "    gb = (1-a**2) * (1+np.cos(p))\n",
    "    return - 1 / np.log(ga / gb)"
   ],
   "metadata": {
    "collapsed": false
   }
  },
  {
   "cell_type": "markdown",
   "source": [
    "# Effects of Interaction Time on the evolution\n",
    "For the paper we inspect:\n",
    "1. the difference in the evolution of the observables for different interaction times.\n",
    "2. the difference of the partial evolution of observables for different interaction times.\n",
    "3. exploration of the alpha-phi space fixing the stable temperature\n",
    "\n",
    "For (1) use data with IDs [032, 033, 034, 037] and for (2) use data with IDs [035, 036]. For (3) we use ['T11', 'T12', 'T13', 'T14', 'T15'] with stable T=1 and ['T21', 'T22', 'T23', 'T24', 'T25'] with stable T=2."
   ],
   "metadata": {
    "collapsed": false
   }
  },
  {
   "cell_type": "code",
   "execution_count": null,
   "outputs": [],
   "source": [
    "log = pd.read_csv('../objects/saved/logs.csv', sep=',', decimal='.', index_col='Id')\n",
    "# Format the index values as strings with leading zeros\n",
    "log.index = log.index.astype(str).str.zfill(3)\n",
    "\n",
    "# Filter the data to load\n",
    "filter_dict = {\n",
    "    # 'state': 'thermal',\n",
    "    # 'dimensions': 17,\n",
    "    # 'timedelta': [1.0, 0.5, 0.1],\n",
    "    # 'omega': 0.5,\n",
    "}\n",
    "id_T1_dt10 = ['T11', 'K12', 'T13', 'T14', 'T15']\n",
    "id_T1_dt05 = ['T16', 'T17', 'T18', 'T19', 'T110']\n",
    "id_T1_dt01 = ['T111', 'T112', 'T113', 'T114', 'T115']\n",
    "id_T2_dt10 = ['T21', 'T22', 'T23', 'T24', 'T25']\n",
    "id_T2_dt05 = ['T26', 'T27', 'T28', 'T29', 'T210']\n",
    "id_T2_dt01 = ['T211', 'T212', 'T213', 'T214', 'T215']\n",
    "filter_ids = id_T1_dt10 + id_T1_dt05 + id_T1_dt01 + id_T2_dt10 + id_T2_dt05 + id_T2_dt01\n",
    "# filter_ids = [f\"R{i}{j}\" for i in range(1, 6) for j in ['01', '05', '10']]\n",
    "filter_ids = ['032', '034']\n",
    "\n",
    "# Convert the filter conditions to a query string\n",
    "query_str = \" and \".join(\n",
    "    [\n",
    "        f\"{key} == {value!r}\" if not isinstance(value, list) \n",
    "        else f\"{key} in {value!r}\" for key, value in filter_dict.items()\n",
    "    ]\n",
    ")\n",
    "\n",
    "# Filter the DataFrame using the query method and the filtered IDs\n",
    "files_to_load = log.query(query_str).loc[filter_ids] if query_str else log.loc[filter_ids]\n",
    "print(f\"There are {len(files_to_load)} files to load\")"
   ],
   "metadata": {
    "collapsed": false
   }
  },
  {
   "cell_type": "code",
   "execution_count": null,
   "metadata": {},
   "outputs": [],
   "source": [
    "observables = ['Temperatures', 'Entropies', 'Mutual Information', 'Quantum Discord', 'Logarithmic Negativity', 'Heat Flux']\n",
    "df = pd.DataFrame(columns=observables)\n",
    "steps_per_timedelta = 1\n",
    "\n",
    "distribution = 'gaussian'\n",
    "\n",
    "steps = 10000  # To filter data points\n",
    "\n",
    "print(f'Loading files with:\\n'\n",
    "      f'{\"Evolution Steps\":>21}\\t'\n",
    "      f'{\"Log ID\":>10}\\t'\n",
    "      f'{\"Interaction Time\":>21}\\t'\n",
    "      f'{\"Interaction Strength\":>21}\\t')\n",
    "for indx, metadata in files_to_load.iterrows():\n",
    "    dt_df = pd.DataFrame(columns=observables)\n",
    "    timedelta = metadata['timedelta']\n",
    "    omega = metadata['omega']\n",
    "    \n",
    "    cov_filename = f'../objects/saved/{indx}_rho_covariance.npy'\n",
    "    heat_filename = f'../objects/saved/{indx}_rho_heats.npy'\n",
    "    times_filename = f'../objects/saved/{indx}_rho_{distribution}_times.npy'\n",
    "    cov_evolution = np.load(cov_filename)\n",
    "    heat_transfer = np.load(heat_filename).real if HEAT else np.zeros((len(cov_evolution),3))\n",
    "    \n",
    "    print(f'{len(cov_evolution):>21}\\t'\n",
    "          f'{indx:>10}\\t'\n",
    "          f'{timedelta:>21}\\t'\n",
    "          f'{omega:>21}')\n",
    "    \n",
    "    # Iterators to select only a sample of data\n",
    "    iterator = range(len(cov_evolution) - 1)  # np.linspace(0, len(cov_evolution) - 1, steps).astype(int)\n",
    "    heat_iterator = range(len(cov_evolution) - 1)  # np.linspace(0, len(heat_transfer) - 1, steps).astype(int)\n",
    "    interaction_times = np.load(times_filename) if TIMES else [timedelta for i in iterator]\n",
    "    time = np.cumsum(interaction_times) if TIMES else [i * timedelta for i in iterator]\n",
    "    \n",
    "    dt_df['Log ID'] = [indx for _ in iterator]\n",
    "    dt_df['Time'] = time\n",
    "    dt_df['Interaction Time'] = interaction_times \n",
    "    dt_df['d1'] = np.array([symplectic_eigenvalues(cov_evolution[i])[1] for i in iterator]).real\n",
    "    dt_df['d2'] = np.array([symplectic_eigenvalues(cov_evolution[i])[1] for i in iterator]).real\n",
    "    dt_df['d1-'] = np.array([symplectic_eigenvalues_transposed(cov_evolution[i])[1] for i in iterator]).real\n",
    "    dt_df['d2-'] = np.array([symplectic_eigenvalues_transposed(cov_evolution[i])[1] for i in iterator]).real\n",
    "\n",
    "    for obs in observables:\n",
    "        if obs == 'Heat Flux':\n",
    "            dt_df['J1'] = np.array([heat_transfer[i, 0] for i in heat_iterator])\n",
    "            dt_df['J2'] = np.array([heat_transfer[i, 1] for i in heat_iterator])\n",
    "            dt_df['Jc'] = np.array([heat_transfer[i, 2] for i in heat_iterator])\n",
    "        elif obs == 'Entropies':\n",
    "            dt_df['S'] = np.array([symplectic_entropy(cov_evolution[i]) for i in iterator]).real\n",
    "            dt_df['S1'] = np.array([single_entropy(cov_evolution[i], 2) for i in iterator]).real\n",
    "            dt_df['S2'] = np.array([single_entropy(cov_evolution[i], 1) for i in iterator]).real\n",
    "        elif obs == 'Temperatures':\n",
    "            dt_df['N1'] = np.array([mean_photon_numbers(cov_evolution[i])[0] for i in iterator]).real\n",
    "            dt_df['N2'] = np.array([mean_photon_numbers(cov_evolution[i])[1] for i in iterator]).real\n",
    "        elif obs == 'Quantum Discord':\n",
    "            dt_df[obs] = get_observable(obs, cov_evolution, iterator).tolist()\n",
    "        else:\n",
    "            dt_df[obs] = get_observable(obs, cov_evolution, iterator)\n",
    "\n",
    "    df = pd.concat([df, dt_df])\n",
    "df.drop('Heat Flux', axis=1, inplace=True)\n",
    "df.drop('Entropies', axis=1, inplace=True)\n",
    "df.drop('Temperatures', axis=1, inplace=True)"
   ]
  },
  {
   "cell_type": "code",
   "execution_count": null,
   "outputs": [],
   "source": [
    "fig, ax = plt.subplots()\n",
    "for indx, group in df.groupby('Log ID'):\n",
    "    ax.plot(group['Time'], label=indx)"
   ],
   "metadata": {
    "collapsed": false
   }
  },
  {
   "cell_type": "code",
   "execution_count": null,
   "outputs": [],
   "source": [
    "dt_df['Quantum Discord']"
   ],
   "metadata": {
    "collapsed": false
   }
  },
  {
   "cell_type": "code",
   "execution_count": null,
   "outputs": [],
   "source": [
    "fig_n, ax = plt.subplots()\n",
    "\n",
    "for indx, group in df.groupby('Log ID'):\n",
    "    timedelta = log.loc[indx, 'timedelta']\n",
    "    temp = stable_temperature(log.loc[indx, 'alpha'], log.loc[indx, 'phi'])\n",
    "    label = f\"T = {temp} | $\\phi$ = {log.loc[indx, 'phi']}\"\n",
    "    ax.plot(group['Time'], group['N1'], label=label)\n",
    "    ax.plot(group['Time'], group['N2'], label=label)\n",
    "ax.legend()\n",
    "fig_n.suptitle('<N>')\n",
    "ax.set_xlim(0, 50000)\n",
    "# ax.axhline(0.58, color='black', ls='--')"
   ],
   "metadata": {
    "collapsed": false
   }
  },
  {
   "cell_type": "code",
   "execution_count": null,
   "outputs": [],
   "source": [
    "def get_temperature(n):\n",
    "    beta = np.log(1 / n + 1)\n",
    "    return 1 / beta\n",
    "\n",
    "final_n2 = df.loc[df['Log ID'] == 'T113']['N1'].iloc[-1]\n",
    "get_temperature(final_n2)"
   ],
   "metadata": {
    "collapsed": false
   }
  },
  {
   "cell_type": "code",
   "execution_count": null,
   "outputs": [],
   "source": [
    "from src.utilities import set_matplotlib_defaults\n",
    "save = False\n",
    "fig, (ax1, ax2) = plt.subplots(nrows=2, figsize=(12, 8))\n",
    "set_matplotlib_defaults()\n",
    "\n",
    "for i, (indx, group) in enumerate(df.groupby('Log ID')):\n",
    "    timedelta = log.loc[indx, 'timedelta']\n",
    "    temp = stable_temperature(log.loc[indx, 'alpha'], log.loc[indx, 'phi'])\n",
    "    label = f\"T = {temp} | $\\phi$ = {log.loc[indx, 'phi']}\"\n",
    "    ax1.plot(group['Time'], group['Quantum Discord'],ls='-', label=label)\n",
    "    ax2.plot(group['Time'], group['S'],ls='-', label=label)\n",
    "    ax1.set_xlim(0, 60)\n",
    "    ax1.set_ylim(0, 0.0005)\n",
    "    ax2.set_xlim(0, 200)\n",
    "    # ax2.set_ylim(3.0, 3.5)\n",
    "    ax1.set_ylabel('Quantum Discord')\n",
    "    ax2.set_ylabel('Entropy')\n",
    "    ax2.set_xlabel('Time (a.u.)')\n",
    "    ax1.legend()\n",
    "    if save:\n",
    "        fig.savefig(f'../img/obs_evolution/thermal/video/quantum_discord_frame_{timedelta}.png', dpi=300)\n",
    "        ax1.clear()\n",
    "        ax2.clear()\n"
   ],
   "metadata": {
    "collapsed": false
   }
  },
  {
   "cell_type": "code",
   "execution_count": null,
   "metadata": {},
   "outputs": [],
   "source": [
    "df['Labels'] = df['Log ID'].apply(lambda x: f\"ID{x}: T = {stable_temperature(log.loc[x, 'alpha'], log.loc[x, 'phi'])} | phi = {log.loc[x, 'phi']}\")\n",
    "df_melt = df.melt(id_vars=['Time', 'Labels'], value_vars=['N1', 'N2'], var_name='System', value_name='Temperature')\n",
    "fig_temp = px.line(df_melt, x='Time', y='Temperature',\n",
    "                   color='Labels', line_dash='System',\n",
    "                   title='Mean Photon Numbers in the Systems',\n",
    "                   labels={'Temperature': 'Mean Photon '\n",
    "                                          'Number', 'Time': 'Time (a.u.)'})\n",
    "fig_temp.update_xaxes(range=[0, 1500])\n",
    "fig_temp.show()"
   ]
  },
  {
   "cell_type": "code",
   "execution_count": null,
   "metadata": {},
   "outputs": [],
   "source": [
    "df_melt = df.melt(id_vars=['Time', 'Log ID'], value_vars=['S1', 'S2'], var_name='System', value_name='Entropy')\n",
    "fig_entropy = px.line(df_melt, x='Time', y='Entropy',\n",
    "                   color='Log ID', line_dash='System',\n",
    "                   title='Systems Entropies')\n",
    "fig_entropy.update_xaxes(range=[0, 1500])\n",
    "fig_entropy.show()"
   ]
  },
  {
   "cell_type": "code",
   "execution_count": null,
   "outputs": [],
   "source": [
    "df['T_ratio'] = df['N2'] / df['N1']\n",
    "\n",
    "fig, ax1 = plt.subplots()\n",
    "ax2 = ax1.twinx()  # instantiate a second axes that shares the same x-axis\n",
    "reds = plt.cm.Reds(np.linspace(0.2, 1, len(df['Log ID'].unique())))\n",
    "blues = plt.cm.Blues(np.linspace(0.2, 1, len(df['Log ID'].unique())))\n",
    "\n",
    "for i, (name, group) in enumerate(df.groupby('Log ID')):\n",
    "    label = log.loc[name, 'timedelta']\n",
    "    ax1.plot(group['Time'], group['T_ratio'], label=label, ls='--', color=reds[i])\n",
    "    ax2.plot(group['Time'], group['Mutual Information'], label=label, ls='-', color=blues[i])\n",
    "\n",
    "ax1.set_ylabel('T_ratio')\n",
    "ax2.set_ylabel('Quantum Discord', color='tab:blue')\n",
    "ax2.tick_params(axis='y', labelcolor='tab:blue')\n",
    "\n",
    "ax1.set_xlim(0, 50)\n",
    "\n",
    "ax1.legend(loc='upper center')\n",
    "ax2.legend(loc='upper right')\n",
    "fig.tight_layout()\n",
    "plt.show()\n"
   ],
   "metadata": {
    "collapsed": false
   }
  },
  {
   "cell_type": "code",
   "execution_count": null,
   "metadata": {},
   "outputs": [],
   "source": [
    "fig_discord = px.line(df, x='Time', y='Quantum Discord', color='Log ID', title='Quantum Discord')\n",
    "fig_discord.update_xaxes(range=[0, 200])\n",
    "fig_discord.show()"
   ]
  },
  {
   "cell_type": "code",
   "execution_count": null,
   "metadata": {},
   "outputs": [],
   "source": [
    "fig_mutinf = px.line(df, x='Time', y='Mutual Information', color='Interaction Time', title='Mutual Information')\n",
    "fig_mutinf.update_xaxes(range=[0, 1500])\n",
    "fig_mutinf.show()"
   ]
  },
  {
   "cell_type": "code",
   "execution_count": null,
   "metadata": {},
   "outputs": [],
   "source": [
    "fig_logneg = px.line(df, x='Time', y='Logarithmic Negativity', color='Interaction Time', title='Logarithmic Negativity')\n",
    "fig_logneg.update_xaxes(range=[0, 1500])\n",
    "fig_logneg.show()"
   ]
  },
  {
   "cell_type": "code",
   "execution_count": null,
   "outputs": [],
   "source": [
    "fig_temp = px.line(df, x='Time', y='Jc', \n",
    "                   color='Log ID', line_dash='Log ID',\n",
    "                   title='Total Heat Current')\n",
    "fig_temp.show()"
   ],
   "metadata": {
    "collapsed": false
   }
  },
  {
   "cell_type": "code",
   "execution_count": null,
   "metadata": {},
   "outputs": [],
   "source": [
    "df_melt = df.loc[df['Time']>0].melt(id_vars=['Time', 'Log ID'], value_vars=['J1', 'J2', 'Jc'], var_name='Current', value_name='Heat')\n",
    "fig_heat = px.line(df_melt, x='Time', y='Heat',\n",
    "                   color='Log ID', line_dash='Current',\n",
    "                   title='Heat Currents')\n",
    "fig_heat.update_xaxes(range=[0, 100])\n",
    "fig_heat.update_yaxes(range=[-0.005, 0.1])\n",
    "fig_heat.show()"
   ]
  },
  {
   "cell_type": "markdown",
   "source": [
    "## Symplectic Eigenvalues"
   ],
   "metadata": {
    "collapsed": false
   }
  },
  {
   "cell_type": "code",
   "execution_count": null,
   "outputs": [],
   "source": [
    "fig, ax = plt.subplots()\n",
    "x=df.loc[df['Interaction Time'] == 1.0]['Time']\n",
    "y1=df.loc[df['Interaction Time'] == 1.0]['d1']\n",
    "y2=df.loc[df['Interaction Time'] == 1.0]['d1-']\n",
    "ax.plot(x, y1, y2)\n",
    "plt.show()"
   ],
   "metadata": {
    "collapsed": false
   }
  },
  {
   "cell_type": "code",
   "execution_count": null,
   "outputs": [],
   "source": [
    "fig, ax = plt.subplots()\n",
    "\n",
    "x=df.loc[df['Interaction Time'] == 1.0]['Time']\n",
    "y1=df.loc[df['Interaction Time'] == 1.0]['d2']\n",
    "y2=df.loc[df['Interaction Time'] == 1.0]['d2-']\n",
    "\n",
    "ax.plot(x, y1, y2)\n",
    "plt.show()"
   ],
   "metadata": {
    "collapsed": false
   }
  },
  {
   "cell_type": "markdown",
   "source": [
    "## Save Data Frame"
   ],
   "metadata": {
    "collapsed": false
   }
  },
  {
   "cell_type": "code",
   "execution_count": null,
   "outputs": [],
   "source": [
    "df"
   ],
   "metadata": {
    "collapsed": false
   }
  },
  {
   "cell_type": "code",
   "execution_count": null,
   "outputs": [],
   "source": [
    "pd.to_pickle(df, f'../objects/saved/observables.pkl')"
   ],
   "metadata": {
    "collapsed": false
   }
  },
  {
   "cell_type": "code",
   "execution_count": null,
   "outputs": [],
   "source": [],
   "metadata": {
    "collapsed": false
   }
  }
 ],
 "metadata": {
  "kernelspec": {
   "display_name": "Python 3 (ipykernel)",
   "language": "python",
   "name": "python3"
  },
  "language_info": {
   "codemirror_mode": {
    "name": "ipython",
    "version": 3
   },
   "file_extension": ".py",
   "mimetype": "text/x-python",
   "name": "python",
   "nbconvert_exporter": "python",
   "pygments_lexer": "ipython3",
   "version": "3.10.8"
  }
 },
 "nbformat": 4,
 "nbformat_minor": 1
}
