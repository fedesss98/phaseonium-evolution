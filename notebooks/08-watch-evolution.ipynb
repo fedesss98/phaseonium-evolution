{
 "cells": [
  {
   "cell_type": "code",
   "execution_count": null,
   "metadata": {},
   "outputs": [],
   "source": [
    "%matplotlib widget\n",
    "import matplotlib.pyplot as plt\n",
    "import numpy as np\n",
    "import os\n",
    "import pandas as pd\n",
    "import plotly.express as px\n",
    "from plotly.subplots import make_subplots\n",
    "import plotly.graph_objects as go\n",
    "import plotly.io as pio\n",
    "# Set default plotly theme\n",
    "pio.templates.default = 'plotly_white'\n",
    "\n",
    "from src.utilities import Matrix\n",
    "\n",
    "from src.observables import *\n",
    "\n",
    "SUFFIX = '.npy'\n",
    "OMEGA = 0.5  # Interaction Strength"
   ]
  },
  {
   "cell_type": "code",
   "execution_count": null,
   "metadata": {},
   "outputs": [],
   "source": [
    "# Files utilities\n",
    "\n",
    "def file_dims(filename):\n",
    "    return int(filename.split('_')[-3][1:])\n",
    "\n",
    "\n",
    "def file_time(filename):\n",
    "    return int(filename.split('_')[-2][1:])\n",
    "\n",
    "\n",
    "def file_timedelta(filename):\n",
    "    return float(filename.split('_')[-1][2:])\n",
    "\n",
    "\n",
    "def check_file_metadata(filename, d, dt):\n",
    "    dims = file_dims(filename)\n",
    "    timedelta = file_timedelta(filename)\n",
    "    return dims == d and timedelta == dt\n",
    "\n",
    "\n",
    "def get_all_files(state, observable):\n",
    "    files = [file for file in os.listdir(f'../objects/{state}') if file.endswith(SUFFIX) and file.startswith(f'rho_{observable}')]\n",
    "    return files\n",
    "\n",
    "def get_last_file(startswith, dims, state):\n",
    "    all_files = [f.removesuffix(SUFFIX) for f in os.listdir(f'../objects/{state}') if f.startswith(f'{startswith}')]\n",
    "    timedeltas = [file_timedelta(f) for f in all_files]\n",
    "    max_times = {dt: max([file_time(f) for f in all_files if check_file_metadata(f, dims, dt)]) for dt in timedeltas}\n",
    "    files = {dt: [f for f in all_files if check_file_metadata(f, dims, dt) and file_time(f) == max_times[dt]][0] for dt in timedeltas}\n",
    "    return dict(sorted(files.items()))\n",
    "\n",
    "def get_cov_of_dims(dims, state, filtered_keys=None) -> dict:\n",
    "    files = get_last_file(f'rho_covariance_D{dims}', dims, state)\n",
    "    if filtered_keys is not None:\n",
    "        files = {k: files[k] for k in filtered_keys}\n",
    "    return files\n",
    "\n",
    "def get_heat_of_dims(dims, state, filtered_keys=None) -> dict:\n",
    "    files = get_last_file(f'rho_heats_D{dims}', dims, state)\n",
    "    if filtered_keys is not None:\n",
    "        files = {k: files[k] for k in filtered_keys}\n",
    "    return files"
   ]
  },
  {
   "cell_type": "code",
   "execution_count": null,
   "metadata": {},
   "outputs": [],
   "source": [
    "def single_entropy(cov, system):\n",
    "    d1, d2 = symplectic_eigenvalues(cov)\n",
    "    if system == 1:\n",
    "        x1 = d1 + 1/2\n",
    "        x2 = d1 - 1/2\n",
    "    elif system == 2:\n",
    "        x1 = d2 + 1/2\n",
    "        x2 = d2 - 1/2\n",
    "    return x1 * np.log(x1) - x2 * np.log(x2)"
   ]
  },
  {
   "cell_type": "code",
   "execution_count": null,
   "metadata": {},
   "outputs": [],
   "source": [
    "def get_observable(observable, covs, iterator):\n",
    "    if observable == 'Entropy':\n",
    "        func = symplectic_entropy\n",
    "    elif observable == 'Mutual Information':\n",
    "        func = mutual_information\n",
    "    elif observable == 'Quantum Discord':\n",
    "        func = gaussian_quantum_discord\n",
    "    elif observable == 'Logarithmic Negativity':\n",
    "        func = logarithmic_negativity\n",
    "    else:\n",
    "        raise ValueError(f'Observable {observable} not supported')\n",
    "\n",
    "    arr = []\n",
    "    for i in iterator:\n",
    "        arr.append(func(covs[i]))\n",
    "    return np.array(arr).real"
   ]
  },
  {
   "cell_type": "markdown",
   "metadata": {},
   "source": [
    "# Effects of Interaction Time on the evolution"
   ]
  },
  {
   "cell_type": "code",
   "execution_count": null,
   "metadata": {},
   "outputs": [],
   "source": [
    "observables = ['Temperatures', 'Entropies', 'Mutual Information', 'Quantum Discord', 'Logarithmic Negativity', 'Heat Flux']\n",
    "df = pd.DataFrame(columns=observables)\n",
    "state = 'coherent'\n",
    "dims = 17\n",
    "filtered_timedeltas = [0.05, 0.1, 1.0]\n",
    "cov_files = get_cov_of_dims(dims, state, filtered_timedeltas)\n",
    "heat_transfers = get_heat_of_dims(dims, state, filtered_timedeltas)\n",
    "for timedelta, file in cov_files.items():\n",
    "    dt_df = pd.DataFrame(columns=observables)\n",
    "    cov_evolution = np.load(f'../objects/{state}/' + file + SUFFIX)\n",
    "    heat_transfer = np.load(f'../objects/{state}/' + heat_transfers[timedelta] + SUFFIX).real\n",
    "    print(f'{len(cov_evolution)} evolution steps with interaction time {timedelta}')\n",
    "\n",
    "    iterator = np.linspace(0, len(cov_evolution) - 1, 2000).astype(int)\n",
    "    dt_df['Time'] = [i * timedelta for i in iterator]\n",
    "    dt_df['Interaction Time'] = timedelta\n",
    "    dt_df['d1'] = np.array([symplectic_eigenvalues(cov_evolution[i])[1] for i in iterator]).real\n",
    "    dt_df['d2'] = np.array([symplectic_eigenvalues(cov_evolution[i])[1] for i in iterator]).real\n",
    "    dt_df['d1-'] = np.array([symplectic_eigenvalues_transposed(cov_evolution[i])[1] for i in iterator]).real\n",
    "    dt_df['d2-'] = np.array([symplectic_eigenvalues_transposed(cov_evolution[i])[1] for i in iterator]).real\n",
    "\n",
    "    for obs in observables:\n",
    "        if obs == 'Heat Flux':\n",
    "            dt_df['J1'] = np.array([heat_transfer[i, 0] for i in iterator])\n",
    "            dt_df['J2'] = np.array([heat_transfer[i, 1] for i in iterator])\n",
    "            dt_df['Jc'] = np.array([heat_transfer[i, 2] for i in iterator])\n",
    "        elif obs == 'Entropies':\n",
    "            dt_df['S'] = np.array([symplectic_entropy(cov_evolution[i]) for i in iterator]).real\n",
    "            dt_df['S1'] = np.array([single_entropy(cov_evolution[i], 2) for i in iterator]).real\n",
    "            dt_df['S2'] = np.array([single_entropy(cov_evolution[i], 1) for i in iterator]).real\n",
    "        elif obs == 'Temperatures':\n",
    "            dt_df['N1'] = np.array([mean_photon_numbers(cov_evolution[i])[1] for i in iterator]).real\n",
    "            dt_df['N2'] = np.array([mean_photon_numbers(cov_evolution[i])[0] for i in iterator]).real\n",
    "        else:\n",
    "            dt_df[obs] = get_observable(obs, cov_evolution, iterator)\n",
    "\n",
    "    df = pd.concat([df, dt_df])\n",
    "df.drop('Heat Flux', axis=1, inplace=True)\n",
    "df.drop('Entropies', axis=1, inplace=True)\n",
    "df.drop('Temperatures', axis=1, inplace=True)"
   ]
  },
  {
   "cell_type": "code",
   "execution_count": null,
   "outputs": [],
   "source": [
    "import qutip as qu\n",
    "\n",
    "dm = qu.tensor(qu.coherent_dm(17, 1, method='analytic'), qu.coherent_dm(17, 1, method='analytic'))\n",
    "operators = [\n",
    "    qu.tensor(qu.position(17), qu.qeye(17)).full(),\n",
    "    qu.tensor(qu.momentum(17), qu.qeye(17)).full(),\n",
    "    qu.tensor(qu.qeye(17), qu.position(17)).full(),\n",
    "    qu.tensor(qu.qeye(17), qu.momentum(17)).full(),\n",
    "]\n",
    "cv = covariance(dm.full(), operators)\n",
    "a = qu.tensor(qu.destroy(17), qu.qeye(17)).full()\n",
    "ad = qu.tensor(qu.create(17), qu.qeye(17)).full()\n",
    "np.trace(dm.full() @ ad @ a)\n",
    "np.trace(cv[0:2, 0:2])"
   ],
   "metadata": {
    "collapsed": false
   }
  },
  {
   "cell_type": "code",
   "execution_count": null,
   "metadata": {},
   "outputs": [],
   "source": [
    "df_melt = df.melt(id_vars=['Time', 'Interaction Time'], value_vars=['N1', 'N2'], var_name='System', value_name='Temperature')\n",
    "fig_temp = px.line(df_melt, x='Time', y='Temperature',\n",
    "                   color='Interaction Time', line_dash='System',\n",
    "                   title='Mean Photon Numbers in the Systems',\n",
    "                   labels={'Temperature': 'Mean Photon Number', 'Time': 'Time (a.u.)'})\n",
    "fig_temp.update_xaxes(range=[0, 1500])\n",
    "fig_temp.show()"
   ]
  },
  {
   "cell_type": "code",
   "execution_count": null,
   "metadata": {},
   "outputs": [],
   "source": [
    "df_melt = df.melt(id_vars=['Time', 'Interaction Time'], value_vars=['S1', 'S2'], var_name='System', value_name='Entropy')\n",
    "fig_entropy = px.line(df_melt, x='Time', y='Entropy',\n",
    "                   color='Interaction Time', line_dash='System',\n",
    "                   title='Systems Entropies')\n",
    "fig_entropy.update_xaxes(range=[0, 1500])\n",
    "fig_entropy.show()"
   ]
  },
  {
   "cell_type": "code",
   "execution_count": null,
   "metadata": {},
   "outputs": [],
   "source": [
    "fig_discord = px.line(df, x='Time', y='Quantum Discord', color='Interaction Time', title='Quantum Discord')\n",
    "fig_discord.update_xaxes(range=[0, 1500])\n",
    "fig_discord.show()"
   ]
  },
  {
   "cell_type": "code",
   "execution_count": null,
   "metadata": {},
   "outputs": [],
   "source": [
    "fig_mutinf = px.line(df, x='Time', y='Mutual Information', color='Interaction Time', title='Mutual Information')\n",
    "fig_mutinf.update_xaxes(range=[0, 1500])\n",
    "fig_mutinf.show()"
   ]
  },
  {
   "cell_type": "code",
   "execution_count": null,
   "metadata": {},
   "outputs": [],
   "source": [
    "fig_logneg = px.line(df, x='Time', y='Logarithmic Negativity', color='Interaction Time', title='Logarithmic Negativity')\n",
    "fig_logneg.update_xaxes(range=[0, 1500])\n",
    "fig_logneg.show()"
   ]
  },
  {
   "cell_type": "code",
   "execution_count": null,
   "metadata": {},
   "outputs": [],
   "source": [
    "df_melt = df.loc[df['Time']>0].melt(id_vars=['Time', 'Interaction Time'], value_vars=['J1', 'J2', 'Jc'], var_name='Current', value_name='Heat')\n",
    "fig_heat = px.line(df_melt, x='Time', y='Heat',\n",
    "                   color='Interaction Time', line_dash='Current',\n",
    "                   title='Heat Currents')\n",
    "fig_heat.update_xaxes(range=[0, 200])\n",
    "fig_heat.update_yaxes(range=[-0.005, 0.0001])\n",
    "fig_heat.show()"
   ]
  },
  {
   "cell_type": "markdown",
   "source": [
    "## Symplectic Eigenvalues"
   ],
   "metadata": {
    "collapsed": false
   }
  },
  {
   "cell_type": "code",
   "execution_count": null,
   "outputs": [],
   "source": [
    "fig, ax = plt.subplots()\n",
    "x=df.loc[df['Interaction Time'] == 1.0]['Time']\n",
    "y1=df.loc[df['Interaction Time'] == 1.0]['d1']\n",
    "y2=df.loc[df['Interaction Time'] == 1.0]['d1-']\n",
    "ax.plot(x, y1, y2)\n",
    "plt.show()"
   ],
   "metadata": {
    "collapsed": false
   }
  },
  {
   "cell_type": "code",
   "execution_count": null,
   "outputs": [],
   "source": [
    "fig, ax = plt.subplots()\n",
    "\n",
    "x=df.loc[df['Interaction Time'] == 1.0]['Time']\n",
    "y1=df.loc[df['Interaction Time'] == 1.0]['d2']\n",
    "y2=df.loc[df['Interaction Time'] == 1.0]['d2-']\n",
    "\n",
    "ax.plot(x, y1, y2)\n",
    "plt.show()"
   ],
   "metadata": {
    "collapsed": false
   }
  },
  {
   "cell_type": "markdown",
   "source": [
    "## Save DataFrame"
   ],
   "metadata": {
    "collapsed": false
   }
  },
  {
   "cell_type": "code",
   "execution_count": null,
   "outputs": [],
   "source": [
    "df.to_pickle(f'../objects/{state}/observables.pkl')"
   ],
   "metadata": {
    "collapsed": false
   }
  },
  {
   "cell_type": "code",
   "execution_count": null,
   "outputs": [],
   "source": [],
   "metadata": {
    "collapsed": false
   }
  }
 ],
 "metadata": {
  "kernelspec": {
   "display_name": "Python 3 (ipykernel)",
   "language": "python",
   "name": "python3"
  },
  "language_info": {
   "codemirror_mode": {
    "name": "ipython",
    "version": 3
   },
   "file_extension": ".py",
   "mimetype": "text/x-python",
   "name": "python",
   "nbconvert_exporter": "python",
   "pygments_lexer": "ipython3",
   "version": "3.10.8"
  }
 },
 "nbformat": 4,
 "nbformat_minor": 1
}
