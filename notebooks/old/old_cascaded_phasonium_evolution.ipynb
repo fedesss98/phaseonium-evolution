{
 "cells": [
  {
   "cell_type": "code",
   "execution_count": 1,
   "id": "8d99020a",
   "metadata": {},
   "outputs": [],
   "source": [
    "from qutip import *\n",
    "import numpy as np\n",
    "import math, cmath\n",
    "import matplotlib.pyplot as plt\n",
    "\n",
    "from IPython.display import Markdown, display"
   ]
  },
  {
   "cell_type": "code",
   "execution_count": 2,
   "id": "b4d48b55",
   "metadata": {},
   "outputs": [
    {
     "data": {
      "text/markdown": [
       "## Ancillas State"
      ],
      "text/plain": [
       "<IPython.core.display.Markdown object>"
      ]
     },
     "metadata": {},
     "output_type": "display_data"
    },
    {
     "data": {
      "text/latex": [
       "Quantum object: dims = [[3], [3]], shape = (3, 3), type = oper, isherm = True\\begin{equation*}\\left(\\begin{array}{*{11}c}0.500 & 0.0 & 0.0\\\\0.0 & 0.250 & (0.217+0.125j)\\\\0.0 & (0.217-0.125j) & 0.250\\\\\\end{array}\\right)\\end{equation*}"
      ],
      "text/plain": [
       "Quantum object: dims = [[3], [3]], shape = (3, 3), type = oper, isherm = True\n",
       "Qobj data =\n",
       "[[0.5       +0.j    0.        +0.j    0.        +0.j   ]\n",
       " [0.        +0.j    0.25      +0.j    0.21650635+0.125j]\n",
       " [0.        +0.j    0.21650635-0.125j 0.25      +0.j   ]]"
      ]
     },
     "metadata": {},
     "output_type": "display_data"
    }
   ],
   "source": [
    "# ANCILLA\n",
    "alpha = complex(1/math.sqrt(2), 0)\n",
    "beta = complex(1/math.sqrt(2), 0)\n",
    "phi = math.pi/6\n",
    "phase = cmath.rect(1, phi)\n",
    "# Ancilla State\n",
    "eta = np.array([[abs(alpha)**2, 0                       , 0                      ], \n",
    "                [0       , abs(beta)**2/2               , abs(beta)**2/2*phase], \n",
    "                [0       , abs(beta)**2/2 * phase.conjugate(), beta**2/2              ]])\n",
    "eta = Qobj(eta)\n",
    "display(Markdown(\"## Ancillas State\"))\n",
    "display(eta)"
   ]
  },
  {
   "cell_type": "code",
   "execution_count": 3,
   "id": "52bb873f",
   "metadata": {},
   "outputs": [
    {
     "data": {
      "text/markdown": [
       "## System 1"
      ],
      "text/plain": [
       "<IPython.core.display.Markdown object>"
      ]
     },
     "metadata": {},
     "output_type": "display_data"
    },
    {
     "data": {
      "text/latex": [
       "Quantum object: dims = [[2], [2]], shape = (2, 2), type = oper, isherm = True\\begin{equation*}\\left(\\begin{array}{*{11}c}1.0 & 0.0\\\\0.0 & 0.0\\\\\\end{array}\\right)\\end{equation*}"
      ],
      "text/plain": [
       "Quantum object: dims = [[2], [2]], shape = (2, 2), type = oper, isherm = True\n",
       "Qobj data =\n",
       "[[1. 0.]\n",
       " [0. 0.]]"
      ]
     },
     "metadata": {},
     "output_type": "display_data"
    },
    {
     "data": {
      "text/markdown": [
       "## System 2"
      ],
      "text/plain": [
       "<IPython.core.display.Markdown object>"
      ]
     },
     "metadata": {},
     "output_type": "display_data"
    },
    {
     "data": {
      "text/latex": [
       "Quantum object: dims = [[2], [2]], shape = (2, 2), type = oper, isherm = True\\begin{equation*}\\left(\\begin{array}{*{11}c}1.0 & 0.0\\\\0.0 & 0.0\\\\\\end{array}\\right)\\end{equation*}"
      ],
      "text/plain": [
       "Quantum object: dims = [[2], [2]], shape = (2, 2), type = oper, isherm = True\n",
       "Qobj data =\n",
       "[[1. 0.]\n",
       " [0. 0.]]"
      ]
     },
     "metadata": {},
     "output_type": "display_data"
    }
   ],
   "source": [
    "# SYSTEMS: Two qubit Systems, 1 and 2\n",
    "def create_system(n_dims, dm_type, **kwargs):\n",
    "    match dm_type:\n",
    "        case 'coherent':\n",
    "            alpha = kwargs.get('alpha') if 'alpha' in kwargs else 1\n",
    "            return coherent_dm(n_dims, alpha)\n",
    "        case 'thermal-enr':\n",
    "            dims = n_dims if isinstance(n_dims, list) else list([n_dims]) \n",
    "            excitations = kwargs.get('excitations') if 'excitations' in kwargs else 1\n",
    "            return enr_thermal_dm(dims,excitations,n=1)\n",
    "        case 'thermal':\n",
    "            return thermal_dm(n_dims, n=1)\n",
    "        case 'fock':\n",
    "            n = kwargs.get('n') if 'n' in kwargs else 0\n",
    "            return fock_dm(n_dims, n)\n",
    "        case 'maxmix':\n",
    "            return maximally_mixed_dm(n_dims)\n",
    "        case 'random':\n",
    "            seed = kwargs.get('seed') if 'seed' in kwargs else 21\n",
    "            return rand_dm(n_dims)\n",
    "        case 'generic':\n",
    "            a = kwargs.get('a') if 'a' in kwargs else complex(1, 0)\n",
    "            b = kwargs.get('b') if 'b' in kwargs else complex(0, 0)\n",
    "            return Qobj(np.array([[a, b], [b.conjugate(), 1-a]]))\n",
    "            \n",
    "s1 = create_system(2, 'fock')\n",
    "display(Markdown(\"## System 1\"))\n",
    "display(s1)\n",
    "s2 = create_system(2, 'fock')\n",
    "display(Markdown(\"## System 2\"))\n",
    "display(s2)"
   ]
  },
  {
   "cell_type": "code",
   "execution_count": 4,
   "id": "c4deff56",
   "metadata": {},
   "outputs": [],
   "source": [
    "# Ladder operators for the Systems\n",
    "a1 = tensor(destroy(2),qeye(2))\n",
    "a1d = tensor(create(2), qeye(2))\n",
    "a2 = tensor(qeye(2), destroy(2))\n",
    "a2d = tensor(qeye(2), create(2))"
   ]
  },
  {
   "cell_type": "code",
   "execution_count": 5,
   "id": "662a0c9b",
   "metadata": {},
   "outputs": [],
   "source": [
    "# Ladder Operators for the Ancilla\n",
    "sigma1p = Qobj(np.array([[0, 1, 0], [0,0,0], [0,0,0]]))\n",
    "sigma1m = Qobj(np.array([[0, 0, 0], [1,0,0], [0,0,0]]))\n",
    "sigma2p = Qobj(np.array([[0, 0, 1], [0,0,0], [0,0,0]]))\n",
    "sigma2m = Qobj(np.array([[0, 0, 0], [0,0,0], [1,0,0]]))"
   ]
  },
  {
   "cell_type": "code",
   "execution_count": 6,
   "id": "8769ba3c",
   "metadata": {},
   "outputs": [],
   "source": [
    "# System-Ancilla Interaction\n",
    "omega = 10\n",
    "Vn1 = omega * (tensor(a1, qeye(3)) * tensor(qeye(2), qeye(2), sigma1p+sigma2p) + (tensor(a1d, qeye(3)) * tensor(qeye(2), qeye(2), sigma1m+sigma2m)))\n",
    "Vn2 = omega * (tensor(a2, qeye(3)) * tensor(qeye(2), qeye(2), sigma1p+sigma2p) + (tensor(a2d, qeye(3)) * tensor(qeye(2), qeye(2), sigma1m+sigma2m)))"
   ]
  },
  {
   "cell_type": "code",
   "execution_count": 11,
   "id": "dc268ed2",
   "metadata": {},
   "outputs": [
    {
     "data": {
      "text/latex": [
       "Quantum object: dims = [[2, 2, 3], [2, 2, 3]], shape = (12, 12), type = oper, isherm = False\\begin{equation*}\\left(\\begin{array}{*{11}c}0.990 & 0.0 & 0.0 & 0.0 & 0.0 & \\cdots & -0.100j & -0.100j & 0.0 & 0.0 & 0.0\\\\0.0 & 1.0 & 0.0 & 0.0 & 0.0 & \\cdots & 0.0 & 0.0 & 0.0 & 0.0 & 0.0\\\\0.0 & 0.0 & 1.0 & 0.0 & 0.0 & \\cdots & 0.0 & 0.0 & 0.0 & 0.0 & 0.0\\\\0.0 & 0.0 & 0.0 & 0.990 & 0.0 & \\cdots & 0.0 & 0.0 & 0.0 & -0.100j & -0.100j\\\\0.0 & 0.0 & 0.0 & 0.0 & 1.0 & \\cdots & 0.0 & 0.0 & 0.0 & 0.0 & 0.0\\\\\\vdots & \\vdots & \\vdots & \\vdots & \\vdots & \\ddots & \\vdots & \\vdots & \\vdots & \\vdots & \\vdots\\\\-0.100j & 0.0 & 0.0 & 0.0 & 0.0 & \\cdots & 0.995 & -0.005 & 0.0 & 0.0 & 0.0\\\\-0.100j & 0.0 & 0.0 & 0.0 & 0.0 & \\cdots & -0.005 & 0.995 & 0.0 & 0.0 & 0.0\\\\0.0 & 0.0 & 0.0 & 0.0 & 0.0 & \\cdots & 0.0 & 0.0 & 1.0 & 0.0 & 0.0\\\\0.0 & 0.0 & 0.0 & -0.100j & 0.0 & \\cdots & 0.0 & 0.0 & 0.0 & 0.995 & -0.005\\\\0.0 & 0.0 & 0.0 & -0.100j & 0.0 & \\cdots & 0.0 & 0.0 & 0.0 & -0.005 & 0.995\\\\\\end{array}\\right)\\end{equation*}"
      ],
      "text/plain": [
       "Quantum object: dims = [[2, 2, 3], [2, 2, 3]], shape = (12, 12), type = oper, isherm = False\n",
       "Qobj data =\n",
       "[[ 0.99001666+0.j        0.        +0.j        0.        +0.j\n",
       "   0.        +0.j        0.        +0.j        0.        +0.j\n",
       "   0.        +0.j        0.        -0.099667j  0.        -0.099667j\n",
       "   0.        +0.j        0.        +0.j        0.        +0.j      ]\n",
       " [ 0.        +0.j        1.        +0.j        0.        +0.j\n",
       "   0.        +0.j        0.        +0.j        0.        +0.j\n",
       "   0.        +0.j        0.        +0.j        0.        +0.j\n",
       "   0.        +0.j        0.        +0.j        0.        +0.j      ]\n",
       " [ 0.        +0.j        0.        +0.j        1.        +0.j\n",
       "   0.        +0.j        0.        +0.j        0.        +0.j\n",
       "   0.        +0.j        0.        +0.j        0.        +0.j\n",
       "   0.        +0.j        0.        +0.j        0.        +0.j      ]\n",
       " [ 0.        +0.j        0.        +0.j        0.        +0.j\n",
       "   0.99001666+0.j        0.        +0.j        0.        +0.j\n",
       "   0.        +0.j        0.        +0.j        0.        +0.j\n",
       "   0.        +0.j        0.        -0.099667j  0.        -0.099667j]\n",
       " [ 0.        +0.j        0.        +0.j        0.        +0.j\n",
       "   0.        +0.j        1.        +0.j        0.        +0.j\n",
       "   0.        +0.j        0.        +0.j        0.        +0.j\n",
       "   0.        +0.j        0.        +0.j        0.        +0.j      ]\n",
       " [ 0.        +0.j        0.        +0.j        0.        +0.j\n",
       "   0.        +0.j        0.        +0.j        1.        +0.j\n",
       "   0.        +0.j        0.        +0.j        0.        +0.j\n",
       "   0.        +0.j        0.        +0.j        0.        +0.j      ]\n",
       " [ 0.        +0.j        0.        +0.j        0.        +0.j\n",
       "   0.        +0.j        0.        +0.j        0.        +0.j\n",
       "   1.        +0.j        0.        +0.j        0.        +0.j\n",
       "   0.        +0.j        0.        +0.j        0.        +0.j      ]\n",
       " [ 0.        -0.099667j  0.        +0.j        0.        +0.j\n",
       "   0.        +0.j        0.        +0.j        0.        +0.j\n",
       "   0.        +0.j        0.99500833+0.j       -0.00499167+0.j\n",
       "   0.        +0.j        0.        +0.j        0.        +0.j      ]\n",
       " [ 0.        -0.099667j  0.        +0.j        0.        +0.j\n",
       "   0.        +0.j        0.        +0.j        0.        +0.j\n",
       "   0.        +0.j       -0.00499167+0.j        0.99500833+0.j\n",
       "   0.        +0.j        0.        +0.j        0.        +0.j      ]\n",
       " [ 0.        +0.j        0.        +0.j        0.        +0.j\n",
       "   0.        +0.j        0.        +0.j        0.        +0.j\n",
       "   0.        +0.j        0.        +0.j        0.        +0.j\n",
       "   1.        +0.j        0.        +0.j        0.        +0.j      ]\n",
       " [ 0.        +0.j        0.        +0.j        0.        +0.j\n",
       "   0.        -0.099667j  0.        +0.j        0.        +0.j\n",
       "   0.        +0.j        0.        +0.j        0.        +0.j\n",
       "   0.        +0.j        0.99500833+0.j       -0.00499167+0.j      ]\n",
       " [ 0.        +0.j        0.        +0.j        0.        +0.j\n",
       "   0.        -0.099667j  0.        +0.j        0.        +0.j\n",
       "   0.        +0.j        0.        +0.j        0.        +0.j\n",
       "   0.        +0.j       -0.00499167+0.j        0.99500833+0.j      ]]"
      ]
     },
     "execution_count": 11,
     "metadata": {},
     "output_type": "execute_result"
    }
   ],
   "source": [
    "# Time-evolution Operators during collitions\n",
    "timedelta = 1e-2\n",
    "Un1 = (-1j*Vn1*timedelta).expm()\n",
    "Un2 = (-1j*Vn2*timedelta).expm()\n",
    "Un1"
   ]
  },
  {
   "cell_type": "code",
   "execution_count": 8,
   "id": "0d02b486",
   "metadata": {},
   "outputs": [],
   "source": [
    "def evolve(rho, eta):\n",
    "    op = tensor(rho, eta)\n",
    "    first_evolution = Un1 * op * Un1.dag()\n",
    "    final_evolution = Un2 * first_evolution * Un2.dag()\n",
    "    # Trace off the Ancilla State\n",
    "    systems_state = final_evolution.ptrace([0,1])\n",
    "    return systems_state"
   ]
  },
  {
   "cell_type": "code",
   "execution_count": 12,
   "id": "27c014ba",
   "metadata": {},
   "outputs": [
    {
     "data": {
      "text/latex": [
       "Quantum object: dims = [[2, 2], [2, 2]], shape = (4, 4), type = oper, isherm = True\\begin{equation*}\\left(\\begin{array}{*{11}c}0.301 & 0.0 & 0.0 & 0.0\\\\0.0 & 0.182 & 0.145 & 0.0\\\\0.0 & 0.145 & 0.172 & 0.0\\\\0.0 & 0.0 & 0.0 & 0.345\\\\\\end{array}\\right)\\end{equation*}"
      ],
      "text/plain": [
       "Quantum object: dims = [[2, 2], [2, 2]], shape = (4, 4), type = oper, isherm = True\n",
       "Qobj data =\n",
       "[[0.30058816+0.00000000e+00j 0.        +0.00000000e+00j\n",
       "  0.        +0.00000000e+00j 0.        +0.00000000e+00j]\n",
       " [0.        +0.00000000e+00j 0.18208467+0.00000000e+00j\n",
       "  0.14450826+0.00000000e+00j 0.        +0.00000000e+00j]\n",
       " [0.        +0.00000000e+00j 0.14450826+8.13151629e-20j\n",
       "  0.1720943 +0.00000000e+00j 0.        +0.00000000e+00j]\n",
       " [0.        +0.00000000e+00j 0.        +0.00000000e+00j\n",
       "  0.        +0.00000000e+00j 0.34523288+0.00000000e+00j]]"
      ]
     },
     "execution_count": 12,
     "metadata": {},
     "output_type": "execute_result"
    }
   ],
   "source": [
    "# Initialize Total System array\n",
    "rho12 = [tensor(s1, s2)]\n",
    "# N time-step evolution of the Total System\n",
    "for i in np.arange(1000):\n",
    "    rho_new = evolve(rho12[-1], eta)\n",
    "    rho12.append(rho_new)\n",
    "    \n",
    "# Single Systems evolution (partial-tracing off the other System and the Ancilla)\n",
    "rho1 = np.array([rho.ptrace([0]) for rho in rho12])\n",
    "rho2 = np.array([rho.ptrace([1]) for rho in rho12])\n",
    "rho_new"
   ]
  },
  {
   "cell_type": "code",
   "execution_count": 10,
   "id": "063510d8",
   "metadata": {},
   "outputs": [
    {
     "name": "stderr",
     "output_type": "stream",
     "text": [
      "/home/fedesss/anaconda3/envs/qubit/lib/python3.10/site-packages/matplotlib/cbook/__init__.py:1298: ComplexWarning: Casting complex values to real discards the imaginary part\n",
      "  return np.asarray(x, float)\n",
      "/home/fedesss/anaconda3/envs/qubit/lib/python3.10/site-packages/matplotlib/cbook/__init__.py:1298: ComplexWarning: Casting complex values to real discards the imaginary part\n",
      "  return np.asarray(x, float)\n"
     ]
    },
    {
     "data": {
      "image/png": "[encoded data removed]",
      "text/plain": [
       "<Figure size 432x288 with 1 Axes>"
      ]
     },
     "metadata": {
      "needs_background": "light"
     },
     "output_type": "display_data"
    }
   ],
   "source": [
    "# Plot uppermost element of single Systems\n",
    "plt.plot(rho1[:,0,0])\n",
    "plt.plot(rho2[:,0,0])\n",
    "plt.show()"
   ]
  },
  {
   "cell_type": "code",
   "execution_count": null,
   "id": "5bb4eb60",
   "metadata": {},
   "outputs": [],
   "source": []
  }
 ],
 "metadata": {
  "kernelspec": {
   "display_name": "Python 3 (ipykernel)",
   "language": "python",
   "name": "python3"
  },
  "language_info": {
   "codemirror_mode": {
    "name": "ipython",
    "version": 3
   },
   "file_extension": ".py",
   "mimetype": "text/x-python",
   "name": "python",
   "nbconvert_exporter": "python",
   "pygments_lexer": "ipython3",
   "version": "3.10.2"
  }
 },
 "nbformat": 4,
 "nbformat_minor": 5
}
