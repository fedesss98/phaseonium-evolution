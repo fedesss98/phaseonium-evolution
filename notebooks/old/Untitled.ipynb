{
 "cells": [
  {
   "cell_type": "markdown",
   "id": "e75a9f59",
   "metadata": {},
   "source": [
    "# Ancilla Evolution - *After the System Thermalizes*"
   ]
  },
  {
   "cell_type": "code",
   "execution_count": 6,
   "id": "4e18b8f0",
   "metadata": {},
   "outputs": [],
   "source": [
    "%matplotlib inline\n",
    "import copy\n",
    "from qutip import *\n",
    "import numpy as np\n",
    "import math, cmath\n",
    "import matplotlib.pyplot as plt\n",
    "from tqdm import tqdm\n",
    "\n",
    "import utilities as use\n",
    "from stateobj import QAncilla\n",
    "\n",
    "from IPython.display import Markdown, display"
   ]
  },
  {
   "cell_type": "code",
   "execution_count": 7,
   "id": "479b10eb",
   "metadata": {},
   "outputs": [],
   "source": [
    "TIMESTEPS = 1000\n",
    "TIMEDELTA = 1e-02\n",
    "OMEGA = 10"
   ]
  },
  {
   "cell_type": "markdown",
   "id": "61c2be7b",
   "metadata": {},
   "source": [
    "## Thermal System"
   ]
  },
  {
   "cell_type": "code",
   "execution_count": 8,
   "id": "8212c801",
   "metadata": {},
   "outputs": [
    {
     "name": "stdout",
     "output_type": "stream",
     "text": [
      "Loaded Qobj object:\n",
      "Quantum object: dims = [[40], [40]], shape = (40, 40), type = oper, isHerm = True\n",
      "\n"
     ]
    }
   ],
   "source": [
    "SIM_ID = '40D'\n",
    "system = qload(f'objects/steadystate_meq_{SIM_ID}')"
   ]
  },
  {
   "cell_type": "markdown",
   "id": "e3547324",
   "metadata": {},
   "source": [
    "## Ancilla State"
   ]
  },
  {
   "cell_type": "code",
   "execution_count": 9,
   "id": "062fd88a",
   "metadata": {},
   "outputs": [
    {
     "data": {
      "text/latex": [
       "Quantum object: dims = [[3], [3]], shape = (3, 3), type = oper, isherm = True\\begin{equation*}\\left(\\begin{array}{*{11}c}0.500 & 0.0 & 0.0\\\\0.0 & 0.250 & (0.125+0.217j)\\\\0.0 & (0.125-0.217j) & 0.250\\\\\\end{array}\\right)\\end{equation*}"
      ],
      "text/plain": [
       "Quantum object: dims = [[3], [3]], shape = (3, 3), type = oper, isherm = True\n",
       "Qobj data =\n",
       "[[0.5  +0.j         0.   +0.j         0.   +0.j        ]\n",
       " [0.   +0.j         0.25 +0.j         0.125+0.21650635j]\n",
       " [0.   +0.j         0.125-0.21650635j 0.25 +0.j        ]]"
      ]
     },
     "metadata": {},
     "output_type": "display_data"
    }
   ],
   "source": [
    "alpha = complex(1/math.sqrt(2), 0)\n",
    "beta = complex(1/math.sqrt(2), 0)\n",
    "phi = np.pi/3\n",
    "eta = QAncilla(alpha, beta, phi)\n",
    "# Stampa informazioni sull'Ancella\n",
    "display(eta)"
   ]
  },
  {
   "cell_type": "markdown",
   "id": "d2446c4b",
   "metadata": {},
   "source": [
    "## Interaction"
   ]
  },
  {
   "cell_type": "code",
   "execution_count": 11,
   "id": "4036f0fe",
   "metadata": {},
   "outputs": [],
   "source": [
    "# System Opeators\n",
    "ap_int = tensor(system.ap, qeye(3))\n",
    "am_int = tensor(system.am, qeye(3))\n",
    "# Ancilla Operators \n",
    "bp_int = tensor(qeye(system.dimentions), eta.sigmaminus)\n",
    "bm_int = tensor(qeye(system.dimentions), eta.sigmaplus)\n",
    "# INTERACTION\n",
    "V = OMEGA * ( ap_int*bp_int + am_int*bm_int )"
   ]
  },
  {
   "cell_type": "markdown",
   "id": "022b421d",
   "metadata": {},
   "source": [
    "## Evolution"
   ]
  },
  {
   "cell_type": "code",
   "execution_count": 15,
   "id": "653b50e3",
   "metadata": {},
   "outputs": [
    {
     "data": {
      "text/latex": [
       "Quantum object: dims = [[3], [3]], shape = (3, 3), type = oper, isherm = True\\begin{equation*}\\left(\\begin{array}{*{11}c}0.500 & 0.0 & 0.0\\\\0.0 & 0.250 & (0.125+0.143j)\\\\0.0 & (0.125-0.143j) & 0.250\\\\\\end{array}\\right)\\end{equation*}"
      ],
      "text/plain": [
       "Quantum object: dims = [[3], [3]], shape = (3, 3), type = oper, isherm = True\n",
       "Qobj data =\n",
       "[[0.50000002+0.j         0.        +0.j         0.        +0.j        ]\n",
       " [0.        +0.j         0.25000001+0.j         0.125     +0.14316943j]\n",
       " [0.        +0.j         0.125     -0.14316943j 0.25000001+0.j        ]]"
      ]
     },
     "execution_count": 15,
     "metadata": {},
     "output_type": "execute_result"
    }
   ],
   "source": [
    "total_system = tensor(system, eta)\n",
    "total_system = use.evolve(total_system, V, TIMEDELTA)\n",
    "eta_new = total_system.ptrace(1)\n",
    "eta_new"
   ]
  },
  {
   "cell_type": "markdown",
   "id": "cb1eeb46",
   "metadata": {},
   "source": [
    "### Theoretical Evolution\n",
    "$$ \\eta' = \\eta + \\Delta t\\left[\n",
    "   \\langle A_+A_- \\rangle\\left(A_-\\rho A_+ -\\frac{1}{2}[A_+A_-; \\eta]\\right) +\n",
    "   \\langle A_-A_+ \\rangle\\left(A_+\\rho A_- -\\frac{1}{2}[A_-A_+; \\eta]\\right)\n",
    "    \\right] $$"
   ]
  },
  {
   "cell_type": "code",
   "execution_count": 19,
   "id": "808c424d",
   "metadata": {},
   "outputs": [
    {
     "name": "stdout",
     "output_type": "stream",
     "text": [
      "<A+> = 0.0\n",
      "<A+> = 0.0\n"
     ]
    }
   ],
   "source": [
    "print(f\"<A+> = {expect(system.ap, system).real}\")\n",
    "print(f\"<A+> = {expect(system.ap, system).real}\")"
   ]
  },
  {
   "cell_type": "markdown",
   "id": "3dde2287",
   "metadata": {},
   "source": [
    "### *Moments*"
   ]
  },
  {
   "cell_type": "code",
   "execution_count": 21,
   "id": "66be2808",
   "metadata": {},
   "outputs": [
    {
     "name": "stdout",
     "output_type": "stream",
     "text": [
      "First Moments:\t\tComputed\tTheoretical\n",
      "\tA- :\t\t0.0000\t\t0\n",
      "\tA+ :\t\t0.0000\t\t0\n",
      "\n",
      "Second Moments:\t\tComputed\tTheoretical\n",
      "\tA-A- :\t\t0.0000\t\t0\n",
      "\tA+A+ :\t\t0.0000\t\t0\n",
      "\n"
     ]
    }
   ],
   "source": [
    "first_moments = expect([system.ap, system.am], system)\n",
    "print(f\"First Moments:\\t\\tComputed\\tTheoretical\\n\"\n",
    "      f\"\\tA- :\\t\\t{first_moments[0].real:.4f}\\t\\t0\\n\"\n",
    "      f\"\\tA+ :\\t\\t{first_moments[1].real:.4f}\\t\\t0\\n\")\n",
    "second_moments = expect([system.ap*system.ap, system.am*system.am], system)\n",
    "print(f\"Second Moments:\\t\\tComputed\\tTheoretical\\n\"\n",
    "      f\"\\tA-A- :\\t\\t{second_moments[0].real:.4f}\\t\\t0\\n\"\n",
    "      f\"\\tA+A+ :\\t\\t{second_moments[1].real:.4f}\\t\\t0\\n\")\n"
   ]
  },
  {
   "cell_type": "markdown",
   "id": "66a3595e",
   "metadata": {},
   "source": [
    "### Cross Correlations\n",
    "$\\langle a a^\\dagger\\rangle = \\frac{1}{Z}\\sum_n (n+1)\\left( \\gamma_\\beta / \\gamma_\\alpha \\right)^n \n",
    "=1+\\frac{1}{Z}\\sum_n n\\left( \\gamma_\\beta / \\gamma_\\alpha \\right)^n \n",
    "\\longrightarrow 1+\\frac{\\gamma_\\beta / \\gamma_\\alpha}{1 - \\gamma_\\beta / \\gamma_\\alpha}\n",
    "$\n",
    "\n",
    "$\\langle a^\\dagger a \\rangle = \\frac{1}{Z}\\sum_n n\\left( \\gamma_\\beta / \\gamma_\\alpha \\right)^n \n",
    "\\longrightarrow \\frac{\\gamma_\\beta / \\gamma_\\alpha}{1 - \\gamma_\\beta / \\gamma_\\alpha}\n",
    "$"
   ]
  },
  {
   "cell_type": "code",
   "execution_count": 22,
   "id": "4ffb36ed",
   "metadata": {},
   "outputs": [
    {
     "data": {
      "text/latex": [
       "Quantum object: dims = [[40], [40]], shape = (40, 40), type = oper, isherm = True\\begin{equation*}\\left(\\begin{array}{*{11}c}3.353\\times10^{-06} & 0.0 & 0.0 & 0.0 & 0.0 & \\cdots & 0.0 & 0.0 & 0.0 & 0.0 & 0.0\\\\0.0 & 4.470\\times10^{-06} & 0.0 & 0.0 & 0.0 & \\cdots & 0.0 & 0.0 & 0.0 & 0.0 & 0.0\\\\0.0 & 0.0 & 5.960\\times10^{-06} & 0.0 & 0.0 & \\cdots & 0.0 & 0.0 & 0.0 & 0.0 & 0.0\\\\0.0 & 0.0 & 0.0 & 7.946\\times10^{-06} & 0.0 & \\cdots & 0.0 & 0.0 & 0.0 & 0.0 & 0.0\\\\0.0 & 0.0 & 0.0 & 0.0 & 1.060\\times10^{-05} & \\cdots & 0.0 & 0.0 & 0.0 & 0.0 & 0.0\\\\\\vdots & \\vdots & \\vdots & \\vdots & \\vdots & \\ddots & \\vdots & \\vdots & \\vdots & \\vdots & \\vdots\\\\0.0 & 0.0 & 0.0 & 0.0 & 0.0 & \\cdots & 0.079 & 0.0 & 0.0 & 0.0 & 0.0\\\\0.0 & 0.0 & 0.0 & 0.0 & 0.0 & \\cdots & 0.0 & 0.105 & 0.0 & 0.0 & 0.0\\\\0.0 & 0.0 & 0.0 & 0.0 & 0.0 & \\cdots & 0.0 & 0.0 & 0.141 & 0.0 & 0.0\\\\0.0 & 0.0 & 0.0 & 0.0 & 0.0 & \\cdots & 0.0 & 0.0 & 0.0 & 0.188 & 0.0\\\\0.0 & 0.0 & 0.0 & 0.0 & 0.0 & \\cdots & 0.0 & 0.0 & 0.0 & 0.0 & 0.250\\\\\\end{array}\\right)\\end{equation*}"
      ],
      "text/plain": [
       "Quantum object: dims = [[40], [40]], shape = (40, 40), type = oper, isherm = True\n",
       "Qobj data =\n",
       "[[3.35262508e-06 0.00000000e+00 0.00000000e+00 ... 0.00000000e+00\n",
       "  0.00000000e+00 0.00000000e+00]\n",
       " [0.00000000e+00 4.47003347e-06 0.00000000e+00 ... 0.00000000e+00\n",
       "  0.00000000e+00 0.00000000e+00]\n",
       " [0.00000000e+00 0.00000000e+00 5.95991169e-06 ... 0.00000000e+00\n",
       "  0.00000000e+00 0.00000000e+00]\n",
       " ...\n",
       " [0.00000000e+00 0.00000000e+00 0.00000000e+00 ... 1.40626418e-01\n",
       "  0.00000000e+00 0.00000000e+00]\n",
       " [0.00000000e+00 0.00000000e+00 0.00000000e+00 ... 0.00000000e+00\n",
       "  1.87501890e-01 0.00000000e+00]\n",
       " [0.00000000e+00 0.00000000e+00 0.00000000e+00 ... 0.00000000e+00\n",
       "  0.00000000e+00 2.50002520e-01]]"
      ]
     },
     "execution_count": 22,
     "metadata": {},
     "output_type": "execute_result"
    }
   ],
   "source": [
    "system"
   ]
  },
  {
   "cell_type": "code",
   "execution_count": 19,
   "id": "ebe8c63d",
   "metadata": {},
   "outputs": [
    {
     "name": "stdout",
     "output_type": "stream",
     "text": [
      "Cross-correlations:\tComputed\tTheoretical\n",
      "\tA-A+ :\t\t 27.0003\t4.00003\n",
      "\tA+A- :\t\t 36.0004\t3.00003\n"
     ]
    }
   ],
   "source": [
    "cross_corr = expect([rho.am*rho.ap, rho.ap*rho.am], rho)\n",
    "series = (1-eta.factor)**2\n",
    "series = eta.factor / series\n",
    "print(f\"Cross-correlations:\\tComputed\\tTheoretical\\n\"\n",
    "      f\"\\tA-A+ :\\t\\t{cross_corr[0]:>8.7}\\t{1 + 1/rho.partition*series:0.7}\\n\"\n",
    "      f\"\\tA+A- :\\t\\t{cross_corr[1]:>8.7}\\t{1/rho.partition*series:>0.7}\")"
   ]
  },
  {
   "cell_type": "code",
   "execution_count": 26,
   "id": "0c935893",
   "metadata": {},
   "outputs": [
    {
     "name": "stderr",
     "output_type": "stream",
     "text": [
      "100%|██████████████████████████████████████| 1000/1000 [00:02<00:00, 384.57it/s]\n"
     ]
    },
    {
     "data": {
      "text/latex": [
       "Quantum object: dims = [[3], [3]], shape = (3, 3), type = oper, isherm = False\\begin{equation*}\\left(\\begin{array}{*{11}c}270.503 & 0.0 & 0.0\\\\0.0 & (135.252+77.943j) & (135.127+0.217j)\\\\0.0 & (135.127-0.217j) & (135.252-77.943j)\\\\\\end{array}\\right)\\end{equation*}"
      ],
      "text/plain": [
       "Quantum object: dims = [[3], [3]], shape = (3, 3), type = oper, isherm = False\n",
       "Qobj data =\n",
       "[[270.50302454 +0.j           0.         +0.j\n",
       "    0.         +0.j        ]\n",
       " [  0.         +0.j         135.25151251+77.94315945j\n",
       "  135.12651251 +0.21650635j]\n",
       " [  0.         +0.j         135.12651251 -0.21650635j\n",
       "  135.25151251-77.94315945j]]"
      ]
     },
     "execution_count": 26,
     "metadata": {},
     "output_type": "execute_result"
    }
   ],
   "source": [
    "eta_new = eta\n",
    "for t in tqdm(range(1000)):\n",
    "    first_term = cross_corr[0]*(eta.sigmaminus*eta*eta.sigmaplus-0.5*commutator(eta.sigmaplus*eta.sigmaminus, eta))\n",
    "    second_term = cross_corr[1]*(eta.sigmaplus*eta*eta.sigmaminus-0.5*commutator(eta.sigmaminus*eta.sigmaplus, eta))\n",
    "    eta_new = eta_new + TIMEDELTA * (first_term + second_term)\n",
    "eta_new"
   ]
  },
  {
   "cell_type": "markdown",
   "id": "f423bf84",
   "metadata": {},
   "source": [
    "## ETa Dissipator"
   ]
  },
  {
   "cell_type": "code",
   "execution_count": null,
   "id": "81fefa50",
   "metadata": {},
   "outputs": [],
   "source": [
    "from sympy import *"
   ]
  },
  {
   "cell_type": "code",
   "execution_count": null,
   "id": "f332d0b7",
   "metadata": {},
   "outputs": [],
   "source": [
    "a, b, j, p = symbols('alpha^2 beta^2 i phi')\n",
    "g1, g2 = symbols('gamma1 gamma2')\n",
    "Eta = Matrix([[a, 0, 0], [0, b, b*exp(j*p)], [0, b*exp(-j*p), b]])"
   ]
  },
  {
   "cell_type": "code",
   "execution_count": null,
   "id": "e285ea98",
   "metadata": {},
   "outputs": [],
   "source": [
    "Bp = Matrix([[0, 0, 0], [1, 0, 0], [1, 0, 0]])\n",
    "Bm = Matrix([[0, 1, 1], [0, 0, 0], [0, 0, 0]])"
   ]
  },
  {
   "cell_type": "code",
   "execution_count": null,
   "id": "74b42d9a",
   "metadata": {},
   "outputs": [],
   "source": [
    "g1*(Bm*Eta*Bp-0.5*Bp*Bm*Eta-0.5*Eta*Bp*Bm)+g2*(Bp*Eta*Bm-0.5*Bm*Bp*Eta-0.5*Eta*Bm*Bp)"
   ]
  }
 ],
 "metadata": {
  "kernelspec": {
   "display_name": "Python 3 (ipykernel)",
   "language": "python",
   "name": "python3"
  },
  "language_info": {
   "codemirror_mode": {
    "name": "ipython",
    "version": 3
   },
   "file_extension": ".py",
   "mimetype": "text/x-python",
   "name": "python",
   "nbconvert_exporter": "python",
   "pygments_lexer": "ipython3",
   "version": "3.10.2"
  }
 },
 "nbformat": 4,
 "nbformat_minor": 5
}
