{
 "cells": [
  {
   "cell_type": "markdown",
   "id": "b50c96f8",
   "metadata": {},
   "source": [
    "# Ancilla Evolution - *After the System Thermalizes*"
   ]
  },
  {
   "cell_type": "code",
   "execution_count": 1,
   "id": "1643f64b",
   "metadata": {},
   "outputs": [],
   "source": [
    "%matplotlib inline\n",
    "import copy\n",
    "from qutip import *\n",
    "import numpy as np\n",
    "import math, cmath\n",
    "import matplotlib.pyplot as plt\n",
    "from tqdm import tqdm\n",
    "\n",
    "import utilities as use\n",
    "from stateobj import QState, QAncilla, JointSystem\n",
    "\n",
    "from IPython.display import Markdown, display"
   ]
  },
  {
   "cell_type": "code",
   "execution_count": 2,
   "id": "89189bf8",
   "metadata": {},
   "outputs": [],
   "source": [
    "TIMESTEPS = 30000\n",
    "TIMEDELTA = 1e-02\n",
    "OMEGA = 10"
   ]
  },
  {
   "cell_type": "markdown",
   "id": "8a464eb7",
   "metadata": {},
   "source": [
    "## Thermal System\n",
    "\n",
    "$$\n",
    "\\rho^* = \\frac{1}{Z}\n",
    "\\begin{pmatrix}\n",
    "    1 &  &  &  \\\\\n",
    "    & \\exp\\left( \\frac{\\hbar\\omega}{KT} \\right) & & \\\\\n",
    "    & & \\exp\\left( 2\\frac{\\hbar\\omega}{KT} \\right) & \\\\\n",
    "    & & & \\ddots \\\\\n",
    "    & & & & \\exp\\left( n\\frac{\\hbar\\omega}{KT} \\right) \\\\\n",
    "    & & & & & \\ddots\n",
    "\\end{pmatrix}\n",
    "= \\frac{1}{Z}\n",
    "\\begin{pmatrix}\n",
    "    E^0 &  &  &  \\\\\n",
    "    & E^1 & & \\\\\n",
    "    & & E^2 & \\\\\n",
    "    & & & \\ddots \\\\\n",
    "    & & & & E^n \\\\\n",
    "    & & & & & \\ddots\n",
    "\\end{pmatrix}\n",
    "$$"
   ]
  },
  {
   "cell_type": "code",
   "execution_count": 3,
   "id": "55a13f4d",
   "metadata": {},
   "outputs": [
    {
     "name": "stdout",
     "output_type": "stream",
     "text": [
      "Loaded Qobj object:\n",
      "Quantum object: dims = [[2, 2], [2, 2]], shape = (4, 4), type = oper, isHerm = True\n",
      "\n"
     ]
    },
    {
     "data": {
      "text/latex": [
       "Quantum object: dims = [[2, 2], [2, 2]], shape = (4, 4), type = oper, isherm = True\\begin{equation*}\\left(\\begin{array}{*{11}c}1.0 & 0.0 & 0.0 & 0.0\\\\0.0 & 0.0 & 0.0 & 0.0\\\\0.0 & 0.0 & 0.0 & 0.0\\\\0.0 & 0.0 & 0.0 & 0.0\\\\\\end{array}\\right)\\end{equation*}"
      ],
      "text/plain": [
       "Quantum object: dims = [[2, 2], [2, 2]], shape = (4, 4), type = oper, isherm = True\n",
       "Qobj data =\n",
       "[[1. 0. 0. 0.]\n",
       " [0. 0. 0. 0.]\n",
       " [0. 0. 0. 0.]\n",
       " [0. 0. 0. 0.]]"
      ]
     },
     "metadata": {},
     "output_type": "display_data"
    },
    {
     "data": {
      "text/latex": [
       "Quantum object: dims = [[2], [2]], shape = (2, 2), type = oper, isherm = True\\begin{equation*}\\left(\\begin{array}{*{11}c}0.429 & 0.0\\\\0.0 & 0.571\\\\\\end{array}\\right)\\end{equation*}"
      ],
      "text/plain": [
       "Quantum object: dims = [[2], [2]], shape = (2, 2), type = oper, isherm = True\n",
       "Qobj data =\n",
       "[[0.42866034 0.        ]\n",
       " [0.         0.57133966]]"
      ]
     },
     "metadata": {},
     "output_type": "display_data"
    },
    {
     "data": {
      "text/latex": [
       "Quantum object: dims = [[2], [2]], shape = (2, 2), type = oper, isherm = True\\begin{equation*}\\left(\\begin{array}{*{11}c}0.482 & 0.0\\\\0.0 & 0.518\\\\\\end{array}\\right)\\end{equation*}"
      ],
      "text/plain": [
       "Quantum object: dims = [[2], [2]], shape = (2, 2), type = oper, isherm = True\n",
       "Qobj data =\n",
       "[[0.48174984 0.        ]\n",
       " [0.         0.51825016]]"
      ]
     },
     "metadata": {},
     "output_type": "display_data"
    },
    {
     "data": {
      "text/plain": [
       "stateobj.JointSystem"
      ]
     },
     "execution_count": 3,
     "metadata": {},
     "output_type": "execute_result"
    }
   ],
   "source": [
    "SIM_ID = '4D_T20k_Td02'\n",
    "system_fresh = JointSystem([use.create_system('fock', n_dims=2, n=0),\n",
    "                            use.create_system('fock', n_dims=2, n=0)])\n",
    "system_stable = qload(f'objects/jointss_unitary_{SIM_ID}').history[500]\n",
    "display(system_fresh)\n",
    "# The first system stabilizes\n",
    "display(system_stable[0])\n",
    "# The second not\n",
    "display(system_stable[1])\n",
    "type(system_fresh)"
   ]
  },
  {
   "cell_type": "markdown",
   "id": "65b29959",
   "metadata": {},
   "source": [
    "## Ancilla State"
   ]
  },
  {
   "cell_type": "code",
   "execution_count": 4,
   "id": "6d69b690",
   "metadata": {},
   "outputs": [
    {
     "data": {
      "text/latex": [
       "Quantum object: dims = [[3], [3]], shape = (3, 3), type = oper, isherm = True\\begin{equation*}\\left(\\begin{array}{*{11}c}0.500 & 0.0 & 0.0\\\\0.0 & 0.250 & (0.125+0.217j)\\\\0.0 & (0.125-0.217j) & 0.250\\\\\\end{array}\\right)\\end{equation*}"
      ],
      "text/plain": [
       "Quantum object: dims = [[3], [3]], shape = (3, 3), type = oper, isherm = True\n",
       "Qobj data =\n",
       "[[0.5  +0.j         0.   +0.j         0.   +0.j        ]\n",
       " [0.   +0.j         0.25 +0.j         0.125+0.21650635j]\n",
       " [0.   +0.j         0.125-0.21650635j 0.25 +0.j        ]]"
      ]
     },
     "metadata": {},
     "output_type": "display_data"
    }
   ],
   "source": [
    "alpha = complex(1/math.sqrt(2), 0)\n",
    "beta = complex(1/math.sqrt(2), 0)\n",
    "phi = np.pi/3\n",
    "eta = QAncilla(alpha=alpha, beta=beta, phi=phi)\n",
    "# Stampa informazioni sull'Ancella\n",
    "display(eta)"
   ]
  },
  {
   "cell_type": "markdown",
   "id": "254e8885",
   "metadata": {},
   "source": [
    "## Interaction"
   ]
  },
  {
   "cell_type": "code",
   "execution_count": 46,
   "id": "dc404c6f",
   "metadata": {},
   "outputs": [],
   "source": [
    "ap_int = [tensor(system_fresh.ap[i], qeye(3)) for i in range(len(system_fresh.systems))]\n",
    "am_int = [tensor(system_fresh.am[i], qeye(3)) for i in range(len(system_fresh.systems))]\n",
    "# Ladder Operators for the Ancilla\n",
    "bp_int = tensor(qeye(system_fresh[0].dimentions), qeye(system_fresh[1].dimentions), eta.sigmaminus)\n",
    "bm_int = tensor(qeye(system_fresh[0].dimentions), qeye(system_fresh[1].dimentions), eta.sigmaplus)\n",
    "# Interaction \n",
    "V = [OMEGA*(ap_int[i]*bp_int + am_int[i]*bm_int) for i in range(len(system_fresh.systems))]\n",
    "# Unitary Evolution Operator\n",
    "U = [(-1j*V[i]*TIMEDELTA/2).expm() for i in range(len(system_fresh.systems))]"
   ]
  },
  {
   "cell_type": "markdown",
   "id": "8c4a68ba",
   "metadata": {},
   "source": [
    "## Evolve until step N"
   ]
  },
  {
   "cell_type": "code",
   "execution_count": 6,
   "id": "39122669",
   "metadata": {},
   "outputs": [
    {
     "data": {
      "text/latex": [
       "Quantum object: dims = [[2, 2], [2, 2]], shape = (4, 4), type = oper, isherm = True\\begin{equation*}\\left(\\begin{array}{*{11}c}0.341 & 0.0 & 0.0 & 0.0\\\\0.0 & 0.186 & 0.165 & 0.0\\\\0.0 & 0.165 & 0.153 & 0.0\\\\0.0 & 0.0 & 0.0 & 0.319\\\\\\end{array}\\right)\\end{equation*}"
      ],
      "text/plain": [
       "Quantum object: dims = [[2, 2], [2, 2]], shape = (4, 4), type = oper, isherm = True\n",
       "Qobj data =\n",
       "[[0.34131035+0.00000000e+00j 0.        +0.00000000e+00j\n",
       "  0.        +0.00000000e+00j 0.        +0.00000000e+00j]\n",
       " [0.        +0.00000000e+00j 0.18619855+0.00000000e+00j\n",
       "  0.16533669-5.42101086e-20j 0.        +0.00000000e+00j]\n",
       " [0.        +0.00000000e+00j 0.16533669+0.00000000e+00j\n",
       "  0.1533745 +0.00000000e+00j 0.        +0.00000000e+00j]\n",
       " [0.        +0.00000000e+00j 0.        +0.00000000e+00j\n",
       "  0.        +0.00000000e+00j 0.3191166 +0.00000000e+00j]]"
      ]
     },
     "metadata": {},
     "output_type": "display_data"
    }
   ],
   "source": [
    "N = 100\n",
    "# Systems starts as two Fock states 2D (n=0 and n=1) \n",
    "system = copy.deepcopy(system_fresh)\n",
    "total_system_history = [tensor(system_stable, eta)]\n",
    "for t in range(N):\n",
    "    total_system = use.interact(system, eta, V, TIMEDELTA)\n",
    "    # Trace-off the Ancilla, update the Joint System\n",
    "    system = JointSystem([total_system.ptrace([0, 1])])\n",
    "    total_system_history.append(total_system)\n",
    "display(system)"
   ]
  },
  {
   "cell_type": "markdown",
   "id": "bdf25276",
   "metadata": {},
   "source": [
    "Now we are here at step N, with S1(N) and S2(N):\n",
    "![Systems](./img/cascading_systems.png \"Systems at step N\")"
   ]
  },
  {
   "cell_type": "code",
   "execution_count": 7,
   "id": "efeda276",
   "metadata": {},
   "outputs": [
    {
     "data": {
      "text/latex": [
       "Quantum object: dims = [[2], [2]], shape = (2, 2), type = oper, isherm = True\\begin{equation*}\\left(\\begin{array}{*{11}c}0.528 & 0.0\\\\0.0 & 0.472\\\\\\end{array}\\right)\\end{equation*}"
      ],
      "text/plain": [
       "Quantum object: dims = [[2], [2]], shape = (2, 2), type = oper, isherm = True\n",
       "Qobj data =\n",
       "[[0.52750891 0.        ]\n",
       " [0.         0.47249109]]"
      ]
     },
     "metadata": {},
     "output_type": "display_data"
    },
    {
     "data": {
      "text/latex": [
       "Quantum object: dims = [[2], [2]], shape = (2, 2), type = oper, isherm = True\\begin{equation*}\\left(\\begin{array}{*{11}c}0.495 & 0.0\\\\0.0 & 0.505\\\\\\end{array}\\right)\\end{equation*}"
      ],
      "text/plain": [
       "Quantum object: dims = [[2], [2]], shape = (2, 2), type = oper, isherm = True\n",
       "Qobj data =\n",
       "[[0.49468485 0.        ]\n",
       " [0.         0.50531515]]"
      ]
     },
     "metadata": {},
     "output_type": "display_data"
    }
   ],
   "source": [
    "display(system[0])\n",
    "display(system[1])"
   ]
  },
  {
   "cell_type": "markdown",
   "id": "fb8164cb",
   "metadata": {},
   "source": [
    "Step N+1:"
   ]
  },
  {
   "cell_type": "markdown",
   "id": "152fc9d4",
   "metadata": {},
   "source": [
    "Prove that $Tr_{1}\\left\\{ U_{1,n} (\\rho_{n-1}\\otimes\\eta_n) U_{1,n}^\\dagger \\right\\} = \\rho_{n-1}^{S2}\\otimes Tr_{1}\\left\\{ U_{1,n} (\\rho_{n-1}^{S1}\\otimes\\eta_n) U_{1,n}^\\dagger \\right\\}$\n",
    "\n",
    "So that $\\eta'_n = Tr_1\\left\\{ U_{1,n} (\\rho_{n-1}^{S1}\\otimes\\eta_n) U_{1,n}^\\dagger \\right\\}$ \n",
    "and $\\eta''_n = Tr_{2}\\left\\{ U_{2,n} (\\rho_{n-1}^{S2}\\otimes\\eta'_n) U_{2,n}^\\dagger \\right\\}$"
   ]
  },
  {
   "cell_type": "markdown",
   "id": "df2635cc",
   "metadata": {},
   "source": [
    "We know that $\\eta''_n = Tr_{1,2}\\left\\{ U_{2,n}U_{1,n}(\\rho_{n-1}\\otimes\\eta_n)U_{1,n}^\\dagger U_{2,n}^\\dagger \\right\\}$"
   ]
  },
  {
   "cell_type": "code",
   "execution_count": 8,
   "id": "7130d59f",
   "metadata": {},
   "outputs": [
    {
     "data": {
      "text/latex": [
       "Quantum object: dims = [[3], [3]], shape = (3, 3), type = oper, isherm = True\\begin{equation*}\\left(\\begin{array}{*{11}c}0.496 & 0.0 & 0.0\\\\0.0 & 0.252 & (0.127+0.214j)\\\\0.0 & (0.127-0.214j) & 0.252\\\\\\end{array}\\right)\\end{equation*}"
      ],
      "text/plain": [
       "Quantum object: dims = [[3], [3]], shape = (3, 3), type = oper, isherm = True\n",
       "Qobj data =\n",
       "[[0.49635199+0.j         0.        +0.j         0.        +0.j        ]\n",
       " [0.        +0.j         0.251824  +0.j         0.126824  +0.21368858j]\n",
       " [0.        +0.j         0.126824  -0.21368858j 0.251824  +0.j        ]]"
      ]
     },
     "metadata": {},
     "output_type": "display_data"
    },
    {
     "data": {
      "text/latex": [
       "Quantum object: dims = [[3], [3]], shape = (3, 3), type = oper, isherm = True\\begin{equation*}\\left(\\begin{array}{*{11}c}0.497 & 0.0 & 0.0\\\\0.0 & 0.251 & (0.126+0.214j)\\\\0.0 & (0.126-0.214j) & 0.251\\\\\\end{array}\\right)\\end{equation*}"
      ],
      "text/plain": [
       "Quantum object: dims = [[3], [3]], shape = (3, 3), type = oper, isherm = True\n",
       "Qobj data =\n",
       "[[0.49716498+0.j         0.        +0.j         0.        +0.j        ]\n",
       " [0.        +0.j         0.25141751+0.j         0.12641751+0.21439802j]\n",
       " [0.        +0.j         0.12641751-0.21439802j 0.25141751+0.j        ]]"
      ]
     },
     "metadata": {},
     "output_type": "display_data"
    },
    {
     "data": {
      "text/markdown": [
       "***Wrong Hypotesis***"
      ],
      "text/plain": [
       "<IPython.core.display.Markdown object>"
      ]
     },
     "metadata": {},
     "output_type": "display_data"
    }
   ],
   "source": [
    "# 2D Operators (instead of 4D)\n",
    "v = OMEGA*(tensor(create(2), qeye(3))*tensor(qeye(2), eta.sigmaminus) + tensor(destroy(2), qeye(3))*tensor(qeye(2), eta.sigmaplus))\n",
    "u = (-1j*v*TIMEDELTA).expm()\n",
    "eta_second = (U[1]*U[0]*tensor(system, eta)*U[0].dag()*U[1].dag()).ptrace(2)\n",
    "display(eta_second)\n",
    "# Hypotesis\n",
    "eta_prime = (u*tensor(system[0], eta)*u.dag()).ptrace(1)\n",
    "eta_second = (u*tensor(system[1], eta_prime)*u.dag()).ptrace(1)\n",
    "display(eta_second)\n",
    "display(Markdown(\"***Wrong Hypotesis***\"))"
   ]
  },
  {
   "cell_type": "markdown",
   "id": "b2d10a71",
   "metadata": {},
   "source": [
    "## Evolution\n",
    "After one interaction with the Stable System:"
   ]
  },
  {
   "cell_type": "code",
   "execution_count": 9,
   "id": "bce2ecff",
   "metadata": {},
   "outputs": [
    {
     "data": {
      "text/latex": [
       "Quantum object: dims = [[3], [3]], shape = (3, 3), type = oper, isherm = True\\begin{equation*}\\left(\\begin{array}{*{11}c}0.500 & 0.0 & 0.0\\\\0.0 & 0.250 & (0.125+0.215j)\\\\0.0 & (0.125-0.215j) & 0.250\\\\\\end{array}\\right)\\end{equation*}"
      ],
      "text/plain": [
       "Quantum object: dims = [[3], [3]], shape = (3, 3), type = oper, isherm = True\n",
       "Qobj data =\n",
       "[[0.49999845+0.j         0.        +0.j         0.        +0.j        ]\n",
       " [0.        +0.j         0.25000077+0.j         0.12500077+0.21527142j]\n",
       " [0.        +0.j         0.12500077-0.21527142j 0.25000077+0.j        ]]"
      ]
     },
     "metadata": {},
     "output_type": "display_data"
    },
    {
     "data": {
      "text/latex": [
       "Quantum object: dims = [[3], [3]], shape = (3, 3), type = oper, isherm = True\\begin{equation*}\\left(\\begin{array}{*{11}c}0.500 & 0.0 & 0.0\\\\0.0 & 0.250 & (0.125+0.215j)\\\\0.0 & (0.125-0.215j) & 0.250\\\\\\end{array}\\right)\\end{equation*}"
      ],
      "text/plain": [
       "Quantum object: dims = [[3], [3]], shape = (3, 3), type = oper, isherm = True\n",
       "Qobj data =\n",
       "[[0.49998113+0.j         0.        +0.j         0.        +0.j        ]\n",
       " [0.        +0.j         0.25000943+0.j         0.12500943+0.21494915j]\n",
       " [0.        +0.j         0.12500943-0.21494915j 0.25000943+0.j        ]]"
      ]
     },
     "metadata": {},
     "output_type": "display_data"
    },
    {
     "name": "stdout",
     "output_type": "stream",
     "text": [
      "\t\t\t           alpha\t            beta\t    phi\n",
      "Ancilla (step0):\t0.70711+0.00000j\t0.70711+0.00000j\t1.04720\n",
      "Ancilla (step1):\t0.70711+0.00000j\t0.70711+0.00000j\t1.04720\n",
      "Ancilla (step2):\t0.70709+0.00000j\t0.70712+0.00000j\t1.04718\n"
     ]
    }
   ],
   "source": [
    "total_system = tensor(system_stable, eta)\n",
    "total_system = U[0]*total_system*U[0].dag()\n",
    "eta_first = QAncilla(total_system.ptrace(2))\n",
    "total_system = U[1]*total_system*U[1].dag()\n",
    "eta_second = QAncilla(total_system.ptrace(2))\n",
    "display(eta_first)\n",
    "display(eta_second)\n",
    "print(f'\\t\\t\\t{\"alpha\":>16}\\t{\"beta\":>16}\\t{\"phi\":>7}')\n",
    "print(f'Ancilla (step0):\\t{alpha:.5f}\\t{beta:.5f}\\t{phi:.5f}')\n",
    "print(f'Ancilla (step1):\\t{eta_first.alpha:.5f}\\t{eta_first.beta:.5f}\\t{eta_first.phi:.5f}')\n",
    "print(f'Ancilla (step2):\\t{eta_second.alpha:.5f}\\t{eta_second.beta:.5f}\\t{eta_second.phi:.5f}')"
   ]
  },
  {
   "cell_type": "code",
   "execution_count": 10,
   "id": "c097bc37",
   "metadata": {},
   "outputs": [
    {
     "data": {
      "text/plain": [
       "array([-3.47614665, -3.47712362])"
      ]
     },
     "execution_count": 10,
     "metadata": {},
     "output_type": "execute_result"
    }
   ],
   "source": [
    "stable_temperature = np.zeros((2))\n",
    "stable_temperature[0] = - system_stable[0].energy / math.log(eta_first.factor)\n",
    "stable_temperature[1] = - system_stable[0].energy / math.log(eta_second.factor)\n",
    "stable_temperature"
   ]
  },
  {
   "cell_type": "markdown",
   "id": "43a8e425",
   "metadata": {},
   "source": [
    "After one interaction with the Fresh System:"
   ]
  },
  {
   "cell_type": "code",
   "execution_count": 11,
   "id": "157623c9",
   "metadata": {},
   "outputs": [
    {
     "data": {
      "text/latex": [
       "Quantum object: dims = [[3], [3]], shape = (3, 3), type = oper, isherm = True\\begin{equation*}\\left(\\begin{array}{*{11}c}0.490 & 0.0 & 0.0\\\\0.0 & 0.255 & (0.130+0.217j)\\\\0.0 & (0.130-0.217j) & 0.255\\\\\\end{array}\\right)\\end{equation*}"
      ],
      "text/plain": [
       "Quantum object: dims = [[3], [3]], shape = (3, 3), type = oper, isherm = True\n",
       "Qobj data =\n",
       "[[0.49006649+0.j         0.        +0.j         0.        +0.j        ]\n",
       " [0.        +0.j         0.25496676+0.j         0.12996676+0.21650635j]\n",
       " [0.        +0.j         0.12996676-0.21650635j 0.25496676+0.j        ]]"
      ]
     },
     "metadata": {},
     "output_type": "display_data"
    },
    {
     "data": {
      "text/latex": [
       "Quantum object: dims = [[3], [3]], shape = (3, 3), type = oper, isherm = True\\begin{equation*}\\left(\\begin{array}{*{11}c}0.480 & 0.0 & 0.0\\\\0.0 & 0.260 & (0.135+0.217j)\\\\0.0 & (0.135-0.217j) & 0.260\\\\\\end{array}\\right)\\end{equation*}"
      ],
      "text/plain": [
       "Quantum object: dims = [[3], [3]], shape = (3, 3), type = oper, isherm = True\n",
       "Qobj data =\n",
       "[[0.48033033+0.j         0.        +0.j         0.        +0.j        ]\n",
       " [0.        +0.j         0.25983484+0.j         0.13483484+0.21650635j]\n",
       " [0.        +0.j         0.13483484-0.21650635j 0.25983484+0.j        ]]"
      ]
     },
     "metadata": {},
     "output_type": "display_data"
    },
    {
     "name": "stdout",
     "output_type": "stream",
     "text": [
      "\t\t\t           alpha\t            beta\t    phi\n",
      "Ancilla (step0):\t0.70711+0.00000j\t0.70711+0.00000j\t1.04720\n",
      "Ancilla (step1):\t0.70005+0.00000j\t0.71410+0.00000j\t1.03591\n",
      "Ancilla (step2):\t0.69306+0.00000j\t0.72088+0.00000j\t1.02520\n"
     ]
    }
   ],
   "source": [
    "total_system = tensor(system_fresh, eta)\n",
    "total_system = U[0]*total_system*U[0].dag()\n",
    "eta_first = QAncilla(total_system.ptrace(2))\n",
    "total_system = U[1]*total_system*U[1].dag()\n",
    "eta_second = QAncilla(total_system.ptrace(2))\n",
    "display(eta_first)\n",
    "display(eta_second)\n",
    "print(f'\\t\\t\\t{\"alpha\":>16}\\t{\"beta\":>16}\\t{\"phi\":>7}')\n",
    "print(f'Ancilla (step0):\\t{alpha:.5f}\\t{beta:.5f}\\t{phi:.5f}')\n",
    "print(f'Ancilla (step1):\\t{eta_first.alpha:.5f}\\t{eta_first.beta:.5f}\\t{eta_first.phi:.5f}')\n",
    "print(f'Ancilla (step2):\\t{eta_second.alpha:.5f}\\t{eta_second.beta:.5f}\\t{eta_second.phi:.5f}')"
   ]
  },
  {
   "cell_type": "code",
   "execution_count": 12,
   "id": "01f22b67",
   "metadata": {},
   "outputs": [
    {
     "data": {
      "text/plain": [
       "array([-4.14129342, -5.09100407])"
      ]
     },
     "execution_count": 12,
     "metadata": {},
     "output_type": "execute_result"
    }
   ],
   "source": [
    "stable_temperature = np.zeros((2))\n",
    "stable_temperature[0] = - system_fresh[0].energy / math.log(eta_first.factor)\n",
    "stable_temperature[1] = - system_fresh[0].energy / math.log(eta_second.factor)\n",
    "stable_temperature"
   ]
  },
  {
   "cell_type": "markdown",
   "id": "6eb66bc8",
   "metadata": {},
   "source": [
    "Do we obtain the same final Ancilla as from the Unitary evolution expression?\n",
    "\n",
    "*Stable System*"
   ]
  },
  {
   "cell_type": "code",
   "execution_count": 13,
   "id": "d31b17b6",
   "metadata": {},
   "outputs": [
    {
     "data": {
      "text/latex": [
       "Quantum object: dims = [[3], [3]], shape = (3, 3), type = oper, isherm = True\\begin{equation*}\\left(\\begin{array}{*{11}c}0.500 & 0.0 & 0.0\\\\0.0 & 0.250 & (0.125+0.215j)\\\\0.0 & (0.125-0.215j) & 0.250\\\\\\end{array}\\right)\\end{equation*}"
      ],
      "text/plain": [
       "Quantum object: dims = [[3], [3]], shape = (3, 3), type = oper, isherm = True\n",
       "Qobj data =\n",
       "[[0.49998113+0.j         0.        +0.j         0.        +0.j        ]\n",
       " [0.        +0.j         0.25000943+0.j         0.12500943+0.21494915j]\n",
       " [0.        +0.j         0.12500943-0.21494915j 0.25000943+0.j        ]]"
      ]
     },
     "metadata": {},
     "output_type": "display_data"
    },
    {
     "data": {
      "text/plain": [
       "-3.4771236171950806"
      ]
     },
     "execution_count": 13,
     "metadata": {},
     "output_type": "execute_result"
    }
   ],
   "source": [
    "total_system = tensor(system_stable, eta)\n",
    "total_system = U[1]*U[0]*total_system*U[0].dag()*U[1].dag()\n",
    "eta_new = QAncilla(total_system.ptrace(2))\n",
    "display(eta_new)\n",
    "stable_temperature = - system_stable[0].energy / math.log(eta_new.factor)\n",
    "stable_temperature"
   ]
  },
  {
   "cell_type": "markdown",
   "id": "02656f54",
   "metadata": {},
   "source": [
    "*Fresh System*"
   ]
  },
  {
   "cell_type": "code",
   "execution_count": 14,
   "id": "e3cb9b0b",
   "metadata": {},
   "outputs": [
    {
     "data": {
      "text/latex": [
       "Quantum object: dims = [[3], [3]], shape = (3, 3), type = oper, isherm = True\\begin{equation*}\\left(\\begin{array}{*{11}c}0.480 & 0.0 & 0.0\\\\0.0 & 0.260 & (0.135+0.217j)\\\\0.0 & (0.135-0.217j) & 0.260\\\\\\end{array}\\right)\\end{equation*}"
      ],
      "text/plain": [
       "Quantum object: dims = [[3], [3]], shape = (3, 3), type = oper, isherm = True\n",
       "Qobj data =\n",
       "[[0.48033033+0.j         0.        +0.j         0.        +0.j        ]\n",
       " [0.        +0.j         0.25983484+0.j         0.13483484+0.21650635j]\n",
       " [0.        +0.j         0.13483484-0.21650635j 0.25983484+0.j        ]]"
      ]
     },
     "metadata": {},
     "output_type": "display_data"
    },
    {
     "data": {
      "text/plain": [
       "-5.091004067349941"
      ]
     },
     "execution_count": 14,
     "metadata": {},
     "output_type": "execute_result"
    }
   ],
   "source": [
    "total_system = tensor(system_fresh, eta)\n",
    "total_system = U[1]*U[0]*total_system*U[0].dag()*U[1].dag()\n",
    "eta_new = QAncilla(total_system.ptrace(2))\n",
    "display(eta_new)\n",
    "stable_temperature = - system_fresh[0].energy / math.log(eta_new.factor)\n",
    "stable_temperature"
   ]
  },
  {
   "cell_type": "markdown",
   "id": "7b844a45",
   "metadata": {},
   "source": [
    "## Taking tracks of the states of the ancilla\n",
    "$\\eta$, $\\eta'_n$ and $\\eta''_n$ changes at every $n$"
   ]
  },
  {
   "cell_type": "code",
   "execution_count": 31,
   "id": "a849bb15",
   "metadata": {},
   "outputs": [
    {
     "name": "stderr",
     "output_type": "stream",
     "text": [
      "100%|████████████████████████████████████| 30000/30000 [02:08<00:00, 233.25it/s]\n"
     ]
    },
    {
     "data": {
      "text/plain": [
       "array([[0.42857143+0.j, 0.        +0.j],\n",
       "       [0.        +0.j, 0.57142857+0.j]])"
      ]
     },
     "metadata": {},
     "output_type": "display_data"
    },
    {
     "data": {
      "text/plain": [
       "array([[0.42857018+0.j, 0.        +0.j],\n",
       "       [0.        +0.j, 0.57142982+0.j]])"
      ]
     },
     "metadata": {},
     "output_type": "display_data"
    }
   ],
   "source": [
    "# To collect eta, eta' and eta''\n",
    "eta_history = []\n",
    "system = copy.deepcopy(system_fresh)\n",
    "for t in tqdm(range(TIMESTEPS)):\n",
    "    total_system = tensor(system, eta)\n",
    "    # First collision with S1\n",
    "    total_system = U[0]*total_system*U[0].dag()\n",
    "    eta_prime = QAncilla(total_system.ptrace(2))\n",
    "    # Second collision with S2\n",
    "    total_system = U[1]*total_system*U[1].dag()\n",
    "    eta_second = QAncilla(total_system.ptrace(2))\n",
    "    eta_history.append([eta, eta_prime, eta_second])\n",
    "    system = total_system.ptrace([0, 1])\n",
    "system = JointSystem([system])\n",
    "display(system[0].full())\n",
    "display(system[1].full())"
   ]
  },
  {
   "cell_type": "code",
   "execution_count": 45,
   "id": "3892ac91",
   "metadata": {},
   "outputs": [
    {
     "data": {
      "text/plain": [
       "array([[ 0.99001666+0.j      ,  0.        +0.j      ,\n",
       "         0.        +0.j      ,  0.        +0.j      ,\n",
       "         0.        +0.j      ,  0.        +0.j      ,\n",
       "         0.        +0.j      ,  0.        -0.099667j,\n",
       "         0.        -0.099667j,  0.        +0.j      ,\n",
       "         0.        +0.j      ,  0.        +0.j      ],\n",
       "       [ 0.        +0.j      ,  1.        +0.j      ,\n",
       "         0.        +0.j      ,  0.        +0.j      ,\n",
       "         0.        +0.j      ,  0.        +0.j      ,\n",
       "         0.        +0.j      ,  0.        +0.j      ,\n",
       "         0.        +0.j      ,  0.        +0.j      ,\n",
       "         0.        +0.j      ,  0.        +0.j      ],\n",
       "       [ 0.        +0.j      ,  0.        +0.j      ,\n",
       "         1.        +0.j      ,  0.        +0.j      ,\n",
       "         0.        +0.j      ,  0.        +0.j      ,\n",
       "         0.        +0.j      ,  0.        +0.j      ,\n",
       "         0.        +0.j      ,  0.        +0.j      ,\n",
       "         0.        +0.j      ,  0.        +0.j      ],\n",
       "       [ 0.        +0.j      ,  0.        +0.j      ,\n",
       "         0.        +0.j      ,  0.99001666+0.j      ,\n",
       "         0.        +0.j      ,  0.        +0.j      ,\n",
       "         0.        +0.j      ,  0.        +0.j      ,\n",
       "         0.        +0.j      ,  0.        +0.j      ,\n",
       "         0.        -0.099667j,  0.        -0.099667j],\n",
       "       [ 0.        +0.j      ,  0.        +0.j      ,\n",
       "         0.        +0.j      ,  0.        +0.j      ,\n",
       "         1.        +0.j      ,  0.        +0.j      ,\n",
       "         0.        +0.j      ,  0.        +0.j      ,\n",
       "         0.        +0.j      ,  0.        +0.j      ,\n",
       "         0.        +0.j      ,  0.        +0.j      ],\n",
       "       [ 0.        +0.j      ,  0.        +0.j      ,\n",
       "         0.        +0.j      ,  0.        +0.j      ,\n",
       "         0.        +0.j      ,  1.        +0.j      ,\n",
       "         0.        +0.j      ,  0.        +0.j      ,\n",
       "         0.        +0.j      ,  0.        +0.j      ,\n",
       "         0.        +0.j      ,  0.        +0.j      ],\n",
       "       [ 0.        +0.j      ,  0.        +0.j      ,\n",
       "         0.        +0.j      ,  0.        +0.j      ,\n",
       "         0.        +0.j      ,  0.        +0.j      ,\n",
       "         1.        +0.j      ,  0.        +0.j      ,\n",
       "         0.        +0.j      ,  0.        +0.j      ,\n",
       "         0.        +0.j      ,  0.        +0.j      ],\n",
       "       [ 0.        -0.099667j,  0.        +0.j      ,\n",
       "         0.        +0.j      ,  0.        +0.j      ,\n",
       "         0.        +0.j      ,  0.        +0.j      ,\n",
       "         0.        +0.j      ,  0.99500833+0.j      ,\n",
       "        -0.00499167+0.j      ,  0.        +0.j      ,\n",
       "         0.        +0.j      ,  0.        +0.j      ],\n",
       "       [ 0.        -0.099667j,  0.        +0.j      ,\n",
       "         0.        +0.j      ,  0.        +0.j      ,\n",
       "         0.        +0.j      ,  0.        +0.j      ,\n",
       "         0.        +0.j      , -0.00499167+0.j      ,\n",
       "         0.99500833+0.j      ,  0.        +0.j      ,\n",
       "         0.        +0.j      ,  0.        +0.j      ],\n",
       "       [ 0.        +0.j      ,  0.        +0.j      ,\n",
       "         0.        +0.j      ,  0.        +0.j      ,\n",
       "         0.        +0.j      ,  0.        +0.j      ,\n",
       "         0.        +0.j      ,  0.        +0.j      ,\n",
       "         0.        +0.j      ,  1.        +0.j      ,\n",
       "         0.        +0.j      ,  0.        +0.j      ],\n",
       "       [ 0.        +0.j      ,  0.        +0.j      ,\n",
       "         0.        +0.j      ,  0.        -0.099667j,\n",
       "         0.        +0.j      ,  0.        +0.j      ,\n",
       "         0.        +0.j      ,  0.        +0.j      ,\n",
       "         0.        +0.j      ,  0.        +0.j      ,\n",
       "         0.99500833+0.j      , -0.00499167+0.j      ],\n",
       "       [ 0.        +0.j      ,  0.        +0.j      ,\n",
       "         0.        +0.j      ,  0.        -0.099667j,\n",
       "         0.        +0.j      ,  0.        +0.j      ,\n",
       "         0.        +0.j      ,  0.        +0.j      ,\n",
       "         0.        +0.j      ,  0.        +0.j      ,\n",
       "        -0.00499167+0.j      ,  0.99500833+0.j      ]])"
      ]
     },
     "execution_count": 45,
     "metadata": {},
     "output_type": "execute_result"
    }
   ],
   "source": [
    "U[0].full()"
   ]
  },
  {
   "cell_type": "code",
   "execution_count": 37,
   "id": "31ecc54b",
   "metadata": {},
   "outputs": [
    {
     "data": {
      "text/latex": [
       "Quantum object: dims = [[2, 2], [2, 2]], shape = (4, 4), type = oper, isherm = True\\begin{equation*}\\left(\\begin{array}{*{11}c}0.184 & 0.0 & 0.0 & 0.0\\\\0.0 & 0.245 & 4.317\\times10^{-06} & 0.0\\\\0.0 & 4.317\\times10^{-06} & 0.245 & 0.0\\\\0.0 & 0.0 & 0.0 & 0.327\\\\\\end{array}\\right)\\end{equation*}"
      ],
      "text/plain": [
       "Quantum object: dims = [[2, 2], [2, 2]], shape = (4, 4), type = oper, isherm = True\n",
       "Qobj data =\n",
       "[[1.83675071e-01+0.00000000e+00j 0.00000000e+00+0.00000000e+00j\n",
       "  0.00000000e+00+0.00000000e+00j 0.00000000e+00+0.00000000e+00j]\n",
       " [0.00000000e+00+0.00000000e+00j 2.44896357e-01+0.00000000e+00j\n",
       "  4.31671174e-06-1.08420217e-19j 0.00000000e+00+0.00000000e+00j]\n",
       " [0.00000000e+00+0.00000000e+00j 4.31671174e-06+1.08420217e-19j\n",
       "  2.44895111e-01+0.00000000e+00j 0.00000000e+00+0.00000000e+00j]\n",
       " [0.00000000e+00+0.00000000e+00j 0.00000000e+00+0.00000000e+00j\n",
       "  0.00000000e+00+0.00000000e+00j 3.26533460e-01+0.00000000e+00j]]"
      ]
     },
     "metadata": {},
     "output_type": "display_data"
    },
    {
     "data": {
      "text/plain": [
       "array([[0.42857143+0.j, 0.        +0.j],\n",
       "       [0.        +0.j, 0.57142857+0.j]])"
      ]
     },
     "metadata": {},
     "output_type": "display_data"
    },
    {
     "data": {
      "text/plain": [
       "array([[0.42857018+0.j, 0.        +0.j],\n",
       "       [0.        +0.j, 0.57142982+0.j]])"
      ]
     },
     "metadata": {},
     "output_type": "display_data"
    },
    {
     "data": {
      "text/plain": [
       "array([[0.5  +0.j        , 0.   +0.j        , 0.   +0.j        ],\n",
       "       [0.   +0.j        , 0.25 +0.j        , 0.125+0.21650635j],\n",
       "       [0.   +0.j        , 0.125-0.21650635j, 0.25 +0.j        ]])"
      ]
     },
     "metadata": {},
     "output_type": "display_data"
    },
    {
     "data": {
      "text/plain": [
       "array([[0.5  +0.j        , 0.   +0.j        , 0.   +0.j        ],\n",
       "       [0.   +0.j        , 0.25 +0.j        , 0.125+0.21527123j],\n",
       "       [0.   +0.j        , 0.125-0.21527123j, 0.25 +0.j        ]])"
      ]
     },
     "metadata": {},
     "output_type": "display_data"
    }
   ],
   "source": [
    "display(system)\n",
    "display(system[0].full())\n",
    "display(system[1].full())\n",
    "display(eta.full())\n",
    "display(eta_history[-1][1].full())"
   ]
  },
  {
   "cell_type": "markdown",
   "id": "5cd6be8b",
   "metadata": {},
   "source": [
    "### Stable Temperature for the Systems (interacting with $\\eta_n$ and $\\eta'_n$)"
   ]
  },
  {
   "cell_type": "code",
   "execution_count": 16,
   "id": "8e5e323e",
   "metadata": {},
   "outputs": [
    {
     "data": {
      "image/png": "[encoded data removed]",
      "text/plain": [
       "<Figure size 1152x288 with 2 Axes>"
      ]
     },
     "metadata": {
      "needs_background": "light"
     },
     "output_type": "display_data"
    }
   ],
   "source": [
    "first_stable_temp = [- 1./ math.log(eta[0].factor) for eta in eta_history]\n",
    "second_stable_temp = [- 1./ math.log(eta[1].factor) for eta in eta_history]\n",
    "fig, axs = plt.subplots(1, 2, figsize=(16, 4)) \n",
    "fig.suptitle(f\"Ancilla's Stable Temperatures for the Systems in {TIMESTEPS} steps\")\n",
    "axs[0].plot(first_stable_temp, 'r--', alpha=0.8)\n",
    "axs[0].plot(second_stable_temp, 'b-.', alpha=0.8)\n",
    "axs[0].set_ylabel(\"Ancilla's Temperature\")\n",
    "axs[0].legend([\"$\\eta$ stable temperature\", \"$\\eta'$ stable temperature\"])\n",
    "axs[1].plot(first_stable_temp, 'r--', alpha=0.8,)\n",
    "axs[1].plot(second_stable_temp, 'b-.', alpha=0.8)\n",
    "axs[1].legend([\"$\\eta$ stable temperature\", \"$\\eta'$ stable temperature\"])\n",
    "axs[1].set_xlim(0, 1000)\n",
    "plt.show()"
   ]
  },
  {
   "cell_type": "markdown",
   "id": "ac128545",
   "metadata": {},
   "source": [
    "### History of Ancillas\n",
    "They do not interact with stable (Gibbs) Systems"
   ]
  },
  {
   "cell_type": "code",
   "execution_count": 32,
   "id": "1dc12a3a",
   "metadata": {},
   "outputs": [
    {
     "data": {
      "text/latex": [
       "Quantum object: dims = [[2, 2, 3], [2, 2, 3]], shape = (12, 12), type = oper, isherm = False\\begin{equation*}\\left(\\begin{array}{*{11}c}0.990 & 0.0 & 0.0 & 0.0 & 0.0 & \\cdots & -0.100j & -0.100j & 0.0 & 0.0 & 0.0\\\\0.0 & 1.0 & 0.0 & 0.0 & 0.0 & \\cdots & 0.0 & 0.0 & 0.0 & 0.0 & 0.0\\\\0.0 & 0.0 & 1.0 & 0.0 & 0.0 & \\cdots & 0.0 & 0.0 & 0.0 & 0.0 & 0.0\\\\0.0 & 0.0 & 0.0 & 0.990 & 0.0 & \\cdots & 0.0 & 0.0 & 0.0 & -0.100j & -0.100j\\\\0.0 & 0.0 & 0.0 & 0.0 & 1.0 & \\cdots & 0.0 & 0.0 & 0.0 & 0.0 & 0.0\\\\\\vdots & \\vdots & \\vdots & \\vdots & \\vdots & \\ddots & \\vdots & \\vdots & \\vdots & \\vdots & \\vdots\\\\-0.100j & 0.0 & 0.0 & 0.0 & 0.0 & \\cdots & 0.995 & -0.005 & 0.0 & 0.0 & 0.0\\\\-0.100j & 0.0 & 0.0 & 0.0 & 0.0 & \\cdots & -0.005 & 0.995 & 0.0 & 0.0 & 0.0\\\\0.0 & 0.0 & 0.0 & 0.0 & 0.0 & \\cdots & 0.0 & 0.0 & 1.0 & 0.0 & 0.0\\\\0.0 & 0.0 & 0.0 & -0.100j & 0.0 & \\cdots & 0.0 & 0.0 & 0.0 & 0.995 & -0.005\\\\0.0 & 0.0 & 0.0 & -0.100j & 0.0 & \\cdots & 0.0 & 0.0 & 0.0 & -0.005 & 0.995\\\\\\end{array}\\right)\\end{equation*}"
      ],
      "text/plain": [
       "Quantum object: dims = [[2, 2, 3], [2, 2, 3]], shape = (12, 12), type = oper, isherm = False\n",
       "Qobj data =\n",
       "[[ 0.99001666+0.j        0.        +0.j        0.        +0.j\n",
       "   0.        +0.j        0.        +0.j        0.        +0.j\n",
       "   0.        +0.j        0.        -0.099667j  0.        -0.099667j\n",
       "   0.        +0.j        0.        +0.j        0.        +0.j      ]\n",
       " [ 0.        +0.j        1.        +0.j        0.        +0.j\n",
       "   0.        +0.j        0.        +0.j        0.        +0.j\n",
       "   0.        +0.j        0.        +0.j        0.        +0.j\n",
       "   0.        +0.j        0.        +0.j        0.        +0.j      ]\n",
       " [ 0.        +0.j        0.        +0.j        1.        +0.j\n",
       "   0.        +0.j        0.        +0.j        0.        +0.j\n",
       "   0.        +0.j        0.        +0.j        0.        +0.j\n",
       "   0.        +0.j        0.        +0.j        0.        +0.j      ]\n",
       " [ 0.        +0.j        0.        +0.j        0.        +0.j\n",
       "   0.99001666+0.j        0.        +0.j        0.        +0.j\n",
       "   0.        +0.j        0.        +0.j        0.        +0.j\n",
       "   0.        +0.j        0.        -0.099667j  0.        -0.099667j]\n",
       " [ 0.        +0.j        0.        +0.j        0.        +0.j\n",
       "   0.        +0.j        1.        +0.j        0.        +0.j\n",
       "   0.        +0.j        0.        +0.j        0.        +0.j\n",
       "   0.        +0.j        0.        +0.j        0.        +0.j      ]\n",
       " [ 0.        +0.j        0.        +0.j        0.        +0.j\n",
       "   0.        +0.j        0.        +0.j        1.        +0.j\n",
       "   0.        +0.j        0.        +0.j        0.        +0.j\n",
       "   0.        +0.j        0.        +0.j        0.        +0.j      ]\n",
       " [ 0.        +0.j        0.        +0.j        0.        +0.j\n",
       "   0.        +0.j        0.        +0.j        0.        +0.j\n",
       "   1.        +0.j        0.        +0.j        0.        +0.j\n",
       "   0.        +0.j        0.        +0.j        0.        +0.j      ]\n",
       " [ 0.        -0.099667j  0.        +0.j        0.        +0.j\n",
       "   0.        +0.j        0.        +0.j        0.        +0.j\n",
       "   0.        +0.j        0.99500833+0.j       -0.00499167+0.j\n",
       "   0.        +0.j        0.        +0.j        0.        +0.j      ]\n",
       " [ 0.        -0.099667j  0.        +0.j        0.        +0.j\n",
       "   0.        +0.j        0.        +0.j        0.        +0.j\n",
       "   0.        +0.j       -0.00499167+0.j        0.99500833+0.j\n",
       "   0.        +0.j        0.        +0.j        0.        +0.j      ]\n",
       " [ 0.        +0.j        0.        +0.j        0.        +0.j\n",
       "   0.        +0.j        0.        +0.j        0.        +0.j\n",
       "   0.        +0.j        0.        +0.j        0.        +0.j\n",
       "   1.        +0.j        0.        +0.j        0.        +0.j      ]\n",
       " [ 0.        +0.j        0.        +0.j        0.        +0.j\n",
       "   0.        -0.099667j  0.        +0.j        0.        +0.j\n",
       "   0.        +0.j        0.        +0.j        0.        +0.j\n",
       "   0.        +0.j        0.99500833+0.j       -0.00499167+0.j      ]\n",
       " [ 0.        +0.j        0.        +0.j        0.        +0.j\n",
       "   0.        -0.099667j  0.        +0.j        0.        +0.j\n",
       "   0.        +0.j        0.        +0.j        0.        +0.j\n",
       "   0.        +0.j       -0.00499167+0.j        0.99500833+0.j      ]]"
      ]
     },
     "execution_count": 32,
     "metadata": {},
     "output_type": "execute_result"
    }
   ],
   "source": [
    "U[0]"
   ]
  },
  {
   "cell_type": "code",
   "execution_count": 27,
   "id": "bdd9ae47",
   "metadata": {},
   "outputs": [
    {
     "data": {
      "text/markdown": [
       "*Ancilla after first interaction at Step 0*"
      ],
      "text/plain": [
       "<IPython.core.display.Markdown object>"
      ]
     },
     "metadata": {},
     "output_type": "display_data"
    },
    {
     "data": {
      "text/plain": [
       "array([[0.5  +0.j        , 0.   +0.j        , 0.   +0.j        ],\n",
       "       [0.   +0.j        , 0.25 +0.j        , 0.125+0.21650635j],\n",
       "       [0.   +0.j        , 0.125-0.21650635j, 0.25 +0.j        ]])"
      ]
     },
     "metadata": {},
     "output_type": "display_data"
    },
    {
     "data": {
      "text/markdown": [
       "*Ancilla after first interaction at Step 30000*"
      ],
      "text/plain": [
       "<IPython.core.display.Markdown object>"
      ]
     },
     "metadata": {},
     "output_type": "display_data"
    },
    {
     "data": {
      "text/plain": [
       "array([[0.5  +0.j        , 0.   +0.j        , 0.   +0.j        ],\n",
       "       [0.   +0.j        , 0.25 +0.j        , 0.125+0.21527123j],\n",
       "       [0.   +0.j        , 0.125-0.21527123j, 0.25 +0.j        ]])"
      ]
     },
     "metadata": {},
     "output_type": "display_data"
    },
    {
     "data": {
      "text/markdown": [
       "*Ancilla after second interaction at Step 0*"
      ],
      "text/plain": [
       "<IPython.core.display.Markdown object>"
      ]
     },
     "metadata": {},
     "output_type": "display_data"
    },
    {
     "data": {
      "text/latex": [
       "Quantum object: dims = [[3], [3]], shape = (3, 3), type = oper, isherm = True\\begin{equation*}\\left(\\begin{array}{*{11}c}0.480 & 0.0 & 0.0\\\\0.0 & 0.260 & (0.135+0.217j)\\\\0.0 & (0.135-0.217j) & 0.260\\\\\\end{array}\\right)\\end{equation*}"
      ],
      "text/plain": [
       "Quantum object: dims = [[3], [3]], shape = (3, 3), type = oper, isherm = True\n",
       "Qobj data =\n",
       "[[0.48033033+0.j         0.        +0.j         0.        +0.j        ]\n",
       " [0.        +0.j         0.25983484+0.j         0.13483484+0.21650635j]\n",
       " [0.        +0.j         0.13483484-0.21650635j 0.25983484+0.j        ]]"
      ]
     },
     "metadata": {},
     "output_type": "display_data"
    },
    {
     "data": {
      "text/markdown": [
       "*Ancilla after second interaction at Step 30000*"
      ],
      "text/plain": [
       "<IPython.core.display.Markdown object>"
      ]
     },
     "metadata": {},
     "output_type": "display_data"
    },
    {
     "data": {
      "text/latex": [
       "Quantum object: dims = [[3], [3]], shape = (3, 3), type = oper, isherm = True\\begin{equation*}\\left(\\begin{array}{*{11}c}0.500 & 0.0 & 0.0\\\\0.0 & 0.250 & (0.125+0.214j)\\\\0.0 & (0.125-0.214j) & 0.250\\\\\\end{array}\\right)\\end{equation*}"
      ],
      "text/plain": [
       "Quantum object: dims = [[3], [3]], shape = (3, 3), type = oper, isherm = True\n",
       "Qobj data =\n",
       "[[0.5  +0.j         0.   +0.j         0.   +0.j        ]\n",
       " [0.   +0.j         0.25 +0.j         0.125+0.21404314j]\n",
       " [0.   +0.j         0.125-0.21404314j 0.25 +0.j        ]]"
      ]
     },
     "metadata": {},
     "output_type": "display_data"
    }
   ],
   "source": [
    "display(Markdown(\"*Ancilla after first interaction at Step 0*\"))\n",
    "display(eta.full())\n",
    "display(Markdown(f\"*Ancilla after first interaction at Step {TIMESTEPS}*\"))\n",
    "display(eta_history[-1][1].full())\n",
    "display(Markdown(\"*Ancilla after second interaction at Step 0*\"))\n",
    "display(eta_history[0][2])\n",
    "display(Markdown(f\"*Ancilla after second interaction at Step {TIMESTEPS}*\"))\n",
    "display(eta_history[-1][2])"
   ]
  },
  {
   "cell_type": "markdown",
   "id": "361eff6b",
   "metadata": {},
   "source": [
    "## Theoretical Evolution\n",
    "$$ \\eta' = \\eta + \\Delta t\\left[\n",
    "   \\langle A_+A_- \\rangle\\left(B_-\\eta B_+ -\\frac{1}{2}[B_+B_-; \\eta]\\right) +\n",
    "   \\langle A_-A_+ \\rangle\\left(B_+\\eta B_- -\\frac{1}{2}[B_-B_+; \\eta]\\right)\n",
    "    \\right] \n",
    "$$"
   ]
  },
  {
   "cell_type": "markdown",
   "id": "1ad28d8c",
   "metadata": {},
   "source": [
    "### *Moments*"
   ]
  },
  {
   "cell_type": "code",
   "execution_count": 18,
   "id": "c7e59b97",
   "metadata": {},
   "outputs": [
    {
     "name": "stdout",
     "output_type": "stream",
     "text": [
      "<A+> = 0.0\n",
      "<A+> = 0.0\n"
     ]
    }
   ],
   "source": [
    "print(f\"<A+> = {expect(system[0].ap, system[0]).real}\")\n",
    "print(f\"<A+> = {expect(system[0].ap, system[0]).real}\")"
   ]
  },
  {
   "cell_type": "code",
   "execution_count": 19,
   "id": "3a84b606",
   "metadata": {},
   "outputs": [
    {
     "name": "stdout",
     "output_type": "stream",
     "text": [
      "First Moments:\t\tComputed\tTheoretical\n",
      "\tA- :\t\t0.0000\t\t0\n",
      "\tA+ :\t\t0.0000\t\t0\n",
      "\n",
      "Second Moments:\t\tComputed\tTheoretical\n",
      "\tA-A- :\t\t0.0000\t\t0\n",
      "\tA+A+ :\t\t0.0000\t\t0\n",
      "\n"
     ]
    }
   ],
   "source": [
    "first_moments = expect([system[0].ap, system[0].am], system[0])\n",
    "print(f\"First Moments:\\t\\tComputed\\tTheoretical\\n\"\n",
    "      f\"\\tA- :\\t\\t{first_moments[0].real:.4f}\\t\\t0\\n\"\n",
    "      f\"\\tA+ :\\t\\t{first_moments[1].real:.4f}\\t\\t0\\n\")\n",
    "second_moments = expect([system[0].ap*system[0].ap, system[0].am*system[0].am], system[0])\n",
    "print(f\"Second Moments:\\t\\tComputed\\tTheoretical\\n\"\n",
    "      f\"\\tA-A- :\\t\\t{second_moments[0].real:.4f}\\t\\t0\\n\"\n",
    "      f\"\\tA+A+ :\\t\\t{second_moments[1].real:.4f}\\t\\t0\\n\")\n"
   ]
  },
  {
   "cell_type": "markdown",
   "id": "e5766781",
   "metadata": {},
   "source": [
    "### *Cross Correlations*\n",
    "$$\\text{Tr}\\{a^\\dagger a\\rho^*\\} = \\frac{1}{Z}\\sum_{n=0}^{\\infty} nE^n \\equiv \\frac{1}{Z}\\frac{E}{(1-E)^2}$$\n",
    "$$\\text{Tr}\\{a a^\\dagger\\rho^*\\} = \\frac{1}{Z}\\sum_{n=0}^{\\infty} (n+1)E^n \\equiv \\frac{1}{Z}\\frac{E}{(1-E)^2}+1$$"
   ]
  },
  {
   "cell_type": "code",
   "execution_count": 20,
   "id": "45ad2883",
   "metadata": {},
   "outputs": [
    {
     "name": "stdout",
     "output_type": "stream",
     "text": [
      "Cross-correlations:\tComputed\tTheoretical\n",
      "\tA+A- :\t\t0.5714286\t0.5714286\n",
      "\tA-A+ :\t\t0.4285714\t1.571429\n"
     ]
    }
   ],
   "source": [
    "apam = expect(system[0].ap*system[0].am, system[0])\n",
    "amap = expect(system[0].am*system[0].ap, system[0])\n",
    "# Sum of infinite series\n",
    "series = eta.factor/(system[0].partition-eta.factor)**2\n",
    "# Discrete sum up to n\n",
    "# number vector\n",
    "n = np.arange(system[0].dimentions)\n",
    "disc_sum = np.sum(n * system[0].diag())\n",
    "disc_sump = np.sum((n+1) * system[0].diag())\n",
    "print(f\"Cross-correlations:\\tComputed\\tTheoretical\\n\"\n",
    "      f\"\\tA+A- :\\t\\t{apam:>8.7}\\t{disc_sum:>0.7}\\n\"\n",
    "      f\"\\tA-A+ :\\t\\t{amap:>8.7}\\t{disc_sump:>0.7}\")"
   ]
  },
  {
   "cell_type": "code",
   "execution_count": 21,
   "id": "bb806daf",
   "metadata": {},
   "outputs": [
    {
     "data": {
      "text/plain": [
       "0.5714285714268471"
      ]
     },
     "execution_count": 21,
     "metadata": {},
     "output_type": "execute_result"
    }
   ],
   "source": [
    "system[0].diag()[1]"
   ]
  },
  {
   "cell_type": "code",
   "execution_count": 22,
   "id": "bf7b4813",
   "metadata": {},
   "outputs": [
    {
     "data": {
      "text/plain": [
       "0.5714285714268489"
      ]
     },
     "execution_count": 22,
     "metadata": {},
     "output_type": "execute_result"
    }
   ],
   "source": [
    "eta.factor/system[0].partition"
   ]
  },
  {
   "cell_type": "code",
   "execution_count": 23,
   "id": "7b49eaa1",
   "metadata": {},
   "outputs": [
    {
     "data": {
      "text/plain": [
       "0.5714285714268471"
      ]
     },
     "execution_count": 23,
     "metadata": {},
     "output_type": "execute_result"
    }
   ],
   "source": [
    "np.sum(np.arange(len(system[0].diag()))*system[0].diag())"
   ]
  },
  {
   "cell_type": "code",
   "execution_count": 24,
   "id": "a2db0ab4",
   "metadata": {},
   "outputs": [
    {
     "data": {
      "text/latex": [
       "Quantum object: dims = [[3], [3]], shape = (3, 3), type = oper, isherm = False\\begin{equation*}\\left(\\begin{array}{*{11}c}0.503 & 0.0 & 0.0\\\\0.0 & (0.253+9.279\\times10^{-04}j) & (0.128+0.217j)\\\\0.0 & (0.128-0.217j) & (0.253-9.279\\times10^{-04}j)\\\\\\end{array}\\right)\\end{equation*}"
      ],
      "text/plain": [
       "Quantum object: dims = [[3], [3]], shape = (3, 3), type = oper, isherm = False\n",
       "Qobj data =\n",
       "[[0.50321429+0.j         0.        +0.j         0.        +0.j        ]\n",
       " [0.        +0.j         0.25285714+0.00092788j 0.12785714+0.21650635j]\n",
       " [0.        +0.j         0.12785714-0.21650635j 0.25285714-0.00092788j]]"
      ]
     },
     "execution_count": 24,
     "metadata": {},
     "output_type": "execute_result"
    }
   ],
   "source": [
    "first_term = apam*(eta.sigmaminus*eta*eta.sigmaplus-0.5*commutator(eta.sigmaplus*eta.sigmaminus, eta))\n",
    "second_term = amap*(eta.sigmaplus*eta*eta.sigmaminus-0.5*commutator(eta.sigmaminus*eta.sigmaplus, eta))\n",
    "eta_new = eta + TIMEDELTA * (first_term + second_term)\n",
    "eta_new"
   ]
  },
  {
   "cell_type": "code",
   "execution_count": null,
   "id": "c6d430d8",
   "metadata": {},
   "outputs": [],
   "source": []
  }
 ],
 "metadata": {
  "kernelspec": {
   "display_name": "Python 3 (ipykernel)",
   "language": "python",
   "name": "python3"
  },
  "language_info": {
   "codemirror_mode": {
    "name": "ipython",
    "version": 3
   },
   "file_extension": ".py",
   "mimetype": "text/x-python",
   "name": "python",
   "nbconvert_exporter": "python",
   "pygments_lexer": "ipython3",
   "version": "3.10.2"
  }
 },
 "nbformat": 4,
 "nbformat_minor": 5
}
