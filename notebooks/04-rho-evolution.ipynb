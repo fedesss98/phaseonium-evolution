{
 "cells": [
  {
   "cell_type": "code",
   "execution_count": null,
   "outputs": [],
   "source": [
    "%matplotlib inline\n",
    "import copy\n",
    "import qutip\n",
    "from qutip import Qobj\n",
    "import numpy as np\n",
    "import math, cmath\n",
    "import matplotlib.pyplot as plt\n",
    "from tqdm import tqdm, trange\n",
    "\n",
    "from src.stateobj import Physics\n",
    "import src.utilities as use\n",
    "\n",
    "import os\n",
    "\n",
    "from IPython.display import Markdown, display"
   ],
   "metadata": {
    "collapsed": false
   }
  },
  {
   "cell_type": "code",
   "execution_count": null,
   "outputs": [],
   "source": [
    "TIMESTEPS = 300\n",
    "TIMEDELTA = 1.0\n",
    "OMEGA = 1.0  # Strength of Interaction\n",
    "\n",
    "D = 20\n",
    "\n",
    "p = Physics(dimension=D, interaction_strength=OMEGA, interaction_time=TIMEDELTA)\n",
    "\n",
    "th = OMEGA * TIMEDELTA\n",
    "alpha = complex(1 / math.sqrt(1 + 2*np.e), 0)\n",
    "beta = cmath.sqrt(1 - alpha**2)\n",
    "phi = np.pi/2\n",
    "# Phase shifts\n",
    "delta1 = 0\n",
    "delta2 = -phi"
   ],
   "metadata": {
    "collapsed": false
   }
  },
  {
   "cell_type": "code",
   "execution_count": null,
   "outputs": [],
   "source": [
    "eta = use.create_ancilla_qobj(alpha, beta, phi)\n",
    "rho1 = use.create_system_qobj('thermal', n=1, n_dims=D)\n",
    "rho2 = use.create_system_qobj('thermal', n=1, n_dims=D)\n",
    "rho = qutip.tensor(rho1, rho2)"
   ],
   "metadata": {
    "collapsed": false
   }
  },
  {
   "cell_type": "code",
   "execution_count": null,
   "outputs": [],
   "source": [
    "ga = 2 * alpha ** 2\n",
    "gb = beta**2 * (1 + np.cos(phi))"
   ],
   "metadata": {
    "collapsed": false
   }
  },
  {
   "cell_type": "code",
   "execution_count": null,
   "outputs": [],
   "source": [
    "def commutator(A: Qobj | np.ndarray, B: Qobj | np.ndarray, kind='regular'):\n",
    "    if kind == 'regular':\n",
    "        return A*B - B*A\n",
    "    elif kind == 'anti':\n",
    "        return A*B + B*A\n",
    "\n",
    "def dissipator(X: Qobj | np.ndarray, system: Qobj | np.ndarray, kind='regular'):\n",
    "    if kind == 'regular':\n",
    "        sandwich = X * system * X.dag()\n",
    "    elif kind == 'anti':\n",
    "        sandwich = X.dag() * system * X\n",
    "    comm = qutip.commutator(X.dag()*X, system, kind='anti')\n",
    "    return sandwich - 1/2 * comm\n",
    "\n",
    "def master_equation(system, ga, gb):\n",
    "    # Bosonic Operators\n",
    "    C = p.C\n",
    "    Cp = p.Cp\n",
    "    S = p.S\n",
    "    Sd = p.S.dag()\n",
    "    first_line = 0.5*dissipator(qutip.tensor(C, C) - 2*qutip.tensor(S, Sd), system)\n",
    "    first_line += dissipator(qutip.tensor(C, S) + qutip.tensor(S, Cp), system)\n",
    "    second_line = 0.5*dissipator(qutip.tensor(Cp, Cp) - 2*qutip.tensor(Sd, S), system)\n",
    "    second_line += dissipator(qutip.tensor(Cp, Sd) + qutip.tensor(Sd, C), system)\n",
    "    return ga * first_line + gb * second_line\n",
    "\n",
    "def evolve(system, ga, gb):\n",
    "    delta_s = master_equation(system, ga, gb)\n",
    "    return system + delta_s\n",
    "\n",
    "def unitary_evolve(system):\n",
    "    sigma = qutip.tensor(system, eta)\n",
    "    exponent = -1j * TIMEDELTA * ( p.V1 + p.V2 )\n",
    "    U = exponent.expm()\n",
    "    sigma_evolution = U * sigma * U.dag()\n",
    "    return sigma_evolution.ptrace([0, 1])\n",
    "\n",
    "def hilbert_is_good(system, check):\n",
    "    \"\"\"Check if the Hilbert space truncation is still valid\"\"\"\n",
    "    threshold = 9e-4\n",
    "    if check == 'unitary':\n",
    "        trace = system.tr()\n",
    "        return abs(trace - 1) < threshold\n",
    "    elif check == 'small_tail':\n",
    "        last_diagonal_element = system.diag()[-1]\n",
    "        return last_diagonal_element < threshold"
   ],
   "metadata": {
    "collapsed": false
   }
  },
  {
   "cell_type": "markdown",
   "source": [
    "## One-Step Evolution"
   ],
   "metadata": {
    "collapsed": false
   }
  },
  {
   "cell_type": "code",
   "execution_count": null,
   "outputs": [],
   "source": [
    "system = copy.deepcopy(rho)\n",
    "display(system)\n",
    "# Master Equation Evolution\n",
    "delta_system = master_equation(system, ga, gb)\n",
    "print('Master Equation Evolution')\n",
    "display(system + delta_system)"
   ],
   "metadata": {
    "collapsed": false
   }
  },
  {
   "cell_type": "code",
   "execution_count": null,
   "outputs": [],
   "source": [
    "# Unitary Evolution\n",
    "sigma = qutip.tensor(system, eta)\n",
    "exponent = 1j * TIMEDELTA * ( p.V1 + p.V2 )\n",
    "U = exponent.expm()\n",
    "sigma_evolved = U * sigma * U.dag()\n",
    "print('Unitary Evolution')\n",
    "display(sigma_evolved.ptrace([0, 1]))"
   ],
   "metadata": {
    "collapsed": false
   }
  },
  {
   "cell_type": "code",
   "execution_count": null,
   "outputs": [],
   "source": [
    "entropies = []\n",
    "rho_unitary = copy.deepcopy(rho)\n",
    "entropies_unitary = []\n",
    "purities = []"
   ],
   "metadata": {
    "collapsed": false
   }
  },
  {
   "cell_type": "code",
   "execution_count": null,
   "outputs": [],
   "source": [
    "# Search for file\n",
    "files = os.listdir('../objects/')\n",
    "t = 0\n",
    "try:\n",
    "    # Extract the time from the file name\n",
    "    time = max([int(f.split('_')[-2][1:]) for f in files if f.startswith('rho_20230707')])\n",
    "    # Load partial data\n",
    "    name = f'20230628_t{time}_d{D}'\n",
    "    rho = qutip.fileio.qload('objects/rho_' + name + '.qu')\n",
    "    entropies = np.load('objects/entropies_' + name + '.npy').tolist()\n",
    "    purities = np.load('objects/purities_' + name + '.npy').tolist()\n",
    "    print(f'Loaded values fot t={time}')\n",
    "except FileNotFoundError as e:\n",
    "    # Files not found, run evolution\n",
    "    print(e)\n",
    "    for t in trange(TIMESTEPS):\n",
    "        rho = evolve(rho, ga, gb)\n",
    "        entropies.append(qutip.entropy_vn(rho))\n",
    "        purities.append(rho.purity())\n",
    "    time = t + 1\n",
    "except ValueError as e:\n",
    "    # Files not found, run evolution\n",
    "    print(e)\n",
    "    for t in trange(TIMESTEPS):\n",
    "        rho = evolve(rho, ga, gb)\n",
    "        rho_unitary = unitary_evolve(rho_unitary)\n",
    "        entropies.append(qutip.entropy_vn(rho))\n",
    "        entropies_unitary.append(qutip.entropy_vn(rho_unitary))\n",
    "        purities.append(rho.purity())\n",
    "    time = t + 1"
   ],
   "metadata": {
    "collapsed": false
   }
  },
  {
   "cell_type": "code",
   "execution_count": null,
   "outputs": [],
   "source": [
    "# Plot quantities\n",
    "plt.plot(entropies, label='Entropy')\n",
    "plt.plot(entropies_unitary, label='Entropy Unitary')\n",
    "plt.legend()\n",
    "plt.show()"
   ],
   "metadata": {
    "collapsed": false
   }
  },
  {
   "cell_type": "code",
   "execution_count": null,
   "outputs": [],
   "source": [
    "# Evolve again\n",
    "for t in trange(10 * TIMESTEPS):\n",
    "    rho = evolve(rho, ga, gb)\n",
    "    entropies.append(qutip.entropy_vn(rho))\n",
    "    purities.append(rho.purity())\n",
    "time += t + 1"
   ],
   "metadata": {
    "collapsed": false
   }
  },
  {
   "cell_type": "code",
   "execution_count": null,
   "outputs": [],
   "source": [
    "time"
   ],
   "metadata": {
    "collapsed": false
   }
  },
  {
   "cell_type": "code",
   "execution_count": null,
   "outputs": [],
   "source": [
    "# Save partial data\n",
    "name = f'20230707_t{time}_d{D}'\n",
    "qutip.fileio.qsave(rho, 'objects/rho_' + name + '.qu')\n",
    "np.save('objects/entropies_' + name + '.npy', np.array(entropies))\n",
    "np.save('objects/purities_' + name + '.npy', np.array(purities))"
   ],
   "metadata": {
    "collapsed": false
   }
  },
  {
   "cell_type": "code",
   "execution_count": null,
   "outputs": [],
   "source": [
    "rho"
   ],
   "metadata": {
    "collapsed": false
   }
  },
  {
   "cell_type": "code",
   "execution_count": null,
   "outputs": [],
   "source": [],
   "metadata": {
    "collapsed": false
   }
  }
 ],
 "metadata": {
  "kernelspec": {
   "display_name": "Python 3",
   "language": "python",
   "name": "python3"
  },
  "language_info": {
   "codemirror_mode": {
    "name": "ipython",
    "version": 2
   },
   "file_extension": ".py",
   "mimetype": "text/x-python",
   "name": "python",
   "nbconvert_exporter": "python",
   "pygments_lexer": "ipython2",
   "version": "2.7.6"
  }
 },
 "nbformat": 4,
 "nbformat_minor": 0
}
