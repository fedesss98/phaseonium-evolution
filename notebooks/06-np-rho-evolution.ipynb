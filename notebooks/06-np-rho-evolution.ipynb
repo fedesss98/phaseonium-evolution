{
 "cells": [
  {
   "cell_type": "code",
   "execution_count": 1,
   "outputs": [],
   "source": [
    "%matplotlib inline\n",
    "import copy\n",
    "import qutip\n",
    "from qutip import Qobj\n",
    "import numpy as np\n",
    "import math, cmath\n",
    "import matplotlib.pyplot as plt\n",
    "from tqdm import tqdm, trange\n",
    "\n",
    "from stateobj import Physics\n",
    "import utilities as use\n",
    "from entropy import entropy_vn\n",
    "import circuits as qc\n",
    "\n",
    "import os\n",
    "\n",
    "from IPython.display import Markdown, display"
   ],
   "metadata": {
    "collapsed": false,
    "ExecuteTime": {
     "end_time": "2023-07-06T22:44:59.017581400Z",
     "start_time": "2023-07-06T22:44:58.127971700Z"
    }
   }
  },
  {
   "cell_type": "code",
   "execution_count": 2,
   "outputs": [],
   "source": [
    "TIMESTEPS = 1500\n",
    "TIMEDELTA = 1e-01\n",
    "OMEGA = 0.5  # Strength of Interaction\n",
    "\n",
    "D = 30\n",
    "\n",
    "p = Physics(dimension=D, interaction_strength=OMEGA, interaction_time=TIMEDELTA)\n",
    "\n",
    "th = OMEGA * TIMEDELTA\n",
    "alpha = complex(1/math.sqrt(2), 0)\n",
    "beta = cmath.sqrt(1 - alpha**2)\n",
    "phi = np.pi/2\n",
    "# Phase shifts\n",
    "delta1 = 0\n",
    "delta2 = -phi\n",
    "\n",
    "n1 = 1\n",
    "n2 = 1"
   ],
   "metadata": {
    "collapsed": false,
    "ExecuteTime": {
     "end_time": "2023-07-06T22:44:59.049899400Z",
     "start_time": "2023-07-06T22:44:59.018081600Z"
    }
   }
  },
  {
   "cell_type": "code",
   "execution_count": 3,
   "outputs": [
    {
     "data": {
      "text/plain": "<utilities.Matrix at 0x22e287a1ff0>",
      "text/latex": "\\begin{equation*}\\left(\\begin{array}{*{11}c}0.135 & 0.135 & 0.096 & 0.055 & 0.028 & \\cdots & 0.0 & 0.0 & 0.0 & 0.0 & 0.0\\\\0.135 & 0.135 & 0.096 & 0.055 & 0.028 & \\cdots & 0.0 & 0.0 & 0.0 & 0.0 & 0.0\\\\0.096 & 0.096 & 0.068 & 0.039 & 0.020 & \\cdots & 0.0 & 0.0 & 0.0 & 0.0 & 0.0\\\\0.055 & 0.055 & 0.039 & 0.023 & 0.011 & \\cdots & 0.0 & 0.0 & 0.0 & 0.0 & 0.0\\\\0.028 & 0.028 & 0.020 & 0.011 & 0.006 & \\cdots & 0.0 & 0.0 & 0.0 & 0.0 & 0.0\\\\\\vdots & \\vdots & \\vdots & \\vdots & \\vdots & \\ddots & \\vdots & \\vdots & \\vdots & \\vdots & \\vdots\\\\0.0 & 0.0 & 0.0 & 0.0 & 0.0 & \\cdots & 0.0 & 0.0 & 0.0 & 0.0 & 0.0\\\\0.0 & 0.0 & 0.0 & 0.0 & 0.0 & \\cdots & 0.0 & 0.0 & 0.0 & 0.0 & 0.0\\\\0.0 & 0.0 & 0.0 & 0.0 & 0.0 & \\cdots & 0.0 & 0.0 & 0.0 & 0.0 & 0.0\\\\0.0 & 0.0 & 0.0 & 0.0 & 0.0 & \\cdots & 0.0 & 0.0 & 0.0 & 0.0 & 0.0\\\\0.0 & 0.0 & 0.0 & 0.0 & 0.0 & \\cdots & 0.0 & 0.0 & 0.0 & 0.0 & 0.0\\\\\\end{array}\\right)\\end{equation*}"
     },
     "execution_count": 3,
     "metadata": {},
     "output_type": "execute_result"
    }
   ],
   "source": [
    "eta = use.create_ancilla_qobj(alpha, beta, phi)\n",
    "rho1 = use.create_system_qobj('coherent', alpha=n1, n_dims=D)\n",
    "rho2 = use.create_system_qobj('coherent', alpha=n2, n_dims=D)\n",
    "rho = np.kron(rho1.full(), rho2.full())\n",
    "\n",
    "use.Matrix(rho)"
   ],
   "metadata": {
    "collapsed": false,
    "ExecuteTime": {
     "end_time": "2023-07-06T22:44:59.438056200Z",
     "start_time": "2023-07-06T22:44:59.406538400Z"
    }
   }
  },
  {
   "cell_type": "code",
   "execution_count": 12,
   "outputs": [],
   "source": [
    "def dag(X: Qobj | np.ndarray):\n",
    "    if isinstance(X, Qobj):\n",
    "        return X.dag()\n",
    "    elif isinstance(X, np.ndarray):\n",
    "        return X.conj().T\n",
    "\n",
    "def commutator(A: Qobj | np.ndarray, B: Qobj | np.ndarray, kind='regular'):\n",
    "    if isinstance(A, Qobj) and isinstance(B, Qobj):\n",
    "        if kind == 'regular':\n",
    "            return A * B - B * A\n",
    "        elif kind == 'anti':\n",
    "            return A * B + B * A\n",
    "    elif isinstance(A, np.ndarray) and isinstance(B, np.ndarray):\n",
    "        if kind == 'regular':\n",
    "            return A @ B - B @ A\n",
    "        elif kind == 'anti':\n",
    "            return A @ B + B @ A\n",
    "    else:\n",
    "        raise TypeError('A and B must be of the same type')\n",
    "\n",
    "\n",
    "def dissipator(X: Qobj | np.ndarray, system: Qobj | np.ndarray, kind='regular'):\n",
    "    sandwich = X @ system @ dag(X)\n",
    "    if kind == 'anti':\n",
    "        sandwich = dag(X) @ system @ X\n",
    "    comm = commutator(dag(X) @ X, system, kind='anti')\n",
    "    return sandwich - 1/2 * comm\n",
    "\n",
    "def master_equation(system):\n",
    "    ga = 2*alpha**2\n",
    "    gb = beta**2*(1-np.cos(phi))\n",
    "    # Bosonic Operators\n",
    "    C = p.C.full()\n",
    "    Cp = p.Cp.full()\n",
    "    S = p.S.full()\n",
    "    Sd = p.S.dag().full()\n",
    "    first_line = 0.5*dissipator(np.kron(C, C) - 2*np.kron(S, Sd), system)\n",
    "    first_line += dissipator(np.kron(C, S) + np.kron(S, Cp), system)\n",
    "    second_line = 0.5*dissipator(np.kron(Cp, Cp) - 2*np.kron(Sd, S), system)\n",
    "    second_line += dissipator(np.kron(Cp, Sd) + np.kron(Sd, C), system)\n",
    "    return ga * first_line + gb * second_line\n",
    "\n",
    "def evolve(system):\n",
    "    delta_s = master_equation(system)\n",
    "    return system + delta_s"
   ],
   "metadata": {
    "collapsed": false,
    "ExecuteTime": {
     "end_time": "2023-07-06T16:38:26.441178Z",
     "start_time": "2023-07-06T16:38:26.433067200Z"
    }
   }
  },
  {
   "cell_type": "code",
   "execution_count": 13,
   "outputs": [],
   "source": [
    "def purity(rho):\n",
    "    return np.trace(rho @ rho)\n",
    "\n",
    "entropies = []\n",
    "purities = []"
   ],
   "metadata": {
    "collapsed": false,
    "ExecuteTime": {
     "end_time": "2023-07-06T16:38:27.408466800Z",
     "start_time": "2023-07-06T16:38:27.383965800Z"
    }
   }
  },
  {
   "cell_type": "code",
   "execution_count": 14,
   "outputs": [
    {
     "name": "stderr",
     "output_type": "stream",
     "text": [
      "  7%|▋         | 58/800 [34:48<7:25:16, 36.01s/it]  \n"
     ]
    },
    {
     "ename": "KeyboardInterrupt",
     "evalue": "",
     "output_type": "error",
     "traceback": [
      "\u001B[1;31m---------------------------------------------------------------------------\u001B[0m",
      "\u001B[1;31mKeyboardInterrupt\u001B[0m                         Traceback (most recent call last)",
      "Cell \u001B[1;32mIn [14], line 3\u001B[0m\n\u001B[0;32m      1\u001B[0m \u001B[38;5;66;03m# Evolve\u001B[39;00m\n\u001B[0;32m      2\u001B[0m \u001B[38;5;28;01mfor\u001B[39;00m t \u001B[38;5;129;01min\u001B[39;00m trange(TIMESTEPS):\n\u001B[1;32m----> 3\u001B[0m     rho \u001B[38;5;241m=\u001B[39m \u001B[43mevolve\u001B[49m\u001B[43m(\u001B[49m\u001B[43mrho\u001B[49m\u001B[43m)\u001B[49m\n\u001B[0;32m      4\u001B[0m     \u001B[38;5;66;03m# entropies.append(entropy_vn(rho))\u001B[39;00m\n\u001B[0;32m      5\u001B[0m     \u001B[38;5;66;03m# purities.append(purity(rho))\u001B[39;00m\n\u001B[0;32m      6\u001B[0m     \u001B[38;5;28;01mif\u001B[39;00m \u001B[38;5;129;01mnot\u001B[39;00m check_clear_cut(rho):\n",
      "Cell \u001B[1;32mIn [12], line 47\u001B[0m, in \u001B[0;36mevolve\u001B[1;34m(system)\u001B[0m\n\u001B[0;32m     46\u001B[0m \u001B[38;5;28;01mdef\u001B[39;00m \u001B[38;5;21mevolve\u001B[39m(system):\n\u001B[1;32m---> 47\u001B[0m     delta_s \u001B[38;5;241m=\u001B[39m \u001B[43mmaster_equation\u001B[49m\u001B[43m(\u001B[49m\u001B[43msystem\u001B[49m\u001B[43m)\u001B[49m\n\u001B[0;32m     48\u001B[0m     \u001B[38;5;28;01mreturn\u001B[39;00m system \u001B[38;5;241m+\u001B[39m delta_s\n",
      "Cell \u001B[1;32mIn [12], line 42\u001B[0m, in \u001B[0;36mmaster_equation\u001B[1;34m(system)\u001B[0m\n\u001B[0;32m     40\u001B[0m first_line \u001B[38;5;241m=\u001B[39m \u001B[38;5;241m0.5\u001B[39m\u001B[38;5;241m*\u001B[39mdissipator(np\u001B[38;5;241m.\u001B[39mkron(C, C) \u001B[38;5;241m-\u001B[39m \u001B[38;5;241m2\u001B[39m\u001B[38;5;241m*\u001B[39mnp\u001B[38;5;241m.\u001B[39mkron(S, Sd), system)\n\u001B[0;32m     41\u001B[0m first_line \u001B[38;5;241m+\u001B[39m\u001B[38;5;241m=\u001B[39m dissipator(np\u001B[38;5;241m.\u001B[39mkron(C, S) \u001B[38;5;241m+\u001B[39m np\u001B[38;5;241m.\u001B[39mkron(S, Cp), system)\n\u001B[1;32m---> 42\u001B[0m second_line \u001B[38;5;241m=\u001B[39m \u001B[38;5;241m0.5\u001B[39m\u001B[38;5;241m*\u001B[39m\u001B[43mdissipator\u001B[49m\u001B[43m(\u001B[49m\u001B[43mnp\u001B[49m\u001B[38;5;241;43m.\u001B[39;49m\u001B[43mkron\u001B[49m\u001B[43m(\u001B[49m\u001B[43mCp\u001B[49m\u001B[43m,\u001B[49m\u001B[43m \u001B[49m\u001B[43mCp\u001B[49m\u001B[43m)\u001B[49m\u001B[43m \u001B[49m\u001B[38;5;241;43m-\u001B[39;49m\u001B[43m \u001B[49m\u001B[38;5;241;43m2\u001B[39;49m\u001B[38;5;241;43m*\u001B[39;49m\u001B[43mnp\u001B[49m\u001B[38;5;241;43m.\u001B[39;49m\u001B[43mkron\u001B[49m\u001B[43m(\u001B[49m\u001B[43mSd\u001B[49m\u001B[43m,\u001B[49m\u001B[43m \u001B[49m\u001B[43mS\u001B[49m\u001B[43m)\u001B[49m\u001B[43m,\u001B[49m\u001B[43m \u001B[49m\u001B[43msystem\u001B[49m\u001B[43m)\u001B[49m\n\u001B[0;32m     43\u001B[0m second_line \u001B[38;5;241m+\u001B[39m\u001B[38;5;241m=\u001B[39m dissipator(np\u001B[38;5;241m.\u001B[39mkron(Cp, Sd) \u001B[38;5;241m+\u001B[39m np\u001B[38;5;241m.\u001B[39mkron(Sd, C), system)\n\u001B[0;32m     44\u001B[0m \u001B[38;5;28;01mreturn\u001B[39;00m ga \u001B[38;5;241m*\u001B[39m first_line \u001B[38;5;241m+\u001B[39m gb \u001B[38;5;241m*\u001B[39m second_line\n",
      "Cell \u001B[1;32mIn [12], line 29\u001B[0m, in \u001B[0;36mdissipator\u001B[1;34m(X, system, kind)\u001B[0m\n\u001B[0;32m     27\u001B[0m \u001B[38;5;28;01melse\u001B[39;00m:\n\u001B[0;32m     28\u001B[0m     \u001B[38;5;28;01mraise\u001B[39;00m \u001B[38;5;167;01mValueError\u001B[39;00m(\u001B[38;5;124m'\u001B[39m\u001B[38;5;124mkind must be either \u001B[39m\u001B[38;5;124m\"\u001B[39m\u001B[38;5;124mregular\u001B[39m\u001B[38;5;124m\"\u001B[39m\u001B[38;5;124m or \u001B[39m\u001B[38;5;124m\"\u001B[39m\u001B[38;5;124manti\u001B[39m\u001B[38;5;124m\"\u001B[39m\u001B[38;5;124m'\u001B[39m)\n\u001B[1;32m---> 29\u001B[0m comm \u001B[38;5;241m=\u001B[39m \u001B[43mcommutator\u001B[49m\u001B[43m(\u001B[49m\u001B[43mdag\u001B[49m\u001B[43m(\u001B[49m\u001B[43mX\u001B[49m\u001B[43m)\u001B[49m\u001B[43m \u001B[49m\u001B[38;5;241;43m@\u001B[39;49m\u001B[43m \u001B[49m\u001B[43mX\u001B[49m\u001B[43m,\u001B[49m\u001B[43m \u001B[49m\u001B[43msystem\u001B[49m\u001B[43m,\u001B[49m\u001B[43m \u001B[49m\u001B[43mkind\u001B[49m\u001B[38;5;241;43m=\u001B[39;49m\u001B[38;5;124;43m'\u001B[39;49m\u001B[38;5;124;43manti\u001B[39;49m\u001B[38;5;124;43m'\u001B[39;49m\u001B[43m)\u001B[49m\n\u001B[0;32m     30\u001B[0m \u001B[38;5;28;01mreturn\u001B[39;00m sandwich \u001B[38;5;241m-\u001B[39m \u001B[38;5;241m1\u001B[39m\u001B[38;5;241m/\u001B[39m\u001B[38;5;241m2\u001B[39m \u001B[38;5;241m*\u001B[39m comm\n",
      "Cell \u001B[1;32mIn [12], line 7\u001B[0m, in \u001B[0;36mcommutator\u001B[1;34m(A, B, kind)\u001B[0m\n\u001B[0;32m      4\u001B[0m     \u001B[38;5;28;01melif\u001B[39;00m \u001B[38;5;28misinstance\u001B[39m(X, np\u001B[38;5;241m.\u001B[39mndarray):\n\u001B[0;32m      5\u001B[0m         \u001B[38;5;28;01mreturn\u001B[39;00m X\u001B[38;5;241m.\u001B[39mconj()\u001B[38;5;241m.\u001B[39mT\n\u001B[1;32m----> 7\u001B[0m \u001B[38;5;28;01mdef\u001B[39;00m \u001B[38;5;21mcommutator\u001B[39m(A: Qobj \u001B[38;5;241m|\u001B[39m np\u001B[38;5;241m.\u001B[39mndarray, B: Qobj \u001B[38;5;241m|\u001B[39m np\u001B[38;5;241m.\u001B[39mndarray, kind\u001B[38;5;241m=\u001B[39m\u001B[38;5;124m'\u001B[39m\u001B[38;5;124mregular\u001B[39m\u001B[38;5;124m'\u001B[39m):\n\u001B[0;32m      8\u001B[0m     \u001B[38;5;28;01mif\u001B[39;00m \u001B[38;5;28misinstance\u001B[39m(A, Qobj) \u001B[38;5;129;01mand\u001B[39;00m \u001B[38;5;28misinstance\u001B[39m(B, Qobj):\n\u001B[0;32m      9\u001B[0m         \u001B[38;5;28;01mif\u001B[39;00m kind \u001B[38;5;241m==\u001B[39m \u001B[38;5;124m'\u001B[39m\u001B[38;5;124mregular\u001B[39m\u001B[38;5;124m'\u001B[39m:\n",
      "\u001B[1;31mKeyboardInterrupt\u001B[0m: "
     ]
    }
   ],
   "source": [
    "# Evolve\n",
    "for t in trange(TIMESTEPS):\n",
    "    rho = evolve(rho)\n",
    "    entropies.append(entropy_vn(rho))\n",
    "    purities.append(purity(rho))\n",
    "time = t + 1"
   ],
   "metadata": {
    "collapsed": false,
    "ExecuteTime": {
     "end_time": "2023-07-06T17:13:17.509638200Z",
     "start_time": "2023-07-06T16:38:28.813074900Z"
    }
   }
  },
  {
   "cell_type": "code",
   "execution_count": null,
   "outputs": [],
   "source": [
    "# Calculate something\n",
    "plt.plot(entropies, label='Entropy')\n",
    "plt.plot(purities, label='Purity')\n",
    "plt.legend()\n",
    "plt.show()"
   ],
   "metadata": {
    "collapsed": false
   }
  },
  {
   "cell_type": "code",
   "execution_count": 8,
   "outputs": [
    {
     "data": {
      "text/plain": "<utilities.Matrix at 0x21081e38f70>",
      "text/latex": "\\begin{equation*}\\left(\\begin{array}{*{11}c}0.108 & 0.073 & 0.035 & 0.013 & 0.005 & \\cdots & 1.800\\times10^{-06} & 6.127\\times10^{-08} & 4.660\\times10^{-07} & -5.795\\times10^{-08} & 3.814\\times10^{-08}\\\\0.073 & 0.081 & 0.053 & 0.027 & 0.011 & \\cdots & 3.949\\times10^{-06} & 3.969\\times10^{-07} & 1.081\\times10^{-06} & -5.425\\times10^{-08} & 8.229\\times10^{-08}\\\\0.035 & 0.053 & 0.049 & 0.032 & 0.016 & \\cdots & 6.287\\times10^{-06} & 1.136\\times10^{-06} & 1.793\\times10^{-06} & 4.354\\times10^{-08} & 1.432\\times10^{-07}\\\\0.013 & 0.027 & 0.032 & 0.027 & 0.017 & \\cdots & 8.909\\times10^{-06} & 2.385\\times10^{-06} & 2.573\\times10^{-06} & 2.286\\times10^{-07} & 2.428\\times10^{-07}\\\\0.005 & 0.011 & 0.016 & 0.017 & 0.014 & \\cdots & 1.256\\times10^{-05} & 4.355\\times10^{-06} & 3.547\\times10^{-06} & 4.749\\times10^{-07} & 4.276\\times10^{-07}\\\\\\vdots & \\vdots & \\vdots & \\vdots & \\vdots & \\ddots & \\vdots & \\vdots & \\vdots & \\vdots & \\vdots\\\\1.800\\times10^{-06} & 3.949\\times10^{-06} & 6.287\\times10^{-06} & 8.909\\times10^{-06} & 1.256\\times10^{-05} & \\cdots & 6.054\\times10^{-04} & 5.573\\times10^{-04} & 4.768\\times10^{-04} & 2.569\\times10^{-04} & 3.337\\times10^{-04}\\\\6.127\\times10^{-08} & 3.969\\times10^{-07} & 1.136\\times10^{-06} & 2.385\\times10^{-06} & 4.355\\times10^{-06} & \\cdots & 5.573\\times10^{-04} & 5.884\\times10^{-04} & 5.287\\times10^{-04} & 3.441\\times10^{-04} & 4.506\\times10^{-04}\\\\4.660\\times10^{-07} & 1.081\\times10^{-06} & 1.793\\times10^{-06} & 2.573\\times10^{-06} & 3.547\\times10^{-06} & \\cdots & 4.768\\times10^{-04} & 5.287\\times10^{-04} & 5.799\\times10^{-04} & 3.518\\times10^{-04} & 5.691\\times10^{-04}\\\\-5.795\\times10^{-08} & -5.425\\times10^{-08} & 4.354\\times10^{-08} & 2.286\\times10^{-07} & 4.749\\times10^{-07} & \\cdots & 2.569\\times10^{-04} & 3.441\\times10^{-04} & 3.518\\times10^{-04} & 3.857\\times10^{-04} & 4.024\\times10^{-04}\\\\3.814\\times10^{-08} & 8.229\\times10^{-08} & 1.432\\times10^{-07} & 2.428\\times10^{-07} & 4.276\\times10^{-07} & \\cdots & 3.337\\times10^{-04} & 4.506\\times10^{-04} & 5.691\\times10^{-04} & 4.024\\times10^{-04} & 9.144\\times10^{-04}\\\\\\end{array}\\right)\\end{equation*}"
     },
     "execution_count": 8,
     "metadata": {},
     "output_type": "execute_result"
    }
   ],
   "source": [
    "use.Matrix(rho)"
   ],
   "metadata": {
    "collapsed": false
   }
  },
  {
   "cell_type": "code",
   "execution_count": 8,
   "outputs": [],
   "source": [],
   "metadata": {
    "collapsed": false
   }
  }
 ],
 "metadata": {
  "kernelspec": {
   "display_name": "Python 3",
   "language": "python",
   "name": "python3"
  },
  "language_info": {
   "codemirror_mode": {
    "name": "ipython",
    "version": 2
   },
   "file_extension": ".py",
   "mimetype": "text/x-python",
   "name": "python",
   "nbconvert_exporter": "python",
   "pygments_lexer": "ipython2",
   "version": "2.7.6"
  }
 },
 "nbformat": 4,
 "nbformat_minor": 0
}
