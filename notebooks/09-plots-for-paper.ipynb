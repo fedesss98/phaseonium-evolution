{
 "cells": [
  {
   "cell_type": "code",
   "execution_count": null,
   "metadata": {
    "collapsed": true
   },
   "outputs": [],
   "source": [
    "import pandas as pd\n",
    "\n",
    "# Set default plotly template\n",
    "import plotly.io as pio\n",
    "pio.templates.default = \"plotly_white\"\n",
    "\n",
    "import plotly.express as px\n",
    "\n",
    "STATE = 'thermal'"
   ]
  },
  {
   "cell_type": "code",
   "execution_count": null,
   "outputs": [],
   "source": [
    "df = pd.read_pickle(f'../objects/{STATE}/observables.pkl')"
   ],
   "metadata": {
    "collapsed": false
   }
  },
  {
   "cell_type": "markdown",
   "source": [
    "## Mean Photon Numbers"
   ],
   "metadata": {
    "collapsed": false
   }
  },
  {
   "cell_type": "code",
   "execution_count": null,
   "outputs": [],
   "source": [
    "df_melt = df.melt(id_vars=['Time', 'Interaction Time'], value_vars=['N1', 'N2'], var_name='System', value_name='Temperature')\n",
    "fig_temp = px.line(df_melt, x='Time', y='Temperature',\n",
    "                   color='Interaction Time', line_dash='System',\n",
    "                   title='Mean Photon Numbers in the Systems',\n",
    "                   labels={'Temperature': 'Mean Photon Number', 'Time': 'Time (a.u.)'},\n",
    "                   log_x=False)\n",
    "fig_temp.update_xaxes(range=[0, 1500])\n",
    "fig_temp.show()"
   ],
   "metadata": {
    "collapsed": false
   }
  },
  {
   "cell_type": "code",
   "execution_count": null,
   "outputs": [],
   "source": [
    "df_melt = df.melt(id_vars=['Time', 'Interaction Time'], value_vars=['S1', 'S2'], var_name='System', value_name='Entropy')\n",
    "fig_entropy = px.line(df_melt, x='Time', y='Entropy',\n",
    "                   color='Interaction Time', line_dash='System',\n",
    "                   title='Systems Entropies')\n",
    "fig_entropy.update_xaxes(range=[0, 1500])\n",
    "fig_entropy.show()"
   ],
   "metadata": {
    "collapsed": false
   }
  },
  {
   "cell_type": "code",
   "execution_count": null,
   "outputs": [],
   "source": [
    "fig_discord = px.line(df, x='Time', y='Quantum Discord', color='Interaction Time', title='Quantum Discord')\n",
    "fig_discord.update_xaxes(range=[0, 1500])\n",
    "fig_discord.show()"
   ],
   "metadata": {
    "collapsed": false
   }
  },
  {
   "cell_type": "code",
   "execution_count": null,
   "outputs": [],
   "source": [
    "fig_mutinf = px.line(df, x='Time', y='Mutual Information', color='Interaction Time', title='Mutual Information')\n",
    "fig_mutinf.update_xaxes(range=[0, 1500])\n",
    "fig_mutinf.show()"
   ],
   "metadata": {
    "collapsed": false
   }
  },
  {
   "cell_type": "code",
   "execution_count": null,
   "outputs": [],
   "source": [
    "fig_logneg = px.line(df, x='Time', y='Logarithmic Negativity', color='Interaction Time',\n",
    "                     labels={'Logarithmic Negativity': 'Logarithmic Negativity', 'Time': 'Time (a.u.)'},)\n",
    "fig_logneg.update_xaxes(range=[0, 1500])\n",
    "fig_logneg.show()"
   ],
   "metadata": {
    "collapsed": false
   }
  },
  {
   "cell_type": "code",
   "execution_count": null,
   "outputs": [],
   "source": [],
   "metadata": {
    "collapsed": false
   }
  }
 ],
 "metadata": {
  "kernelspec": {
   "display_name": "Python 3",
   "language": "python",
   "name": "python3"
  },
  "language_info": {
   "codemirror_mode": {
    "name": "ipython",
    "version": 2
   },
   "file_extension": ".py",
   "mimetype": "text/x-python",
   "name": "python",
   "nbconvert_exporter": "python",
   "pygments_lexer": "ipython2",
   "version": "2.7.6"
  }
 },
 "nbformat": 4,
 "nbformat_minor": 0
}
