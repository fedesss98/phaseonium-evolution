{
 "cells": [
  {
   "cell_type": "code",
   "execution_count": null,
   "metadata": {},
   "outputs": [],
   "source": [
    "import os\n",
    "import numpy as np\n",
    "import pandas as pd\n",
    "import matplotlib.pyplot as plt\n",
    "import matplotlib as mpl\n",
    "# Set default plotly template\n",
    "import plotly.io as pio\n",
    "pio.templates.default = \"plotly_white\"\n",
    "\n",
    "\n",
    "import plotly.express as px\n",
    "\n",
    "STATE = 'thermal'\n",
    "IMG_WIDTH = 600\n",
    "IMG_HEIGHT = 350\n",
    "\n",
    "# Set default plotly image format and dimensions\n",
    "pio.kaleido.scope.default_format = \"pdf\"\n",
    "#pio.kaleido.scope.mathjax= None\n",
    "pio.kaleido.scope.default_width = IMG_WIDTH\n",
    "pio.kaleido.scope.default_height = IMG_HEIGHT\n",
    "\n",
    "STYLES = {\n",
    "    'plotly': (\n",
    "        '#636EFA',\n",
    "        '#EF553B',\n",
    "        '#00CC96',\n",
    "        '#A4036f',\n",
    "        '#0B0033',\n",
    "        '#E5D352'\n",
    "    ),\n",
    "    'pastel': (\n",
    "        '#66C5CC',\n",
    "        '#F6CF71',\n",
    "        '#F89C9C',\n",
    "        '#DCB0F2',\n",
    "    ),\n",
    "    'pygal': (\n",
    "        '#F44336',  # 0\n",
    "        '#3F51B5',  # 4\n",
    "        '#009688',  # 8\n",
    "        '#FFC107',  # 13\n",
    "        '#FF5722',  # 15\n",
    "        '#9C27B0',  # 2\n",
    "        '#03A9F4',  # 6\n",
    "        '#8BC34A',  # 10\n",
    "        '#FF9800',  # 14\n",
    "        '#E91E63',  # 1\n",
    "        '#2196F3',  # 5\n",
    "        '#4CAF50',  # 9\n",
    "        '#FFEB3B',  # 12\n",
    "        '#673AB7',  # 3\n",
    "        '#00BCD4',  # 7\n",
    "        '#CDDC39',  # 11b\n",
    "        '#9E9E9E',  # 17\n",
    "        '#607D8B',  # 18\n",
    "    )\n",
    "}\n",
    "LINESTYLES = ['-', (0, (6, 6)), '--', '-.', (0, (3, 5, 1, 5, 1, 5)), ':',]\n",
    "\n",
    "mpl.rcParams['axes.prop_cycle'] = mpl.cycler(color=STYLES['plotly'], linestyle=LINESTYLES)\n",
    "mpl.rcParams['axes.facecolor'] = 'white'\n",
    "mpl.rcParams['axes.grid'] = True\n",
    "mpl.rcParams['grid.color'] = 'lightgrey'\n",
    "mpl.rcParams['grid.linestyle'] = '--'\n",
    "mpl.rcParams['grid.linewidth'] = 0.5\n",
    "mpl.rcParams['lines.linewidth'] = 2.5\n",
    "mpl.rcParams['xtick.color'] = 'lightgrey'\n",
    "mpl.rcParams['ytick.color'] = 'lightgrey'\n",
    "mpl.rcParams['xtick.labelcolor'] = 'black'\n",
    "mpl.rcParams['ytick.labelcolor'] = 'black'\n",
    "mpl.rcParams['axes.edgecolor'] = 'lightgrey'\n",
    "mpl.rcParams['text.usetex'] = False\n",
    "mpl.rcParams['font.family'] = 'Times New Roman'\n",
    "mpl.rcParams['font.size'] = 20\n",
    "mpl.rcParams['savefig.dpi'] = 300\n",
    "mpl.rcParams['savefig.format'] = 'eps'\n",
    "mpl.rcParams['mathtext.fontset'] = 'stix'\n",
    "mpl.rcParams['font.family'] = 'STIXGeneral'\n",
    "\n",
    "# Create saving folder if it does not exists\n",
    "if not os.path.exists(f'../img/obs_evolution/{STATE}'):\n",
    "    os.makedirs(f'../img/obs_evolution/{STATE}')\n",
    "    \n",
    "\n",
    "#====================================================================\n",
    "\n",
    "def stable_temperature(a, p):\n",
    "    a = float(a)\n",
    "    p = float(p)\n",
    "    ga = 2*a**2\n",
    "    gb = (1-a**2) * (1+np.cos(p))\n",
    "    return - 1 / np.log(ga / gb)"
   ]
  },
  {
   "cell_type": "code",
   "execution_count": null,
   "metadata": {},
   "outputs": [],
   "source": [
    "logs = pd.read_csv('../objects/saved/logs.csv', index_col=0, sep=';')\n",
    "df = pd.read_pickle(f'../objects/saved/observables.pkl')\n",
    "df.head()\n",
    "logs"
   ]
  },
  {
   "cell_type": "markdown",
   "source": [
    "## To Do\n",
    "- Plot T1/T2 or T1-T2 and compare with Mutual Information"
   ],
   "metadata": {
    "collapsed": false
   }
  },
  {
   "cell_type": "markdown",
   "source": [
    "## Temperatures"
   ],
   "metadata": {
    "collapsed": false
   }
  },
  {
   "cell_type": "code",
   "execution_count": null,
   "outputs": [],
   "source": [
    "ids_grid = np.array([['32Th', '37Th']])\n"
   ],
   "metadata": {
    "collapsed": false
   }
  },
  {
   "cell_type": "code",
   "execution_count": null,
   "outputs": [],
   "source": [
    "for a, b in df_to_plot.iloc[::-1].groupby('Log ID'):\n",
    "    print(a)"
   ],
   "metadata": {
    "collapsed": false
   }
  },
  {
   "cell_type": "code",
   "execution_count": null,
   "outputs": [],
   "source": [
    "ids_grid = np.array([[['38Th'], ['32Th']]])\n",
    "df_to_plot = df.loc[df['Log ID'].isin(ids_grid.flatten())].iloc[::-1]\n",
    "fig, axs = plt.subplots(nrows=len(ids_grid), ncols=len(ids_grid[0]), figsize=(16, 6), layout='tight')\n",
    "for i, (indx, group) in enumerate(df_to_plot.groupby('Log ID')):\n",
    "    if indx in ids_grid[0, 0]:\n",
    "        ax = axs[0]\n",
    "        ax.set_ylabel('Temperature ($\\hbar\\omega$)', fontsize=28)\n",
    "    else:\n",
    "        ax = axs[1]\n",
    "        ax.set_xlim(-2, 30)\n",
    "    timedelta = logs.loc[indx, 'timedelta']\n",
    "    temp = stable_temperature(logs.loc[indx, 'alpha'], logs.loc[indx, 'phi'])\n",
    "    label = f\"T = {temp} | $\\phi$ = {logs.loc[indx, 'phi']}\"\n",
    "    l1 = f'$T_{\"{S1}\"}$'\n",
    "    l2 = f'$T_{\"{S2}\"}$'\n",
    "    ax.plot(group['Time'], group['T1'], label=l1)\n",
    "    ax.plot(group['Time'], group['T2'], label=l2)\n",
    "    leg = ax.legend(ncol=2, fontsize=24, borderpad=1, title=f\"$\\\\alpha = 0.25$\\n\\n$\\phi={logs.loc[indx, 'phi']}$\\n\", title_fontsize=24)\n",
    "    leg._legend_box.align = \"left\"\n",
    "    # ax.set_xlim(0, 300)\n",
    "    ax.set_xlabel('Time ($n\\Delta t$)', fontsize=28)\n",
    "    \n",
    "plt.show()"
   ],
   "metadata": {
    "collapsed": false
   }
  },
  {
   "cell_type": "code",
   "execution_count": null,
   "outputs": [],
   "source": [
    "# Now one figure at a time\n",
    "for plot_id in ['38Th', '32Th']:\n",
    "    fig, ax = plt.subplots(figsize=(8, 8))\n",
    "    timedelta = logs.loc[plot_id, 'timedelta']\n",
    "    phi = logs.loc[plot_id, 'phi']\n",
    "    alpha = logs.loc[plot_id, 'alpha']\n",
    "    temp = stable_temperature(logs.loc[plot_id, 'alpha'], logs.loc[plot_id, 'phi'])\n",
    "    label = f\"T = {temp} | $\\phi$ = {phi}\"\n",
    "    l1 = f'$T_{\"{S1}\"}$'\n",
    "    l2 = f'$T_{\"{S2}\"}$'\n",
    "    data = df.loc[df['Log ID'] == plot_id]\n",
    "    ax.plot(data['Time'], data['T1'], label=l1)\n",
    "    ax.plot(data['Time'], data['T2'], label=l2)\n",
    "    leg = ax.legend(ncol=2, fontsize=24, borderpad=1, title=f\"$\\\\alpha = {alpha}$\\n\\n$\\phi={phi}$\\n\", title_fontsize=24)\n",
    "    leg._legend_box.align = \"left\"\n",
    "    if plot_id == '32Th':\n",
    "        ax.set_xlim(-1.4, 30)\n",
    "    ax.set_xlabel('Time ($n\\Delta t$, a.u.)', fontsize=28)\n",
    "    ax.set_ylabel('Temperature ($\\hbar\\omega$)', fontsize=28)\n",
    "    \n",
    "    # Save figure\n",
    "    fig_label = \"heating\" if plot_id == '38Th' else \"cooling\"\n",
    "    fig.savefig(f\"../img/obs_evolution/{STATE}/temperature_evolution_{fig_label}_1.eps\")"
   ],
   "metadata": {
    "collapsed": false
   }
  },
  {
   "cell_type": "code",
   "execution_count": null,
   "outputs": [],
   "source": [
    "fig.savefig(f\"../img/obs_evolution/{STATE}/temperature_evolution_HeatingAndCooling.eps\")\n",
    "fig.savefig(f\"../img/obs_evolution/{STATE}/temperature_evolution_HeatingAndCooling.png\")"
   ],
   "metadata": {
    "collapsed": false
   }
  },
  {
   "cell_type": "markdown",
   "source": [
    "## Temperature Ratio"
   ],
   "metadata": {
    "collapsed": false
   }
  },
  {
   "cell_type": "code",
   "execution_count": null,
   "outputs": [],
   "source": [
    "ids_grid = np.array([[['35Th', '36Th','37Th','38Th'], ['31Th', '32Th', '33Th', '34Th']]])\n",
    "df_to_plot = df.loc[df['Log ID'].isin(ids_grid.flatten())].iloc[::-1]\n",
    "fig, axs = plt.subplots(nrows=len(ids_grid), ncols=len(ids_grid[0]), figsize=(16, 6), layout='tight')\n",
    "for i, (indx, group) in enumerate(df_to_plot.groupby('Log ID')):\n",
    "    if indx in ids_grid[0, 0]:\n",
    "        ax = axs[0]\n",
    "        ax.set_ylabel('Temperature Ratio $T_{S1} \\;/\\; T_{S2}$', fontsize=28)\n",
    "    else:\n",
    "        ax = axs[1]\n",
    "        ax.set_xlim(-10, 200)\n",
    "        \n",
    "    timedelta = logs.loc[indx, 'timedelta']\n",
    "    temp = stable_temperature(logs.loc[indx, 'alpha'], logs.loc[indx, 'phi'])\n",
    "    label = f\"$\\Delta t = {timedelta}$\"\n",
    "    ax.plot(group['Steps'], group['T_ratio'], label=label)\n",
    "    leg = ax.legend(ncol=1, fontsize=22, borderpad=1, title=f\"$\\\\alpha = 0.25$\\n\\n$\\phi={logs.loc[indx, 'phi']}$\\n\", title_fontsize=22)\n",
    "    leg._legend_box.align = \"left\"\n",
    "    # ax.set_xlim(0, 300)\n",
    "    ax.set_xlabel('Interaction Step $k$', fontsize=28)\n",
    "        \n",
    "plt.show()"
   ],
   "metadata": {
    "collapsed": false
   }
  },
  {
   "cell_type": "code",
   "execution_count": null,
   "outputs": [],
   "source": [
    "fig.savefig(f\"../img/obs_evolution/{STATE}/temperature_ratio_onTimes.eps\")\n",
    "fig.savefig(f\"../img/obs_evolution/{STATE}/temperature_ratio_onTimes.png\")"
   ],
   "metadata": {
    "collapsed": false
   }
  },
  {
   "cell_type": "markdown",
   "metadata": {},
   "source": [
    "## Mean Photon Numbers"
   ]
  },
  {
   "cell_type": "code",
   "execution_count": null,
   "metadata": {},
   "outputs": [],
   "source": [
    "fig, axs = plt.subplots(ncols=3, figsize=(IMG_WIDTH/100 + 3, IMG_HEIGHT/100), layout='tight')\n",
    "for i, (name, group) in enumerate(df.groupby('Log ID')):\n",
    "    axs[i].plot(group['Time'], group['N1'], label='$S_1$')\n",
    "    axs[i].plot(group['Time'], group['N2'], label='$S_2$')\n",
    "    axs[i].set_xlabel('Time (a.u.)')\n",
    "    axs[i].set_ylabel('Mean Photon Number')\n",
    "    axs[i].set_title(f'Interaction Time = {name}')\n",
    "    axs[i].legend()\n",
    "plt.show()"
   ]
  },
  {
   "cell_type": "markdown",
   "metadata": {},
   "source": [
    "## Entropies"
   ]
  },
  {
   "cell_type": "code",
   "execution_count": null,
   "metadata": {},
   "outputs": [],
   "source": [
    "fig, axs = plt.subplots(ncols=3, figsize=(IMG_WIDTH/100 + 3, IMG_HEIGHT/100), layout='tight')\n",
    "ax_names = {\n",
    "    0.1: r'$\\Delta t = 0.1$',\n",
    "    0.5: r'$\\Delta t = 0.5$',\n",
    "    1.0: r'$\\Delta t = 1.0$',\n",
    "}\n",
    "\n",
    "y_names = {\n",
    "    't01': r'$\\mathcal{S}_V$',\n",
    "    't02': r'$\\mathcal{S}_{V1}$',\n",
    "    't03': r'$\\mathcal{S}_{V2}$'\n",
    "}\n",
    "\n",
    "for i, (name, group) in enumerate(df.groupby('Log ID')):\n",
    "    for j, entropy in enumerate(['S', 'S1', 'S2']):\n",
    "        axs[j].plot(group['Time'], group[entropy], \n",
    "                    #label=f'{ax_names[name]}'\n",
    "                    )\n",
    "        axs[j].set_xlabel('Time (a.u.)')\n",
    "        axs[j].set_ylabel(f'{y_names[entropy]}')\n",
    "\n",
    "axs[0].legend()\n",
    "\n",
    "plt.show()\n",
    "fig.savefig(f'../img/obs_evolution/{STATE}/entropy_evolution.eps', format='eps')"
   ]
  },
  {
   "cell_type": "markdown",
   "metadata": {},
   "source": [
    "## Quantum Discord"
   ]
  },
  {
   "cell_type": "code",
   "execution_count": null,
   "metadata": {},
   "outputs": [],
   "source": [
    "fig, ax = plt.subplots(figsize=(IMG_WIDTH/100, IMG_HEIGHT/100))\n",
    "\n",
    "for name, group in df.groupby('Interaction Time'):\n",
    "    ax.plot(group['Time'], group['Quantum Discord'], label=f'{ax_names[name]}')\n",
    "ax.set_ylabel('$\\mathcal{D}$')\n",
    "ax.legend()\n",
    "\n",
    "ax.set_xlim(0, 200)\n",
    "\n",
    "plt.show()\n",
    "\n",
    "fig.savefig(f'../img/obs_evolution/{STATE}/discord_evolution.eps', format='eps')"
   ]
  },
  {
   "cell_type": "markdown",
   "metadata": {},
   "source": [
    "## Mutual Information"
   ]
  },
  {
   "cell_type": "code",
   "execution_count": null,
   "metadata": {},
   "outputs": [],
   "source": [
    "fig, ax = plt.subplots(figsize=(IMG_WIDTH/100, IMG_HEIGHT/100))\n",
    "\n",
    "for i, (name, group) in enumerate(df.groupby('Interaction Time')):\n",
    "    ax.plot(group['Time'], group['Mutual Information'], label=ax_names[name])\n",
    "ax.set_ylabel('$\\mathcal{I}$')\n",
    "ax.legend()\n",
    "\n",
    "ax.set_xlim(0, 200)\n",
    "\n",
    "plt.show()\n",
    "\n",
    "fig.savefig(f'../img/obs_evolution/{STATE}/mutinf_evolution.eps', format='eps')"
   ]
  },
  {
   "cell_type": "markdown",
   "source": [
    "## One-way Classical Correlations"
   ],
   "metadata": {
    "collapsed": false
   }
  },
  {
   "cell_type": "code",
   "execution_count": null,
   "outputs": [],
   "source": [
    "fig, ax = plt.subplots(figsize=(IMG_WIDTH/100, IMG_HEIGHT/100))\n",
    "\n",
    "for i, (name, group) in enumerate(df.groupby('Interaction Time')):\n",
    "    ax.plot(group['Time'], group['Mutual Information'] - group['Quantum Discord'], label=ax_names[name])\n",
    "ax.set_ylabel('$\\mathcal{J}$')\n",
    "ax.legend()\n",
    "\n",
    "ax.set_xlim(0, 200)\n",
    "\n",
    "plt.show()\n",
    "\n",
    "fig.savefig(f'../img/obs_evolution/{STATE}/mutinf_evolution.eps', format='eps')"
   ],
   "metadata": {
    "collapsed": false
   }
  },
  {
   "cell_type": "markdown",
   "metadata": {},
   "source": [
    "## Logarithmic Negativity"
   ]
  },
  {
   "cell_type": "code",
   "execution_count": null,
   "metadata": {},
   "outputs": [],
   "source": [
    "fig, ax = plt.subplots(figsize=(IMG_WIDTH/100, IMG_HEIGHT/100))\n",
    "for name, group in df.groupby('Interaction Time'):\n",
    "    ax.plot(group['Time'], group['Logarithmic Negativity'], label=f'{ax_names[name]}')"
   ]
  },
  {
   "cell_type": "markdown",
   "metadata": {},
   "source": [
    "## Heat Exchanges"
   ]
  },
  {
   "cell_type": "code",
   "execution_count": null,
   "metadata": {},
   "outputs": [],
   "source": [
    "df_to_plot = df.loc[df['Time'] > 0]\n",
    "fig, ax = plt.subplots(figsize=(3.5, 4.5))\n",
    "for i, (name, group) in enumerate(df_to_plot.groupby('Interaction Time')):\n",
    "    ax.plot(group['Time'], group['Jc'], label=ax_names[name])\n",
    "ax.set_xlim([0, 100])\n",
    "ax.set_ylim([-0.05, 0.00001])\n",
    "ax.set_xlabel('Time (a.u.)')\n",
    "ax.set_ylabel('$J_c$')\n",
    "ax.legend(loc='center right', title='')\n",
    "plt.show()"
   ]
  },
  {
   "cell_type": "code",
   "execution_count": null,
   "metadata": {},
   "outputs": [],
   "source": [
    "fig, ax = plt.subplots(figsize=(3.5, 4.5))\n",
    "for i, (name, group) in enumerate(df_to_plot.groupby('Interaction Time')):\n",
    "    ax.plot(group['Time'], group['J1'], label=ax_names[name])\n",
    "ax.set_xlim([0, 1000])\n",
    "ax.set_ylim([-0.0002, 0.000005])\n",
    "ax.set_xlabel('Time (a.u.)')\n",
    "ax.set_ylabel('$J_1$')\n",
    "plt.show()"
   ]
  },
  {
   "cell_type": "code",
   "execution_count": null,
   "metadata": {},
   "outputs": [],
   "source": [
    "fig, ax = plt.subplots(figsize=(3.5, 4.5))\n",
    "linestyles = ['-', '--', '-.', ':']\n",
    "for i, (name, group) in enumerate(df_to_plot.groupby('Interaction Time')):\n",
    "    ax.plot(group['Time'], group['J2'], label=name, linestyle=linestyles[i % len(linestyles)])\n",
    "ax.set_xlim([0, 1000])\n",
    "ax.set_ylim([-0.004, 0.0001])\n",
    "ax.set_xlabel('Time (a.u.)')\n",
    "ax.set_ylabel('$J_2$')\n",
    "\n",
    "# Create an inset plot\n",
    "axins = fig.add_axes([0.43, 0.25, 0.4, 0.45])\n",
    "for i, (name, group) in enumerate(df_to_plot.groupby('Interaction Time')):\n",
    "    axins.plot(group['Time'], group['J2'], label=name, linestyle=linestyles[i % len(linestyles)])\n",
    "axins.set_xlim([0, 1000])\n",
    "axins.set_ylim([-0.00005, 0.00001])\n",
    "\n",
    "plt.show()"
   ]
  },
  {
   "cell_type": "code",
   "execution_count": null,
   "metadata": {
    "scrolled": true
   },
   "outputs": [],
   "source": [
    "fig, axs = plt.subplots(ncols=3, figsize=(IMG_WIDTH/100 + 2, IMG_HEIGHT/100), layout='constrained')\n",
    "ax_names = {\n",
    "    0.1: '$\\Delta t = 0.1$',\n",
    "    0.5: '$\\Delta t = 0.5$',\n",
    "    1.0: '$\\Delta t = 1.0$',\n",
    "}\n",
    "\n",
    "y_names = {\n",
    "    'Jc': '$J_c$',\n",
    "    'J1': '$J_1$',\n",
    "    'J2': '$J_2$'\n",
    "}\n",
    "\n",
    "for i, (name, group) in enumerate(df.loc[df['Time'] > 0].groupby('Interaction Time')):\n",
    "    for j, current in enumerate(['Jc', 'J1', 'J2']):\n",
    "        axs[j].plot(group['Time'], group[current], label=ax_names[name])\n",
    "        axs[j].set_xlabel('Time (a.u.)')\n",
    "        axs[j].set_ylabel(y_names[current])\n",
    "for ax in axs:\n",
    "    ax.ticklabel_format(axis='y', style='sci', scilimits=(0,0))\n",
    "    ax.yaxis.get_offset_text().set_color('black')\n",
    "        \n",
    "axs[0].set_xlim([0, 1000])\n",
    "axs[1].set_xlim([0, 1000])\n",
    "axs[2].set_xlim([0, 200])\n",
    "axs[0].set_ylim([-2e-4, 1e-5])\n",
    "axs[1].set_ylim([-5e-5, 2e-6])\n",
    "axs[2].set_ylim([-4e-3, 2e-4])\n",
    "axs[0].legend()\n",
    "\n",
    "# Create an inset plot\n",
    "axins = fig.add_axes([0.9, 0.3, 0.15, 0.4])\n",
    "for spine in axins.spines.values():\n",
    "    spine.set_color('black')\n",
    "\n",
    "for i, (name, group) in enumerate(df_to_plot.groupby('Interaction Time')):\n",
    "    axins.plot(group['Time'], group['J2'], label=name)\n",
    "axins.set_xlim([0, 1001])\n",
    "axins.set_ylim([-0.00005, 0.00001])\n",
    "axins.yaxis.get_offset_text().set_color('black')\n",
    "\n",
    "plt.show()\n",
    "\n",
    "fig.savefig(f'../img/obs_evolution/{STATE}/heat_evolution.eps', format='eps', bbox_inches='tight')"
   ]
  },
  {
   "cell_type": "markdown",
   "source": [
    "## Big Grid Plot"
   ],
   "metadata": {
    "collapsed": false
   }
  },
  {
   "cell_type": "code",
   "execution_count": null,
   "outputs": [],
   "source": [
    "df.head()"
   ],
   "metadata": {
    "collapsed": false
   }
  },
  {
   "cell_type": "code",
   "execution_count": null,
   "outputs": [],
   "source": [
    "ids_matrix = [\n",
    "    [['T11', 'T16', 'T111'], ['T21', 'T26', 'T211']],\n",
    "    [['K12', 'T17', 'T112'], ['T22', 'T27', 'T212']],\n",
    "    [['T13', 'T18', 'T113'], ['T23', 'T28', 'T213']],\n",
    "    [['T14', 'T19', 'T114'], ['T24', 'T29', 'T214']],\n",
    "    [['T15', 'T110', 'T115'], ['T25', 'T210', 'T215']],\n",
    "]\n",
    "phi_dict = {\n",
    "    '0': '\\pi/2',\n",
    "    '0.5235987755983': '\\pi/6',\n",
    "    '0.7853981633974': '\\pi/4',\n",
    "    '1.047197551197': '\\pi/3',\n",
    "    '1.570796326795': '\\pi/2',\n",
    "}\n",
    "# Function to recover the stable temperature from the data\n",
    "def stable_temperature(a, p):\n",
    "    a = float(a)\n",
    "    p = float(p)\n",
    "    ga = 2*a**2\n",
    "    gb = (1-a**2) * (1+np.cos(p))\n",
    "    return - 1 / np.log(ga / gb)\n",
    "# Make a grid of plots with 5 rows for phi and 2 columns for T\n",
    "fig, axs = plt.subplots(len(ids_matrix), len(ids_matrix[0]), figsize=(12, 20), layout='constrained')\n",
    "\n",
    "for i, row in enumerate(ids_matrix):\n",
    "    for j, cell in enumerate(row):\n",
    "        for k, log_id in enumerate(cell):\n",
    "            alpha = logs.loc[log_id]['alpha']\n",
    "            phi = logs.loc[log_id]['phi']\n",
    "            temp = stable_temperature(alpha, phi)\n",
    "            dt = logs.loc[log_id]['timedelta']\n",
    "            data1 = df[df['Log ID'] == log_id]['N1']\n",
    "            data2 = df[df['Log ID'] == log_id]['N2']\n",
    "            time = df[df['Log ID'] == log_id]['Time']\n",
    "            axs[i, j].plot(data1, label=f\"$\\Delta t$ = {dt}, $D_\\\\rightarrow$\", color=STYLES['plotly'][k])\n",
    "            axs[i, j].plot(data2, label=f\"$\\Delta t$ = {dt}, $D_\\leftarrow$\", color=STYLES['plotly'][k])\n",
    "        axs[i, j].legend(prop={'size': 12})\n",
    "        axs[i, j].set_title(f'$\\\\alpha = {alpha:.2f}$, $\\phi = {phi_dict[phi]}$, $T = {temp:.2f}$')\n",
    "        axs[i, j].set_xlabel('Time (a.u.)')\n",
    "        axs[i, j].set_ylabel('$\\mathcal{D}$')  #!!! Change with data\n",
    "        axs[i, j].set_xlim([0, 5000])\n",
    "        if j%2:\n",
    "            # pass\n",
    "            axs[i, j].set_ylim([2.6, 4.2])\n",
    "        else:\n",
    "            # pass\n",
    "            axs[i, j].set_ylim([2.1, 3.1])\n",
    "\n",
    "fig.suptitle('Quantum Discord Evolution\\n', fontsize=20)  #!!! Change with data\n",
    "plt.show()"
   ],
   "metadata": {
    "collapsed": false
   }
  },
  {
   "cell_type": "markdown",
   "source": [
    "## Random Interaction Times"
   ],
   "metadata": {
    "collapsed": false
   }
  },
  {
   "cell_type": "code",
   "execution_count": null,
   "outputs": [],
   "source": [
    "df['Sigma'] = df['Log ID'].apply(lambda x: x[2:])\n",
    "\n",
    "def rmse(x):\n",
    "    return np.sqrt(np.mean((x - np.mean(x))**2))\n",
    "\n",
    "def iqr(x):\n",
    "    \"\"\"Interquartile range\"\"\"\n",
    "    return np.percentile(x, 75) - np.percentile(x, 25)\n",
    "\n",
    "def mad(x):\n",
    "    \"\"\"Median absolute deviation\"\"\"\n",
    "    return np.median(np.abs(x - np.median(x)))"
   ],
   "metadata": {
    "collapsed": false
   }
  },
  {
   "cell_type": "code",
   "execution_count": null,
   "outputs": [],
   "source": [
    "fig, axs = plt.subplots(nrows=3, figsize=(IMG_WIDTH/100 + 3, 3*IMG_HEIGHT/100), layout='tight')\n",
    "\n",
    "for i, (sigma, data) in enumerate(df.groupby('Sigma')):\n",
    "    data['Bins'] = pd.cut(data['Time'], bins=200)\n",
    "    data = data.groupby('Bins')['S'].agg(['mean', 'std', rmse])\n",
    "    bin_edges = data.index.categories.left\n",
    "    axs[i].plot(bin_edges, data['mean'], label=f'$\\sigma = {sigma}$', ls='-')\n",
    "    axs[i].fill_between(bin_edges, data['mean'] - data['rmse'], data['mean'] + data['rmse'], alpha=0.5)\n",
    "    \n",
    "plt.show()\n",
    "    "
   ],
   "metadata": {
    "collapsed": false
   }
  },
  {
   "cell_type": "code",
   "execution_count": null,
   "outputs": [],
   "source": [
    "fig, axs = plt.subplots(ncols=3, figsize=(IMG_WIDTH/100 + 3, IMG_HEIGHT/100), layout='tight')\n",
    "\n",
    "for i, (sigma, data) in enumerate(df.groupby('Sigma')):\n",
    "    ax_twin = axs[i].twinx()\n",
    "    data['Bins'] = pd.cut(data['Time'], bins=200)\n",
    "    \n",
    "    data_qd = data.groupby('Bins')['Quantum Discord'].agg(['mean', 'std', mad, iqr, rmse])\n",
    "    bin_edges = data_qd.index.categories.left\n",
    "    \n",
    "    axs[i].plot(bin_edges, data_qd['mean'], label=f'$\\sigma = {sigma}$', ls='-')\n",
    "    axs[i].fill_between(bin_edges, data_qd['mean'] - data_qd['mad'], data_qd['mean'] + data_qd['mad'], alpha=0.5)\n",
    "    axs[i].set_xlim([0, 350])\n",
    "    \n",
    "    data_ratio = data.groupby('Bins')['T_ratio'].agg(['mean', 'std', mad, iqr, rmse])\n",
    "    ax_twin.plot(bin_edges, data_ratio['mean'], label=f'$\\sigma = {sigma}$', ls='-', color='red')\n",
    "    ax_twin.fill_between(bin_edges, data_ratio['mean'] - data_ratio['mad'], data_ratio['mean'] + data_ratio['mad'], alpha=0.5, color='red')\n",
    "    \n",
    "plt.show()\n",
    "    "
   ],
   "metadata": {
    "collapsed": false
   }
  },
  {
   "cell_type": "code",
   "execution_count": null,
   "outputs": [],
   "source": [
    "df.loc[df['Time'] < 1.050662]"
   ],
   "metadata": {
    "collapsed": false
   }
  },
  {
   "cell_type": "code",
   "execution_count": null,
   "outputs": [],
   "source": [
    "import qutip as qu\n",
    "\n",
    "qu.tensor(qu.thermal_dm(3, 1), qu.thermal_dm(3, 1))"
   ],
   "metadata": {
    "collapsed": false
   }
  },
  {
   "cell_type": "code",
   "execution_count": null,
   "outputs": [],
   "source": [
    "qu.thermal_dm(20, 1)"
   ],
   "metadata": {
    "collapsed": false
   }
  }
 ],
 "metadata": {
  "kernelspec": {
   "display_name": "Python 3 (ipykernel)",
   "language": "python",
   "name": "python3"
  },
  "language_info": {
   "codemirror_mode": {
    "name": "ipython",
    "version": 3
   },
   "file_extension": ".py",
   "mimetype": "text/x-python",
   "name": "python",
   "nbconvert_exporter": "python",
   "pygments_lexer": "ipython3",
   "version": "3.10.8"
  }
 },
 "nbformat": 4,
 "nbformat_minor": 1
}
