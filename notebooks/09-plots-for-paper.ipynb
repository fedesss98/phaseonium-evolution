{
 "cells": [
  {
   "cell_type": "code",
   "execution_count": null,
   "metadata": {
    "collapsed": true
   },
   "outputs": [],
   "source": [
    "import os\n",
    "import pandas as pd\n",
    "import matplotlib.pyplot as plt\n",
    "# Set default plotly template\n",
    "import plotly.io as pio\n",
    "pio.templates.default = \"plotly_white\"\n",
    "\n",
    "import plotly.express as px\n",
    "\n",
    "STATE = 'thermal'\n",
    "IMG_WIDTH = 600\n",
    "IMG_HEIGHT = 350\n",
    "\n",
    "# Set default plotly image format and dimensions\n",
    "pio.kaleido.scope.default_format = \"pdf\"\n",
    "#pio.kaleido.scope.mathjax= None\n",
    "pio.kaleido.scope.default_width = IMG_WIDTH\n",
    "pio.kaleido.scope.default_height = IMG_HEIGHT\n",
    "\n",
    "# Create saving folder if it does not exists\n",
    "if not os.path.exists(f'../img/obs_evolution/{STATE}'):\n",
    "    os.makedirs(f'../img/obs_evolution/{STATE}')"
   ]
  },
  {
   "cell_type": "code",
   "execution_count": null,
   "outputs": [],
   "source": [
    "df = pd.read_pickle(f'../objects/{STATE}/observables.pkl')\n",
    "df = df[df['Time'] <= 1500]"
   ],
   "metadata": {
    "collapsed": false
   }
  },
  {
   "cell_type": "markdown",
   "source": [
    "## Mean Photon Numbers"
   ],
   "metadata": {
    "collapsed": false
   }
  },
  {
   "cell_type": "code",
   "execution_count": null,
   "outputs": [],
   "source": [
    "df_melt = df.melt(id_vars=['Time', 'Interaction Time'], value_vars=['N1', 'N2'], var_name='System', value_name='Temperature')\n",
    "new_label_s1 = ['$S_1$' for _ in range(len(df_melt.loc[df_melt['System'] == 'N1']))]\n",
    "new_label_s2 = ['$S_2$' for _ in range(len(df_melt.loc[df_melt['System'] == 'N2']))]\n",
    "new_label_dt = [f'${dt}$' for dt in df_melt['Interaction Time']]\n",
    "df_melt.loc[df_melt['System'] == 'N1', 'System'] = new_label_s1\n",
    "df_melt.loc[df_melt['System'] == 'N2', 'System'] = new_label_s2\n",
    "df_melt['Interaction Time'] = new_label_dt\n",
    "\n",
    "fig, ax = plt.subplots(figsize=(IMG_WIDTH/100, IMG_HEIGHT/100))\n",
    "for name, group in df_melt.groupby(['Interaction Time', 'System']):\n",
    "    if name[1] == 'S_1$':\n",
    "        linestyle = '-'\n",
    "    else:\n",
    "        linestyle = '--'\n",
    "    ax.plot(group['Time'], group['Temperature'], label=name[0], linestyle=linestyle)\n",
    "ax.set_xlabel('Time (a.u.)')\n",
    "ax.set_ylabel('Mean Photon Number')\n",
    "legend_elements = ['$S_1$', '$S_2$']\n",
    "ax.legend(handles=legend_elements, loc='upper right')\n",
    "plt.show()"
   ],
   "metadata": {
    "collapsed": false
   }
  },
  {
   "cell_type": "code",
   "execution_count": null,
   "outputs": [],
   "source": [
    "fig_temp.write_image(f'../img/obs_evolution/{STATE}/temp_evolution.pdf')"
   ],
   "metadata": {
    "collapsed": false
   }
  },
  {
   "cell_type": "markdown",
   "source": [
    "## Entropies"
   ],
   "metadata": {
    "collapsed": false
   }
  },
  {
   "cell_type": "code",
   "execution_count": null,
   "outputs": [],
   "source": [
    "df_melt = df.melt(id_vars=['Time', 'Interaction Time'], value_vars=['S1', 'S2'], var_name='System', value_name='Entropy')\n",
    "new_label_s1 = ['S_1$' for _ in range(len(df_melt.loc[df_melt['System'] == 'S1']))]\n",
    "new_label_s2 = ['S_2$' for _ in range(len(df_melt.loc[df_melt['System'] == 'S2']))]\n",
    "new_label_dt = [f'${dt}' for dt in df_melt['Interaction Time']]\n",
    "df_melt.loc[df_melt['System'] == 'S1', 'System'] = new_label_s1\n",
    "df_melt.loc[df_melt['System'] == 'S2', 'System'] = new_label_s2\n",
    "df_melt['Interaction Time'] = new_label_dt\n",
    "fig_entropy = px.line(df_melt, x='Time', y='Entropy',\n",
    "                      color='Interaction Time', line_dash='System',\n",
    "                      width=IMG_WIDTH, height=IMG_HEIGHT,\n",
    "                      labels={'Time': 'Time (a.u.)'},\n",
    "                    )\n",
    "fig_entropy.update_layout(\n",
    "    legend=dict(\n",
    "        yanchor=\"top\",\n",
    "        y=0.99,\n",
    "        xanchor=\"right\",\n",
    "        x=0.99,\n",
    "        bordercolor=\"Black\",\n",
    "        borderwidth=0,\n",
    "))\n",
    "fig_entropy.show()"
   ],
   "metadata": {
    "collapsed": false
   }
  },
  {
   "cell_type": "markdown",
   "source": [
    "## Quantum Discord"
   ],
   "metadata": {
    "collapsed": false
   }
  },
  {
   "cell_type": "code",
   "execution_count": null,
   "outputs": [],
   "source": [
    "fig_discord = px.line(df, x='Time', y='Quantum Discord', color='Interaction Time',\n",
    "                      width=IMG_WIDTH, height=IMG_HEIGHT,\n",
    "                      labels={'Time': 'Time (a.u.)'})\n",
    "fig_discord.for_each_trace(lambda t: t.update(name = f'${t.name}$'))\n",
    "fig_discord.update_layout(\n",
    "    legend=dict(\n",
    "        yanchor=\"bottom\",\n",
    "        y=0.1,\n",
    "        xanchor=\"right\",\n",
    "        x=0.99,\n",
    "        bordercolor=\"Black\",\n",
    "        borderwidth=0,\n",
    "))\n",
    "fig_discord.show()"
   ],
   "metadata": {
    "collapsed": false
   }
  },
  {
   "cell_type": "code",
   "execution_count": null,
   "outputs": [],
   "source": [
    "fig_discord.write_image(f'../img/obs_evolution/{STATE}/discord_evolution.pdf')"
   ],
   "metadata": {
    "collapsed": false
   }
  },
  {
   "cell_type": "markdown",
   "source": [
    "## Mutual Information"
   ],
   "metadata": {
    "collapsed": false
   }
  },
  {
   "cell_type": "code",
   "execution_count": null,
   "outputs": [],
   "source": [
    "fig_mutinf = px.line(df, x='Time', y='Mutual Information', color='Interaction Time',\n",
    "                     width=IMG_WIDTH, height=IMG_HEIGHT)\n",
    "fig_mutinf.for_each_trace(lambda t: t.update(name = f'${t.name}$'))\n",
    "fig_mutinf.update_layout(\n",
    "    legend=dict(\n",
    "        yanchor=\"top\",\n",
    "        y=0.99,\n",
    "        xanchor=\"right\",\n",
    "        x=0.99,\n",
    "        bordercolor=\"Black\",\n",
    "        borderwidth=0,\n",
    "    )\n",
    ")\n",
    "fig_mutinf.show()"
   ],
   "metadata": {
    "collapsed": false
   }
  },
  {
   "cell_type": "code",
   "execution_count": null,
   "outputs": [],
   "source": [
    "fig_mutinf.write_image(f'../img/obs_evolution/{STATE}/mutinf_evolution.pdf')"
   ],
   "metadata": {
    "collapsed": false
   }
  },
  {
   "cell_type": "markdown",
   "source": [
    "## Logarithmic Negativity"
   ],
   "metadata": {
    "collapsed": false
   }
  },
  {
   "cell_type": "code",
   "execution_count": null,
   "outputs": [],
   "source": [
    "fig_logneg = px.line(df, x='Time', y='Logarithmic Negativity', color='Interaction Time',\n",
    "                     width=IMG_WIDTH, height=IMG_HEIGHT)\n",
    "fig_logneg.for_each_trace(lambda t: t.update(name = f'${t.name}$'))\n",
    "fig_logneg.update_layout(\n",
    "    legend=dict(\n",
    "        yanchor=\"top\",\n",
    "        y=0.99,\n",
    "        xanchor=\"right\",\n",
    "        x=0.99,\n",
    "        bordercolor=\"Black\",\n",
    "        borderwidth=0,\n",
    "    )\n",
    ")\n",
    "fig_logneg.show()"
   ],
   "metadata": {
    "collapsed": false
   }
  },
  {
   "cell_type": "code",
   "execution_count": null,
   "outputs": [],
   "source": [
    "fig_logneg.write_image(f'../img/obs_evolution/{STATE}/logneg_evolution.pdf')"
   ],
   "metadata": {
    "collapsed": false
   }
  },
  {
   "cell_type": "markdown",
   "source": [
    "## Heat Exchanges"
   ],
   "metadata": {
    "collapsed": false
   }
  },
  {
   "cell_type": "code",
   "execution_count": null,
   "outputs": [],
   "source": [
    "df_melt = df.loc[df['Time']>0].melt(id_vars=['Time', 'Interaction Time'], value_vars=['Jc', 'J1', 'J2'], var_name='Current', value_name='Heat')\n",
    "new_label_j1 = ['J_1$' for _ in range(len(df_melt.loc[df_melt['Current'] == 'J1']))]\n",
    "new_label_j2 = ['J_2$' for _ in range(len(df_melt.loc[df_melt['Current'] == 'J2']))]\n",
    "new_label_j = ['J_c$' for _ in range(len(df_melt.loc[df_melt['Current'] == 'Jc']))]\n",
    "new_label_dt = [f'${dt}' for dt in df_melt['Interaction Time']]\n",
    "df_melt.loc[df_melt['Current'] == 'J1', 'Current'] = new_label_j1\n",
    "df_melt.loc[df_melt['Current'] == 'J2', 'Current'] = new_label_j2\n",
    "df_melt.loc[df_melt['Current'] == 'Jc', 'Current'] = new_label_j\n",
    "df_melt['Interaction Time'] = new_label_dt\n",
    "fig_heat = px.line(df_melt, x='Time', y='Heat',\n",
    "                   color='Interaction Time', line_dash='Current',\n",
    "                   width=IMG_WIDTH, height=IMG_HEIGHT,\n",
    "                   labels={'Time': 'Time (a.u.)'})\n",
    "fig_heat.update_layout(\n",
    "    legend=dict(\n",
    "        yanchor=\"top\",\n",
    "        y=0.95,\n",
    "        xanchor=\"right\",\n",
    "        x=0.99,\n",
    "        bordercolor=\"Black\",\n",
    "        borderwidth=0,\n",
    "    ),\n",
    "    margin=dict(\n",
    "        autoexpand=False,\n",
    "    ),\n",
    ")\n",
    "fig_heat.update_xaxes(range=[0, 150])\n",
    "fig_heat.update_yaxes(range=[-0.01, 0.0001])\n",
    "fig_heat.show()"
   ],
   "metadata": {
    "collapsed": false
   }
  },
  {
   "cell_type": "code",
   "execution_count": null,
   "outputs": [],
   "source": [
    "df_to_plot = df.loc[df['Time'] > 0]\n",
    "new_labels = ['$\\Delta t =' + str(dt) + '$' for dt in df_to_plot['Interaction Time']]\n",
    "df_to_plot.loc[:, 'Interaction Time'] = new_labels\n",
    "\n",
    "fig, ax = plt.subplots(figsize=(3.5, 4.5))\n",
    "linestyles = ['-', '--', '-.', ':']\n",
    "for i, (name, group) in enumerate(df_to_plot.groupby('Interaction Time')):\n",
    "    ax.plot(group['Time'], group['Jc'], label=name, linestyle=linestyles[i % len(linestyles)])\n",
    "ax.set_xlim([0, 1000])\n",
    "ax.set_ylim([-0.0005, 0.00001])\n",
    "ax.set_xlabel('Time (a.u.)')\n",
    "ax.set_ylabel('$J_c$')\n",
    "ax.legend(loc='center right', title='')\n",
    "plt.show()"
   ],
   "metadata": {
    "collapsed": false
   }
  },
  {
   "cell_type": "code",
   "execution_count": null,
   "outputs": [],
   "source": [
    "fig, ax = plt.subplots(figsize=(3.5, 4.5))\n",
    "linestyles = ['-', '--', '-.', ':']\n",
    "for i, (name, group) in enumerate(df_to_plot.groupby('Interaction Time')):\n",
    "    ax.plot(group['Time'], group['J1'], label=name, linestyle=linestyles[i % len(linestyles)])\n",
    "ax.set_xlim([0, 1000])\n",
    "ax.set_ylim([-0.0002, 0.000005])\n",
    "ax.set_xlabel('Time (a.u.)')\n",
    "ax.set_ylabel('$J_1$')\n",
    "plt.show()"
   ],
   "metadata": {
    "collapsed": false
   }
  },
  {
   "cell_type": "code",
   "execution_count": null,
   "outputs": [],
   "source": [
    "fig, ax = plt.subplots(figsize=(3.5, 4.5))\n",
    "linestyles = ['-', '--', '-.', ':']\n",
    "for i, (name, group) in enumerate(df_to_plot.groupby('Interaction Time')):\n",
    "    ax.plot(group['Time'], group['J2'], label=name, linestyle=linestyles[i % len(linestyles)])\n",
    "ax.set_xlim([0, 1000])\n",
    "ax.set_ylim([-0.004, 0.0001])\n",
    "ax.set_xlabel('Time (a.u.)')\n",
    "ax.set_ylabel('$J_2$')\n",
    "\n",
    "# Create an inset plot\n",
    "axins = fig.add_axes([0.43, 0.25, 0.4, 0.45])\n",
    "for i, (name, group) in enumerate(df_to_plot.groupby('Interaction Time')):\n",
    "    axins.plot(group['Time'], group['J2'], label=name, linestyle=linestyles[i % len(linestyles)])\n",
    "axins.set_xlim([0, 1000])\n",
    "axins.set_ylim([-0.00005, 0.00001])\n",
    "\n",
    "plt.show()"
   ],
   "metadata": {
    "collapsed": false
   }
  },
  {
   "cell_type": "code",
   "execution_count": null,
   "outputs": [],
   "source": [
    "fig_heat.write_image(f'../img/obs_evolution/{STATE}/heat_evolution.pdf')"
   ],
   "metadata": {
    "collapsed": false
   }
  }
 ],
 "metadata": {
  "kernelspec": {
   "display_name": "Python 3",
   "language": "python",
   "name": "python3"
  },
  "language_info": {
   "codemirror_mode": {
    "name": "ipython",
    "version": 2
   },
   "file_extension": ".py",
   "mimetype": "text/x-python",
   "name": "python",
   "nbconvert_exporter": "python",
   "pygments_lexer": "ipython2",
   "version": "2.7.6"
  }
 },
 "nbformat": 4,
 "nbformat_minor": 0
}
