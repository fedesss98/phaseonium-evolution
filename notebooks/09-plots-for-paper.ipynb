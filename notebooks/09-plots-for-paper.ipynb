{
 "cells": [
  {
   "cell_type": "code",
   "execution_count": null,
   "metadata": {},
   "outputs": [],
   "source": [
    "import os\n",
    "import pandas as pd\n",
    "import matplotlib.pyplot as plt\n",
    "import matplotlib as mpl\n",
    "# Set default plotly template\n",
    "import plotly.io as pio\n",
    "pio.templates.default = \"plotly_white\"\n",
    "\n",
    "import plotly.express as px\n",
    "\n",
    "STATE = 'thermal'\n",
    "IMG_WIDTH = 600\n",
    "IMG_HEIGHT = 350\n",
    "\n",
    "# Set default plotly image format and dimensions\n",
    "pio.kaleido.scope.default_format = \"pdf\"\n",
    "#pio.kaleido.scope.mathjax= None\n",
    "pio.kaleido.scope.default_width = IMG_WIDTH\n",
    "pio.kaleido.scope.default_height = IMG_HEIGHT\n",
    "\n",
    "STYLES = {\n",
    "    'plotly': (\n",
    "        '#636EFA',\n",
    "        '#EF553B',\n",
    "        '#00CC96',\n",
    "    ),\n",
    "    'pastel': (\n",
    "        '#66C5CC',\n",
    "        '#F6CF71',\n",
    "        '#F89C9C',\n",
    "        '#DCB0F2',\n",
    "    ),\n",
    "    'pygal': (\n",
    "        '#F44336',  # 0\n",
    "        '#3F51B5',  # 4\n",
    "        '#009688',  # 8\n",
    "        '#FFC107',  # 13\n",
    "        '#FF5722',  # 15\n",
    "        '#9C27B0',  # 2\n",
    "        '#03A9F4',  # 6\n",
    "        '#8BC34A',  # 10\n",
    "        '#FF9800',  # 14\n",
    "        '#E91E63',  # 1\n",
    "        '#2196F3',  # 5\n",
    "        '#4CAF50',  # 9\n",
    "        '#FFEB3B',  # 12\n",
    "        '#673AB7',  # 3\n",
    "        '#00BCD4',  # 7\n",
    "        '#CDDC39',  # 11b\n",
    "        '#9E9E9E',  # 17\n",
    "        '#607D8B',  # 18\n",
    "    )\n",
    "}\n",
    "LINESTYLES = [':', '--', '-']\n",
    "\n",
    "mpl.rcParams['axes.prop_cycle'] = mpl.cycler(color=STYLES['plotly'], linestyle=LINESTYLES)\n",
    "mpl.rcParams['axes.facecolor'] = 'white'\n",
    "mpl.rcParams['axes.grid'] = True\n",
    "mpl.rcParams['grid.color'] = 'lightgrey'\n",
    "mpl.rcParams['grid.linestyle'] = '--'\n",
    "mpl.rcParams['grid.linewidth'] = 0.5\n",
    "mpl.rcParams['xtick.color'] = 'lightgrey'\n",
    "mpl.rcParams['ytick.color'] = 'lightgrey'\n",
    "mpl.rcParams['xtick.labelcolor'] = 'black'\n",
    "mpl.rcParams['ytick.labelcolor'] = 'black'\n",
    "mpl.rcParams['axes.edgecolor'] = 'lightgrey'\n",
    "mpl.rcParams['text.usetex'] = True\n",
    "mpl.rcParams['font.family'] = 'serif'\n",
    "mpl.rcParams['font.size'] = 14\n",
    "mpl.rcParams['savefig.dpi'] = 300\n",
    "mpl.rcParams['savefig.format'] = 'eps'\n",
    "\n",
    "# Create saving folder if it does not exists\n",
    "if not os.path.exists(f'../img/obs_evolution/{STATE}'):\n",
    "    os.makedirs(f'../img/obs_evolution/{STATE}')"
   ]
  },
  {
   "cell_type": "code",
   "execution_count": null,
   "metadata": {},
   "outputs": [],
   "source": [
    "df = pd.read_pickle(f'../objects/{STATE}/observables.pkl')\n",
    "df = df[df['Time'] <= 1500]\n",
    "df.head()"
   ]
  },
  {
   "cell_type": "markdown",
   "metadata": {},
   "source": [
    "## Mean Photon Numbers"
   ]
  },
  {
   "cell_type": "code",
   "execution_count": null,
   "metadata": {},
   "outputs": [],
   "source": [
    "fig, axs = plt.subplots(ncols=3, figsize=(IMG_WIDTH/100, IMG_HEIGHT/100))\n",
    "for i, (name, group) in enumerate(df.groupby('Interaction Time')):\n",
    "    axs[i].plot(group['Time'], group['N1'], label='$S_1$')\n",
    "    axs[i].plot(group['Time'], group['N2'], label='$S_2$')\n",
    "    axs[i].set_xlabel('Time (a.u.)')\n",
    "    axs[i].set_ylabel('Mean Photon Number')\n",
    "    axs[i].set_title(f'Interaction Time = {name}')\n",
    "    axs[i].legend()\n",
    "plt.show()"
   ]
  },
  {
   "cell_type": "markdown",
   "metadata": {},
   "source": [
    "## Entropies"
   ]
  },
  {
   "cell_type": "code",
   "execution_count": null,
   "metadata": {},
   "outputs": [],
   "source": [
    "fig, axs = plt.subplots(ncols=3, figsize=(IMG_WIDTH/100 + 3, IMG_HEIGHT/100), layout='tight')\n",
    "ax_names = {\n",
    "    0.05: r'$\\Delta t = 0.05$',\n",
    "    0.1: r'$\\Delta t = 0.1$',\n",
    "    1.0: r'$\\Delta t = 1.0$',\n",
    "}\n",
    "\n",
    "y_names = {\n",
    "    'S': r'$\\mathcal{S}_V$',\n",
    "    'S1': r'$\\mathcal{S}_{V1}$',\n",
    "    'S2': r'$\\mathcal{S}_{V2}$'\n",
    "}\n",
    "\n",
    "for i, (name, group) in enumerate(df.groupby('Interaction Time')):\n",
    "    for j, entropy in enumerate(['S', 'S1', 'S2']):\n",
    "        axs[j].plot(group['Time'], group[entropy], label=f'{ax_names[name]}')\n",
    "        axs[j].set_xlabel('Time (a.u.)')\n",
    "        axs[j].set_ylabel(f'{y_names[entropy]}')\n",
    "\n",
    "axs[0].legend()\n",
    "\n",
    "plt.show()\n",
    "fig.savefig(f'../img/obs_evolution/{STATE}/entropy_evolution.eps', format='eps')"
   ]
  },
  {
   "cell_type": "markdown",
   "metadata": {},
   "source": [
    "## Quantum Discord"
   ]
  },
  {
   "cell_type": "code",
   "execution_count": null,
   "metadata": {},
   "outputs": [],
   "source": [
    "fig, ax = plt.subplots(figsize=(IMG_WIDTH/100, IMG_HEIGHT/100))\n",
    "\n",
    "for name, group in df.groupby('Interaction Time'):\n",
    "    ax.plot(group['Time'], group['Quantum Discord'], label=f'{ax_names[name]}')\n",
    "ax.set_ylabel('$\\mathcal{D}$')\n",
    "ax.legend()\n",
    "\n",
    "ax.set_xlim(0, 600)\n",
    "\n",
    "plt.show()\n",
    "\n",
    "fig.savefig(f'../img/obs_evolution/{STATE}/discord_evolution.eps', format='eps')"
   ]
  },
  {
   "cell_type": "markdown",
   "metadata": {},
   "source": [
    "## Mutual Information"
   ]
  },
  {
   "cell_type": "code",
   "execution_count": null,
   "metadata": {},
   "outputs": [],
   "source": [
    "fig, ax = plt.subplots(figsize=(IMG_WIDTH/100, IMG_HEIGHT/100))\n",
    "\n",
    "for i, (name, group) in enumerate(df.groupby('Interaction Time')):\n",
    "    ax.plot(group['Time'], group['Mutual Information'], label=ax_names[name])\n",
    "ax.set_ylabel('$\\mathcal{I}$')\n",
    "ax.legend()\n",
    "\n",
    "ax.set_xlim(0, 600)\n",
    "\n",
    "plt.show()\n",
    "\n",
    "fig.savefig(f'../img/obs_evolution/{STATE}/mutinf_evolution.eps', format='eps')"
   ]
  },
  {
   "cell_type": "markdown",
   "source": [
    "## One-way Classical Correlations"
   ],
   "metadata": {
    "collapsed": false
   }
  },
  {
   "cell_type": "code",
   "execution_count": null,
   "outputs": [],
   "source": [
    "fig, ax = plt.subplots(figsize=(IMG_WIDTH/100, IMG_HEIGHT/100))\n",
    "\n",
    "for i, (name, group) in enumerate(df.groupby('Interaction Time')):\n",
    "    ax.plot(group['Time'], group['Mutual Information'] - group['Quantum Discord'], label=ax_names[name])\n",
    "ax.set_ylabel('$\\mathcal{J}$')\n",
    "ax.legend()\n",
    "\n",
    "ax.set_xlim(0, 600)\n",
    "\n",
    "plt.show()\n",
    "\n",
    "fig.savefig(f'../img/obs_evolution/{STATE}/mutinf_evolution.eps', format='eps')"
   ],
   "metadata": {
    "collapsed": false
   }
  },
  {
   "cell_type": "markdown",
   "metadata": {},
   "source": [
    "## Logarithmic Negativity"
   ]
  },
  {
   "cell_type": "code",
   "execution_count": null,
   "metadata": {},
   "outputs": [],
   "source": [
    "fig, ax = plt.subplots(figsize=(IMG_WIDTH/100, IMG_HEIGHT/100))\n",
    "for name, group in df.groupby('Interaction Time'):\n",
    "    ax.plot(group['Time'], group['Logarithmic Negativity'], label=f'{ax_names[name]}')"
   ]
  },
  {
   "cell_type": "markdown",
   "metadata": {},
   "source": [
    "## Heat Exchanges"
   ]
  },
  {
   "cell_type": "code",
   "execution_count": null,
   "metadata": {},
   "outputs": [],
   "source": [
    "df_to_plot = df.loc[df['Time'] > 0]\n",
    "fig, ax = plt.subplots(figsize=(3.5, 4.5))\n",
    "for i, (name, group) in enumerate(df_to_plot.groupby('Interaction Time')):\n",
    "    ax.plot(group['Time'], group['Jc'], label=ax_names[name])\n",
    "ax.set_xlim([0, 100])\n",
    "ax.set_ylim([-0.05, 0.00001])\n",
    "ax.set_xlabel('Time (a.u.)')\n",
    "ax.set_ylabel('$J_c$')\n",
    "ax.legend(loc='center right', title='')\n",
    "plt.show()"
   ]
  },
  {
   "cell_type": "code",
   "execution_count": null,
   "metadata": {},
   "outputs": [],
   "source": [
    "fig, ax = plt.subplots(figsize=(3.5, 4.5))\n",
    "for i, (name, group) in enumerate(df_to_plot.groupby('Interaction Time')):\n",
    "    ax.plot(group['Time'], group['J1'], label=ax_names[name])\n",
    "ax.set_xlim([0, 1000])\n",
    "ax.set_ylim([-0.0002, 0.000005])\n",
    "ax.set_xlabel('Time (a.u.)')\n",
    "ax.set_ylabel('$J_1$')\n",
    "plt.show()"
   ]
  },
  {
   "cell_type": "code",
   "execution_count": null,
   "metadata": {},
   "outputs": [],
   "source": [
    "fig, ax = plt.subplots(figsize=(3.5, 4.5))\n",
    "linestyles = ['-', '--', '-.', ':']\n",
    "for i, (name, group) in enumerate(df_to_plot.groupby('Interaction Time')):\n",
    "    ax.plot(group['Time'], group['J2'], label=name, linestyle=linestyles[i % len(linestyles)])\n",
    "ax.set_xlim([0, 1000])\n",
    "ax.set_ylim([-0.004, 0.0001])\n",
    "ax.set_xlabel('Time (a.u.)')\n",
    "ax.set_ylabel('$J_2$')\n",
    "\n",
    "# Create an inset plot\n",
    "axins = fig.add_axes([0.43, 0.25, 0.4, 0.45])\n",
    "for i, (name, group) in enumerate(df_to_plot.groupby('Interaction Time')):\n",
    "    axins.plot(group['Time'], group['J2'], label=name, linestyle=linestyles[i % len(linestyles)])\n",
    "axins.set_xlim([0, 1000])\n",
    "axins.set_ylim([-0.00005, 0.00001])\n",
    "\n",
    "plt.show()"
   ]
  },
  {
   "cell_type": "code",
   "execution_count": null,
   "metadata": {
    "scrolled": true
   },
   "outputs": [],
   "source": [
    "fig, axs = plt.subplots(ncols=3, figsize=(IMG_WIDTH/100 + 2, IMG_HEIGHT/100), layout='constrained')\n",
    "ax_names = {\n",
    "    0.05: '$\\Delta t = 0.05$',\n",
    "    0.1: '$\\Delta t = 0.1$',\n",
    "    1.0: '$\\Delta t = 1.0$',\n",
    "}\n",
    "\n",
    "y_names = {\n",
    "    'Jc': '$J_c$',\n",
    "    'J1': '$J_1$',\n",
    "    'J2': '$J_2$'\n",
    "}\n",
    "\n",
    "for i, (name, group) in enumerate(df.loc[df['Time'] > 0].groupby('Interaction Time')):\n",
    "    for j, current in enumerate(['Jc', 'J1', 'J2']):\n",
    "        axs[j].plot(group['Time'], group[current], label=ax_names[name])\n",
    "        axs[j].set_xlabel('Time (a.u.)')\n",
    "        axs[j].set_ylabel(y_names[current])\n",
    "for ax in axs:\n",
    "    ax.ticklabel_format(axis='y', style='sci', scilimits=(0,0))\n",
    "    ax.yaxis.get_offset_text().set_color('black')\n",
    "        \n",
    "axs[0].set_xlim([0, 1000])\n",
    "axs[1].set_xlim([0, 1000])\n",
    "axs[2].set_xlim([0, 200])\n",
    "axs[0].set_ylim([-2e-4, 1e-5])\n",
    "axs[1].set_ylim([-5e-5, 2e-6])\n",
    "axs[2].set_ylim([-4e-3, 2e-4])\n",
    "axs[0].legend()\n",
    "\n",
    "# Create an inset plot\n",
    "axins = fig.add_axes([0.9, 0.3, 0.15, 0.4])\n",
    "for spine in axins.spines.values():\n",
    "    spine.set_color('black')\n",
    "\n",
    "for i, (name, group) in enumerate(df_to_plot.groupby('Interaction Time')):\n",
    "    axins.plot(group['Time'], group['J2'], label=name)\n",
    "axins.set_xlim([0, 1001])\n",
    "axins.set_ylim([-0.00005, 0.00001])\n",
    "axins.yaxis.get_offset_text().set_color('black')\n",
    "\n",
    "plt.show()\n",
    "\n",
    "fig.savefig(f'../img/obs_evolution/{STATE}/heat_evolution.eps', format='eps', bbox_inches='tight')"
   ]
  }
 ],
 "metadata": {
  "kernelspec": {
   "display_name": "Python 3 (ipykernel)",
   "language": "python",
   "name": "python3"
  },
  "language_info": {
   "codemirror_mode": {
    "name": "ipython",
    "version": 3
   },
   "file_extension": ".py",
   "mimetype": "text/x-python",
   "name": "python",
   "nbconvert_exporter": "python",
   "pygments_lexer": "ipython3",
   "version": "3.10.8"
  }
 },
 "nbformat": 4,
 "nbformat_minor": 1
}
