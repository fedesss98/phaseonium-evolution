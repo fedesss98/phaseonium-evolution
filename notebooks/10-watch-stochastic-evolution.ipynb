{
 "cells": [
  {
   "cell_type": "code",
   "execution_count": 8,
   "outputs": [],
   "source": [
    "%matplotlib widget\n",
    "import matplotlib.pyplot as plt\n",
    "import numpy as np\n",
    "import os\n",
    "import pandas as pd\n",
    "import plotly.express as px\n",
    "from plotly.subplots import make_subplots\n",
    "import plotly.graph_objects as go\n",
    "from src.utilities import set_matplotlib_defaults\n",
    "import plotly.io as pio\n",
    "# Set default plotly theme\n",
    "pio.templates.default = 'plotly_white'\n",
    "set_matplotlib_defaults()\n",
    "\n",
    "from src.utilities import Matrix\n",
    "\n",
    "from src.observables import *\n",
    "\n",
    "\n",
    "SUFFIX = '.npy'\n",
    "OMEGA = 1  # Interaction Strength\n",
    "\n",
    "HEAT = False"
   ],
   "metadata": {
    "collapsed": false,
    "ExecuteTime": {
     "end_time": "2023-09-12T10:51:06.808181400Z",
     "start_time": "2023-09-12T10:51:06.763020200Z"
    }
   }
  },
  {
   "cell_type": "markdown",
   "source": [
    "### Functions"
   ],
   "metadata": {
    "collapsed": false
   }
  },
  {
   "cell_type": "code",
   "execution_count": 9,
   "outputs": [],
   "source": [
    "def single_entropy(cov, system):\n",
    "    d1, d2 = symplectic_eigenvalues(cov)\n",
    "    if system == 1:\n",
    "        x1 = d1 + 1/2\n",
    "        x2 = d1 - 1/2\n",
    "    elif system == 2:\n",
    "        x1 = d2 + 1/2\n",
    "        x2 = d2 - 1/2\n",
    "    return x1 * np.log(x1) - x2 * np.log(x2)"
   ],
   "metadata": {
    "collapsed": false,
    "ExecuteTime": {
     "end_time": "2023-09-12T10:51:07.667862100Z",
     "start_time": "2023-09-12T10:51:07.656701Z"
    }
   }
  },
  {
   "cell_type": "code",
   "execution_count": 10,
   "outputs": [],
   "source": [
    "def get_observable(observable, covs, iterator):\n",
    "    if observable == 'Entropy':\n",
    "        func = symplectic_entropy\n",
    "    elif observable == 'Mutual Information':\n",
    "        func = mutual_information\n",
    "    elif observable == 'Quantum Discord':\n",
    "        func = gaussian_quantum_discord\n",
    "    elif observable == 'Logarithmic Negativity':\n",
    "        func = logarithmic_negativity\n",
    "    else:\n",
    "        raise ValueError(f'Observable {observable} not supported')\n",
    "\n",
    "    arr = []\n",
    "    for i in iterator:\n",
    "        arr.append(func(covs[i]))\n",
    "    return np.array(arr).real"
   ],
   "metadata": {
    "collapsed": false,
    "ExecuteTime": {
     "end_time": "2023-09-12T10:51:07.994888100Z",
     "start_time": "2023-09-12T10:51:07.977974400Z"
    }
   }
  },
  {
   "cell_type": "markdown",
   "source": [
    "# Effects of Stochastic Interaction Times\n",
    "For the paper we inspect:\n",
    "1. the difference in the evolution of the observables for an interaction times given or extracted from a random distribution (Maxwellian).\n",
    "2. the difference of the partial evolution of observables for different interaction times. \n",
    "\n",
    "## Effects of alpha and phi\n",
    "3. the difference in the evolution of the observables for different values of alpha and phi with KT fixed.\n",
    "\n",
    "For (1) use data with IDs [032, 01S] and for (2) use data with IDs [035, 036]. "
   ],
   "metadata": {
    "collapsed": false
   }
  },
  {
   "cell_type": "code",
   "execution_count": 11,
   "outputs": [
    {
     "name": "stdout",
     "output_type": "stream",
     "text": [
      "There are 30 files to load\n"
     ]
    }
   ],
   "source": [
    "log = pd.read_csv('../objects/saved/logs.csv', sep=',', decimal='.', index_col='Id')\n",
    "# Format the index values as strings with leading zeros\n",
    "log.index = log.index.astype(str).str.zfill(3)\n",
    "\n",
    "# Filter the data to load\n",
    "rand_s10 = [f\"R{i}10\" for i in range(10)]\n",
    "rand_s05 = [f\"R{i}05\" for i in range(10)]\n",
    "rand_s01 = [f\"R{i}01\" for i in range(10)]\n",
    "filter_ids = rand_s10 + rand_s05 + rand_s01 \n",
    "labels_dict = {\n",
    "    '032': 'Mean = 1.0 | Std = 0.0', \n",
    "    '07S': 'Mean = 1.0 | Std = 0.1', \n",
    "    '08S': 'Mean = 1.0 | Std = 0.5', \n",
    "    '09S': 'Mean = 1.0 | Std = 1.0',\n",
    "}\n",
    "\n",
    "# Filter the DataFrame using the query method and the filtered IDs\n",
    "files_to_load = log.loc[filter_ids]\n",
    "print(f\"There are {len(files_to_load)} files to load\")"
   ],
   "metadata": {
    "collapsed": false,
    "ExecuteTime": {
     "end_time": "2023-09-12T10:51:10.065441400Z",
     "start_time": "2023-09-12T10:51:10.046142800Z"
    }
   }
  },
  {
   "cell_type": "code",
   "execution_count": 14,
   "metadata": {
    "ExecuteTime": {
     "end_time": "2023-09-12T11:36:18.856196300Z",
     "start_time": "2023-09-12T11:34:08.444237500Z"
    }
   },
   "outputs": [
    {
     "name": "stdout",
     "output_type": "stream",
     "text": [
      "Loading files with:\n",
      "      Evolution Steps\t    Log ID\t     Interaction Time\t Interaction Strength\t\n",
      "                 1001\t      R010\t                  1.0\t                  1.0\n",
      "                 1001\t      R110\t                  1.0\t                  1.0\n",
      "                 1001\t      R210\t                  1.0\t                  1.0\n",
      "                 1001\t      R310\t                  1.0\t                  1.0\n",
      "                 1001\t      R410\t                  1.0\t                  1.0\n",
      "                 1001\t      R510\t                  1.0\t                  1.0\n",
      "                 1001\t      R610\t                  1.0\t                  1.0\n",
      "                 1001\t      R710\t                  1.0\t                  1.0\n",
      "                 1001\t      R810\t                  1.0\t                  1.0\n",
      "                 1001\t      R910\t                  1.0\t                  1.0\n",
      "                 1001\t      R005\t                  1.0\t                  1.0\n",
      "                 1001\t      R105\t                  1.0\t                  1.0\n",
      "                 1001\t      R205\t                  1.0\t                  1.0\n",
      "                 1001\t      R305\t                  1.0\t                  1.0\n",
      "                 1001\t      R405\t                  1.0\t                  1.0\n",
      "                 1001\t      R505\t                  1.0\t                  1.0\n",
      "                 1001\t      R605\t                  1.0\t                  1.0\n",
      "                 1001\t      R705\t                  1.0\t                  1.0\n",
      "                 1001\t      R805\t                  1.0\t                  1.0\n",
      "                 1001\t      R905\t                  1.0\t                  1.0\n",
      "                 1001\t      R001\t                  1.0\t                  1.0\n",
      "                 1001\t      R101\t                  1.0\t                  1.0\n",
      "                 1001\t      R201\t                  1.0\t                  1.0\n",
      "                 1001\t      R301\t                  1.0\t                  1.0\n",
      "                 1001\t      R401\t                  1.0\t                  1.0\n",
      "                 1001\t      R501\t                  1.0\t                  1.0\n",
      "                 1001\t      R601\t                  1.0\t                  1.0\n",
      "                 1001\t      R701\t                  1.0\t                  1.0\n",
      "                 1001\t      R801\t                  1.0\t                  1.0\n",
      "                 1001\t      R901\t                  1.0\t                  1.0\n"
     ]
    }
   ],
   "source": [
    "observables = ['Temperatures', 'Entropies', 'Mutual Information', 'Quantum Discord', 'Logarithmic Negativity', 'Heat Flux']\n",
    "df = pd.DataFrame(columns=observables)\n",
    "steps_per_timedelta = 1\n",
    "\n",
    "steps = 10000  # To filter data points\n",
    "\n",
    "print(f'Loading files with:\\n'\n",
    "      f'{\"Evolution Steps\":>21}\\t'\n",
    "      f'{\"Log ID\":>10}\\t'\n",
    "      f'{\"Interaction Time\":>21}\\t'\n",
    "      f'{\"Interaction Strength\":>21}\\t')\n",
    "for indx, metadata in files_to_load.iterrows():\n",
    "    dt_df = pd.DataFrame(columns=observables)\n",
    "    timedelta = metadata['timedelta']\n",
    "    omega = metadata['omega']\n",
    "    \n",
    "    cov_filename = f'../objects/saved/{indx}_rho_covariance.npy'\n",
    "    heat_filename = f'../objects/saved/{indx}_rho_heats.npy'\n",
    "    cov_evolution = np.load(cov_filename)\n",
    "    heat_transfer = np.load(heat_filename).real if HEAT else np.zeros((len(cov_evolution),3))\n",
    "    \n",
    "    print(f'{len(cov_evolution):>21}\\t'\n",
    "          f'{indx:>10}\\t'\n",
    "          f'{timedelta:>21}\\t'\n",
    "          f'{omega:>21}')\n",
    "    \n",
    "    # Iterator to select only a sample of data\n",
    "    iterator = np.linspace(0, len(cov_evolution) - 1, steps).astype(int)\n",
    "    heat_iterator = np.linspace(0, len(heat_transfer) - 1, steps).astype(int)\n",
    "    \n",
    "    dt_df['Log ID'] = [indx for _ in iterator]\n",
    "    dt_df['Time'] = [i * timedelta for i in iterator]\n",
    "    dt_df['Interaction Time'] = timedelta\n",
    "    dt_df['d1'] = np.array([symplectic_eigenvalues(cov_evolution[i])[1] for i in iterator]).real\n",
    "    dt_df['d2'] = np.array([symplectic_eigenvalues(cov_evolution[i])[1] for i in iterator]).real\n",
    "    dt_df['d1-'] = np.array([symplectic_eigenvalues_transposed(cov_evolution[i])[1] for i in iterator]).real\n",
    "    dt_df['d2-'] = np.array([symplectic_eigenvalues_transposed(cov_evolution[i])[1] for i in iterator]).real\n",
    "\n",
    "    for obs in observables:\n",
    "        if obs == 'Heat Flux':\n",
    "            dt_df['J1'] = np.array([heat_transfer[i, 0] for i in heat_iterator])\n",
    "            dt_df['J2'] = np.array([heat_transfer[i, 1] for i in heat_iterator])\n",
    "            dt_df['Jc'] = np.array([heat_transfer[i, 2] for i in heat_iterator])\n",
    "        elif obs == 'Entropies':\n",
    "            dt_df['S'] = np.array([symplectic_entropy(cov_evolution[i]) for i in iterator]).real\n",
    "            dt_df['S1'] = np.array([single_entropy(cov_evolution[i], 2) for i in iterator]).real\n",
    "            dt_df['S2'] = np.array([single_entropy(cov_evolution[i], 1) for i in iterator]).real\n",
    "        elif obs == 'Temperatures':\n",
    "            dt_df['N1'] = np.array([mean_photon_numbers(cov_evolution[i])[0] for i in iterator]).real\n",
    "            dt_df['N2'] = np.array([mean_photon_numbers(cov_evolution[i])[1] for i in iterator]).real\n",
    "        else:\n",
    "            dt_df[obs] = get_observable(obs, cov_evolution, iterator)\n",
    "\n",
    "    df = pd.concat([df, dt_df])\n",
    "df['T_ratio'] = df['N2'] / df['N1']\n",
    "df.drop('Heat Flux', axis=1, inplace=True)\n",
    "df.drop('Entropies', axis=1, inplace=True)\n",
    "df.drop('Temperatures', axis=1, inplace=True)"
   ]
  },
  {
   "cell_type": "code",
   "execution_count": null,
   "outputs": [],
   "source": [
    "fig_n, ax = plt.subplots()\n",
    "for indx, group in df.groupby('Log ID'):\n",
    "    print(indx)\n",
    "    timedelta = log.loc[indx, 'timedelta']\n",
    "    label = f\"{log.loc[indx, 'alpha']} + {log.loc[indx, 'phi']}\"\n",
    "    ax.plot(group['Time'], group['S'], label=label)\n",
    "ax.legend()\n",
    "ax.set_xlim(0, 250)\n",
    "plt.draw()\n",
    "plt.show()"
   ],
   "metadata": {
    "collapsed": false
   }
  },
  {
   "cell_type": "code",
   "execution_count": null,
   "outputs": [],
   "source": [
    "\n",
    "fig_n, ax = plt.subplots()\n",
    "\n",
    "for indx, group in df.groupby('Log ID'):\n",
    "    timedelta = log.loc[indx, 'timedelta']\n",
    "    label = f\"{log.loc[indx, 'alpha']} + {log.loc[indx, 'phi']}\"\n",
    "    ax.plot(group['Time'], group['Quantum Discord'], label=label)\n",
    "ax.legend()\n",
    "ax.set_xlim(0, 200)\n",
    "plt.draw()\n",
    "plt.show()"
   ],
   "metadata": {
    "collapsed": false
   }
  },
  {
   "cell_type": "code",
   "execution_count": null,
   "metadata": {},
   "outputs": [],
   "source": [
    "df_melt = df.melt(id_vars=['Time', 'Log ID'], value_vars=['N1', 'N2'], var_name='System', value_name='Temperature')\n",
    "fig_temp = px.line(df_melt, x='Time', y='Temperature',\n",
    "                   color='Log ID', line_dash='System',\n",
    "                   title='Mean Photon Numbers in the Systems',\n",
    "                   labels={'Temperature': 'Mean Photon '\n",
    "                                          'Number', 'Time': 'Time (a.u.)'})\n",
    "fig_temp.update_xaxes(range=[0, 2000])\n",
    "fig_temp.show()"
   ]
  },
  {
   "cell_type": "code",
   "execution_count": null,
   "metadata": {},
   "outputs": [],
   "source": [
    "df_melt = df.melt(id_vars=['Time', 'Log ID'], value_vars=['S1', 'S2'], var_name='System', value_name='Entropy')\n",
    "fig_entropy = px.line(df_melt, x='Time', y='Entropy',\n",
    "                   color='Log ID', line_dash='System',\n",
    "                   title='Systems Entropies')\n",
    "fig_entropy.update_xaxes(range=[0, 200])\n",
    "fig_entropy.show()"
   ]
  },
  {
   "cell_type": "code",
   "execution_count": null,
   "metadata": {},
   "outputs": [],
   "source": [
    "fig_discord = px.line(df, x='Time', y='Quantum Discord', color='Log ID', title='Quantum Discord')\n",
    "fig_discord.update_xaxes(range=[0, 200])\n",
    "fig_discord.show()"
   ]
  },
  {
   "cell_type": "code",
   "execution_count": null,
   "metadata": {},
   "outputs": [],
   "source": [
    "fig_mutinf = px.line(df, x='Time', y='Mutual Information', color='Log ID', title='Mutual Information')\n",
    "fig_mutinf.update_xaxes(range=[0, 1500])\n",
    "fig_mutinf.show()"
   ]
  },
  {
   "cell_type": "code",
   "execution_count": null,
   "metadata": {},
   "outputs": [],
   "source": [
    "fig_logneg = px.line(df, x='Time', y='Logarithmic Negativity', color='Log ID', title='Logarithmic Negativity')\n",
    "fig_logneg.update_xaxes(range=[0, 1500])\n",
    "fig_logneg.show()"
   ]
  },
  {
   "cell_type": "code",
   "execution_count": null,
   "metadata": {},
   "outputs": [],
   "source": [
    "df_melt = df.loc[df['Time']>0].melt(id_vars=['Time', 'Interaction Time'], value_vars=['J1', 'J2', 'Jc'], var_name='Current', value_name='Heat')\n",
    "fig_heat = px.line(df_melt, x='Time', y='Heat',\n",
    "                   color='Interaction Time', line_dash='Current',\n",
    "                   title='Heat Currents')\n",
    "fig_heat.update_xaxes(range=[0, 200])\n",
    "fig_heat.update_yaxes(range=[-0.005, 0.0001])\n",
    "fig_heat.show()"
   ]
  },
  {
   "cell_type": "markdown",
   "source": [
    "## Symplectic Eigenvalues"
   ],
   "metadata": {
    "collapsed": false
   }
  },
  {
   "cell_type": "code",
   "execution_count": null,
   "outputs": [],
   "source": [
    "fig, ax = plt.subplots()\n",
    "x=df.loc[df['Interaction Time'] == 1.0]['Time']\n",
    "y1=df.loc[df['Interaction Time'] == 1.0]['d1']\n",
    "y2=df.loc[df['Interaction Time'] == 1.0]['d1-']\n",
    "ax.plot(x, y1, y2)\n",
    "plt.show()"
   ],
   "metadata": {
    "collapsed": false
   }
  },
  {
   "cell_type": "code",
   "execution_count": null,
   "outputs": [],
   "source": [
    "fig, ax = plt.subplots()\n",
    "\n",
    "x=df.loc[df['Interaction Time'] == 1.0]['Time']\n",
    "y1=df.loc[df['Interaction Time'] == 1.0]['d2']\n",
    "y2=df.loc[df['Interaction Time'] == 1.0]['d2-']\n",
    "\n",
    "ax.plot(x, y1, y2)\n",
    "plt.show()"
   ],
   "metadata": {
    "collapsed": false
   }
  },
  {
   "cell_type": "markdown",
   "source": [
    "## Save Data Frame"
   ],
   "metadata": {
    "collapsed": false
   }
  },
  {
   "cell_type": "code",
   "execution_count": 15,
   "outputs": [],
   "source": [
    "pd.to_pickle(df, f'../objects/saved/observables.pkl')"
   ],
   "metadata": {
    "collapsed": false,
    "ExecuteTime": {
     "end_time": "2023-09-12T11:36:18.926823200Z",
     "start_time": "2023-09-12T11:36:18.860676700Z"
    }
   }
  },
  {
   "cell_type": "code",
   "execution_count": null,
   "outputs": [],
   "source": [],
   "metadata": {
    "collapsed": false
   }
  }
 ],
 "metadata": {
  "kernelspec": {
   "display_name": "Python 3 (ipykernel)",
   "language": "python",
   "name": "python3"
  },
  "language_info": {
   "codemirror_mode": {
    "name": "ipython",
    "version": 3
   },
   "file_extension": ".py",
   "mimetype": "text/x-python",
   "name": "python",
   "nbconvert_exporter": "python",
   "pygments_lexer": "ipython3",
   "version": "3.10.8"
  }
 },
 "nbformat": 4,
 "nbformat_minor": 1
}
