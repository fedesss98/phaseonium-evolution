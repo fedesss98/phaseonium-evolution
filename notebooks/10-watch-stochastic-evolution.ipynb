{
 "cells": [
  {
   "cell_type": "code",
   "execution_count": null,
   "outputs": [],
   "source": [
    "%matplotlib widget\n",
    "import matplotlib.pyplot as plt\n",
    "import numpy as np\n",
    "import os\n",
    "import pandas as pd\n",
    "import plotly.express as px\n",
    "from plotly.subplots import make_subplots\n",
    "import plotly.graph_objects as go\n",
    "from src.utilities import set_matplotlib_defaults\n",
    "import plotly.io as pio\n",
    "# Set default plotly theme\n",
    "pio.templates.default = 'plotly_white'\n",
    "set_matplotlib_defaults()\n",
    "\n",
    "from src.utilities import Matrix\n",
    "\n",
    "from src.observables import *\n",
    "\n",
    "\n",
    "SUFFIX = '.npy'\n",
    "OMEGA = 1  # Interaction Strength\n",
    "\n",
    "HEAT = False"
   ],
   "metadata": {
    "collapsed": false
   }
  },
  {
   "cell_type": "markdown",
   "source": [
    "### Functions"
   ],
   "metadata": {
    "collapsed": false
   }
  },
  {
   "cell_type": "code",
   "execution_count": null,
   "outputs": [],
   "source": [
    "def single_entropy(cov, system):\n",
    "    d1, d2 = symplectic_eigenvalues(cov)\n",
    "    if system == 1:\n",
    "        x1 = d1 + 1/2\n",
    "        x2 = d1 - 1/2\n",
    "    elif system == 2:\n",
    "        x1 = d2 + 1/2\n",
    "        x2 = d2 - 1/2\n",
    "    return x1 * np.log(x1) - x2 * np.log(x2)"
   ],
   "metadata": {
    "collapsed": false
   }
  },
  {
   "cell_type": "code",
   "execution_count": null,
   "outputs": [],
   "source": [
    "def get_observable(observable, covs, iterator):\n",
    "    if observable == 'Entropy':\n",
    "        func = symplectic_entropy\n",
    "    elif observable == 'Mutual Information':\n",
    "        func = mutual_information\n",
    "    elif observable == 'Quantum Discord':\n",
    "        func = gaussian_quantum_discord\n",
    "    elif observable == 'Logarithmic Negativity':\n",
    "        func = logarithmic_negativity \n",
    "    else:\n",
    "        raise ValueError(f'Observable {observable} not supported')\n",
    "\n",
    "    arr = []\n",
    "    for i in iterator:\n",
    "        arr.append(func(covs[i]))\n",
    "    return np.array(arr).real"
   ],
   "metadata": {
    "collapsed": false
   }
  },
  {
   "cell_type": "code",
   "execution_count": null,
   "outputs": [],
   "source": [
    "observables = ['Temperatures', 'Entropies', 'Mutual Information', 'Quantum Discord', 'Logarithmic Negativity', 'Heat Flux']\n",
    "steps_per_timedelta = 1\n",
    "\n",
    "steps = 10000  # To filter data points\n",
    "\n",
    "def extract_data(observables, indx, metadata, verbose=False):\n",
    "    dt_df = pd.DataFrame()\n",
    "    timedelta = metadata['timedelta']\n",
    "    omega = metadata['omega']\n",
    "    \n",
    "    cov_filename = f'../objects/saved/{indx}_rho_covariance.npy'\n",
    "    cov_evolution = np.load(cov_filename)\n",
    "\n",
    "    if verbose:\n",
    "        print(f'{len(cov_evolution):>21}\\t'\n",
    "              f'{indx:>10}\\t'\n",
    "              f'{timedelta:>21}\\t'\n",
    "              f'{omega:>21}')\n",
    "\n",
    "    # Iterators to select only a sample of data\n",
    "    iterator = range(len(cov_evolution) - 1)  # np.linspace(0, len(cov_evolution) - 1, steps).astype(int)\n",
    "    \n",
    "    dt_df['Log ID'] = [indx for _ in iterator]\n",
    "    dt_df['Interaction Step'] = [i for i in iterator]\n",
    "    dt_df['Interaction Time'] = [timedelta for i in iterator] \n",
    "    \n",
    "\n",
    "    for obs in observables:\n",
    "        if obs == 'Symplectic':\n",
    "            dt_df['d1'] = np.array([symplectic_eigenvalues(cov_evolution[i])[1] for i in iterator]).real\n",
    "            dt_df['d2'] = np.array([symplectic_eigenvalues(cov_evolution[i])[1] for i in iterator]).real\n",
    "            dt_df['d1-'] = np.array([symplectic_eigenvalues_transposed(cov_evolution[i])[1] for i in iterator]).real\n",
    "            dt_df['d2-'] = np.array([symplectic_eigenvalues_transposed(cov_evolution[i])[1] for i in iterator]).real\n",
    "        elif obs == 'Entropies':\n",
    "            dt_df['S'] = np.array([symplectic_entropy(cov_evolution[i]) for i in iterator]).real\n",
    "            dt_df['S1'] = np.array([single_entropy(cov_evolution[i], 2) for i in iterator]).real\n",
    "            dt_df['S2'] = np.array([single_entropy(cov_evolution[i], 1) for i in iterator]).real\n",
    "        elif obs == 'Photons':\n",
    "            dt_df['N1'] = np.array([mean_photon_numbers(cov_evolution[i])[0] for i in iterator]).real\n",
    "            dt_df['N2'] = np.array([mean_photon_numbers(cov_evolution[i])[1] for i in iterator]).real\n",
    "        elif obs == 'Temperatures':\n",
    "            dt_df['T1'] = np.array([mean_temperatures(cov_evolution[i])[0] for i in iterator]).real\n",
    "            dt_df['T2'] = np.array([mean_temperatures(cov_evolution[i])[1] for i in iterator]).real\n",
    "            dt_df['T_ratio'] = dt_df['T1'].values / dt_df['T2'].values\n",
    "        elif obs == 'Quantum Discord':\n",
    "            dt_df['DL'] = np.array([gaussian_quantum_discord(cov_evolution[i])[0] for i in iterator]).real\n",
    "            dt_df['DR'] = np.array([gaussian_quantum_discord(cov_evolution[i])[1] for i in iterator]).real\n",
    "        elif obs == 'Phase':\n",
    "            try:\n",
    "                random_phis = np.load(f'../objects/saved/{indx}_rho_phis.npy')\n",
    "                dt_df['phi'] = random_phis\n",
    "            except FileNotFoundError:\n",
    "                print(f'Could not find file {indx}_rho_phis.npy')\n",
    "        elif obs == 'Times':\n",
    "            try:\n",
    "                random_times = np.load(f'../objects/saved/{indx}_rho_gaussian_times.npy')\n",
    "                dt_df['Interaction Time'] = random_times\n",
    "            except FileNotFoundError:\n",
    "                print(f'Could not find file {indx}_rho_gaussian_times.npy')\n",
    "        else:\n",
    "            dt_df[obs] = get_observable(obs, cov_evolution, iterator)\n",
    "            \n",
    "    return dt_df"
   ],
   "metadata": {
    "collapsed": false
   }
  },
  {
   "cell_type": "markdown",
   "source": [
    "# Effects of Stochastic Interaction Times (1) and Phaseonium Phases (2)\n",
    "\n",
    "\n",
    "For (1) use data with IDs with R like 0R00Th and for (2) use data with IDs with P like 0P00Th. "
   ],
   "metadata": {
    "collapsed": false
   }
  },
  {
   "cell_type": "code",
   "execution_count": null,
   "outputs": [],
   "source": [
    "log = pd.read_csv('../objects/saved/logs.csv', sep=';', decimal='.', index_col='Id')\n",
    "# Format the index values as strings with leading zeros\n",
    "log.index = log.index.astype(str).str.zfill(3)\n",
    "log.tail()"
   ],
   "metadata": {
    "collapsed": false
   }
  },
  {
   "cell_type": "code",
   "execution_count": null,
   "outputs": [],
   "source": [
    "plt.close('all')\n",
    "\n",
    "def make_plots(total_df, observables, layout=(2, 2), figsize=(10, 4), **kwargs):\n",
    "    # Make a 2x4 plot, one row per Final Temperature and one column per Interaction Time \n",
    "    fig_temps, axs_temps = plt.subplots(nrows=layout[0], ncols=layout[1], figsize=figsize, layout='tight')\n",
    "    axs_temps = axs_temps.flatten()\n",
    "    fig_temps.suptitle('Temperatures of the cavities $S1$ and $S2$')\n",
    "    # Temperatures Ratio\n",
    "    fig_ratio, axs_ratio = plt.subplots(nrows=layout[0], ncols=layout[1], figsize=figsize, layout='tight')\n",
    "    axs_ratio = axs_ratio.flatten()\n",
    "    fig_ratio.suptitle('Temperatures Ratio $T_{S1}/T_{S2}$')\n",
    "    # Random Times / Phases\n",
    "    fig_rand, axs_rand = plt.subplots(nrows=layout[0], ncols=layout[1], figsize=figsize, layout='tight')\n",
    "    axs_rand = axs_rand.flatten()\n",
    "    \n",
    "    ids = total_df['Log ID'].unique()\n",
    "    \n",
    "    for i, stem in enumerate(ids):\n",
    "        log_id = stem if stem[0] != 'R' else \"1\" + stem\n",
    "        \n",
    "        ax_temps = axs_temps[i]\n",
    "        ax_ratio = axs_ratio[i]\n",
    "        ax_rand = axs_rand[i]\n",
    "        \n",
    "        df = total_df.loc[total_df['Log ID'] == stem]\n",
    "        dt = log.loc[log_id, 'timedelta']\n",
    "        tf = log.loc[log_id, 'Tf']\n",
    "        \n",
    "        ax_temps.plot(df['Interaction Step'], df[('T1', 'mean')], label=f'{dt}, {tf}')\n",
    "        ax_temps.plot(df['Interaction Step'], df[('T2', 'mean')], label=f'{dt}, {tf}')\n",
    "        # Plot the standard deviation as a colored area\n",
    "        ax_temps.fill_between(df['Interaction Step'], \n",
    "                        df[('T1', 'mean')] - df[('T1', 'std')], \n",
    "                        df[('T1', 'mean')] + df[('T1', 'std')], \n",
    "                        color='b', alpha=0.2)\n",
    "        ax_temps.fill_between(df['Interaction Step'], \n",
    "                        df[('T2', 'mean')] - df[('T2', 'std')], \n",
    "                        df[('T2', 'mean')] + df[('T2', 'std')], \n",
    "                        color='r', alpha=0.2)\n",
    "        # Plot the ratio\n",
    "        ax_ratio.plot(df['Interaction Step'], df[('T_ratio', 'mean')], label=f'{dt}, {tf}')\n",
    "        ax_ratio.fill_between(df['Interaction Step'], \n",
    "                        df[('T_ratio', 'mean')] - df[('T_ratio', 'std')], \n",
    "                        df[('T_ratio', 'mean')] + df[('T_ratio', 'std')], \n",
    "                        color='b', alpha=0.2)\n",
    "        \n",
    "        if 'Phase' in observables:\n",
    "            ax_rand.plot(df[('phi', 'mean')], label=f'{stem}')\n",
    "        elif 'Times' in observables:\n",
    "            ax_rand.plot(df[('Interaction Time', 'mean')], label=f'{stem}')\n",
    "        \n",
    "        for ax in [ax_temps, ax_ratio, ax_rand]:\n",
    "            if kwargs.get('legend', False):\n",
    "                ax.legend()\n",
    "            \n",
    "            # Set column names\n",
    "            if i==0 or i==1:\n",
    "                ax.set_title(f'$\\Delta t = {dt}, {stem}$')\n",
    "            # Set row names\n",
    "            if i==0 or i==2:\n",
    "                ax.set_ylabel(f\"$T_{'{st}'} = {tf}, {stem}$\")\n",
    "                    \n",
    "    \n",
    "    return fig_temps, fig_ratio\n"
   ],
   "metadata": {
    "collapsed": false
   }
  },
  {
   "cell_type": "code",
   "execution_count": null,
   "outputs": [],
   "source": [
    "def aggregate_stochastic_data(df_dict, observables, max_len=0):\n",
    "    total_df = pd.DataFrame()\n",
    "\n",
    "    for i, (stem, ids) in enumerate(df_dict.items()):\n",
    "        try:\n",
    "            df = pd.concat([extract_data(observables, indx, log.loc[indx]) for indx in ids])\n",
    "        except FileNotFoundError as e:\n",
    "            print(f'Could not find data for ID: {stem}: {e}')\n",
    "        except KeyError as e:\n",
    "            print(f'Could not load data for ID: {stem}: {e}')\n",
    "            continue\n",
    "        else:\n",
    "            df = df.drop(columns=['Log ID']).groupby('Interaction Step').agg(['mean', 'std'])\n",
    "            print(stem)\n",
    "            df['Log ID'] = stem\n",
    "            \n",
    "            if max_len > 0:\n",
    "                df = df.reindex(np.arange(1, max_len + 1), method='ffill')\n",
    "                \n",
    "            for temperature in ['T1', 'T2']:\n",
    "                df[f'{temperature}min'] = df[(temperature, 'mean')] - df[(temperature, 'std')]\n",
    "                df[f'{temperature}max'] = df[(temperature, 'mean')] + df[(temperature, 'std')]\n",
    "            df.reset_index(inplace=True)\n",
    "            total_df = pd.concat([total_df, df])\n",
    "    \n",
    "    return total_df"
   ],
   "metadata": {
    "collapsed": false
   }
  },
  {
   "cell_type": "code",
   "execution_count": null,
   "outputs": [],
   "source": [
    "def set_tore_layout(axs, **kwargs):\n",
    "    linestyle = dict(linestyle=(0, (7, 5)), linewidth=1, color='k', alpha=0.5)\n",
    "    plots_linestyle = dict(linestyle='-', linewidth=4, zorder=5)\n",
    "    \n",
    "    xlim = kwargs.get('xlim', (-7, 260))\n",
    "    \n",
    "    for ax in axs:\n",
    "        ax.set_ylim(0.45, 1.55)\n",
    "        ax.set_xlim(xlim)\n",
    "        \n",
    "        ax.plot(list(xlim), [1, 1], **linestyle)\n",
    "        ax.plot(list(xlim), [1.5, 1.5], **linestyle)\n",
    "        ax.plot(list(xlim), [0.5, 0.5], **linestyle)\n",
    "        \n",
    "        ax.grid(visible=False)\n",
    "        ax.set_yticks([0.6, 0.8, 1.0, 1.2, 1.4])\n",
    "        \n",
    "        ax.set_xlabel('number of collisions', fontsize=32)\n",
    "\n",
    "        ax.tick_params(axis='both', which='major', colors='black', direction='in', labelsize=28)\n",
    "        # Change the color of the frame borders\n",
    "        for spine in ax.spines.values():\n",
    "            spine.set_color('black')\n",
    "    \n",
    "    axs[0].set_ylabel('temperature', fontsize=32)\n",
    "    return axs, plots_linestyle\n",
    "\n",
    "def make_tore_plots(df, colormap, figsize=(10, 5), **kwargs):\n",
    "    fig, axs = plt.subplots(nrows=1, ncols=2, figsize=figsize, layout='tight')\n",
    "    axs = axs.flatten()\n",
    "    axs, linestyle = set_tore_layout(axs, **kwargs)\n",
    "    \n",
    "    ids = df['Log ID'].unique()\n",
    "    \n",
    "    for i, stem in enumerate(ids):\n",
    "        df_to_plot = df.loc[df['Log ID'] == stem]\n",
    "        color = colormap[stem]\n",
    "        \n",
    "        steps = df_to_plot['Interaction Step']  # x-axis\n",
    "        for ax, temperature in zip(axs, ['T1', 'T2']):\n",
    "            if 'R' in stem:\n",
    "                # Random simulations must be plotted with their standard deviation\n",
    "                ax.plot(steps, df_to_plot[(temperature, 'mean')], label=f'{stem}', \n",
    "                        color=color, **linestyle)\n",
    "                ax.fill_between(steps, df_to_plot[f'{temperature}min'], df_to_plot[f'{temperature}max'], \n",
    "                                color=color, alpha=0.5, zorder=10)\n",
    "            else:\n",
    "                ax.plot(steps, df_to_plot[(temperature, 'mean')], label=f'{stem}', color=color, lw=4, ls=(0, (1, 2)), zorder=2)\n",
    "    return fig\n",
    "\n",
    "plt.close('all')"
   ],
   "metadata": {
    "collapsed": false
   }
  },
  {
   "cell_type": "markdown",
   "source": [
    "## Recap Plot"
   ],
   "metadata": {
    "collapsed": false
   }
  },
  {
   "cell_type": "code",
   "execution_count": null,
   "outputs": [],
   "source": [
    "dt_tf_dict = {\n",
    "    '01Th': [\"01Th\"],\n",
    "    'R01Th': [f\"{i}R01Th\" for i in range(10)],\n",
    "    '05Th': [\"05Th\"],\n",
    "    'R05Th': [f\"{i}R05Th\" for i in range(10)],\n",
    "}\n",
    "\n",
    "observables = ['Temperatures', 'Quantum Discord', 'Times']\n",
    "\n",
    "df_times = aggregate_stochastic_data(dt_tf_dict, observables)\n",
    "df_times.head()"
   ],
   "metadata": {
    "collapsed": false
   }
  },
  {
   "cell_type": "code",
   "execution_count": null,
   "outputs": [],
   "source": [
    "fig_temps, fig_ratio = make_plots(df_times, observables, layout=(2, 2), figsize=(10, 6))"
   ],
   "metadata": {
    "collapsed": false
   }
  },
  {
   "cell_type": "code",
   "execution_count": null,
   "outputs": [],
   "source": [
    "fig_temps.savefig('../img/obs_evolution/stochastic/randomphases_temperatures.png', dpi=300)\n",
    "fig_ratio.savefig('../img/obs_evolution/stochastic/randomphases_tempratio.png', dpi=300)"
   ],
   "metadata": {
    "collapsed": false
   }
  },
  {
   "cell_type": "markdown",
   "source": [
    "## Paper Plots"
   ],
   "metadata": {
    "collapsed": false
   }
  },
  {
   "cell_type": "code",
   "execution_count": null,
   "outputs": [],
   "source": [
    "colormap = {\n",
    "    '01Th': 'cornflowerblue',\n",
    "    'R01Th': 'blue',\n",
    "    '05Th': 'lightsalmon',\n",
    "    'R05Th': 'crimson',\n",
    "}\n",
    "\n",
    "fig_tore = make_tore_plots(df_times, colormap, figsize=(16, 6))"
   ],
   "metadata": {
    "collapsed": false
   }
  },
  {
   "cell_type": "code",
   "execution_count": null,
   "outputs": [],
   "source": [
    "fig_tore.savefig('../img/obs_evolution/stochastic/randomtimes_temperature.png', dpi=300)\n",
    "fig_tore.savefig('../img/obs_evolution/stochastic/randomtimes_temperature.pdf', dpi=300)"
   ],
   "metadata": {
    "collapsed": false
   }
  },
  {
   "cell_type": "code",
   "execution_count": null,
   "outputs": [],
   "source": [
    "dt_tf_dict = {\n",
    "    '37Th': [\"37Th\"],\n",
    "    'R37Th': [f\"{i}R37Th\" for i in range(10)],\n",
    "    '33Th': [\"33Th\"],\n",
    "    'R33Th': [f\"{i}R33Th\" for i in range(10)],\n",
    "}\n",
    "\n",
    "observables = ['Temperatures', 'Quantum Discord', 'Phase']\n",
    "\n",
    "df_phases = aggregate_stochastic_data(dt_tf_dict, observables, max_len=1500)\n",
    "df_phases.head()"
   ],
   "metadata": {
    "collapsed": false
   }
  },
  {
   "cell_type": "code",
   "execution_count": null,
   "outputs": [],
   "source": [
    "df_phases[\"Log ID\"].unique()"
   ],
   "metadata": {
    "collapsed": false
   }
  },
  {
   "cell_type": "code",
   "execution_count": null,
   "outputs": [],
   "source": [
    "colormap = {\n",
    "    '33Th': 'dodgerblue',\n",
    "    'R33Th': 'blue',\n",
    "    '37Th': 'lightsalmon',\n",
    "    'R37Th': 'crimson',\n",
    "}\n",
    "\n",
    "fig_tore_phases = make_tore_plots(df_phases, colormap, figsize=(16, 6), xlim=(-20, 1510))"
   ],
   "metadata": {
    "collapsed": false
   }
  },
  {
   "cell_type": "code",
   "execution_count": null,
   "outputs": [],
   "source": [
    "plt.xlim(0,500)\n",
    "plt.show()"
   ],
   "metadata": {
    "collapsed": false
   }
  },
  {
   "cell_type": "code",
   "execution_count": null,
   "outputs": [],
   "source": [
    "fig_tore_phases.savefig('../img/obs_evolution/stochastic/randomphases_temperature.png', dpi=300)\n",
    "fig_tore_phases.savefig('../img/obs_evolution/stochastic/randomphases_temperature.pdf', dpi=300)"
   ],
   "metadata": {
    "collapsed": false
   }
  },
  {
   "cell_type": "code",
   "execution_count": null,
   "outputs": [],
   "source": [
    "df_phases['Tspread1'] = df_phases['T1max'] - df_phases['T1min']\n",
    "df_phases['Tspread2'] = df_phases['T2max'] - df_phases['T2min']\n",
    "\n",
    "fig_spread, ax = plt.subplots(figsize=(10, 4))\n",
    "df_phases.loc[df_phases['Log ID'] == 'R37Th', 'Tspread1'].plot(ax=ax)\n",
    "df_phases.loc[df_phases['Log ID'] == 'R37Th', 'Tspread2'].plot(ax=ax)"
   ],
   "metadata": {
    "collapsed": false
   }
  },
  {
   "cell_type": "code",
   "execution_count": null,
   "outputs": [],
   "source": [
    "recap = pd.DataFrame(columns=pd.MultiIndex.from_product([['R01Th', 'R05Th', 'R33Th', 'R37Th'], ['T1', 'T2', 'Tspread1', 'Tspread2']]))\n",
    "megadata = pd.concat([df_times, df_phases])\n",
    "for stem, thermal_time in zip(['R01Th', 'R05Th', 'R33Th', 'R37Th'], [(100, 300), (200, 300), (300, 350), (1200, 1500)]):\n",
    "    data = megadata.loc[\n",
    "        (megadata['Log ID'] == stem) & \n",
    "        (megadata['Interaction Step'] > thermal_time[0]) &\n",
    "        (megadata['Interaction Step'] < thermal_time[1])\n",
    "    ]\n",
    "    recap[(stem, 'Tspread1')] = data['Tspread1'].describe()\n",
    "    recap[(stem, 'Tspread2')] = data['Tspread2'].describe()\n",
    "    recap[(stem, 'T1')] = data[('T1', 'mean')].describe()\n",
    "    recap[(stem, 'T2')] = data[('T2', 'mean')].describe()\n",
    "\n",
    "stem = 'R33Th'\n",
    "mean_temp = recap[[(stem, 'T1'), (stem, 'T2')]].mean(axis=1)['mean']\n",
    "mean_dev = recap[[(stem, 'Tspread1'), (stem, 'Tspread2')]].mean(axis=1)['mean']\n",
    "print(round(mean_temp, 3), ' +- ', round(mean_dev, 3))"
   ],
   "metadata": {
    "collapsed": false
   }
  },
  {
   "cell_type": "code",
   "execution_count": null,
   "outputs": [],
   "source": [
    "for dataframe, stem in zip([df_times, df_phases],[['R01Th', 'R05Th'], ['R33Th', 'R37Th']]):\n",
    "    print(stem)\n",
    "    print(dataframe)"
   ],
   "metadata": {
    "collapsed": false
   }
  },
  {
   "cell_type": "code",
   "execution_count": null,
   "outputs": [],
   "source": [
    "fig_n, ax = plt.subplots()\n",
    "for indx, group in df.groupby('Log ID'):\n",
    "    print(indx)\n",
    "    timedelta = log.loc[indx, 'timedelta']\n",
    "    label = f\"{log.loc[indx, 'alpha']} + {log.loc[indx, 'phi']}\"\n",
    "    ax.plot(group['Time'], group['S'], label=label)\n",
    "ax.legend()\n",
    "ax.set_xlim(0, 250)\n",
    "plt.draw()\n",
    "plt.show()"
   ],
   "metadata": {
    "collapsed": false
   }
  },
  {
   "cell_type": "code",
   "execution_count": null,
   "outputs": [],
   "source": [
    "\n",
    "fig_n, ax = plt.subplots()\n",
    "\n",
    "for indx, group in df.groupby('Log ID'):\n",
    "    timedelta = log.loc[indx, 'timedelta']\n",
    "    label = f\"{log.loc[indx, 'alpha']} + {log.loc[indx, 'phi']}\"\n",
    "    ax.plot(group['Time'], group['Quantum Discord'], label=label)\n",
    "ax.legend()\n",
    "ax.set_xlim(0, 200)\n",
    "plt.draw()\n",
    "plt.show()"
   ],
   "metadata": {
    "collapsed": false
   }
  },
  {
   "cell_type": "code",
   "execution_count": null,
   "metadata": {},
   "outputs": [],
   "source": [
    "df_melt = df.melt(id_vars=['Time', 'Log ID'], value_vars=['N1', 'N2'], var_name='System', value_name='Temperature')\n",
    "fig_temp = px.line(df_melt, x='Time', y='Temperature',\n",
    "                   color='Log ID', line_dash='System',\n",
    "                   title='Mean Photon Numbers in the Systems',\n",
    "                   labels={'Temperature': 'Mean Photon '\n",
    "                                          'Number', 'Time': 'Time (a.u.)'})\n",
    "fig_temp.update_xaxes(range=[0, 2000])\n",
    "fig_temp.show()"
   ]
  },
  {
   "cell_type": "code",
   "execution_count": null,
   "metadata": {},
   "outputs": [],
   "source": [
    "df_melt = df.melt(id_vars=['Time', 'Log ID'], value_vars=['S1', 'S2'], var_name='System', value_name='Entropy')\n",
    "fig_entropy = px.line(df_melt, x='Time', y='Entropy',\n",
    "                   color='Log ID', line_dash='System',\n",
    "                   title='Systems Entropies')\n",
    "fig_entropy.update_xaxes(range=[0, 200])\n",
    "fig_entropy.show()"
   ]
  },
  {
   "cell_type": "code",
   "execution_count": null,
   "metadata": {},
   "outputs": [],
   "source": [
    "fig_discord = px.line(df, x='Time', y='Quantum Discord', color='Log ID', title='Quantum Discord')\n",
    "fig_discord.update_xaxes(range=[0, 200])\n",
    "fig_discord.show()"
   ]
  },
  {
   "cell_type": "code",
   "execution_count": null,
   "metadata": {},
   "outputs": [],
   "source": [
    "fig_mutinf = px.line(df, x='Time', y='Mutual Information', color='Log ID', title='Mutual Information')\n",
    "fig_mutinf.update_xaxes(range=[0, 1500])\n",
    "fig_mutinf.show()"
   ]
  },
  {
   "cell_type": "code",
   "execution_count": null,
   "metadata": {},
   "outputs": [],
   "source": [
    "fig_logneg = px.line(df, x='Time', y='Logarithmic Negativity', color='Log ID', title='Logarithmic Negativity')\n",
    "fig_logneg.update_xaxes(range=[0, 1500])\n",
    "fig_logneg.show()"
   ]
  },
  {
   "cell_type": "code",
   "execution_count": null,
   "metadata": {},
   "outputs": [],
   "source": [
    "df_melt = df.loc[df['Time']>0].melt(id_vars=['Time', 'Interaction Time'], value_vars=['J1', 'J2', 'Jc'], var_name='Current', value_name='Heat')\n",
    "fig_heat = px.line(df_melt, x='Time', y='Heat',\n",
    "                   color='Interaction Time', line_dash='Current',\n",
    "                   title='Heat Currents')\n",
    "fig_heat.update_xaxes(range=[0, 200])\n",
    "fig_heat.update_yaxes(range=[-0.005, 0.0001])\n",
    "fig_heat.show()"
   ]
  },
  {
   "cell_type": "markdown",
   "source": [
    "## Symplectic Eigenvalues"
   ],
   "metadata": {
    "collapsed": false
   }
  },
  {
   "cell_type": "code",
   "execution_count": null,
   "outputs": [],
   "source": [
    "fig, ax = plt.subplots()\n",
    "x=df.loc[df['Interaction Time'] == 1.0]['Time']\n",
    "y1=df.loc[df['Interaction Time'] == 1.0]['d1']\n",
    "y2=df.loc[df['Interaction Time'] == 1.0]['d1-']\n",
    "ax.plot(x, y1, y2)\n",
    "plt.show()"
   ],
   "metadata": {
    "collapsed": false
   }
  },
  {
   "cell_type": "code",
   "execution_count": null,
   "outputs": [],
   "source": [
    "fig, ax = plt.subplots()\n",
    "\n",
    "x=df.loc[df['Interaction Time'] == 1.0]['Time']\n",
    "y1=df.loc[df['Interaction Time'] == 1.0]['d2']\n",
    "y2=df.loc[df['Interaction Time'] == 1.0]['d2-']\n",
    "\n",
    "ax.plot(x, y1, y2)\n",
    "plt.show()"
   ],
   "metadata": {
    "collapsed": false
   }
  },
  {
   "cell_type": "markdown",
   "source": [
    "## Save Data Frame"
   ],
   "metadata": {
    "collapsed": false
   }
  },
  {
   "cell_type": "code",
   "execution_count": null,
   "outputs": [],
   "source": [
    "pd.to_pickle(df, f'../objects/saved/observables.pkl')"
   ],
   "metadata": {
    "collapsed": false
   }
  },
  {
   "cell_type": "code",
   "execution_count": null,
   "outputs": [],
   "source": [],
   "metadata": {
    "collapsed": false
   }
  }
 ],
 "metadata": {
  "kernelspec": {
   "display_name": "Python 3 (ipykernel)",
   "language": "python",
   "name": "python3"
  },
  "language_info": {
   "codemirror_mode": {
    "name": "ipython",
    "version": 3
   },
   "file_extension": ".py",
   "mimetype": "text/x-python",
   "name": "python",
   "nbconvert_exporter": "python",
   "pygments_lexer": "ipython3",
   "version": "3.10.8"
  }
 },
 "nbformat": 4,
 "nbformat_minor": 1
}
