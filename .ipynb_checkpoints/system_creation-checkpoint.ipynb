{
 "cells": [
  {
   "cell_type": "code",
   "execution_count": 1,
   "id": "9ad0414b",
   "metadata": {},
   "outputs": [],
   "source": [
    "import cmath, math\n",
    "import matplotlib.pyplot as plt\n",
    "import numpy as np\n",
    "from qutip import *"
   ]
  },
  {
   "cell_type": "code",
   "execution_count": 2,
   "id": "8a1b93b0",
   "metadata": {},
   "outputs": [],
   "source": [
    "def create_system(dm_type='fock', n_dims=2, **kwargs):\n",
    "    match dm_type:\n",
    "        case 'coherent':\n",
    "            alpha = kwargs.get('alpha') if 'alpha' in kwargs else 1\n",
    "            return coherent_dm(n_dims, alpha)\n",
    "        case 'thermal-enr':\n",
    "            dims = n_dims if isinstance(n_dims, list) else list([n_dims]) \n",
    "            excitations = kwargs.get('excitations') if 'excitations' in kwargs else 1\n",
    "            return enr_thermal_dm(dims,excitations,n=1)\n",
    "        case 'thermal':\n",
    "            n = kwargs.get('n') if 'n' in kwargs else 1\n",
    "            return thermal_dm(n_dims, n)\n",
    "        case 'fock':\n",
    "            n = kwargs.get('n') if 'n' in kwargs else 0\n",
    "            return fock_dm(n_dims, n)\n",
    "        case 'maxmix':\n",
    "            return maximally_mixed_dm(n_dims)\n",
    "        case 'random':\n",
    "            seed = kwargs.get('seed') if 'seed' in kwargs else 21\n",
    "            return rand_dm(n_dims)\n",
    "        case 'qubit':\n",
    "            rands = np.random.rand(4)\n",
    "            a = kwargs.get('a') if 'a' in kwargs else complex(rands[0], rands[1])\n",
    "            b = kwargs.get('b') if 'b' in kwargs else complex(rands[2], rands[3])\n",
    "            return Qobj(np.array([[a, b], [b.conjugate(), 1-a]]))"
   ]
  },
  {
   "cell_type": "markdown",
   "id": "8dee90c6",
   "metadata": {},
   "source": [
    "## Coherent State"
   ]
  },
  {
   "cell_type": "code",
   "execution_count": 3,
   "id": "50b03dc1",
   "metadata": {},
   "outputs": [
    {
     "data": {
      "text/latex": [
       "Quantum object: dims = [[2], [2]], shape = (2, 2), type = oper, isherm = True\\begin{equation*}\\left(\\begin{array}{*{11}c}0.292 & 0.455\\\\0.455 & 0.708\\\\\\end{array}\\right)\\end{equation*}"
      ],
      "text/plain": [
       "Quantum object: dims = [[2], [2]], shape = (2, 2), type = oper, isherm = True\n",
       "Qobj data =\n",
       "[[0.29192658 0.45464871]\n",
       " [0.45464871 0.70807342]]"
      ]
     },
     "execution_count": 3,
     "metadata": {},
     "output_type": "execute_result"
    }
   ],
   "source": [
    "create_system('coherent')"
   ]
  },
  {
   "cell_type": "markdown",
   "id": "9f5b910b",
   "metadata": {},
   "source": [
    "## Thermal"
   ]
  },
  {
   "cell_type": "code",
   "execution_count": 4,
   "id": "b1028fbb",
   "metadata": {},
   "outputs": [
    {
     "data": {
      "text/latex": [
       "Quantum object: dims = [[4], [4]], shape = (4, 4), type = oper, isherm = True\\begin{equation*}\\left(\\begin{array}{*{11}c}0.533 & 0.0 & 0.0 & 0.0\\\\0.0 & 0.267 & 0.0 & 0.0\\\\0.0 & 0.0 & 0.133 & 0.0\\\\0.0 & 0.0 & 0.0 & 0.067\\\\\\end{array}\\right)\\end{equation*}"
      ],
      "text/plain": [
       "Quantum object: dims = [[4], [4]], shape = (4, 4), type = oper, isherm = True\n",
       "Qobj data =\n",
       "[[0.53333333 0.         0.         0.        ]\n",
       " [0.         0.26666667 0.         0.        ]\n",
       " [0.         0.         0.13333333 0.        ]\n",
       " [0.         0.         0.         0.06666667]]"
      ]
     },
     "execution_count": 4,
     "metadata": {},
     "output_type": "execute_result"
    }
   ],
   "source": [
    "create_system('thermal', n_dims=4, n=1)"
   ]
  },
  {
   "cell_type": "markdown",
   "id": "8d37ee99",
   "metadata": {},
   "source": [
    "### *Excitation number reduced*"
   ]
  },
  {
   "cell_type": "code",
   "execution_count": 5,
   "id": "c026229b",
   "metadata": {},
   "outputs": [
    {
     "data": {
      "text/latex": [
       "Quantum object: dims = [[4], [4]], shape = (2, 2), type = oper, isherm = True\\begin{equation*}\\left(\\begin{array}{*{11}c}0.667 & 0.0\\\\0.0 & 0.333\\\\\\end{array}\\right)\\end{equation*}"
      ],
      "text/plain": [
       "Quantum object: dims = [[4], [4]], shape = (2, 2), type = oper, isherm = True\n",
       "Qobj data =\n",
       "[[0.66666667 0.        ]\n",
       " [0.         0.33333333]]"
      ]
     },
     "execution_count": 5,
     "metadata": {},
     "output_type": "execute_result"
    }
   ],
   "source": [
    "create_system('thermal-enr', n_dims=4, excitations=1)"
   ]
  },
  {
   "cell_type": "markdown",
   "id": "098682f9",
   "metadata": {},
   "source": [
    "## Fock State"
   ]
  },
  {
   "cell_type": "code",
   "execution_count": 6,
   "id": "5ce6aac0",
   "metadata": {},
   "outputs": [
    {
     "data": {
      "text/latex": [
       "Quantum object: dims = [[2], [2]], shape = (2, 2), type = oper, isherm = True\\begin{equation*}\\left(\\begin{array}{*{11}c}1.0 & 0.0\\\\0.0 & 0.0\\\\\\end{array}\\right)\\end{equation*}"
      ],
      "text/plain": [
       "Quantum object: dims = [[2], [2]], shape = (2, 2), type = oper, isherm = True\n",
       "Qobj data =\n",
       "[[1. 0.]\n",
       " [0. 0.]]"
      ]
     },
     "execution_count": 6,
     "metadata": {},
     "output_type": "execute_result"
    }
   ],
   "source": [
    "create_system()"
   ]
  },
  {
   "cell_type": "markdown",
   "id": "1e86096b",
   "metadata": {},
   "source": [
    "## Maximally Mixed State"
   ]
  },
  {
   "cell_type": "code",
   "execution_count": 7,
   "id": "7e1416d9",
   "metadata": {},
   "outputs": [
    {
     "data": {
      "text/latex": [
       "Quantum object: dims = [[2], [2]], shape = (2, 2), type = oper, isherm = True\\begin{equation*}\\left(\\begin{array}{*{11}c}0.500 & 0.0\\\\0.0 & 0.500\\\\\\end{array}\\right)\\end{equation*}"
      ],
      "text/plain": [
       "Quantum object: dims = [[2], [2]], shape = (2, 2), type = oper, isherm = True\n",
       "Qobj data =\n",
       "[[0.5 0. ]\n",
       " [0.  0.5]]"
      ]
     },
     "execution_count": 7,
     "metadata": {},
     "output_type": "execute_result"
    }
   ],
   "source": [
    "create_system('maxmix')"
   ]
  },
  {
   "cell_type": "markdown",
   "id": "3cb12d25",
   "metadata": {},
   "source": [
    "## Random State"
   ]
  },
  {
   "cell_type": "code",
   "execution_count": 8,
   "id": "a721a901",
   "metadata": {},
   "outputs": [
    {
     "data": {
      "text/latex": [
       "Quantum object: dims = [[2], [2]], shape = (2, 2), type = oper, isherm = True\\begin{equation*}\\left(\\begin{array}{*{11}c}0.330 & (-0.309+0.130j)\\\\(-0.309-0.130j) & 0.670\\\\\\end{array}\\right)\\end{equation*}"
      ],
      "text/plain": [
       "Quantum object: dims = [[2], [2]], shape = (2, 2), type = oper, isherm = True\n",
       "Qobj data =\n",
       "[[ 0.32963733+0.j         -0.30889412+0.13000082j]\n",
       " [-0.30889412-0.13000082j  0.67036267+0.j        ]]"
      ]
     },
     "execution_count": 8,
     "metadata": {},
     "output_type": "execute_result"
    }
   ],
   "source": [
    "create_system('random', seed=2)"
   ]
  },
  {
   "cell_type": "markdown",
   "id": "694881f5",
   "metadata": {},
   "source": [
    "## Qubit"
   ]
  },
  {
   "cell_type": "code",
   "execution_count": 9,
   "id": "45dac79f",
   "metadata": {},
   "outputs": [
    {
     "data": {
      "text/latex": [
       "Quantum object: dims = [[2], [2]], shape = (2, 2), type = oper, isherm = False\\begin{equation*}\\left(\\begin{array}{*{11}c}(0.164+0.571j) & (0.564+0.232j)\\\\(0.564-0.232j) & (0.836-0.571j)\\\\\\end{array}\\right)\\end{equation*}"
      ],
      "text/plain": [
       "Quantum object: dims = [[2], [2]], shape = (2, 2), type = oper, isherm = False\n",
       "Qobj data =\n",
       "[[0.16413586+0.5713632j  0.56397769+0.23150452j]\n",
       " [0.56397769-0.23150452j 0.83586414-0.5713632j ]]"
      ]
     },
     "execution_count": 9,
     "metadata": {},
     "output_type": "execute_result"
    }
   ],
   "source": [
    "create_system('qubit')"
   ]
  },
  {
   "cell_type": "code",
   "execution_count": 124,
   "id": "6ba2a397",
   "metadata": {},
   "outputs": [],
   "source": [
    "class QState(Qobj):\n",
    "    def __init__(self, inpt, dims=None, shape=None, type=None, isherm=None, copy=True, fast=False, superrep=None, isunitary=None):\n",
    "        super().__init__(inpt, dims, shape, type, isherm, copy, fast, superrep, isunitary)\n",
    "        self._energy = 1\n",
    "        self.history = [self]\n",
    "            \n",
    "    @property\n",
    "    def energy(self):\n",
    "        return self._energy\n",
    "    \n",
    "    @energy.setter\n",
    "    def energy(self, energy):\n",
    "        if(energy <= 0):\n",
    "            raise ValueError(\"Energy cannot be less or equal to zero!\")\n",
    "        self._energy = energy\n",
    "    \n",
    "    def get_temperature(self):\n",
    "        \"\"\"Find kT from Boltzmann distribution\"\"\"\n",
    "        return - self._energy / np.log(self.diag()[1].real / self.diag()[0].real)\n",
    "        \n",
    "    def interact(ancilla, interaction, time):\n",
    "        U = (-1j*interaction*time).expm()\n",
    "        total_evolution = U * tensor(self,ancilla) * U.dag()\n",
    "        self.transformed = total_evolution.ptrace(0)\n",
    "        \n",
    "    def is_thermal(self):\n",
    "        \"\"\"The Density Matrix is thermal if it is diagonal and \n",
    "        the diagonal elements are sorted from bigger to smaller\"\"\"\n",
    "        in_diag = self.diag()\n",
    "        out_of_diag = self - np.diag(in_diag)\n",
    "        if not np.count_nonzero(out_of_diag) and np.all(np.diff(in_diag) <= 0):\n",
    "            return True\n",
    "        else:\n",
    "            return False"
   ]
  },
  {
   "cell_type": "code",
   "execution_count": 125,
   "id": "a15d3b28",
   "metadata": {},
   "outputs": [],
   "source": [
    "b = [[0.75, 0], [0, 0.25]]"
   ]
  },
  {
   "cell_type": "code",
   "execution_count": 126,
   "id": "aab95c0e",
   "metadata": {},
   "outputs": [],
   "source": [
    "a = QState(b)"
   ]
  },
  {
   "cell_type": "code",
   "execution_count": 127,
   "id": "536d4d45",
   "metadata": {},
   "outputs": [
    {
     "data": {
      "text/latex": [
       "Quantum object: dims = [[2], [2]], shape = (2, 2), type = oper, isherm = True\\begin{equation*}\\left(\\begin{array}{*{11}c}0.750 & 0.0\\\\0.0 & 0.250\\\\\\end{array}\\right)\\end{equation*}"
      ],
      "text/plain": [
       "Quantum object: dims = [[2], [2]], shape = (2, 2), type = oper, isherm = True\n",
       "Qobj data =\n",
       "[[0.75 0.  ]\n",
       " [0.   0.25]]"
      ]
     },
     "execution_count": 127,
     "metadata": {},
     "output_type": "execute_result"
    }
   ],
   "source": [
    "a"
   ]
  },
  {
   "cell_type": "code",
   "execution_count": null,
   "id": "3e0b4147",
   "metadata": {},
   "outputs": [],
   "source": []
  }
 ],
 "metadata": {
  "kernelspec": {
   "display_name": "Python 3 (ipykernel)",
   "language": "python",
   "name": "python3"
  },
  "language_info": {
   "codemirror_mode": {
    "name": "ipython",
    "version": 3
   },
   "file_extension": ".py",
   "mimetype": "text/x-python",
   "name": "python",
   "nbconvert_exporter": "python",
   "pygments_lexer": "ipython3",
   "version": "3.10.2"
  }
 },
 "nbformat": 4,
 "nbformat_minor": 5
}
