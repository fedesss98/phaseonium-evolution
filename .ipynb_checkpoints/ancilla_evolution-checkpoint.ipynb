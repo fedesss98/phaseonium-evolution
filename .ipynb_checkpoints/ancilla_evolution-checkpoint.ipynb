{
 "cells": [
  {
   "cell_type": "markdown",
   "id": "8110f7de",
   "metadata": {},
   "source": [
    "# Ancilla Evolution - *After the System Thermalizes*"
   ]
  },
  {
   "cell_type": "code",
   "execution_count": null,
   "id": "9fa3cd44",
   "metadata": {},
   "outputs": [],
   "source": [
    "%matplotlib inline\n",
    "import copy\n",
    "from qutip import *\n",
    "import numpy as np\n",
    "import math, cmath\n",
    "import matplotlib.pyplot as plt\n",
    "from tqdm import tqdm\n",
    "\n",
    "import utilities as use\n",
    "from stateobj import QState, QAncilla, JointSystem\n",
    "\n",
    "from IPython.display import Markdown, display"
   ]
  },
  {
   "cell_type": "code",
   "execution_count": null,
   "id": "9ab1a779",
   "metadata": {},
   "outputs": [],
   "source": [
    "TIMESTEPS = 30000\n",
    "TIMEDELTA = 1e-02\n",
    "OMEGA = 10"
   ]
  },
  {
   "cell_type": "markdown",
   "id": "884c26f6",
   "metadata": {},
   "source": [
    "## Thermal System\n",
    "\n",
    "$$\n",
    "\\rho^* = \\frac{1}{Z}\n",
    "\\begin{pmatrix}\n",
    "    1 &  &  &  \\\\\n",
    "    & \\exp\\left( \\frac{\\hbar\\omega}{KT} \\right) & & \\\\\n",
    "    & & \\exp\\left( 2\\frac{\\hbar\\omega}{KT} \\right) & \\\\\n",
    "    & & & \\ddots \\\\\n",
    "    & & & & \\exp\\left( n\\frac{\\hbar\\omega}{KT} \\right) \\\\\n",
    "    & & & & & \\ddots\n",
    "\\end{pmatrix}\n",
    "= \\frac{1}{Z}\n",
    "\\begin{pmatrix}\n",
    "    E^0 &  &  &  \\\\\n",
    "    & E^1 & & \\\\\n",
    "    & & E^2 & \\\\\n",
    "    & & & \\ddots \\\\\n",
    "    & & & & E^n \\\\\n",
    "    & & & & & \\ddots\n",
    "\\end{pmatrix}\n",
    "$$"
   ]
  },
  {
   "cell_type": "code",
   "execution_count": null,
   "id": "13e17c25",
   "metadata": {},
   "outputs": [],
   "source": [
    "SIM_ID = '4D_T20k_Td02'\n",
    "system_fresh = JointSystem([use.create_system('fock', n_dims=2, n=0),\n",
    "                            use.create_system('fock', n_dims=2, n=0)])\n",
    "system_stable = qload(f'objects/jointss_unitary_{SIM_ID}').history[500]\n",
    "display(system_fresh)\n",
    "# The first system stabilizes\n",
    "display(system_stable[0])\n",
    "# The second not\n",
    "display(system_stable[1])\n",
    "type(system_fresh)"
   ]
  },
  {
   "cell_type": "markdown",
   "id": "87ee8df0",
   "metadata": {},
   "source": [
    "## Ancilla State"
   ]
  },
  {
   "cell_type": "code",
   "execution_count": null,
   "id": "9b992b33",
   "metadata": {},
   "outputs": [],
   "source": [
    "alpha = complex(1/math.sqrt(2), 0)\n",
    "beta = complex(1/math.sqrt(2), 0)\n",
    "phi = np.pi/3\n",
    "eta = QAncilla(alpha=alpha, beta=beta, phi=phi)\n",
    "# Stampa informazioni sull'Ancella\n",
    "display(eta)"
   ]
  },
  {
   "cell_type": "markdown",
   "id": "f9958e98",
   "metadata": {},
   "source": [
    "## Interaction"
   ]
  },
  {
   "cell_type": "code",
   "execution_count": null,
   "id": "38ae9046",
   "metadata": {},
   "outputs": [],
   "source": [
    "ap_int = [tensor(system_fresh.ap[i], qeye(3)) for i in range(len(system_fresh.systems))]\n",
    "am_int = [tensor(system_fresh.am[i], qeye(3)) for i in range(len(system_fresh.systems))]\n",
    "# Ladder Operators for the Ancilla\n",
    "bp_int = tensor(qeye(system_fresh[0].dimentions), qeye(system_fresh[1].dimentions), eta.sigmaminus)\n",
    "bm_int = tensor(qeye(system_fresh[0].dimentions), qeye(system_fresh[1].dimentions), eta.sigmaplus)\n",
    "# Interaction \n",
    "V = [OMEGA*(ap_int[i]*bp_int + am_int[i]*bm_int) for i in range(len(system_fresh.systems))]\n",
    "# Unitary Evolution Operator\n",
    "U = [(-1j*V[i]*TIMEDELTA).expm() for i in range(len(system_fresh.systems))]"
   ]
  },
  {
   "cell_type": "markdown",
   "id": "ed957fb3",
   "metadata": {},
   "source": [
    "## Evolve until step N"
   ]
  },
  {
   "cell_type": "code",
   "execution_count": null,
   "id": "57932575",
   "metadata": {},
   "outputs": [],
   "source": [
    "N = 100\n",
    "# Systems starts as two Fock states 2D (n=0 and n=1) \n",
    "system = copy.deepcopy(system_fresh)\n",
    "total_system_history = [tensor(system_stable, eta)]\n",
    "for t in range(N):\n",
    "    total_system = use.interact(system, eta, V, TIMEDELTA)\n",
    "    # Trace-off the Ancilla, update the Joint System\n",
    "    system = JointSystem([total_system.ptrace([0, 1])])\n",
    "    total_system_history.append(total_system)\n",
    "display(system)"
   ]
  },
  {
   "cell_type": "markdown",
   "id": "1d7ec8bf",
   "metadata": {},
   "source": [
    "Now we are here at step N, with S1(N) and S2(N):\n",
    "![Systems](./img/cascading_systems.png \"Systems at step N\")"
   ]
  },
  {
   "cell_type": "code",
   "execution_count": null,
   "id": "106c9702",
   "metadata": {},
   "outputs": [],
   "source": [
    "display(system[0])\n",
    "display(system[1])"
   ]
  },
  {
   "cell_type": "markdown",
   "id": "606d6ced",
   "metadata": {},
   "source": [
    "Step N+1:"
   ]
  },
  {
   "cell_type": "markdown",
   "id": "5ecdd18b",
   "metadata": {},
   "source": [
    "Prove that $Tr_{1}\\left\\{ U_{1,n} (\\rho_{n-1}\\otimes\\eta_n) U_{1,n}^\\dagger \\right\\} = \\rho_{n-1}^{S2}\\otimes Tr_{1}\\left\\{ U_{1,n} (\\rho_{n-1}^{S1}\\otimes\\eta_n) U_{1,n}^\\dagger \\right\\}$\n",
    "\n",
    "So that $\\eta'_n = Tr_1\\left\\{ U_{1,n} (\\rho_{n-1}^{S1}\\otimes\\eta_n) U_{1,n}^\\dagger \\right\\}$ \n",
    "and $\\eta''_n = Tr_{2}\\left\\{ U_{2,n} (\\rho_{n-1}^{S2}\\otimes\\eta'_n) U_{2,n}^\\dagger \\right\\}$"
   ]
  },
  {
   "cell_type": "markdown",
   "id": "d1754951",
   "metadata": {},
   "source": [
    "We know that $\\eta''_n = Tr_{1,2}\\left\\{ U_{2,n}U_{1,n}(\\rho_{n-1}\\otimes\\eta_n)U_{1,n}^\\dagger U_{2,n}^\\dagger \\right\\}$"
   ]
  },
  {
   "cell_type": "code",
   "execution_count": null,
   "id": "23a5b645",
   "metadata": {},
   "outputs": [],
   "source": [
    "# 2D Operators (instead of 4D)\n",
    "v = OMEGA*(tensor(create(2), qeye(3))*tensor(qeye(2), eta.sigmaminus) + tensor(destroy(2), qeye(3))*tensor(qeye(2), eta.sigmaplus))\n",
    "u = (-1j*v*TIMEDELTA).expm()\n",
    "eta_second = (U[1]*U[0]*tensor(system, eta)*U[0].dag()*U[1].dag()).ptrace(2)\n",
    "display(eta_second)\n",
    "# Hypotesis\n",
    "eta_prime = (u*tensor(system[0], eta)*u.dag()).ptrace(1)\n",
    "eta_second = (u*tensor(system[1], eta_prime)*u.dag()).ptrace(1)\n",
    "display(eta_second)\n",
    "display(Markdown(\"***Wrong Hypotesis***\"))"
   ]
  },
  {
   "cell_type": "markdown",
   "id": "f733fe4d",
   "metadata": {},
   "source": [
    "## Evolution\n",
    "After one interaction with the Stable System:"
   ]
  },
  {
   "cell_type": "code",
   "execution_count": null,
   "id": "dc87f21a",
   "metadata": {},
   "outputs": [],
   "source": [
    "total_system = tensor(system_stable, eta)\n",
    "total_system = U[0]*total_system*U[0].dag()\n",
    "eta_first = QAncilla(total_system.ptrace(2))\n",
    "total_system = U[1]*total_system*U[1].dag()\n",
    "eta_second = QAncilla(total_system.ptrace(2))\n",
    "display(eta_first)\n",
    "display(eta_second)\n",
    "print(f'\\t\\t\\t{\"alpha\":>16}\\t{\"beta\":>16}\\t{\"phi\":>7}')\n",
    "print(f'Ancilla (step0):\\t{alpha:.5f}\\t{beta:.5f}\\t{phi:.5f}')\n",
    "print(f'Ancilla (step1):\\t{eta_first.alpha:.5f}\\t{eta_first.beta:.5f}\\t{eta_first.phi:.5f}')\n",
    "print(f'Ancilla (step2):\\t{eta_second.alpha:.5f}\\t{eta_second.beta:.5f}\\t{eta_second.phi:.5f}')"
   ]
  },
  {
   "cell_type": "code",
   "execution_count": null,
   "id": "57c6177a",
   "metadata": {},
   "outputs": [],
   "source": [
    "stable_temperature = np.zeros((2))\n",
    "stable_temperature[0] = - system_stable[0].energy / math.log(eta_first.factor)\n",
    "stable_temperature[1] = - system_stable[0].energy / math.log(eta_second.factor)\n",
    "stable_temperature"
   ]
  },
  {
   "cell_type": "markdown",
   "id": "0da0aaed",
   "metadata": {},
   "source": [
    "After one interaction with the Fresh System:"
   ]
  },
  {
   "cell_type": "code",
   "execution_count": null,
   "id": "8bf99f8d",
   "metadata": {},
   "outputs": [],
   "source": [
    "total_system = tensor(system_fresh, eta)\n",
    "total_system = U[0]*total_system*U[0].dag()\n",
    "eta_first = QAncilla(total_system.ptrace(2))\n",
    "total_system = U[1]*total_system*U[1].dag()\n",
    "eta_second = QAncilla(total_system.ptrace(2))\n",
    "display(eta_first)\n",
    "display(eta_second)\n",
    "print(f'\\t\\t\\t{\"alpha\":>16}\\t{\"beta\":>16}\\t{\"phi\":>7}')\n",
    "print(f'Ancilla (step0):\\t{alpha:.5f}\\t{beta:.5f}\\t{phi:.5f}')\n",
    "print(f'Ancilla (step1):\\t{eta_first.alpha:.5f}\\t{eta_first.beta:.5f}\\t{eta_first.phi:.5f}')\n",
    "print(f'Ancilla (step2):\\t{eta_second.alpha:.5f}\\t{eta_second.beta:.5f}\\t{eta_second.phi:.5f}')"
   ]
  },
  {
   "cell_type": "code",
   "execution_count": null,
   "id": "900a55a9",
   "metadata": {},
   "outputs": [],
   "source": [
    "stable_temperature = np.zeros((2))\n",
    "stable_temperature[0] = - system_fresh[0].energy / math.log(eta_first.factor)\n",
    "stable_temperature[1] = - system_fresh[0].energy / math.log(eta_second.factor)\n",
    "stable_temperature"
   ]
  },
  {
   "cell_type": "markdown",
   "id": "36ec4e33",
   "metadata": {},
   "source": [
    "Do we obtain the same final Ancilla as from the Unitary evolution expression?\n",
    "\n",
    "*Stable System*"
   ]
  },
  {
   "cell_type": "code",
   "execution_count": null,
   "id": "f92ef1c4",
   "metadata": {},
   "outputs": [],
   "source": [
    "total_system = tensor(system_stable, eta)\n",
    "total_system = U[1]*U[0]*total_system*U[0].dag()*U[1].dag()\n",
    "eta_new = QAncilla(total_system.ptrace(2))\n",
    "display(eta_new)\n",
    "stable_temperature = - system_stable[0].energy / math.log(eta_new.factor)\n",
    "stable_temperature"
   ]
  },
  {
   "cell_type": "markdown",
   "id": "265a593e",
   "metadata": {},
   "source": [
    "*Fresh System*"
   ]
  },
  {
   "cell_type": "code",
   "execution_count": null,
   "id": "e3d57268",
   "metadata": {},
   "outputs": [],
   "source": [
    "total_system = tensor(system_fresh, eta)\n",
    "total_system = U[1]*U[0]*total_system*U[0].dag()*U[1].dag()\n",
    "eta_new = QAncilla(total_system.ptrace(2))\n",
    "display(eta_new)\n",
    "stable_temperature = - system_fresh[0].energy / math.log(eta_new.factor)\n",
    "stable_temperature"
   ]
  },
  {
   "cell_type": "markdown",
   "id": "22663588",
   "metadata": {},
   "source": [
    "## Taking tracks of the states of the ancilla\n",
    "$\\eta$, $\\eta'_n$ and $\\eta''_n$ changes at every $n$"
   ]
  },
  {
   "cell_type": "code",
   "execution_count": null,
   "id": "1a42d3c6",
   "metadata": {},
   "outputs": [],
   "source": [
    "# To collect eta, eta' and eta''\n",
    "eta_history = []\n",
    "system = copy.deepcopy(system_fresh)\n",
    "for t in tqdm(range(TIMESTEPS)):\n",
    "    total_system = tensor(system, eta)\n",
    "    # First collision with S1\n",
    "    total_system = U[0]*total_system*U[0].dag()\n",
    "    eta_prime = QAncilla(total_system.ptrace(2))\n",
    "    # Second collision with S2\n",
    "    total_system = U[1]*total_system*U[1].dag()\n",
    "    eta_second = QAncilla(total_system.ptrace(2))\n",
    "    eta_history.append([eta, eta_prime, eta_second])\n",
    "    system = total_system.ptrace([0, 1])\n",
    "system = JointSystem([system])\n",
    "display(system[0])\n",
    "display(system[1])"
   ]
  },
  {
   "cell_type": "markdown",
   "id": "8f226df8",
   "metadata": {},
   "source": [
    "### Stable Temperature for the Systems (interacting with $\\eta_n$ and $\\eta'_n$)"
   ]
  },
  {
   "cell_type": "code",
   "execution_count": null,
   "id": "ff57c7b8",
   "metadata": {},
   "outputs": [],
   "source": [
    "first_stable_temp = [- 1./ math.log(eta[0].factor) for eta in eta_history]\n",
    "second_stable_temp = [- 1./ math.log(eta[1].factor) for eta in eta_history]\n",
    "fig, axs = plt.subplots(1, 2, figsize=(16, 4)) \n",
    "fig.suptitle(f\"Ancilla's Stable Temperatures for the Systems in {TIMESTEPS} steps\")\n",
    "axs[0].plot(first_stable_temp, 'r--', alpha=0.8)\n",
    "axs[0].plot(second_stable_temp, 'b-.', alpha=0.8)\n",
    "axs[0].set_ylabel(\"Ancilla's Temperature\")\n",
    "axs[0].legend([\"$\\eta$ stable temperature\", \"$\\eta'$ stable temperature\"])\n",
    "axs[1].plot(first_stable_temp, 'r--', alpha=0.8,)\n",
    "axs[1].plot(second_stable_temp, 'b-.', alpha=0.8)\n",
    "axs[1].legend([\"$\\eta$ stable temperature\", \"$\\eta'$ stable temperature\"])\n",
    "axs[1].set_xlim(0, 1000)\n",
    "plt.show()"
   ]
  },
  {
   "cell_type": "markdown",
   "id": "002da5d6",
   "metadata": {},
   "source": [
    "### History of Ancillas\n",
    "They do not interact with stable (Gibbs) Systems"
   ]
  },
  {
   "cell_type": "code",
   "execution_count": null,
   "id": "3853c760",
   "metadata": {},
   "outputs": [],
   "source": [
    "display(Markdown(\"*Ancilla after first interaction at Step 0*\"))\n",
    "display(eta_history[0][1])\n",
    "display(Markdown(f\"*Ancilla after first interaction at Step {TIMESTEPS}*\"))\n",
    "display(eta_history[-1][1])\n",
    "display(Markdown(\"*Ancilla after second interaction at Step 0*\"))\n",
    "display(eta_history[0][2])\n",
    "display(Markdown(f\"*Ancilla after second interaction at Step {TIMESTEPS}*\"))\n",
    "display(eta_history[-1][2])"
   ]
  },
  {
   "cell_type": "markdown",
   "id": "c9d167d3",
   "metadata": {},
   "source": [
    "## Theoretical Evolution\n",
    "$$ \\eta' = \\eta + \\Delta t\\left[\n",
    "   \\langle A_+A_- \\rangle\\left(B_-\\eta B_+ -\\frac{1}{2}[B_+B_-; \\eta]\\right) +\n",
    "   \\langle A_-A_+ \\rangle\\left(B_+\\eta B_- -\\frac{1}{2}[B_-B_+; \\eta]\\right)\n",
    "    \\right] \n",
    "$$"
   ]
  },
  {
   "cell_type": "markdown",
   "id": "00629bc5",
   "metadata": {},
   "source": [
    "### *Moments*"
   ]
  },
  {
   "cell_type": "code",
   "execution_count": null,
   "id": "b962ead9",
   "metadata": {},
   "outputs": [],
   "source": [
    "print(f\"<A+> = {expect(system[0].ap, system[0]).real}\")\n",
    "print(f\"<A+> = {expect(system[0].ap, system[0]).real}\")"
   ]
  },
  {
   "cell_type": "code",
   "execution_count": null,
   "id": "b44757c0",
   "metadata": {},
   "outputs": [],
   "source": [
    "first_moments = expect([system[0].ap, system[0].am], system[0])\n",
    "print(f\"First Moments:\\t\\tComputed\\tTheoretical\\n\"\n",
    "      f\"\\tA- :\\t\\t{first_moments[0].real:.4f}\\t\\t0\\n\"\n",
    "      f\"\\tA+ :\\t\\t{first_moments[1].real:.4f}\\t\\t0\\n\")\n",
    "second_moments = expect([system[0].ap*system[0].ap, system[0].am*system[0].am], system[0])\n",
    "print(f\"Second Moments:\\t\\tComputed\\tTheoretical\\n\"\n",
    "      f\"\\tA-A- :\\t\\t{second_moments[0].real:.4f}\\t\\t0\\n\"\n",
    "      f\"\\tA+A+ :\\t\\t{second_moments[1].real:.4f}\\t\\t0\\n\")\n"
   ]
  },
  {
   "cell_type": "markdown",
   "id": "079a21f5",
   "metadata": {},
   "source": [
    "### *Cross Correlations*\n",
    "$$\\text{Tr}\\{a^\\dagger a\\rho^*\\} = \\frac{1}{Z}\\sum_{n=0}^{\\infty} nE^n \\equiv \\frac{1}{Z}\\frac{E}{(1-E)^2}$$\n",
    "$$\\text{Tr}\\{a a^\\dagger\\rho^*\\} = \\frac{1}{Z}\\sum_{n=0}^{\\infty} (n+1)E^n \\equiv \\frac{1}{Z}\\frac{E}{(1-E)^2}+1$$"
   ]
  },
  {
   "cell_type": "code",
   "execution_count": null,
   "id": "55624981",
   "metadata": {},
   "outputs": [],
   "source": [
    "apam = expect(system[0].ap*system[0].am, system[0])\n",
    "amap = expect(system[0].am*system[0].ap, system[0])\n",
    "# Sum of infinite series\n",
    "series = eta.factor/(system[0].partition-eta.factor)**2\n",
    "# Discrete sum up to n\n",
    "# number vector\n",
    "n = np.arange(system[0].dimentions)\n",
    "disc_sum = np.sum(n * system[0].diag())\n",
    "disc_sump = np.sum((n+1) * system[0].diag())\n",
    "print(f\"Cross-correlations:\\tComputed\\tTheoretical\\n\"\n",
    "      f\"\\tA+A- :\\t\\t{apam:>8.7}\\t{disc_sum:>0.7}\\n\"\n",
    "      f\"\\tA-A+ :\\t\\t{amap:>8.7}\\t{disc_sump:>0.7}\")"
   ]
  },
  {
   "cell_type": "code",
   "execution_count": null,
   "id": "bde2d22b",
   "metadata": {},
   "outputs": [],
   "source": [
    "system[0].diag()[1]"
   ]
  },
  {
   "cell_type": "code",
   "execution_count": null,
   "id": "73b3161c",
   "metadata": {},
   "outputs": [],
   "source": [
    "eta.factor/system[0].partition"
   ]
  },
  {
   "cell_type": "code",
   "execution_count": null,
   "id": "1114559a",
   "metadata": {},
   "outputs": [],
   "source": [
    "np.sum(np.arange(len(system[0].diag()))*system[0].diag())"
   ]
  },
  {
   "cell_type": "code",
   "execution_count": null,
   "id": "ddb9fb28",
   "metadata": {},
   "outputs": [],
   "source": [
    "first_term = apam*(eta.sigmaminus*eta*eta.sigmaplus-0.5*commutator(eta.sigmaplus*eta.sigmaminus, eta))\n",
    "second_term = amap*(eta.sigmaplus*eta*eta.sigmaminus-0.5*commutator(eta.sigmaminus*eta.sigmaplus, eta))\n",
    "eta_new = eta + TIMEDELTA * (first_term + second_term)\n",
    "eta_new"
   ]
  },
  {
   "cell_type": "code",
   "execution_count": null,
   "id": "467d3ead",
   "metadata": {},
   "outputs": [],
   "source": []
  }
 ],
 "metadata": {
  "kernelspec": {
   "display_name": "Python 3 (ipykernel)",
   "language": "python",
   "name": "python3"
  },
  "language_info": {
   "codemirror_mode": {
    "name": "ipython",
    "version": 3
   },
   "file_extension": ".py",
   "mimetype": "text/x-python",
   "name": "python",
   "nbconvert_exporter": "python",
   "pygments_lexer": "ipython3",
   "version": "3.10.2"
  }
 },
 "nbformat": 4,
 "nbformat_minor": 5
}
