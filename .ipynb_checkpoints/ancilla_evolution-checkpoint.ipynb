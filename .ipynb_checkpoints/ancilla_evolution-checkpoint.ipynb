{
 "cells": [
  {
   "cell_type": "markdown",
   "id": "19bc273a",
   "metadata": {},
   "source": [
    "# Ancilla Evolution - *After the System Thermalizes*"
   ]
  },
  {
   "cell_type": "code",
   "execution_count": 53,
   "id": "63ece1be",
   "metadata": {},
   "outputs": [],
   "source": [
    "%matplotlib inline\n",
    "import copy\n",
    "from qutip import *\n",
    "import numpy as np\n",
    "import math, cmath\n",
    "import matplotlib.pyplot as plt\n",
    "from tqdm import tqdm\n",
    "\n",
    "import utilities as use\n",
    "from stateobj import QState, QAncilla\n",
    "\n",
    "from IPython.display import Markdown, display"
   ]
  },
  {
   "cell_type": "code",
   "execution_count": 54,
   "id": "368d5d9a",
   "metadata": {},
   "outputs": [],
   "source": [
    "TIMESTEPS = 1000\n",
    "TIMEDELTA = 1e-02\n",
    "OMEGA = 10"
   ]
  },
  {
   "cell_type": "markdown",
   "id": "c0bf1ae3",
   "metadata": {},
   "source": [
    "## Thermal System\n",
    "\n",
    "$$\n",
    "\\rho^* = \\frac{1}{Z}\n",
    "\\begin{pmatrix}\n",
    "    1 &  &  &  \\\\\n",
    "    & \\exp\\left( \\frac{\\hbar\\omega}{KT} \\right) & & \\\\\n",
    "    & & \\exp\\left( 2\\frac{\\hbar\\omega}{KT} \\right) & \\\\\n",
    "    & & & \\ddots \\\\\n",
    "    & & & & \\exp\\left( n\\frac{\\hbar\\omega}{KT} \\right) \\\\\n",
    "    & & & & & \\ddots\n",
    "\\end{pmatrix}\n",
    "= \\frac{1}{Z}\n",
    "\\begin{pmatrix}\n",
    "    E^0 &  &  &  \\\\\n",
    "    & E^1 & & \\\\\n",
    "    & & E^2 & \\\\\n",
    "    & & & \\ddots \\\\\n",
    "    & & & & E^n \\\\\n",
    "    & & & & & \\ddots\n",
    "\\end{pmatrix}\n",
    "$$"
   ]
  },
  {
   "cell_type": "code",
   "execution_count": 55,
   "id": "45b13845",
   "metadata": {},
   "outputs": [
    {
     "name": "stdout",
     "output_type": "stream",
     "text": [
      "Loaded Qobj object:\n",
      "Quantum object: dims = [[60], [60]], shape = (60, 60), type = oper, isHerm = True\n",
      "\n"
     ]
    }
   ],
   "source": [
    "SIM_ID = '60D'\n",
    "system = qload(f'objects/steadystate_meq_{SIM_ID}')"
   ]
  },
  {
   "cell_type": "markdown",
   "id": "3c9c563d",
   "metadata": {},
   "source": [
    "## Ancilla State"
   ]
  },
  {
   "cell_type": "code",
   "execution_count": 56,
   "id": "ece6993f",
   "metadata": {},
   "outputs": [
    {
     "data": {
      "text/latex": [
       "Quantum object: dims = [[3], [3]], shape = (3, 3), type = oper, isherm = True\\begin{equation*}\\left(\\begin{array}{*{11}c}0.500 & 0.0 & 0.0\\\\0.0 & 0.250 & (0.125+0.217j)\\\\0.0 & (0.125-0.217j) & 0.250\\\\\\end{array}\\right)\\end{equation*}"
      ],
      "text/plain": [
       "Quantum object: dims = [[3], [3]], shape = (3, 3), type = oper, isherm = True\n",
       "Qobj data =\n",
       "[[0.5  +0.j         0.   +0.j         0.   +0.j        ]\n",
       " [0.   +0.j         0.25 +0.j         0.125+0.21650635j]\n",
       " [0.   +0.j         0.125-0.21650635j 0.25 +0.j        ]]"
      ]
     },
     "metadata": {},
     "output_type": "display_data"
    }
   ],
   "source": [
    "alpha = complex(1/math.sqrt(2), 0)\n",
    "beta = complex(1/math.sqrt(2), 0)\n",
    "phi = np.pi/3\n",
    "eta = QAncilla(alpha, beta, phi)\n",
    "# Stampa informazioni sull'Ancella\n",
    "display(eta)"
   ]
  },
  {
   "cell_type": "markdown",
   "id": "20ffdf9e",
   "metadata": {},
   "source": [
    "## Interaction"
   ]
  },
  {
   "cell_type": "code",
   "execution_count": 57,
   "id": "6469a1c1",
   "metadata": {},
   "outputs": [],
   "source": [
    "# System Opeators\n",
    "ap_int = tensor(system.ap, qeye(3))\n",
    "am_int = tensor(system.am, qeye(3))\n",
    "# Ancilla Operators \n",
    "bp_int = tensor(qeye(system.dimentions), eta.sigmaminus)\n",
    "bm_int = tensor(qeye(system.dimentions), eta.sigmaplus)\n",
    "# INTERACTION\n",
    "V = OMEGA * ( ap_int*bp_int + am_int*bm_int )"
   ]
  },
  {
   "cell_type": "markdown",
   "id": "8c414d60",
   "metadata": {},
   "source": [
    "## Evolution"
   ]
  },
  {
   "cell_type": "code",
   "execution_count": 58,
   "id": "c0a2dde1",
   "metadata": {},
   "outputs": [
    {
     "data": {
      "text/latex": [
       "Quantum object: dims = [[3], [3]], shape = (3, 3), type = oper, isherm = True\\begin{equation*}\\left(\\begin{array}{*{11}c}0.500 & 0.0 & 0.0\\\\0.0 & 0.250 & (0.125+0.106j)\\\\0.0 & (0.125-0.106j) & 0.250\\\\\\end{array}\\right)\\end{equation*}"
      ],
      "text/plain": [
       "Quantum object: dims = [[3], [3]], shape = (3, 3), type = oper, isherm = True\n",
       "Qobj data =\n",
       "[[0.50000003+0.j         0.        +0.j         0.        +0.j        ]\n",
       " [0.        +0.j         0.25000002+0.j         0.12500001+0.10620357j]\n",
       " [0.        +0.j         0.12500001-0.10620357j 0.25000002+0.j        ]]"
      ]
     },
     "execution_count": 58,
     "metadata": {},
     "output_type": "execute_result"
    }
   ],
   "source": [
    "total_system = tensor(system, eta)\n",
    "total_system = use.evolve(total_system, V, TIMEDELTA)\n",
    "eta_new = total_system.ptrace(1)\n",
    "eta_new"
   ]
  },
  {
   "cell_type": "markdown",
   "id": "a866a192",
   "metadata": {},
   "source": [
    "## Theoretical Evolution\n",
    "$$ \\eta' = \\eta + \\Delta t\\left[\n",
    "   \\langle A_+A_- \\rangle\\left(A_-\\rho A_+ -\\frac{1}{2}[A_+A_-; \\eta]\\right) +\n",
    "   \\langle A_-A_+ \\rangle\\left(A_+\\rho A_- -\\frac{1}{2}[A_-A_+; \\eta]\\right)\n",
    "    \\right] \n",
    "$$"
   ]
  },
  {
   "cell_type": "markdown",
   "id": "cd8c8453",
   "metadata": {},
   "source": [
    "### *Moments*"
   ]
  },
  {
   "cell_type": "code",
   "execution_count": 59,
   "id": "ddd2f498",
   "metadata": {},
   "outputs": [
    {
     "name": "stdout",
     "output_type": "stream",
     "text": [
      "<A+> = 0.0\n",
      "<A+> = 0.0\n"
     ]
    }
   ],
   "source": [
    "print(f\"<A+> = {expect(system.ap, system).real}\")\n",
    "print(f\"<A+> = {expect(system.ap, system).real}\")"
   ]
  },
  {
   "cell_type": "code",
   "execution_count": 60,
   "id": "7e6b4505",
   "metadata": {},
   "outputs": [
    {
     "name": "stdout",
     "output_type": "stream",
     "text": [
      "First Moments:\t\tComputed\tTheoretical\n",
      "\tA- :\t\t0.0000\t\t0\n",
      "\tA+ :\t\t0.0000\t\t0\n",
      "\n",
      "Second Moments:\t\tComputed\tTheoretical\n",
      "\tA-A- :\t\t0.0000\t\t0\n",
      "\tA+A+ :\t\t0.0000\t\t0\n",
      "\n"
     ]
    }
   ],
   "source": [
    "first_moments = expect([system.ap, system.am], system)\n",
    "print(f\"First Moments:\\t\\tComputed\\tTheoretical\\n\"\n",
    "      f\"\\tA- :\\t\\t{first_moments[0].real:.4f}\\t\\t0\\n\"\n",
    "      f\"\\tA+ :\\t\\t{first_moments[1].real:.4f}\\t\\t0\\n\")\n",
    "second_moments = expect([system.ap*system.ap, system.am*system.am], system)\n",
    "print(f\"Second Moments:\\t\\tComputed\\tTheoretical\\n\"\n",
    "      f\"\\tA-A- :\\t\\t{second_moments[0].real:.4f}\\t\\t0\\n\"\n",
    "      f\"\\tA+A+ :\\t\\t{second_moments[1].real:.4f}\\t\\t0\\n\")\n"
   ]
  },
  {
   "cell_type": "markdown",
   "id": "723d61e5",
   "metadata": {},
   "source": [
    "### *Cross Correlations*\n",
    "$$\\text{Tr}\\{a^\\dagger a\\rho^*\\} = \\frac{1}{Z}\\sum_{n=0}^{\\infty} nE^n \\equiv \\frac{1}{Z}\\frac{E}{(1-E)^2}$$\n",
    "$$\\text{Tr}\\{a a^\\dagger\\rho^*\\} = \\frac{1}{Z}\\sum_{n=0}^{\\infty} (n+1)E^n \\equiv \\frac{1}{Z}\\frac{E}{(1-E)^2}+1$$"
   ]
  },
  {
   "cell_type": "code",
   "execution_count": 63,
   "id": "3a982a21",
   "metadata": {},
   "outputs": [
    {
     "name": "stdout",
     "output_type": "stream",
     "text": [
      "Cross-correlations:\tComputed\tTheoretical\n",
      "\tA+A- :\t\t    56.0\t56.0\n",
      "\tA-A+ :\t\t    42.0\t57.0\n"
     ]
    }
   ],
   "source": [
    "apam = expect(system.ap*system.am, system)\n",
    "amap = expect(system.am*system.ap, system)\n",
    "# Sum of infinite series\n",
    "series = eta.factor/(system.partition-eta.factor)**2\n",
    "# Discrete sum up to n\n",
    "# number vector\n",
    "n = np.arange(system.dimentions)\n",
    "disc_sum = np.sum(n * system.diag())\n",
    "disc_sump = np.sum((n+1) * system.diag())\n",
    "print(f\"Cross-correlations:\\tComputed\\tTheoretical\\n\"\n",
    "      f\"\\tA+A- :\\t\\t{apam:>8.7}\\t{disc_sum:>0.7}\\n\"\n",
    "      f\"\\tA-A+ :\\t\\t{amap:>8.7}\\t{disc_sump:>0.7}\")"
   ]
  },
  {
   "cell_type": "code",
   "execution_count": 62,
   "id": "9c64a345",
   "metadata": {},
   "outputs": [
    {
     "data": {
      "text/plain": [
       "1.4569084399051786e-08"
      ]
     },
     "execution_count": 62,
     "metadata": {},
     "output_type": "execute_result"
    }
   ],
   "source": [
    "system.diag()[1]"
   ]
  },
  {
   "cell_type": "code",
   "execution_count": 33,
   "id": "07d828a9",
   "metadata": {},
   "outputs": [
    {
     "data": {
      "text/plain": [
       "1.47021995005008e-08"
      ]
     },
     "execution_count": 33,
     "metadata": {},
     "output_type": "execute_result"
    }
   ],
   "source": [
    "eta.factor/system.partition"
   ]
  },
  {
   "cell_type": "code",
   "execution_count": 41,
   "id": "a573e18c",
   "metadata": {},
   "outputs": [
    {
     "data": {
      "text/plain": [
       "56.00000488255883"
      ]
     },
     "execution_count": 41,
     "metadata": {},
     "output_type": "execute_result"
    }
   ],
   "source": [
    "np.sum(np.arange(len(system.diag()))*system.diag())"
   ]
  },
  {
   "cell_type": "code",
   "execution_count": 11,
   "id": "c61b83e3",
   "metadata": {},
   "outputs": [
    {
     "data": {
      "text/latex": [
       "Quantum object: dims = [[3], [3]], shape = (3, 3), type = oper, isherm = False\\begin{equation*}\\left(\\begin{array}{*{11}c}0.920 & 0.0 & 0.0\\\\0.0 & (0.460+0.121j) & (0.335+0.217j)\\\\0.0 & (0.335-0.217j) & (0.460-0.121j)\\\\\\end{array}\\right)\\end{equation*}"
      ],
      "text/plain": [
       "Quantum object: dims = [[3], [3]], shape = (3, 3), type = oper, isherm = False\n",
       "Qobj data =\n",
       "[[0.92000004+0.j         0.        +0.j         0.        +0.j        ]\n",
       " [0.        +0.j         0.46000002+0.12124357j 0.33500002+0.21650635j]\n",
       " [0.        +0.j         0.33500002-0.21650635j 0.46000002-0.12124357j]]"
      ]
     },
     "execution_count": 11,
     "metadata": {},
     "output_type": "execute_result"
    }
   ],
   "source": [
    "first_term = apam*(eta.sigmaminus*eta*eta.sigmaplus-0.5*commutator(eta.sigmaplus*eta.sigmaminus, eta))\n",
    "second_term = amap*(eta.sigmaplus*eta*eta.sigmaminus-0.5*commutator(eta.sigmaminus*eta.sigmaplus, eta))\n",
    "eta_new = eta + TIMEDELTA * (first_term + second_term)\n",
    "eta_new"
   ]
  }
 ],
 "metadata": {
  "kernelspec": {
   "display_name": "Python 3 (ipykernel)",
   "language": "python",
   "name": "python3"
  },
  "language_info": {
   "codemirror_mode": {
    "name": "ipython",
    "version": 3
   },
   "file_extension": ".py",
   "mimetype": "text/x-python",
   "name": "python",
   "nbconvert_exporter": "python",
   "pygments_lexer": "ipython3",
   "version": "3.10.2"
  }
 },
 "nbformat": 4,
 "nbformat_minor": 5
}
