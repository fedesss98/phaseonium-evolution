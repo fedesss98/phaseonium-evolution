{
 "cells": [
  {
   "cell_type": "code",
   "execution_count": 1,
   "outputs": [],
   "source": [
    "%matplotlib inline\n",
    "import copy\n",
    "import qutip\n",
    "from qutip import Qobj\n",
    "import numpy as np\n",
    "import math, cmath\n",
    "import matplotlib.pyplot as plt\n",
    "from tqdm import tqdm\n",
    "\n",
    "from stateobj import Physics\n",
    "import utilities as use\n",
    "import circuits as qc\n",
    "\n",
    "import os\n",
    "\n",
    "from IPython.display import Markdown, display"
   ],
   "metadata": {
    "collapsed": false
   }
  },
  {
   "cell_type": "code",
   "execution_count": 2,
   "id": "b86eff77-b989-4334-bed1-c6458679f8c2",
   "metadata": {},
   "outputs": [],
   "source": [
    "TIMESTEPS = 5000\n",
    "TIMEDELTA = 1e-01\n",
    "OMEGA = 0.5  # Strength of Interaction\n",
    "\n",
    "D = 5\n",
    "\n",
    "p = Physics(dimension=D, interaction_strength=OMEGA, interaction_time=TIMEDELTA)\n",
    "\n",
    "th = OMEGA * TIMEDELTA\n",
    "alpha = complex(1/math.sqrt(2), 0)\n",
    "beta = cmath.sqrt(1 - alpha**2)\n",
    "phi = np.pi/2\n",
    "# Phase shifts\n",
    "delta1 = 0\n",
    "delta2 = -phi"
   ]
  },
  {
   "cell_type": "code",
   "execution_count": 3,
   "id": "a76145c1-36c1-4ca7-b461-a675067e377a",
   "metadata": {},
   "outputs": [
    {
     "data": {
      "text/plain": "Quantum object: dims = [[5, 5], [5, 5]], shape = (25, 25), type = oper, isherm = True\nQobj data =\n[[1. 0. 0. 0. 0. 0. 0. 0. 0. 0. 0. 0. 0. 0. 0. 0. 0. 0. 0. 0. 0. 0. 0. 0.\n  0.]\n [0. 0. 0. 0. 0. 0. 0. 0. 0. 0. 0. 0. 0. 0. 0. 0. 0. 0. 0. 0. 0. 0. 0. 0.\n  0.]\n [0. 0. 0. 0. 0. 0. 0. 0. 0. 0. 0. 0. 0. 0. 0. 0. 0. 0. 0. 0. 0. 0. 0. 0.\n  0.]\n [0. 0. 0. 0. 0. 0. 0. 0. 0. 0. 0. 0. 0. 0. 0. 0. 0. 0. 0. 0. 0. 0. 0. 0.\n  0.]\n [0. 0. 0. 0. 0. 0. 0. 0. 0. 0. 0. 0. 0. 0. 0. 0. 0. 0. 0. 0. 0. 0. 0. 0.\n  0.]\n [0. 0. 0. 0. 0. 0. 0. 0. 0. 0. 0. 0. 0. 0. 0. 0. 0. 0. 0. 0. 0. 0. 0. 0.\n  0.]\n [0. 0. 0. 0. 0. 0. 0. 0. 0. 0. 0. 0. 0. 0. 0. 0. 0. 0. 0. 0. 0. 0. 0. 0.\n  0.]\n [0. 0. 0. 0. 0. 0. 0. 0. 0. 0. 0. 0. 0. 0. 0. 0. 0. 0. 0. 0. 0. 0. 0. 0.\n  0.]\n [0. 0. 0. 0. 0. 0. 0. 0. 0. 0. 0. 0. 0. 0. 0. 0. 0. 0. 0. 0. 0. 0. 0. 0.\n  0.]\n [0. 0. 0. 0. 0. 0. 0. 0. 0. 0. 0. 0. 0. 0. 0. 0. 0. 0. 0. 0. 0. 0. 0. 0.\n  0.]\n [0. 0. 0. 0. 0. 0. 0. 0. 0. 0. 0. 0. 0. 0. 0. 0. 0. 0. 0. 0. 0. 0. 0. 0.\n  0.]\n [0. 0. 0. 0. 0. 0. 0. 0. 0. 0. 0. 0. 0. 0. 0. 0. 0. 0. 0. 0. 0. 0. 0. 0.\n  0.]\n [0. 0. 0. 0. 0. 0. 0. 0. 0. 0. 0. 0. 0. 0. 0. 0. 0. 0. 0. 0. 0. 0. 0. 0.\n  0.]\n [0. 0. 0. 0. 0. 0. 0. 0. 0. 0. 0. 0. 0. 0. 0. 0. 0. 0. 0. 0. 0. 0. 0. 0.\n  0.]\n [0. 0. 0. 0. 0. 0. 0. 0. 0. 0. 0. 0. 0. 0. 0. 0. 0. 0. 0. 0. 0. 0. 0. 0.\n  0.]\n [0. 0. 0. 0. 0. 0. 0. 0. 0. 0. 0. 0. 0. 0. 0. 0. 0. 0. 0. 0. 0. 0. 0. 0.\n  0.]\n [0. 0. 0. 0. 0. 0. 0. 0. 0. 0. 0. 0. 0. 0. 0. 0. 0. 0. 0. 0. 0. 0. 0. 0.\n  0.]\n [0. 0. 0. 0. 0. 0. 0. 0. 0. 0. 0. 0. 0. 0. 0. 0. 0. 0. 0. 0. 0. 0. 0. 0.\n  0.]\n [0. 0. 0. 0. 0. 0. 0. 0. 0. 0. 0. 0. 0. 0. 0. 0. 0. 0. 0. 0. 0. 0. 0. 0.\n  0.]\n [0. 0. 0. 0. 0. 0. 0. 0. 0. 0. 0. 0. 0. 0. 0. 0. 0. 0. 0. 0. 0. 0. 0. 0.\n  0.]\n [0. 0. 0. 0. 0. 0. 0. 0. 0. 0. 0. 0. 0. 0. 0. 0. 0. 0. 0. 0. 0. 0. 0. 0.\n  0.]\n [0. 0. 0. 0. 0. 0. 0. 0. 0. 0. 0. 0. 0. 0. 0. 0. 0. 0. 0. 0. 0. 0. 0. 0.\n  0.]\n [0. 0. 0. 0. 0. 0. 0. 0. 0. 0. 0. 0. 0. 0. 0. 0. 0. 0. 0. 0. 0. 0. 0. 0.\n  0.]\n [0. 0. 0. 0. 0. 0. 0. 0. 0. 0. 0. 0. 0. 0. 0. 0. 0. 0. 0. 0. 0. 0. 0. 0.\n  0.]\n [0. 0. 0. 0. 0. 0. 0. 0. 0. 0. 0. 0. 0. 0. 0. 0. 0. 0. 0. 0. 0. 0. 0. 0.\n  0.]]",
      "text/latex": "Quantum object: dims = [[5, 5], [5, 5]], shape = (25, 25), type = oper, isherm = True\\begin{equation*}\\left(\\begin{array}{*{11}c}1.0 & 0.0 & 0.0 & 0.0 & 0.0 & \\cdots & 0.0 & 0.0 & 0.0 & 0.0 & 0.0\\\\0.0 & 0.0 & 0.0 & 0.0 & 0.0 & \\cdots & 0.0 & 0.0 & 0.0 & 0.0 & 0.0\\\\0.0 & 0.0 & 0.0 & 0.0 & 0.0 & \\cdots & 0.0 & 0.0 & 0.0 & 0.0 & 0.0\\\\0.0 & 0.0 & 0.0 & 0.0 & 0.0 & \\cdots & 0.0 & 0.0 & 0.0 & 0.0 & 0.0\\\\0.0 & 0.0 & 0.0 & 0.0 & 0.0 & \\cdots & 0.0 & 0.0 & 0.0 & 0.0 & 0.0\\\\\\vdots & \\vdots & \\vdots & \\vdots & \\vdots & \\ddots & \\vdots & \\vdots & \\vdots & \\vdots & \\vdots\\\\0.0 & 0.0 & 0.0 & 0.0 & 0.0 & \\cdots & 0.0 & 0.0 & 0.0 & 0.0 & 0.0\\\\0.0 & 0.0 & 0.0 & 0.0 & 0.0 & \\cdots & 0.0 & 0.0 & 0.0 & 0.0 & 0.0\\\\0.0 & 0.0 & 0.0 & 0.0 & 0.0 & \\cdots & 0.0 & 0.0 & 0.0 & 0.0 & 0.0\\\\0.0 & 0.0 & 0.0 & 0.0 & 0.0 & \\cdots & 0.0 & 0.0 & 0.0 & 0.0 & 0.0\\\\0.0 & 0.0 & 0.0 & 0.0 & 0.0 & \\cdots & 0.0 & 0.0 & 0.0 & 0.0 & 0.0\\\\\\end{array}\\right)\\end{equation*}"
     },
     "metadata": {},
     "output_type": "display_data"
    }
   ],
   "source": [
    "eta = use.create_ancilla_qobj(alpha, beta, phi)\n",
    "rho1 = use.create_system_qobj('fock', n_dims=D)\n",
    "rho2 = use.create_system_qobj('fock', n_dims=D)\n",
    "\n",
    "display(qutip.tensor(rho1, rho2))"
   ]
  },
  {
   "cell_type": "code",
   "execution_count": 6,
   "id": "1267e4e2-4606-415c-8fc2-3a8441169a63",
   "metadata": {
    "ExecuteTime": {
     "end_time": "2023-06-19T16:44:31.715363400Z",
     "start_time": "2023-06-19T16:44:31.695551Z"
    }
   },
   "outputs": [],
   "source": [
    "# Ancilla dephasing gate\n",
    "class DephasingGate(qc.Gate):\n",
    "    # Unitary evolution Matrix\n",
    "    U = Qobj([[1, 0, 0], [0, 1, 0], [0, 0, cmath.exp(-1j*delta2)]])\n",
    "    \n",
    "    def evolve(self, system):\n",
    "        return self.U * system * self.U.dag()\n",
    "    \n",
    "class MeasureGate(qc.Gate):\n",
    "    def __init__(self, *args, partial_system=None, **kwargs):\n",
    "        super().__init__(*args, **kwargs)\n",
    "        self.partial_system = partial_system\n",
    "\n",
    "    def evolve(self, system):\n",
    "        display(Markdown(f\"{self.name.upper()} measure\"))\n",
    "        if self.partial_system is not None:\n",
    "            traced_out_system = system.ptrace(self.partial_system)\n",
    "        else:\n",
    "            traced_out_system = system\n",
    "        display(traced_out_system)\n",
    "        return system\n",
    "    \n",
    "class FirstTimeEvolutionGate(qc.Gate):\n",
    "    # This acts only on the first system\n",
    "    def evolve(self, system):\n",
    "        U = (1j * th * p.V1).expm()\n",
    "        return U * system * U.dag()\n",
    "    \n",
    "class SecondTimeEvolutionGate(qc.Gate):\n",
    "    def evolve(self, system):\n",
    "        # This acts only on the second system\n",
    "        U = (1j * th * p.V2).expm()\n",
    "        return U * system * U.dag()\n",
    "\n",
    "class TraceOutGate(qc.Gate):\n",
    "    def __init__(self, controller, sys_to_keep=0, *args, **kwargs):\n",
    "        super().__init__(controller, *args, **kwargs)\n",
    "        self.systems = sys_to_keep\n",
    "\n",
    "    def evolve(self, system):\n",
    "        return system.ptrace(self.systems)\n",
    "\n",
    "    def inject(self, step, system):\n",
    "        for lane in self.lanes:\n",
    "            if lane not in self.systems:\n",
    "                self.controller.lanes[lane].system_evolution[step + 1] = None\n",
    "            else:\n",
    "                self.controller.lanes[lane].system_evolution[step + 1] = system\n",
    "\n",
    "    \n",
    "class MasterEquationGate(qc.Gate):\n",
    "    \n",
    "    def dissipator(self, X: Qobj, system: Qobj):\n",
    "            sandwich = X * system * X.dag()\n",
    "            comm = qutip.commutator(X.dag()*X, system, kind='anti')\n",
    "            return sandwich - 1/2 * comm\n",
    "        \n",
    "    def master_equation(self, system):\n",
    "        ga = 2*alpha**2\n",
    "        gb = (beta)**2*(1-np.cos(phi))\n",
    "        # Bosonic Operators\n",
    "        C = p.C\n",
    "        Cp = p.Cp\n",
    "        S = p.S\n",
    "        Sd = p.S.dag()\n",
    "        first_line = 0.5*self.dissipator(qutip.tensor(C, C) - 2*qutip.tensor(S, Sd), system) \n",
    "        first_line += self.dissipator(qutip.tensor(C, S) + qutip.tensor(S, Cp), system)\n",
    "        second_line = 0.5*self.dissipator(qutip.tensor(Cp, Cp) - 2*qutip.tensor(Sd, S), system)\n",
    "        second_line += self.dissipator(qutip.tensor(Cp, Sd) + qutip.tensor(Sd, C), system)\n",
    "        return ga * first_line + gb * second_line\n",
    "    \n",
    "    def evolve(self, system):\n",
    "        system_variation = self.master_equation(system)\n",
    "        return system + system_variation\n",
    "        \n"
   ]
  },
  {
   "cell_type": "code",
   "execution_count": 8,
   "outputs": [
    {
     "name": "stdout",
     "output_type": "stream",
     "text": [
      "         1   2   3   4  \n",
      "c1  -----==----------------\n",
      "eta -----u1--U1--U2--tr----\n",
      "rho ---------U1--U2--tr----\n",
      "\n",
      "Step 1 - Gate u1 acting on [1]\n",
      "Used lanes: [eta: Quantum System [3]x[3] (not entangled)]\n",
      "________________________________________\n",
      "\n",
      "Step 2 - Gate U1 acting on [2, 1]\n",
      "Used lanes: [rho: Quantum System [5, 5]x[5, 5] (entangled), eta: Quantum System [3]x[3] (not entangled)]\n",
      "________________________________________\n",
      "\n",
      "Step 3 - Gate U2 acting on [2, 1]\n",
      "Used lanes: [rho: Quantum System [5, 5]x[5, 5] (entangled), eta: Quantum System [3]x[3] (not entangled)]\n",
      "________________________________________\n",
      "\n",
      "Step 4 - Gate tr acting on [2, 1]\n",
      "Used lanes: [rho: Quantum System [5, 5]x[5, 5] (entangled), eta: Quantum System [3]x[3] (not entangled)]\n",
      "________________________________________\n",
      "\n",
      "         1   2   3   4  \n",
      "c1  -----==----------------\n",
      "eta -----u1--U1--U2--tr----\n",
      "rho ---------U1--U2--tr-   \n",
      "\n"
     ]
    }
   ],
   "source": [
    "class QuantumCircuit(qc.Circuit):\n",
    "    def __init__(self, *args, **kwargs):\n",
    "        super().__init__(*args, **kwargs)\n",
    "        self.gates = [\n",
    "            DephasingGate(self, [1], name='u1', control_lane=0),\n",
    "            # MeasureGate(self, [1], name='mi'),\n",
    "            FirstTimeEvolutionGate(self, [2, 1], name='U1'),\n",
    "            # MeasureGate(self, [1], name='ms', partial_system=2),\n",
    "            SecondTimeEvolutionGate(self, [2, 1], name='U2'),\n",
    "            TraceOutGate(self, lanes=[2, 1], sys_to_keep=[0, 1], name='tr'),\n",
    "        ]\n",
    "        self.lanes = [\n",
    "            qc.Lane(self, +1, name='c1'),\n",
    "            qc.Lane(self, eta, name='eta'),\n",
    "            qc.Lane(self, qutip.tensor(rho1, rho2), name='rho'),\n",
    "        ]\n",
    "a = QuantumCircuit(n_lanes=3, logging=True)\n",
    "a.draw()\n",
    "a.run()\n",
    "a.draw()"
   ],
   "metadata": {
    "collapsed": false,
    "ExecuteTime": {
     "end_time": "2023-06-19T16:44:42.673167Z",
     "start_time": "2023-06-19T16:44:42.642595300Z"
    }
   }
  },
  {
   "cell_type": "code",
   "execution_count": null,
   "outputs": [],
   "source": [
    "a.lanes[1].system_evolution"
   ],
   "metadata": {
    "collapsed": false
   }
  },
  {
   "cell_type": "code",
   "execution_count": null,
   "id": "b3c50f15-f48e-4527-ba03-89b21aa4ebd9",
   "metadata": {
    "tags": []
   },
   "outputs": [],
   "source": [
    "circuit = qc.Circuit(n_lanes=3, logging=True)\n",
    "circuit.populate_lane(0, -1, 'c1')\n",
    "circuit.populate_lane(1, eta, 'eta')\n",
    "circuit.populate_lane(2, qutip.tensor(rho1, rho2), 'rho')\n",
    "\n",
    "#circuit.add_gate(MeasureGate([1], name='m2'))\n",
    "#circuit.add_gate(MasterEquationGate([1], name='meq'))\n",
    "circuit.add_gate(TraceOutGate(sys_to_keep=[0, 1], lanes=[2, 1], name='tr'))\n",
    "circuit.add_gate(SecondTimeEvolutionGate([2, 1], name='U2'))\n",
    "circuit.add_gate(MeasureGate([1], name='ms', partial_system=2), 0)\n",
    "circuit.add_gate(FirstTimeEvolutionGate([2, 1], name='U1'))\n",
    "circuit.add_gate(MeasureGate([1], name='mi'), 0)\n",
    "circuit.add_gate(DephasingGate([1], name='u1', control_lane=0))\n",
    "circuit.draw()"
   ]
  },
  {
   "cell_type": "code",
   "execution_count": null,
   "outputs": [],
   "source": [
    "for t in range(10):\n",
    "    print(f\"T = {t}\")\n",
    "    # Inject a new Ancilla in the circuit\n",
    "    circuit.populate_lane(1, eta, 'eta')\n",
    "    if t == 3:\n",
    "        # Switch the phase controller\n",
    "        circuit.update_lane(0, system=1)\n",
    "    if t == 5:\n",
    "        circuit.add_gate(MeasureGate([1], name='mf', partial_system=2), position=4)\n",
    "    circuit.draw()\n",
    "    circuit.run()\n",
    "    print(f\"{'='*40}\")"
   ],
   "metadata": {
    "collapsed": false
   }
  },
  {
   "cell_type": "code",
   "execution_count": null,
   "outputs": [],
   "source": [
    "display(circuit.lanes[2].system.ptrace(0))\n",
    "display(circuit[2].ptrace(0))"
   ],
   "metadata": {
    "collapsed": false
   }
  },
  {
   "cell_type": "code",
   "execution_count": null,
   "outputs": [],
   "source": [],
   "metadata": {
    "collapsed": false
   }
  }
 ],
 "metadata": {
  "kernelspec": {
   "display_name": "Python 3 (ipykernel)",
   "language": "python",
   "name": "python3"
  },
  "language_info": {
   "codemirror_mode": {
    "name": "ipython",
    "version": 3
   },
   "file_extension": ".py",
   "mimetype": "text/x-python",
   "name": "python",
   "nbconvert_exporter": "python",
   "pygments_lexer": "ipython3",
   "version": "3.10.8"
  }
 },
 "nbformat": 4,
 "nbformat_minor": 5
}
