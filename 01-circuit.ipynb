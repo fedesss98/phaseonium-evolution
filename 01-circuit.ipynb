{
 "cells": [
  {
   "cell_type": "code",
   "execution_count": 1,
   "id": "f9f3dd54-e0e2-4f51-9e2c-929520fccd1c",
   "metadata": {},
   "outputs": [],
   "source": [
    "%matplotlib inline\n",
    "import copy\n",
    "import qutip\n",
    "from qutip import Qobj\n",
    "import numpy as np\n",
    "import math, cmath\n",
    "import matplotlib.pyplot as plt\n",
    "from tqdm import tqdm\n",
    "\n",
    "from stateobj import Physics\n",
    "import utilities as use\n",
    "import circuits as qc\n",
    "\n",
    "import os\n",
    "\n",
    "from IPython.display import Markdown, display"
   ]
  },
  {
   "cell_type": "code",
   "execution_count": 2,
   "id": "b86eff77-b989-4334-bed1-c6458679f8c2",
   "metadata": {},
   "outputs": [],
   "source": [
    "TIMESTEPS = 5000\n",
    "TIMEDELTA = 1e-01\n",
    "OMEGA = 0.5  # Strength of Interaction\n",
    "\n",
    "D = 5\n",
    "\n",
    "p = Physics(dimension=D, interaction_strength=OMEGA, interaction_time=TIMEDELTA)\n",
    "\n",
    "th = OMEGA * TIMEDELTA\n",
    "alpha = complex(1/math.sqrt(2), 0)\n",
    "beta = cmath.sqrt(1 - alpha**2)\n",
    "phi = np.pi/2\n",
    "# Phase shifts\n",
    "delta1 = 0\n",
    "delta2 = -phi"
   ]
  },
  {
   "cell_type": "code",
   "execution_count": 3,
   "id": "a76145c1-36c1-4ca7-b461-a675067e377a",
   "metadata": {},
   "outputs": [
    {
     "data": {
      "text/latex": [
       "Quantum object: dims = [[5, 5], [5, 5]], shape = (25, 25), type = oper, isherm = True\\begin{equation*}\\left(\\begin{array}{*{11}c}1.0 & 0.0 & 0.0 & 0.0 & 0.0 & \\cdots & 0.0 & 0.0 & 0.0 & 0.0 & 0.0\\\\0.0 & 0.0 & 0.0 & 0.0 & 0.0 & \\cdots & 0.0 & 0.0 & 0.0 & 0.0 & 0.0\\\\0.0 & 0.0 & 0.0 & 0.0 & 0.0 & \\cdots & 0.0 & 0.0 & 0.0 & 0.0 & 0.0\\\\0.0 & 0.0 & 0.0 & 0.0 & 0.0 & \\cdots & 0.0 & 0.0 & 0.0 & 0.0 & 0.0\\\\0.0 & 0.0 & 0.0 & 0.0 & 0.0 & \\cdots & 0.0 & 0.0 & 0.0 & 0.0 & 0.0\\\\\\vdots & \\vdots & \\vdots & \\vdots & \\vdots & \\ddots & \\vdots & \\vdots & \\vdots & \\vdots & \\vdots\\\\0.0 & 0.0 & 0.0 & 0.0 & 0.0 & \\cdots & 0.0 & 0.0 & 0.0 & 0.0 & 0.0\\\\0.0 & 0.0 & 0.0 & 0.0 & 0.0 & \\cdots & 0.0 & 0.0 & 0.0 & 0.0 & 0.0\\\\0.0 & 0.0 & 0.0 & 0.0 & 0.0 & \\cdots & 0.0 & 0.0 & 0.0 & 0.0 & 0.0\\\\0.0 & 0.0 & 0.0 & 0.0 & 0.0 & \\cdots & 0.0 & 0.0 & 0.0 & 0.0 & 0.0\\\\0.0 & 0.0 & 0.0 & 0.0 & 0.0 & \\cdots & 0.0 & 0.0 & 0.0 & 0.0 & 0.0\\\\\\end{array}\\right)\\end{equation*}"
      ],
      "text/plain": [
       "Quantum object: dims = [[5, 5], [5, 5]], shape = (25, 25), type = oper, isherm = True\n",
       "Qobj data =\n",
       "[[1. 0. 0. 0. 0. 0. 0. 0. 0. 0. 0. 0. 0. 0. 0. 0. 0. 0. 0. 0. 0. 0. 0. 0.\n",
       "  0.]\n",
       " [0. 0. 0. 0. 0. 0. 0. 0. 0. 0. 0. 0. 0. 0. 0. 0. 0. 0. 0. 0. 0. 0. 0. 0.\n",
       "  0.]\n",
       " [0. 0. 0. 0. 0. 0. 0. 0. 0. 0. 0. 0. 0. 0. 0. 0. 0. 0. 0. 0. 0. 0. 0. 0.\n",
       "  0.]\n",
       " [0. 0. 0. 0. 0. 0. 0. 0. 0. 0. 0. 0. 0. 0. 0. 0. 0. 0. 0. 0. 0. 0. 0. 0.\n",
       "  0.]\n",
       " [0. 0. 0. 0. 0. 0. 0. 0. 0. 0. 0. 0. 0. 0. 0. 0. 0. 0. 0. 0. 0. 0. 0. 0.\n",
       "  0.]\n",
       " [0. 0. 0. 0. 0. 0. 0. 0. 0. 0. 0. 0. 0. 0. 0. 0. 0. 0. 0. 0. 0. 0. 0. 0.\n",
       "  0.]\n",
       " [0. 0. 0. 0. 0. 0. 0. 0. 0. 0. 0. 0. 0. 0. 0. 0. 0. 0. 0. 0. 0. 0. 0. 0.\n",
       "  0.]\n",
       " [0. 0. 0. 0. 0. 0. 0. 0. 0. 0. 0. 0. 0. 0. 0. 0. 0. 0. 0. 0. 0. 0. 0. 0.\n",
       "  0.]\n",
       " [0. 0. 0. 0. 0. 0. 0. 0. 0. 0. 0. 0. 0. 0. 0. 0. 0. 0. 0. 0. 0. 0. 0. 0.\n",
       "  0.]\n",
       " [0. 0. 0. 0. 0. 0. 0. 0. 0. 0. 0. 0. 0. 0. 0. 0. 0. 0. 0. 0. 0. 0. 0. 0.\n",
       "  0.]\n",
       " [0. 0. 0. 0. 0. 0. 0. 0. 0. 0. 0. 0. 0. 0. 0. 0. 0. 0. 0. 0. 0. 0. 0. 0.\n",
       "  0.]\n",
       " [0. 0. 0. 0. 0. 0. 0. 0. 0. 0. 0. 0. 0. 0. 0. 0. 0. 0. 0. 0. 0. 0. 0. 0.\n",
       "  0.]\n",
       " [0. 0. 0. 0. 0. 0. 0. 0. 0. 0. 0. 0. 0. 0. 0. 0. 0. 0. 0. 0. 0. 0. 0. 0.\n",
       "  0.]\n",
       " [0. 0. 0. 0. 0. 0. 0. 0. 0. 0. 0. 0. 0. 0. 0. 0. 0. 0. 0. 0. 0. 0. 0. 0.\n",
       "  0.]\n",
       " [0. 0. 0. 0. 0. 0. 0. 0. 0. 0. 0. 0. 0. 0. 0. 0. 0. 0. 0. 0. 0. 0. 0. 0.\n",
       "  0.]\n",
       " [0. 0. 0. 0. 0. 0. 0. 0. 0. 0. 0. 0. 0. 0. 0. 0. 0. 0. 0. 0. 0. 0. 0. 0.\n",
       "  0.]\n",
       " [0. 0. 0. 0. 0. 0. 0. 0. 0. 0. 0. 0. 0. 0. 0. 0. 0. 0. 0. 0. 0. 0. 0. 0.\n",
       "  0.]\n",
       " [0. 0. 0. 0. 0. 0. 0. 0. 0. 0. 0. 0. 0. 0. 0. 0. 0. 0. 0. 0. 0. 0. 0. 0.\n",
       "  0.]\n",
       " [0. 0. 0. 0. 0. 0. 0. 0. 0. 0. 0. 0. 0. 0. 0. 0. 0. 0. 0. 0. 0. 0. 0. 0.\n",
       "  0.]\n",
       " [0. 0. 0. 0. 0. 0. 0. 0. 0. 0. 0. 0. 0. 0. 0. 0. 0. 0. 0. 0. 0. 0. 0. 0.\n",
       "  0.]\n",
       " [0. 0. 0. 0. 0. 0. 0. 0. 0. 0. 0. 0. 0. 0. 0. 0. 0. 0. 0. 0. 0. 0. 0. 0.\n",
       "  0.]\n",
       " [0. 0. 0. 0. 0. 0. 0. 0. 0. 0. 0. 0. 0. 0. 0. 0. 0. 0. 0. 0. 0. 0. 0. 0.\n",
       "  0.]\n",
       " [0. 0. 0. 0. 0. 0. 0. 0. 0. 0. 0. 0. 0. 0. 0. 0. 0. 0. 0. 0. 0. 0. 0. 0.\n",
       "  0.]\n",
       " [0. 0. 0. 0. 0. 0. 0. 0. 0. 0. 0. 0. 0. 0. 0. 0. 0. 0. 0. 0. 0. 0. 0. 0.\n",
       "  0.]\n",
       " [0. 0. 0. 0. 0. 0. 0. 0. 0. 0. 0. 0. 0. 0. 0. 0. 0. 0. 0. 0. 0. 0. 0. 0.\n",
       "  0.]]"
      ]
     },
     "metadata": {},
     "output_type": "display_data"
    }
   ],
   "source": [
    "eta = use.create_ancilla_qobj(alpha, beta, phi)\n",
    "rho1 = use.create_system_qobj('fock', n_dims=D)\n",
    "rho2 = use.create_system_qobj('fock', n_dims=D)\n",
    "\n",
    "display(qutip.tensor(rho1, rho2))"
   ]
  },
  {
   "cell_type": "code",
   "execution_count": 4,
   "id": "1267e4e2-4606-415c-8fc2-3a8441169a63",
   "metadata": {},
   "outputs": [],
   "source": [
    "# Ancilla dephasing gate\n",
    "class DephasingGate(qc.Gate):\n",
    "    # Unitary evolution Matrix\n",
    "    U = Qobj([[1, 0, 0], [0, 1, 0], [0, 0, cmath.exp(-1j*delta2)]])\n",
    "    \n",
    "    def evolve(self, system):\n",
    "        return self.U * system * self.U.dag()\n",
    "    \n",
    "class MeasureGate(qc.Gate):\n",
    "    def evolve(self, system):\n",
    "        display(Markdown(f\"{self.name.upper()} measure\"))\n",
    "        display(system)\n",
    "        return system\n",
    "    \n",
    "class FirstTimeEvolutionGate(qc.Gate):\n",
    "    # This acts only on the first system\n",
    "    def evolve(self, system):\n",
    "        U = (1j * th * p.V1).expm()\n",
    "        print(U.shape)\n",
    "        print(U.dims)\n",
    "        print(system.dims)\n",
    "        return U * system * U.dag()\n",
    "    \n",
    "class SecondTimeEvolutionGate(qc.Gate):\n",
    "    def evolve(self, system):\n",
    "        # This acts only on the second system\n",
    "        U = (1j * th * p.V2).expm()\n",
    "        print(U.shape)\n",
    "        print(U.dims)\n",
    "        print(system.dims)\n",
    "        return U * system * U.dag()\n",
    "\n",
    "    \n",
    "class MasterEquationGate(qc.Gate):\n",
    "    \n",
    "    def dissipator(self, X: Qobj, system: Qobj):\n",
    "            sandwich = X * system * X.dag()\n",
    "            comm = qutip.commutator(X.dag()*X, system, kind='anti')\n",
    "            return sandwich - 1/2 * comm\n",
    "        \n",
    "    def master_equation(self, system):\n",
    "        ga = 2*alpha**2\n",
    "        gb = (beta)**2*(1-np.cos(phi))\n",
    "        # Bosonic Operators\n",
    "        C = p.C\n",
    "        Cp = p.Cp\n",
    "        S = p.S\n",
    "        Sd = p.S.dag()\n",
    "        first_line = 0.5*self.dissipator(qutip.tensor(C, C) - 2*qutip.tensor(S, Sd), system) \n",
    "        first_line += self.dissipator(qutip.tensor(C, S) + qutip.tensor(S, Cp), system)\n",
    "        second_line = 0.5*self.dissipator(qutip.tensor(Cp, Cp) - 2*qutip.tensor(Sd, S), system)\n",
    "        second_line += self.dissipator(qutip.tensor(Cp, Sd) + qutip.tensor(Sd, C), system)\n",
    "        return ga * first_line + gb * second_line\n",
    "    \n",
    "    def evolve(self, system):\n",
    "        system_variation = self.master_equation(system)\n",
    "        return system + system_variation\n",
    "        \n"
   ]
  },
  {
   "cell_type": "code",
   "execution_count": 5,
   "id": "af0581c1-d0d1-4883-84b3-fd83e28e6bc1",
   "metadata": {},
   "outputs": [
    {
     "data": {
      "text/latex": [
       "Quantum object: dims = [[5, 1], [5, 1]], shape = (5, 5), type = oper, isherm = True\\begin{equation*}\\left(\\begin{array}{*{11}c}1.0 & 0.0 & 0.0 & 0.0 & 0.0\\\\0.0 & 0.0 & 0.0 & 0.0 & 0.0\\\\0.0 & 0.0 & 0.0 & 0.0 & 0.0\\\\0.0 & 0.0 & 0.0 & 0.0 & 0.0\\\\0.0 & 0.0 & 0.0 & 0.0 & 0.0\\\\\\end{array}\\right)\\end{equation*}"
      ],
      "text/plain": [
       "Quantum object: dims = [[5, 1], [5, 1]], shape = (5, 5), type = oper, isherm = True\n",
       "Qobj data =\n",
       "[[1. 0. 0. 0. 0.]\n",
       " [0. 0. 0. 0. 0.]\n",
       " [0. 0. 0. 0. 0.]\n",
       " [0. 0. 0. 0. 0.]\n",
       " [0. 0. 0. 0. 0.]]"
      ]
     },
     "execution_count": 5,
     "metadata": {},
     "output_type": "execute_result"
    }
   ],
   "source": [
    "qutip.tensor(rho1, Qobj(1))"
   ]
  },
  {
   "cell_type": "code",
   "execution_count": 6,
   "id": "b3c50f15-f48e-4527-ba03-89b21aa4ebd9",
   "metadata": {
    "tags": []
   },
   "outputs": [
    {
     "name": "stdout",
     "output_type": "stream",
     "text": [
      "Created U2 gate with code 378\n",
      "Created ms gate with code 967\n",
      "Created U1 gate with code 267\n",
      "Created u1 gate with code 626\n",
      "Created mi gate with code 892\n",
      "T = 0\n",
      "          1    2    3    4    5  \n",
      "c1  ---- ----   x  ---- ---- ---- ---\n",
      "eta ----  mi   u1   U1   ms   U2  ---\n",
      "rho ---- ---- ----  U1  ----  U2  ---\n",
      "\n"
     ]
    },
    {
     "data": {
      "text/markdown": [
       "MI measure"
      ],
      "text/plain": [
       "<IPython.core.display.Markdown object>"
      ]
     },
     "metadata": {},
     "output_type": "display_data"
    },
    {
     "data": {
      "text/latex": [
       "Quantum object: dims = [[3], [3]], shape = (3, 3), type = oper, isherm = True\\begin{equation*}\\left(\\begin{array}{*{11}c}0.500 & 0.0 & 0.0\\\\0.0 & 0.250 & 0.250j\\\\0.0 & -0.250j & 0.250\\\\\\end{array}\\right)\\end{equation*}"
      ],
      "text/plain": [
       "Quantum object: dims = [[3], [3]], shape = (3, 3), type = oper, isherm = True\n",
       "Qobj data =\n",
       "[[0.5 +0.j   0.  +0.j   0.  +0.j  ]\n",
       " [0.  +0.j   0.25+0.j   0.  +0.25j]\n",
       " [0.  +0.j   0.  -0.25j 0.25+0.j  ]]"
      ]
     },
     "metadata": {},
     "output_type": "display_data"
    },
    {
     "name": "stdout",
     "output_type": "stream",
     "text": [
      "(75, 75)\n",
      "[[5, 5, 3], [5, 5, 3]]\n",
      "[[5, 5, 3], [5, 5, 3]]\n"
     ]
    },
    {
     "data": {
      "text/markdown": [
       "MS measure"
      ],
      "text/plain": [
       "<IPython.core.display.Markdown object>"
      ]
     },
     "metadata": {},
     "output_type": "display_data"
    },
    {
     "data": {
      "text/latex": [
       "Quantum object: dims = [[5, 5, 3], [5, 5, 3]], shape = (75, 75), type = oper, isherm = True\\begin{equation*}\\left(\\begin{array}{*{11}c}0.498 & 0.0 & 0.0 & 0.0 & 0.0 & \\cdots & 0.0 & 0.0 & 0.0 & 0.0 & 0.0\\\\0.0 & 0.250 & 0.250j & 0.0 & 0.0 & \\cdots & 0.0 & 0.0 & 0.0 & 0.0 & 0.0\\\\0.0 & -0.250j & 0.250 & 0.0 & 0.0 & \\cdots & 0.0 & 0.0 & 0.0 & 0.0 & 0.0\\\\0.0 & 0.0 & 0.0 & 0.0 & 0.0 & \\cdots & 0.0 & 0.0 & 0.0 & 0.0 & 0.0\\\\0.0 & 0.0 & 0.0 & 0.0 & 0.0 & \\cdots & 0.0 & 0.0 & 0.0 & 0.0 & 0.0\\\\\\vdots & \\vdots & \\vdots & \\vdots & \\vdots & \\ddots & \\vdots & \\vdots & \\vdots & \\vdots & \\vdots\\\\0.0 & 0.0 & 0.0 & 0.0 & 0.0 & \\cdots & 0.0 & 0.0 & 0.0 & 0.0 & 0.0\\\\0.0 & 0.0 & 0.0 & 0.0 & 0.0 & \\cdots & 0.0 & 0.0 & 0.0 & 0.0 & 0.0\\\\0.0 & 0.0 & 0.0 & 0.0 & 0.0 & \\cdots & 0.0 & 0.0 & 0.0 & 0.0 & 0.0\\\\0.0 & 0.0 & 0.0 & 0.0 & 0.0 & \\cdots & 0.0 & 0.0 & 0.0 & 0.0 & 0.0\\\\0.0 & 0.0 & 0.0 & 0.0 & 0.0 & \\cdots & 0.0 & 0.0 & 0.0 & 0.0 & 0.0\\\\\\end{array}\\right)\\end{equation*}"
      ],
      "text/plain": [
       "Quantum object: dims = [[5, 5, 3], [5, 5, 3]], shape = (75, 75), type = oper, isherm = True\n",
       "Qobj data =\n",
       "[[0.49750416+0.j   0.        +0.j   0.        +0.j   ... 0.        +0.j\n",
       "  0.        +0.j   0.        +0.j  ]\n",
       " [0.        +0.j   0.25      +0.j   0.        +0.25j ... 0.        +0.j\n",
       "  0.        +0.j   0.        +0.j  ]\n",
       " [0.        +0.j   0.        -0.25j 0.25      +0.j   ... 0.        +0.j\n",
       "  0.        +0.j   0.        +0.j  ]\n",
       " ...\n",
       " [0.        +0.j   0.        +0.j   0.        +0.j   ... 0.        +0.j\n",
       "  0.        +0.j   0.        +0.j  ]\n",
       " [0.        +0.j   0.        +0.j   0.        +0.j   ... 0.        +0.j\n",
       "  0.        +0.j   0.        +0.j  ]\n",
       " [0.        +0.j   0.        +0.j   0.        +0.j   ... 0.        +0.j\n",
       "  0.        +0.j   0.        +0.j  ]]"
      ]
     },
     "metadata": {},
     "output_type": "display_data"
    },
    {
     "name": "stdout",
     "output_type": "stream",
     "text": [
      "(75, 75)\n",
      "[[5, 5, 3], [5, 5, 3]]\n",
      "[[5, 5, 3, 5, 5, 3], [5, 5, 3, 5, 5, 3]]\n"
     ]
    },
    {
     "ename": "TypeError",
     "evalue": "Incompatible Qobj shapes",
     "output_type": "error",
     "traceback": [
      "\u001b[1;31m---------------------------------------------------------------------------\u001b[0m",
      "\u001b[1;31mTypeError\u001b[0m                                 Traceback (most recent call last)",
      "Cell \u001b[1;32mIn [6], line 27\u001b[0m\n\u001b[0;32m     25\u001b[0m     circuit\u001b[38;5;241m.\u001b[39madd_gate(MeasureGate([\u001b[38;5;241m1\u001b[39m], name\u001b[38;5;241m=\u001b[39m\u001b[38;5;124m'\u001b[39m\u001b[38;5;124mmf\u001b[39m\u001b[38;5;124m'\u001b[39m), position\u001b[38;5;241m=\u001b[39m\u001b[38;5;241m2\u001b[39m)\n\u001b[0;32m     26\u001b[0m circuit\u001b[38;5;241m.\u001b[39mdraw()\n\u001b[1;32m---> 27\u001b[0m \u001b[43mcircuit\u001b[49m\u001b[38;5;241;43m.\u001b[39;49m\u001b[43mrun\u001b[49m\u001b[43m(\u001b[49m\u001b[43m)\u001b[49m\n",
      "File \u001b[1;32m~\\UNIPA\\PHASEONIUM\\phaseonium-evolution\\circuits.py:138\u001b[0m, in \u001b[0;36mCircuit.run\u001b[1;34m(self)\u001b[0m\n\u001b[0;32m    136\u001b[0m total_system \u001b[38;5;241m=\u001b[39m qutip\u001b[38;5;241m.\u001b[39mtensor(systems)\n\u001b[0;32m    137\u001b[0m \u001b[38;5;28;01mif\u001b[39;00m \u001b[38;5;129;01mnot\u001b[39;00m gate\u001b[38;5;241m.\u001b[39mcontrolled:\n\u001b[1;32m--> 138\u001b[0m     total_system \u001b[38;5;241m=\u001b[39m \u001b[43mgate\u001b[49m\u001b[38;5;241;43m.\u001b[39;49m\u001b[43mevolve\u001b[49m\u001b[43m(\u001b[49m\u001b[43mtotal_system\u001b[49m\u001b[43m)\u001b[49m\n\u001b[0;32m    139\u001b[0m \u001b[38;5;28;01melse\u001b[39;00m:\n\u001b[0;32m    140\u001b[0m     control_system \u001b[38;5;241m=\u001b[39m \u001b[38;5;28mself\u001b[39m\u001b[38;5;241m.\u001b[39mlanes[gate\u001b[38;5;241m.\u001b[39mcontrol_lane]\u001b[38;5;241m.\u001b[39msystem\n",
      "Cell \u001b[1;32mIn [4], line 31\u001b[0m, in \u001b[0;36mSecondTimeEvolutionGate.evolve\u001b[1;34m(self, system)\u001b[0m\n\u001b[0;32m     29\u001b[0m \u001b[38;5;28mprint\u001b[39m(U\u001b[38;5;241m.\u001b[39mdims)\n\u001b[0;32m     30\u001b[0m \u001b[38;5;28mprint\u001b[39m(system\u001b[38;5;241m.\u001b[39mdims)\n\u001b[1;32m---> 31\u001b[0m \u001b[38;5;28;01mreturn\u001b[39;00m \u001b[43mU\u001b[49m\u001b[43m \u001b[49m\u001b[38;5;241;43m*\u001b[39;49m\u001b[43m \u001b[49m\u001b[43msystem\u001b[49m \u001b[38;5;241m*\u001b[39m U\u001b[38;5;241m.\u001b[39mdag()\n",
      "File \u001b[1;32m~\\anaconda3\\envs\\phaseonium\\lib\\site-packages\\qutip\\qobj.py:555\u001b[0m, in \u001b[0;36mQobj.__mul__\u001b[1;34m(self, other)\u001b[0m\n\u001b[0;32m    552\u001b[0m         \u001b[38;5;28;01mreturn\u001b[39;00m out\u001b[38;5;241m.\u001b[39mtidyup() \u001b[38;5;28;01mif\u001b[39;00m settings\u001b[38;5;241m.\u001b[39mauto_tidyup \u001b[38;5;28;01melse\u001b[39;00m out\n\u001b[0;32m    554\u001b[0m     \u001b[38;5;28;01melse\u001b[39;00m:\n\u001b[1;32m--> 555\u001b[0m         \u001b[38;5;28;01mraise\u001b[39;00m \u001b[38;5;167;01mTypeError\u001b[39;00m(\u001b[38;5;124m\"\u001b[39m\u001b[38;5;124mIncompatible Qobj shapes\u001b[39m\u001b[38;5;124m\"\u001b[39m)\n\u001b[0;32m    557\u001b[0m \u001b[38;5;28;01melif\u001b[39;00m \u001b[38;5;28misinstance\u001b[39m(other, np\u001b[38;5;241m.\u001b[39mndarray):\n\u001b[0;32m    558\u001b[0m     \u001b[38;5;28;01mif\u001b[39;00m other\u001b[38;5;241m.\u001b[39mdtype \u001b[38;5;241m==\u001b[39m \u001b[38;5;124m'\u001b[39m\u001b[38;5;124mobject\u001b[39m\u001b[38;5;124m'\u001b[39m:\n",
      "\u001b[1;31mTypeError\u001b[0m: Incompatible Qobj shapes"
     ]
    }
   ],
   "source": [
    "circuit = qc.Circuit(n_lanes=3)\n",
    "circuit.populate_lane(0, -1, 'c1')\n",
    "circuit.populate_lane(1, eta, 'eta')\n",
    "circuit.populate_lane(2, qutip.tensor(rho1, rho2), 'rho')\n",
    "\n",
    "#circuit.add_gate(MeasureGate([1], name='m2'))\n",
    "#circuit.add_gate(MasterEquationGate([1], name='meq'))\n",
    "circuit.add_gate(SecondTimeEvolutionGate([2,1], name='U2'))\n",
    "circuit.add_gate(MeasureGate([1], name='ms'), 0)\n",
    "circuit.add_gate(FirstTimeEvolutionGate([2,1], name='U1'))\n",
    "circuit.add_gate(DephasingGate([1], name='u1', control_lane=0))\n",
    "circuit.add_gate(MeasureGate([1], name='mi'), 0)\n",
    "#circuit.draw()\n",
    "\n",
    "for t in range(10):\n",
    "    print(f\"T = {t}\")\n",
    "    # Inject a new Ancilla in the circuit\n",
    "    circuit.populate_lane(1, eta, 'eta')\n",
    "    if t == 1:\n",
    "        circuit.remove_gate(0)\n",
    "    if t > 3:\n",
    "        # Switch the phase controller\n",
    "        circuit.update_lane(0, system=1, name=f'c{t}')\n",
    "    if t == 5:\n",
    "        circuit.add_gate(MeasureGate([1], name='mf'), position=2)\n",
    "    circuit.draw()\n",
    "    circuit.run()"
   ]
  },
  {
   "cell_type": "code",
   "execution_count": null,
   "id": "f73bfcb3-29ca-4be1-b151-4711deefae7e",
   "metadata": {},
   "outputs": [],
   "source": []
  }
 ],
 "metadata": {
  "kernelspec": {
   "display_name": "Python 3 (ipykernel)",
   "language": "python",
   "name": "python3"
  },
  "language_info": {
   "codemirror_mode": {
    "name": "ipython",
    "version": 3
   },
   "file_extension": ".py",
   "mimetype": "text/x-python",
   "name": "python",
   "nbconvert_exporter": "python",
   "pygments_lexer": "ipython3",
   "version": "3.10.8"
  }
 },
 "nbformat": 4,
 "nbformat_minor": 5
}
