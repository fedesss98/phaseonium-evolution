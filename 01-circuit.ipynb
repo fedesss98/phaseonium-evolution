{
 "cells": [
  {
   "cell_type": "code",
   "execution_count": 1,
   "outputs": [],
   "source": [
    "%matplotlib inline\n",
    "import copy\n",
    "import qutip\n",
    "from qutip import Qobj\n",
    "import numpy as np\n",
    "import math, cmath\n",
    "import matplotlib.pyplot as plt\n",
    "from tqdm import tqdm\n",
    "\n",
    "from stateobj import Physics\n",
    "import utilities as use\n",
    "import circuits as qc\n",
    "\n",
    "import os\n",
    "\n",
    "from IPython.display import Markdown, display"
   ],
   "metadata": {
    "collapsed": false,
    "ExecuteTime": {
     "end_time": "2023-07-05T12:52:14.605874800Z",
     "start_time": "2023-07-05T12:52:13.792660600Z"
    }
   }
  },
  {
   "cell_type": "code",
   "execution_count": 2,
   "id": "b86eff77-b989-4334-bed1-c6458679f8c2",
   "metadata": {
    "ExecuteTime": {
     "end_time": "2023-07-05T12:52:14.638092100Z",
     "start_time": "2023-07-05T12:52:14.607375600Z"
    }
   },
   "outputs": [],
   "source": [
    "TIMESTEPS = 5000\n",
    "TIMEDELTA = 1e-02\n",
    "OMEGA = 0.5  # Strength of Interaction\n",
    "\n",
    "D = 30\n",
    "\n",
    "p = Physics(dimension=D, interaction_strength=OMEGA, interaction_time=TIMEDELTA)\n",
    "\n",
    "th = OMEGA * TIMEDELTA\n",
    "alpha = complex(1/math.sqrt(2), 0)\n",
    "beta = cmath.sqrt(1 - alpha**2)\n",
    "phi = np.pi/2\n",
    "# Phase shifts\n",
    "delta1 = 0\n",
    "delta2 = -phi"
   ]
  },
  {
   "cell_type": "code",
   "execution_count": 3,
   "id": "a76145c1-36c1-4ca7-b461-a675067e377a",
   "metadata": {
    "ExecuteTime": {
     "end_time": "2023-07-05T12:52:14.653161200Z",
     "start_time": "2023-07-05T12:52:14.638092100Z"
    }
   },
   "outputs": [
    {
     "data": {
      "text/plain": "Quantum object: dims = [[30, 30], [30, 30]], shape = (900, 900), type = oper, isherm = True\nQobj data =\n[[0.25   0.     0.     ... 0.     0.     0.    ]\n [0.     0.125  0.     ... 0.     0.     0.    ]\n [0.     0.     0.0625 ... 0.     0.     0.    ]\n ...\n [0.     0.     0.     ... 0.     0.     0.    ]\n [0.     0.     0.     ... 0.     0.     0.    ]\n [0.     0.     0.     ... 0.     0.     0.    ]]",
      "text/latex": "Quantum object: dims = [[30, 30], [30, 30]], shape = (900, 900), type = oper, isherm = True\\begin{equation*}\\left(\\begin{array}{*{11}c}0.250 & 0.0 & 0.0 & 0.0 & 0.0 & \\cdots & 0.0 & 0.0 & 0.0 & 0.0 & 0.0\\\\0.0 & 0.125 & 0.0 & 0.0 & 0.0 & \\cdots & 0.0 & 0.0 & 0.0 & 0.0 & 0.0\\\\0.0 & 0.0 & 0.063 & 0.0 & 0.0 & \\cdots & 0.0 & 0.0 & 0.0 & 0.0 & 0.0\\\\0.0 & 0.0 & 0.0 & 0.031 & 0.0 & \\cdots & 0.0 & 0.0 & 0.0 & 0.0 & 0.0\\\\0.0 & 0.0 & 0.0 & 0.0 & 0.016 & \\cdots & 0.0 & 0.0 & 0.0 & 0.0 & 0.0\\\\\\vdots & \\vdots & \\vdots & \\vdots & \\vdots & \\ddots & \\vdots & \\vdots & \\vdots & \\vdots & \\vdots\\\\0.0 & 0.0 & 0.0 & 0.0 & 0.0 & \\cdots & 0.0 & 0.0 & 0.0 & 0.0 & 0.0\\\\0.0 & 0.0 & 0.0 & 0.0 & 0.0 & \\cdots & 0.0 & 0.0 & 0.0 & 0.0 & 0.0\\\\0.0 & 0.0 & 0.0 & 0.0 & 0.0 & \\cdots & 0.0 & 0.0 & 0.0 & 0.0 & 0.0\\\\0.0 & 0.0 & 0.0 & 0.0 & 0.0 & \\cdots & 0.0 & 0.0 & 0.0 & 0.0 & 0.0\\\\0.0 & 0.0 & 0.0 & 0.0 & 0.0 & \\cdots & 0.0 & 0.0 & 0.0 & 0.0 & 0.0\\\\\\end{array}\\right)\\end{equation*}"
     },
     "metadata": {},
     "output_type": "display_data"
    }
   ],
   "source": [
    "eta = use.create_ancilla_qobj(alpha, beta, phi)\n",
    "rho1 = use.create_system_qobj('thermal', n_dims=D)\n",
    "rho2 = use.create_system_qobj('thermal', n_dims=D)\n",
    "\n",
    "display(qutip.tensor(rho1, rho2))"
   ]
  },
  {
   "cell_type": "code",
   "execution_count": 4,
   "id": "1267e4e2-4606-415c-8fc2-3a8441169a63",
   "metadata": {
    "ExecuteTime": {
     "end_time": "2023-07-05T12:52:14.678828600Z",
     "start_time": "2023-07-05T12:52:14.653161200Z"
    }
   },
   "outputs": [],
   "source": [
    "# Ancilla dephasing gate\n",
    "class DephasingGate(qc.Gate):\n",
    "    # Unitary evolution Matrix\n",
    "    U = Qobj([[1, 0, 0], [0, 1, 0], [0, 0, cmath.exp(-1j*delta2)]])\n",
    "    \n",
    "    def evolve(self, system):\n",
    "        return self.U * system * self.U.dag()\n",
    "\n",
    "class MeasureGate(qc.Gate):\n",
    "    def __init__(self, *args, partial_system=None, **kwargs):\n",
    "        super().__init__(*args, **kwargs)\n",
    "        self.partial_system = partial_system\n",
    "\n",
    "    def evolve(self, system):\n",
    "        display(Markdown(f\"{self.name.upper()} measure\"))\n",
    "        if self.partial_system is not None:\n",
    "            traced_out_system = system.ptrace(self.partial_system)\n",
    "        else:\n",
    "            traced_out_system = system\n",
    "        display(traced_out_system)\n",
    "        return system\n",
    "\n",
    "class FirstTimeEvolutionGate(qc.Gate):\n",
    "    # This acts only on the first system\n",
    "    def evolve(self, system):\n",
    "        U = (1j * th * p.V1).expm()\n",
    "        return U * system * U.dag()\n",
    "    \n",
    "class SecondTimeEvolutionGate(qc.Gate):\n",
    "    def evolve(self, system):\n",
    "        # This acts only on the second system\n",
    "        U = (1j * th * p.V2).expm()\n",
    "        return U * system * U.dag()\n",
    "\n",
    "class TraceOutGate(qc.Gate):\n",
    "    def __init__(self, *args, sys_to_keep=0, **kwargs):\n",
    "        super().__init__(*args, **kwargs)\n",
    "        self.sys_to_keep = sys_to_keep\n",
    "        self.lanes_to_keep = [self.lanes[i] for i in range(len(sys_to_keep))]\n",
    "\n",
    "    def evolve(self, system):\n",
    "        return system.ptrace(self.sys_to_keep)\n",
    "\n",
    "    def inject(self, step, system):\n",
    "        next_step = step + 1\n",
    "        for lane in self.lanes:\n",
    "            series = self.controller.lanes[lane].system_evolution\n",
    "            if lane not in self.lanes_to_keep:\n",
    "                series[step + 1: ] = [None for _ in range(len(series) - next_step)]\n",
    "            else:\n",
    "                series[step + 1: ] = [system for _ in range(len(series) - next_step)]\n",
    "\n",
    "class MasterEquationGate(qc.Gate):\n",
    "\n",
    "    @staticmethod\n",
    "    def dissipator(X: Qobj, system: Qobj):\n",
    "            sandwich = X * system * X.dag()\n",
    "            comm = qutip.commutator(X.dag()*X, system, kind='anti')\n",
    "            return sandwich - 1/2 * comm\n",
    "        \n",
    "    def master_equation(self, system):\n",
    "        ga = 2*alpha**2\n",
    "        gb = beta**2*(1-np.cos(phi))\n",
    "        # Bosonic Operators\n",
    "        C = p.C\n",
    "        Cp = p.Cp\n",
    "        S = p.S\n",
    "        Sd = p.S.dag()\n",
    "        first_line = 0.5*self.dissipator(qutip.tensor(C, C) - 2*qutip.tensor(S, Sd), system) \n",
    "        first_line += self.dissipator(qutip.tensor(C, S) + qutip.tensor(S, Cp), system)\n",
    "        second_line = 0.5*self.dissipator(qutip.tensor(Cp, Cp) - 2*qutip.tensor(Sd, S), system)\n",
    "        second_line += self.dissipator(qutip.tensor(Cp, Sd) + qutip.tensor(Sd, C), system)\n",
    "        return ga * first_line + gb * second_line\n",
    "    \n",
    "    def evolve(self, system):\n",
    "        system_variation = self.master_equation(system)\n",
    "        return system + system_variation\n",
    "\n",
    "class ReplaceSystem(qc.Gate):\n",
    "    def __init__(self, *args, new_system=None ,**kwargs):\n",
    "        super().__init__(*args, **kwargs)\n",
    "        self.new_system = new_system\n",
    "\n",
    "    def evolve(self, system):\n",
    "        return self.new_system\n",
    "\n",
    "class MeasureTemperature(qc.Gate):\n",
    "    def __init__(self, *args, sys_to_measure=0, result_key='temperature', **kwargs):\n",
    "        super().__init__(*args, **kwargs)\n",
    "        self.energy = 1\n",
    "        self.system_to_measure = sys_to_measure\n",
    "        self.result_key = result_key\n",
    "        if result_key not in self.controller.results:\n",
    "            self.controller.results[result_key] = []\n",
    "\n",
    "    def evolve(self, system):\n",
    "        system_to_measure = system.ptrace(self.system_to_measure)\n",
    "        upper_element = system_to_measure.diag()[0].real\n",
    "        lower_element = system_to_measure.diag()[1].real\n",
    "        temperature = - self.energy / np.log(lower_element / upper_element)\n",
    "        self.controller.results[self.result_key].append(temperature)\n",
    "        if self.controller.logging:\n",
    "            display(Markdown(f\"Temperature {self.name}: {temperature}\"))\n",
    "        return system"
   ]
  },
  {
   "cell_type": "code",
   "execution_count": 5,
   "outputs": [
    {
     "name": "stdout",
     "output_type": "stream",
     "text": [
      "             1     2     3     4     5     6     7   \n",
      "c1   ------- == ----------------------------------------\n",
      "eta  ------- u1 -- U1 -- U2 -- tr --------------eta ----\n",
      "rho1 ------------- U1 -- U2 -- tr -- T1 ----------------\n",
      "rho2 ------------- U1 -- U2 -- tr -------- T2 ----------\n",
      "\n"
     ]
    }
   ],
   "source": [
    "class QuantumCircuit(qc.Circuit):\n",
    "    def __init__(self, *args, **kwargs):\n",
    "        super().__init__(*args, **kwargs)\n",
    "        self.gates = [\n",
    "            DephasingGate(self, [1], name='u1', control_lane=0),\n",
    "            # MeasureGate(self, [1], name='mi'),\n",
    "            FirstTimeEvolutionGate(self, [3, 2, 1], name='U1'),\n",
    "            # MeasureGate(self, [1], name='ms', partial_system=2),\n",
    "            SecondTimeEvolutionGate(self, [3, 2, 1], name='U2'),\n",
    "            TraceOutGate(self, [3, 2, 1], sys_to_keep=[0, 1], name='tr'),\n",
    "            MeasureTemperature(self, [2], sys_to_measure=0, name='T1', result_key='temperature S1'),\n",
    "            MeasureTemperature(self, [3], sys_to_measure=1, name='T2', result_key='temperature S2'),\n",
    "            ReplaceSystem(self, [1], new_system=eta, name='eta')\n",
    "        ]\n",
    "        self.lanes = [\n",
    "            qc.Lane(self, +1, name='c1'),\n",
    "            qc.Lane(self, eta, name='eta'),\n",
    "            qc.Lane(self, rho1, name='rho1'),\n",
    "            qc.Lane(self, rho2, name='rho2'),\n",
    "        ]\n",
    "a = QuantumCircuit(n_lanes=3, logging=True)\n",
    "a.draw()"
   ],
   "metadata": {
    "collapsed": false,
    "ExecuteTime": {
     "end_time": "2023-07-05T12:52:14.686328100Z",
     "start_time": "2023-07-05T12:52:14.668828100Z"
    }
   }
  },
  {
   "cell_type": "code",
   "execution_count": 6,
   "outputs": [
    {
     "name": "stderr",
     "output_type": "stream",
     "text": [
      "  4%|▍         | 2/50 [00:15<06:03,  7.58s/it]\n"
     ]
    },
    {
     "ename": "KeyboardInterrupt",
     "evalue": "",
     "output_type": "error",
     "traceback": [
      "\u001B[1;31m---------------------------------------------------------------------------\u001B[0m",
      "\u001B[1;31mKeyboardInterrupt\u001B[0m                         Traceback (most recent call last)",
      "Cell \u001B[1;32mIn [6], line 2\u001B[0m\n\u001B[0;32m      1\u001B[0m a\u001B[38;5;241m.\u001B[39mlogging \u001B[38;5;241m=\u001B[39m \u001B[38;5;28;01mFalse\u001B[39;00m\n\u001B[1;32m----> 2\u001B[0m \u001B[43ma\u001B[49m\u001B[38;5;241;43m.\u001B[39;49m\u001B[43mloop\u001B[49m\u001B[43m(\u001B[49m\u001B[38;5;241;43m50\u001B[39;49m\u001B[43m)\u001B[49m\n\u001B[0;32m      3\u001B[0m a\u001B[38;5;241m.\u001B[39mupdate_lane(\u001B[38;5;241m0\u001B[39m, \u001B[38;5;241m-\u001B[39m\u001B[38;5;241m1\u001B[39m)\n\u001B[0;32m      4\u001B[0m a\u001B[38;5;241m.\u001B[39mloop(\u001B[38;5;241m50\u001B[39m)\n",
      "File \u001B[1;32mG:\\UNIPA\\DOTTORATO\\PHASEONIUM\\phaseonium-evolution\\circuits.py:240\u001B[0m, in \u001B[0;36mCircuit.loop\u001B[1;34m(self, times, start, stop)\u001B[0m\n\u001B[0;32m    238\u001B[0m \u001B[38;5;28;01mfor\u001B[39;00m step, gate \u001B[38;5;129;01min\u001B[39;00m \u001B[38;5;28menumerate\u001B[39m(loop_gates):\n\u001B[0;32m    239\u001B[0m     \u001B[38;5;28mself\u001B[39m\u001B[38;5;241m.\u001B[39mstep \u001B[38;5;241m=\u001B[39m step \u001B[38;5;241m+\u001B[39m start\n\u001B[1;32m--> 240\u001B[0m     \u001B[38;5;28;43mself\u001B[39;49m\u001B[38;5;241;43m.\u001B[39;49m\u001B[43mevaluate_gate\u001B[49m\u001B[43m(\u001B[49m\u001B[43mgate\u001B[49m\u001B[43m,\u001B[49m\u001B[43m \u001B[49m\u001B[43mstep\u001B[49m\u001B[43m)\u001B[49m\n\u001B[0;32m    241\u001B[0m \u001B[38;5;66;03m# Replace starting systems with evolved ones\u001B[39;00m\n\u001B[0;32m    242\u001B[0m \u001B[38;5;28;01mfor\u001B[39;00m lane \u001B[38;5;129;01min\u001B[39;00m \u001B[38;5;28mself\u001B[39m\u001B[38;5;241m.\u001B[39mlanes:\n",
      "File \u001B[1;32mG:\\UNIPA\\DOTTORATO\\PHASEONIUM\\phaseonium-evolution\\circuits.py:218\u001B[0m, in \u001B[0;36mCircuit.evaluate_gate\u001B[1;34m(self, gate, step)\u001B[0m\n\u001B[0;32m    216\u001B[0m     \u001B[38;5;28mprint\u001B[39m(\u001B[38;5;124mf\u001B[39m\u001B[38;5;124m\"\u001B[39m\u001B[38;5;132;01m{\u001B[39;00m\u001B[38;5;124m'\u001B[39m\u001B[38;5;124m_\u001B[39m\u001B[38;5;124m'\u001B[39m \u001B[38;5;241m*\u001B[39m \u001B[38;5;241m40\u001B[39m\u001B[38;5;132;01m}\u001B[39;00m\u001B[38;5;130;01m\\n\u001B[39;00m\u001B[38;5;124m\"\u001B[39m)\n\u001B[0;32m    217\u001B[0m \u001B[38;5;28;01mif\u001B[39;00m \u001B[38;5;129;01mnot\u001B[39;00m gate\u001B[38;5;241m.\u001B[39mcontrolled:\n\u001B[1;32m--> 218\u001B[0m     total_system \u001B[38;5;241m=\u001B[39m \u001B[43mgate\u001B[49m\u001B[38;5;241;43m.\u001B[39;49m\u001B[43mevolve\u001B[49m\u001B[43m(\u001B[49m\u001B[43mtotal_system\u001B[49m\u001B[43m)\u001B[49m\n\u001B[0;32m    219\u001B[0m     gate\u001B[38;5;241m.\u001B[39minject(step, total_system)\n\u001B[0;32m    220\u001B[0m \u001B[38;5;28;01melse\u001B[39;00m:\n",
      "Cell \u001B[1;32mIn [4], line 32\u001B[0m, in \u001B[0;36mSecondTimeEvolutionGate.evolve\u001B[1;34m(self, system)\u001B[0m\n\u001B[0;32m     30\u001B[0m \u001B[38;5;28;01mdef\u001B[39;00m \u001B[38;5;21mevolve\u001B[39m(\u001B[38;5;28mself\u001B[39m, system):\n\u001B[0;32m     31\u001B[0m     \u001B[38;5;66;03m# This acts only on the second system\u001B[39;00m\n\u001B[1;32m---> 32\u001B[0m     U \u001B[38;5;241m=\u001B[39m \u001B[43m(\u001B[49m\u001B[38;5;241;43m1\u001B[39;49m\u001B[43mj\u001B[49m\u001B[43m \u001B[49m\u001B[38;5;241;43m*\u001B[39;49m\u001B[43m \u001B[49m\u001B[43mth\u001B[49m\u001B[43m \u001B[49m\u001B[38;5;241;43m*\u001B[39;49m\u001B[43m \u001B[49m\u001B[43mp\u001B[49m\u001B[38;5;241;43m.\u001B[39;49m\u001B[43mV2\u001B[49m\u001B[43m)\u001B[49m\u001B[38;5;241;43m.\u001B[39;49m\u001B[43mexpm\u001B[49m\u001B[43m(\u001B[49m\u001B[43m)\u001B[49m\n\u001B[0;32m     33\u001B[0m     \u001B[38;5;28;01mreturn\u001B[39;00m U \u001B[38;5;241m*\u001B[39m system \u001B[38;5;241m*\u001B[39m U\u001B[38;5;241m.\u001B[39mdag()\n",
      "File \u001B[1;32m~\\anaconda3\\envs\\phaseonium\\lib\\site-packages\\qutip\\qobj.py:1146\u001B[0m, in \u001B[0;36mQobj.expm\u001B[1;34m(self, method)\u001B[0m\n\u001B[0;32m   1143\u001B[0m     \u001B[38;5;28;01mraise\u001B[39;00m \u001B[38;5;167;01mTypeError\u001B[39;00m(\u001B[38;5;124m'\u001B[39m\u001B[38;5;124mInvalid operand for matrix exponential\u001B[39m\u001B[38;5;124m'\u001B[39m)\n\u001B[0;32m   1145\u001B[0m \u001B[38;5;28;01mif\u001B[39;00m method \u001B[38;5;241m==\u001B[39m \u001B[38;5;124m'\u001B[39m\u001B[38;5;124mdense\u001B[39m\u001B[38;5;124m'\u001B[39m:\n\u001B[1;32m-> 1146\u001B[0m     F \u001B[38;5;241m=\u001B[39m \u001B[43msp_expm\u001B[49m\u001B[43m(\u001B[49m\u001B[38;5;28;43mself\u001B[39;49m\u001B[38;5;241;43m.\u001B[39;49m\u001B[43mdata\u001B[49m\u001B[43m,\u001B[49m\u001B[43m \u001B[49m\u001B[43msparse\u001B[49m\u001B[38;5;241;43m=\u001B[39;49m\u001B[38;5;28;43;01mFalse\u001B[39;49;00m\u001B[43m)\u001B[49m\n\u001B[0;32m   1148\u001B[0m \u001B[38;5;28;01melif\u001B[39;00m method \u001B[38;5;241m==\u001B[39m \u001B[38;5;124m'\u001B[39m\u001B[38;5;124msparse\u001B[39m\u001B[38;5;124m'\u001B[39m:\n\u001B[0;32m   1149\u001B[0m     F \u001B[38;5;241m=\u001B[39m sp_expm(\u001B[38;5;28mself\u001B[39m\u001B[38;5;241m.\u001B[39mdata, sparse\u001B[38;5;241m=\u001B[39m\u001B[38;5;28;01mTrue\u001B[39;00m)\n",
      "File \u001B[1;32m~\\anaconda3\\envs\\phaseonium\\lib\\site-packages\\qutip\\sparse.py:399\u001B[0m, in \u001B[0;36msp_expm\u001B[1;34m(A, sparse)\u001B[0m\n\u001B[0;32m    397\u001B[0m     E \u001B[38;5;241m=\u001B[39m spla\u001B[38;5;241m.\u001B[39mexpm(A\u001B[38;5;241m.\u001B[39mtocsc())\n\u001B[0;32m    398\u001B[0m \u001B[38;5;28;01melse\u001B[39;00m:\n\u001B[1;32m--> 399\u001B[0m     E \u001B[38;5;241m=\u001B[39m \u001B[43mspla\u001B[49m\u001B[38;5;241;43m.\u001B[39;49m\u001B[43mexpm\u001B[49m\u001B[43m(\u001B[49m\u001B[43mA\u001B[49m\u001B[38;5;241;43m.\u001B[39;49m\u001B[43mtoarray\u001B[49m\u001B[43m(\u001B[49m\u001B[43m)\u001B[49m\u001B[43m)\u001B[49m\n\u001B[0;32m    400\u001B[0m \u001B[38;5;28;01mreturn\u001B[39;00m sp\u001B[38;5;241m.\u001B[39mcsr_matrix(E)\n",
      "File \u001B[1;32m~\\anaconda3\\envs\\phaseonium\\lib\\site-packages\\scipy\\sparse\\linalg\\_matfuncs.py:590\u001B[0m, in \u001B[0;36mexpm\u001B[1;34m(A)\u001B[0m\n\u001B[0;32m    545\u001B[0m \u001B[38;5;28;01mdef\u001B[39;00m \u001B[38;5;21mexpm\u001B[39m(A):\n\u001B[0;32m    546\u001B[0m     \u001B[38;5;124;03m\"\"\"\u001B[39;00m\n\u001B[0;32m    547\u001B[0m \u001B[38;5;124;03m    Compute the matrix exponential using Pade approximation.\u001B[39;00m\n\u001B[0;32m    548\u001B[0m \n\u001B[1;32m   (...)\u001B[0m\n\u001B[0;32m    588\u001B[0m \u001B[38;5;124;03m           [  0.        ,   0.        ,  20.08553692]])\u001B[39;00m\n\u001B[0;32m    589\u001B[0m \u001B[38;5;124;03m    \"\"\"\u001B[39;00m\n\u001B[1;32m--> 590\u001B[0m     \u001B[38;5;28;01mreturn\u001B[39;00m \u001B[43m_expm\u001B[49m\u001B[43m(\u001B[49m\u001B[43mA\u001B[49m\u001B[43m,\u001B[49m\u001B[43m \u001B[49m\u001B[43muse_exact_onenorm\u001B[49m\u001B[38;5;241;43m=\u001B[39;49m\u001B[38;5;124;43m'\u001B[39;49m\u001B[38;5;124;43mauto\u001B[39;49m\u001B[38;5;124;43m'\u001B[39;49m\u001B[43m)\u001B[49m\n",
      "File \u001B[1;32m~\\anaconda3\\envs\\phaseonium\\lib\\site-packages\\scipy\\sparse\\linalg\\_matfuncs.py:647\u001B[0m, in \u001B[0;36m_expm\u001B[1;34m(A, use_exact_onenorm)\u001B[0m\n\u001B[0;32m    645\u001B[0m eta_2 \u001B[38;5;241m=\u001B[39m \u001B[38;5;28mmax\u001B[39m(h\u001B[38;5;241m.\u001B[39md4_tight, h\u001B[38;5;241m.\u001B[39md6_loose)\n\u001B[0;32m    646\u001B[0m \u001B[38;5;28;01mif\u001B[39;00m eta_2 \u001B[38;5;241m<\u001B[39m \u001B[38;5;241m2.539398330063230e-001\u001B[39m \u001B[38;5;129;01mand\u001B[39;00m _ell(h\u001B[38;5;241m.\u001B[39mA, \u001B[38;5;241m5\u001B[39m) \u001B[38;5;241m==\u001B[39m \u001B[38;5;241m0\u001B[39m:\n\u001B[1;32m--> 647\u001B[0m     U, V \u001B[38;5;241m=\u001B[39m \u001B[43mh\u001B[49m\u001B[38;5;241;43m.\u001B[39;49m\u001B[43mpade5\u001B[49m\u001B[43m(\u001B[49m\u001B[43m)\u001B[49m\n\u001B[0;32m    648\u001B[0m     \u001B[38;5;28;01mreturn\u001B[39;00m _solve_P_Q(U, V, structure\u001B[38;5;241m=\u001B[39mstructure)\n\u001B[0;32m    650\u001B[0m \u001B[38;5;66;03m# Try Pade orders 7 and 9.\u001B[39;00m\n",
      "File \u001B[1;32m~\\anaconda3\\envs\\phaseonium\\lib\\site-packages\\scipy\\sparse\\linalg\\_matfuncs.py:497\u001B[0m, in \u001B[0;36m_ExpmPadeHelper.pade5\u001B[1;34m(self)\u001B[0m\n\u001B[0;32m    495\u001B[0m \u001B[38;5;28;01mdef\u001B[39;00m \u001B[38;5;21mpade5\u001B[39m(\u001B[38;5;28mself\u001B[39m):\n\u001B[0;32m    496\u001B[0m     b \u001B[38;5;241m=\u001B[39m (\u001B[38;5;241m30240.\u001B[39m, \u001B[38;5;241m15120.\u001B[39m, \u001B[38;5;241m3360.\u001B[39m, \u001B[38;5;241m420.\u001B[39m, \u001B[38;5;241m30.\u001B[39m, \u001B[38;5;241m1.\u001B[39m)\n\u001B[1;32m--> 497\u001B[0m     U \u001B[38;5;241m=\u001B[39m \u001B[43m_smart_matrix_product\u001B[49m\u001B[43m(\u001B[49m\u001B[38;5;28;43mself\u001B[39;49m\u001B[38;5;241;43m.\u001B[39;49m\u001B[43mA\u001B[49m\u001B[43m,\u001B[49m\n\u001B[0;32m    498\u001B[0m \u001B[43m            \u001B[49m\u001B[43mb\u001B[49m\u001B[43m[\u001B[49m\u001B[38;5;241;43m5\u001B[39;49m\u001B[43m]\u001B[49m\u001B[38;5;241;43m*\u001B[39;49m\u001B[38;5;28;43mself\u001B[39;49m\u001B[38;5;241;43m.\u001B[39;49m\u001B[43mA4\u001B[49m\u001B[43m \u001B[49m\u001B[38;5;241;43m+\u001B[39;49m\u001B[43m \u001B[49m\u001B[43mb\u001B[49m\u001B[43m[\u001B[49m\u001B[38;5;241;43m3\u001B[39;49m\u001B[43m]\u001B[49m\u001B[38;5;241;43m*\u001B[39;49m\u001B[38;5;28;43mself\u001B[39;49m\u001B[38;5;241;43m.\u001B[39;49m\u001B[43mA2\u001B[49m\u001B[43m \u001B[49m\u001B[38;5;241;43m+\u001B[39;49m\u001B[43m \u001B[49m\u001B[43mb\u001B[49m\u001B[43m[\u001B[49m\u001B[38;5;241;43m1\u001B[39;49m\u001B[43m]\u001B[49m\u001B[38;5;241;43m*\u001B[39;49m\u001B[38;5;28;43mself\u001B[39;49m\u001B[38;5;241;43m.\u001B[39;49m\u001B[43mident\u001B[49m\u001B[43m,\u001B[49m\n\u001B[0;32m    499\u001B[0m \u001B[43m            \u001B[49m\u001B[43mstructure\u001B[49m\u001B[38;5;241;43m=\u001B[39;49m\u001B[38;5;28;43mself\u001B[39;49m\u001B[38;5;241;43m.\u001B[39;49m\u001B[43mstructure\u001B[49m\u001B[43m)\u001B[49m\n\u001B[0;32m    500\u001B[0m     V \u001B[38;5;241m=\u001B[39m b[\u001B[38;5;241m4\u001B[39m]\u001B[38;5;241m*\u001B[39m\u001B[38;5;28mself\u001B[39m\u001B[38;5;241m.\u001B[39mA4 \u001B[38;5;241m+\u001B[39m b[\u001B[38;5;241m2\u001B[39m]\u001B[38;5;241m*\u001B[39m\u001B[38;5;28mself\u001B[39m\u001B[38;5;241m.\u001B[39mA2 \u001B[38;5;241m+\u001B[39m b[\u001B[38;5;241m0\u001B[39m]\u001B[38;5;241m*\u001B[39m\u001B[38;5;28mself\u001B[39m\u001B[38;5;241m.\u001B[39mident\n\u001B[0;32m    501\u001B[0m     \u001B[38;5;28;01mreturn\u001B[39;00m U, V\n",
      "File \u001B[1;32m~\\anaconda3\\envs\\phaseonium\\lib\\site-packages\\scipy\\sparse\\linalg\\_matfuncs.py:164\u001B[0m, in \u001B[0;36m_smart_matrix_product\u001B[1;34m(A, B, alpha, structure)\u001B[0m\n\u001B[0;32m    162\u001B[0m \u001B[38;5;28;01melse\u001B[39;00m:\n\u001B[0;32m    163\u001B[0m     \u001B[38;5;28;01mif\u001B[39;00m alpha \u001B[38;5;129;01mis\u001B[39;00m \u001B[38;5;28;01mNone\u001B[39;00m:\n\u001B[1;32m--> 164\u001B[0m         out \u001B[38;5;241m=\u001B[39m \u001B[43mA\u001B[49m\u001B[38;5;241;43m.\u001B[39;49m\u001B[43mdot\u001B[49m\u001B[43m(\u001B[49m\u001B[43mB\u001B[49m\u001B[43m)\u001B[49m\n\u001B[0;32m    165\u001B[0m     \u001B[38;5;28;01melse\u001B[39;00m:\n\u001B[0;32m    166\u001B[0m         out \u001B[38;5;241m=\u001B[39m alpha \u001B[38;5;241m*\u001B[39m A\u001B[38;5;241m.\u001B[39mdot(B)\n",
      "\u001B[1;31mKeyboardInterrupt\u001B[0m: "
     ]
    }
   ],
   "source": [
    "a.logging = False\n",
    "a.loop(50)\n",
    "a.update_lane(0, -1)\n",
    "a.loop(50)\n",
    "a.draw()"
   ],
   "metadata": {
    "collapsed": false,
    "ExecuteTime": {
     "end_time": "2023-07-05T12:52:30.591402900Z",
     "start_time": "2023-07-05T12:52:14.685328600Z"
    }
   }
  },
  {
   "cell_type": "code",
   "execution_count": null,
   "outputs": [],
   "source": [
    "y=[a.results['temperature S1'], a.results['temperature S2']]\n",
    "plt.plot(y[0])\n",
    "plt.plot(y[1])"
   ],
   "metadata": {
    "collapsed": false
   }
  },
  {
   "cell_type": "code",
   "execution_count": null,
   "outputs": [],
   "source": [
    "for t, sys in enumerate(a.lanes[1].system_evolution[:]):\n",
    "    print(t+1)\n",
    "    display(sys)"
   ],
   "metadata": {
    "collapsed": false
   }
  },
  {
   "cell_type": "code",
   "execution_count": null,
   "outputs": [],
   "source": [
    "a.loop(2)"
   ],
   "metadata": {
    "collapsed": false
   }
  },
  {
   "cell_type": "code",
   "execution_count": null,
   "outputs": [],
   "source": [
    "qutip.tensor(0)"
   ],
   "metadata": {
    "collapsed": false
   }
  },
  {
   "cell_type": "code",
   "execution_count": null,
   "outputs": [],
   "source": [
    "a = [0, 0, 0, 0, 0, 0, 0]\n",
    "s = 3\n",
    "a[s + 1: ] = [1 for _ in range(len(a)-s-1)]\n",
    "a"
   ],
   "metadata": {
    "collapsed": false
   }
  },
  {
   "cell_type": "code",
   "execution_count": null,
   "outputs": [],
   "source": [
    "class LittleCircuit(qc.Circuit):\n",
    "    def __init__(self, *args, **kwargs):\n",
    "        super().__init__(*args, **kwargs)\n",
    "        self.gates = [\n",
    "            DephasingGate(self, [1], name='u1', control_lane=0),\n",
    "\n",
    "        ]\n",
    "        self.lanes = [\n",
    "            qc.Lane(self, +1, name='c1'),\n",
    "            qc.Lane(self, eta, name='eta'),\n",
    "            qc.Lane(self, qutip.tensor(rho1, rho2), name='rho'),\n",
    "        ]\n",
    "\n",
    "lc = LittleCircuit(logging=True)\n",
    "lc.draw()"
   ],
   "metadata": {
    "collapsed": false
   }
  },
  {
   "cell_type": "code",
   "execution_count": null,
   "outputs": [],
   "source": [
    "lc.run()\n",
    "lc.lanes[1].system_evolution"
   ],
   "metadata": {
    "collapsed": false
   }
  },
  {
   "cell_type": "code",
   "execution_count": null,
   "outputs": [],
   "source": [],
   "metadata": {
    "collapsed": false
   }
  }
 ],
 "metadata": {
  "kernelspec": {
   "display_name": "Python 3 (ipykernel)",
   "language": "python",
   "name": "python3"
  },
  "language_info": {
   "codemirror_mode": {
    "name": "ipython",
    "version": 3
   },
   "file_extension": ".py",
   "mimetype": "text/x-python",
   "name": "python",
   "nbconvert_exporter": "python",
   "pygments_lexer": "ipython3",
   "version": "3.10.8"
  }
 },
 "nbformat": 4,
 "nbformat_minor": 5
}
