{
 "cells": [
  {
   "cell_type": "code",
   "execution_count": 1,
   "outputs": [],
   "source": [
    "%matplotlib inline\n",
    "import copy\n",
    "import qutip\n",
    "from qutip import Qobj\n",
    "import numpy as np\n",
    "import math, cmath\n",
    "import matplotlib.pyplot as plt\n",
    "from tqdm import tqdm\n",
    "\n",
    "from stateobj import Physics\n",
    "import utilities as use\n",
    "import circuits as qc\n",
    "\n",
    "import os\n",
    "\n",
    "from IPython.display import Markdown, display"
   ],
   "metadata": {
    "collapsed": false
   }
  },
  {
   "cell_type": "code",
   "execution_count": 45,
   "id": "b86eff77-b989-4334-bed1-c6458679f8c2",
   "metadata": {
    "ExecuteTime": {
     "end_time": "2023-06-21T15:16:40.598020800Z",
     "start_time": "2023-06-21T15:16:40.511584600Z"
    }
   },
   "outputs": [],
   "source": [
    "TIMESTEPS = 5000\n",
    "TIMEDELTA = 1e-02\n",
    "OMEGA = 0.5  # Strength of Interaction\n",
    "\n",
    "D = 10\n",
    "\n",
    "p = Physics(dimension=D, interaction_strength=OMEGA, interaction_time=TIMEDELTA)\n",
    "\n",
    "th = OMEGA * TIMEDELTA\n",
    "alpha = complex(1/math.sqrt(2), 0)\n",
    "beta = cmath.sqrt(1 - alpha**2)\n",
    "phi = np.pi/2\n",
    "# Phase shifts\n",
    "delta1 = 0\n",
    "delta2 = -phi"
   ]
  },
  {
   "cell_type": "code",
   "execution_count": 46,
   "id": "a76145c1-36c1-4ca7-b461-a675067e377a",
   "metadata": {
    "ExecuteTime": {
     "end_time": "2023-06-21T15:16:40.984041900Z",
     "start_time": "2023-06-21T15:16:40.934524100Z"
    }
   },
   "outputs": [
    {
     "data": {
      "text/plain": "Quantum object: dims = [[10, 10], [10, 10]], shape = (100, 100), type = oper, isherm = True\nQobj data =\n[[1.35335283e-01 1.35335283e-01 9.56964964e-02 ... 3.45967741e-06\n  1.21275627e-06 4.45192908e-07]\n [1.35335283e-01 1.35335283e-01 9.56964964e-02 ... 3.45967742e-06\n  1.21275627e-06 4.45192908e-07]\n [9.56964964e-02 9.56964964e-02 6.76676415e-02 ... 2.44636136e-06\n  8.57548183e-07 3.14798924e-07]\n ...\n [3.45967741e-06 3.45967742e-06 2.44636136e-06 ... 8.84423303e-11\n  3.10025988e-11 1.13808004e-11]\n [1.21275627e-06 1.21275627e-06 8.57548183e-07 ... 3.10025988e-11\n  1.08676595e-11 3.98942891e-12]\n [4.45192908e-07 4.45192908e-07 3.14798924e-07 ... 1.13808004e-11\n  3.98942891e-12 1.46448672e-12]]",
      "text/latex": "Quantum object: dims = [[10, 10], [10, 10]], shape = (100, 100), type = oper, isherm = True\\begin{equation*}\\left(\\begin{array}{*{11}c}0.135 & 0.135 & 0.096 & 0.055 & 0.028 & \\cdots & 2.241\\times10^{-05} & 9.147\\times10^{-06} & 3.460\\times10^{-06} & 1.213\\times10^{-06} & 4.452\\times10^{-07}\\\\0.135 & 0.135 & 0.096 & 0.055 & 0.028 & \\cdots & 2.241\\times10^{-05} & 9.147\\times10^{-06} & 3.460\\times10^{-06} & 1.213\\times10^{-06} & 4.452\\times10^{-07}\\\\0.096 & 0.096 & 0.068 & 0.039 & 0.020 & \\cdots & 1.584\\times10^{-05} & 6.468\\times10^{-06} & 2.446\\times10^{-06} & 8.575\\times10^{-07} & 3.148\\times10^{-07}\\\\0.055 & 0.055 & 0.039 & 0.023 & 0.011 & \\cdots & 9.148\\times10^{-06} & 3.734\\times10^{-06} & 1.412\\times10^{-06} & 4.951\\times10^{-07} & 1.817\\times10^{-07}\\\\0.028 & 0.028 & 0.020 & 0.011 & 0.006 & \\cdots & 4.574\\times10^{-06} & 1.867\\times10^{-06} & 7.062\\times10^{-07} & 2.476\\times10^{-07} & 9.087\\times10^{-08}\\\\\\vdots & \\vdots & \\vdots & \\vdots & \\vdots & \\ddots & \\vdots & \\vdots & \\vdots & \\vdots & \\vdots\\\\2.241\\times10^{-05} & 2.241\\times10^{-05} & 1.584\\times10^{-05} & 9.148\\times10^{-06} & 4.574\\times10^{-06} & \\cdots & 3.710\\times10^{-09} & 1.515\\times10^{-09} & 5.728\\times10^{-10} & 2.008\\times10^{-10} & 7.371\\times10^{-11}\\\\9.147\\times10^{-06} & 9.147\\times10^{-06} & 6.468\\times10^{-06} & 3.734\\times10^{-06} & 1.867\\times10^{-06} & \\cdots & 1.515\\times10^{-09} & 6.183\\times10^{-10} & 2.338\\times10^{-10} & 8.197\\times10^{-11} & 3.009\\times10^{-11}\\\\3.460\\times10^{-06} & 3.460\\times10^{-06} & 2.446\\times10^{-06} & 1.412\\times10^{-06} & 7.062\\times10^{-07} & \\cdots & 5.728\\times10^{-10} & 2.338\\times10^{-10} & 8.844\\times10^{-11} & 3.100\\times10^{-11} & 1.138\\times10^{-11}\\\\1.213\\times10^{-06} & 1.213\\times10^{-06} & 8.575\\times10^{-07} & 4.951\\times10^{-07} & 2.476\\times10^{-07} & \\cdots & 2.008\\times10^{-10} & 8.197\\times10^{-11} & 3.100\\times10^{-11} & 1.087\\times10^{-11} & 3.989\\times10^{-12}\\\\4.452\\times10^{-07} & 4.452\\times10^{-07} & 3.148\\times10^{-07} & 1.817\\times10^{-07} & 9.087\\times10^{-08} & \\cdots & 7.371\\times10^{-11} & 3.009\\times10^{-11} & 1.138\\times10^{-11} & 3.989\\times10^{-12} & 1.464\\times10^{-12}\\\\\\end{array}\\right)\\end{equation*}"
     },
     "metadata": {},
     "output_type": "display_data"
    }
   ],
   "source": [
    "eta = use.create_ancilla_qobj(alpha, beta, phi)\n",
    "rho1 = use.create_system_qobj('coherent', n_dims=D)\n",
    "rho2 = use.create_system_qobj('coherent', n_dims=D)\n",
    "\n",
    "display(qutip.tensor(rho1, rho2))"
   ]
  },
  {
   "cell_type": "code",
   "execution_count": 47,
   "id": "1267e4e2-4606-415c-8fc2-3a8441169a63",
   "metadata": {
    "ExecuteTime": {
     "end_time": "2023-06-21T15:16:41.804234100Z",
     "start_time": "2023-06-21T15:16:41.764800900Z"
    }
   },
   "outputs": [],
   "source": [
    "# Ancilla dephasing gate\n",
    "class DephasingGate(qc.Gate):\n",
    "    # Unitary evolution Matrix\n",
    "    U = Qobj([[1, 0, 0], [0, 1, 0], [0, 0, cmath.exp(-1j*delta2)]])\n",
    "    \n",
    "    def evolve(self, system):\n",
    "        return self.U * system * self.U.dag()\n",
    "\n",
    "class MeasureGate(qc.Gate):\n",
    "    def __init__(self, *args, partial_system=None, **kwargs):\n",
    "        super().__init__(*args, **kwargs)\n",
    "        self.partial_system = partial_system\n",
    "\n",
    "    def evolve(self, system):\n",
    "        display(Markdown(f\"{self.name.upper()} measure\"))\n",
    "        if self.partial_system is not None:\n",
    "            traced_out_system = system.ptrace(self.partial_system)\n",
    "        else:\n",
    "            traced_out_system = system\n",
    "        display(traced_out_system)\n",
    "        return system\n",
    "\n",
    "class FirstTimeEvolutionGate(qc.Gate):\n",
    "    # This acts only on the first system\n",
    "    def evolve(self, system):\n",
    "        U = (1j * th * p.V1).expm()\n",
    "        return U * system * U.dag()\n",
    "    \n",
    "class SecondTimeEvolutionGate(qc.Gate):\n",
    "    def evolve(self, system):\n",
    "        # This acts only on the second system\n",
    "        U = (1j * th * p.V2).expm()\n",
    "        return U * system * U.dag()\n",
    "\n",
    "class TraceOutGate(qc.Gate):\n",
    "    def __init__(self, *args, sys_to_keep=0, **kwargs):\n",
    "        super().__init__(*args, **kwargs)\n",
    "        self.sys_to_keep = sys_to_keep\n",
    "        self.lanes_to_keep = [self.lanes[i] for i in range(len(sys_to_keep))]\n",
    "\n",
    "    def evolve(self, system):\n",
    "        return system.ptrace(self.sys_to_keep)\n",
    "\n",
    "    def inject(self, step, system):\n",
    "        next_step = step + 1\n",
    "        for lane in self.lanes:\n",
    "            series = self.controller.lanes[lane].system_evolution\n",
    "            if lane not in self.lanes_to_keep:\n",
    "                series[step + 1: ] = [None for _ in range(len(series) - next_step)]\n",
    "            else:\n",
    "                series[step + 1: ] = [system for _ in range(len(series) - next_step)]\n",
    "\n",
    "class MasterEquationGate(qc.Gate):\n",
    "\n",
    "    @staticmethod\n",
    "    def dissipator(X: Qobj, system: Qobj):\n",
    "            sandwich = X * system * X.dag()\n",
    "            comm = qutip.commutator(X.dag()*X, system, kind='anti')\n",
    "            return sandwich - 1/2 * comm\n",
    "        \n",
    "    def master_equation(self, system):\n",
    "        ga = 2*alpha**2\n",
    "        gb = beta**2*(1-np.cos(phi))\n",
    "        # Bosonic Operators\n",
    "        C = p.C\n",
    "        Cp = p.Cp\n",
    "        S = p.S\n",
    "        Sd = p.S.dag()\n",
    "        first_line = 0.5*self.dissipator(qutip.tensor(C, C) - 2*qutip.tensor(S, Sd), system) \n",
    "        first_line += self.dissipator(qutip.tensor(C, S) + qutip.tensor(S, Cp), system)\n",
    "        second_line = 0.5*self.dissipator(qutip.tensor(Cp, Cp) - 2*qutip.tensor(Sd, S), system)\n",
    "        second_line += self.dissipator(qutip.tensor(Cp, Sd) + qutip.tensor(Sd, C), system)\n",
    "        return ga * first_line + gb * second_line\n",
    "    \n",
    "    def evolve(self, system):\n",
    "        system_variation = self.master_equation(system)\n",
    "        return system + system_variation\n",
    "\n",
    "class ReplaceSystem(qc.Gate):\n",
    "    def __init__(self, *args, new_system=None ,**kwargs):\n",
    "        super().__init__(*args, **kwargs)\n",
    "        self.new_system = new_system\n",
    "\n",
    "    def evolve(self, system):\n",
    "        return self.new_system\n",
    "\n",
    "class MeasureTemperature(qc.Gate):\n",
    "    def __init__(self, *args, sys_to_measure=0, result_key='temperature', **kwargs):\n",
    "        super().__init__(*args, **kwargs)\n",
    "        self.energy = 1\n",
    "        self.system_to_measure = sys_to_measure\n",
    "        self.result_key = result_key\n",
    "        if result_key not in self.controller.results:\n",
    "            self.controller.results[result_key] = []\n",
    "\n",
    "    def evolve(self, system):\n",
    "        system_to_measure = system.ptrace(self.system_to_measure)\n",
    "        upper_element = system_to_measure.diag()[0].real\n",
    "        lower_element = system_to_measure.diag()[1].real\n",
    "        temperature = - self.energy / np.log(lower_element / upper_element)\n",
    "        self.controller.results[self.result_key].append(temperature)\n",
    "        if self.controller.logging:\n",
    "            display(Markdown(f\"Temperature {self.name}: {temperature}\"))\n",
    "        return system"
   ]
  },
  {
   "cell_type": "code",
   "execution_count": 48,
   "outputs": [
    {
     "name": "stdout",
     "output_type": "stream",
     "text": [
      "             1     2     3     4     5     6     7   \n",
      "c1   ------- == ----------------------------------------\n",
      "eta  ------- u1 -- U1 -- U2 -- tr --------------eta ----\n",
      "rho1 ------------- U1 -- U2 -- tr -- T1 ----------------\n",
      "rho2 ------------- U1 -- U2 -- tr -------- T2 ----------\n",
      "\n"
     ]
    }
   ],
   "source": [
    "class QuantumCircuit(qc.Circuit):\n",
    "    def __init__(self, *args, **kwargs):\n",
    "        super().__init__(*args, **kwargs)\n",
    "        self.gates = [\n",
    "            DephasingGate(self, [1], name='u1', control_lane=0),\n",
    "            # MeasureGate(self, [1], name='mi'),\n",
    "            FirstTimeEvolutionGate(self, [3, 2, 1], name='U1'),\n",
    "            # MeasureGate(self, [1], name='ms', partial_system=2),\n",
    "            SecondTimeEvolutionGate(self, [3, 2, 1], name='U2'),\n",
    "            TraceOutGate(self, [3, 2, 1], sys_to_keep=[0, 1], name='tr'),\n",
    "            MeasureTemperature(self, [2], sys_to_measure=0, name='T1', result_key='temperature S1'),\n",
    "            MeasureTemperature(self, [3], sys_to_measure=1, name='T2', result_key='temperature S2'),\n",
    "            ReplaceSystem(self, [1], new_system=eta, name='eta')\n",
    "        ]\n",
    "        self.lanes = [\n",
    "            qc.Lane(self, +1, name='c1'),\n",
    "            qc.Lane(self, eta, name='eta'),\n",
    "            qc.Lane(self, rho1, name='rho1'),\n",
    "            qc.Lane(self, rho2, name='rho2'),\n",
    "        ]\n",
    "a = QuantumCircuit(n_lanes=3, logging=True)\n",
    "a.draw()"
   ],
   "metadata": {
    "collapsed": false,
    "ExecuteTime": {
     "end_time": "2023-06-21T15:16:42.379394300Z",
     "start_time": "2023-06-21T15:16:42.360423100Z"
    }
   }
  },
  {
   "cell_type": "code",
   "execution_count": 52,
   "outputs": [
    {
     "name": "stdout",
     "output_type": "stream",
     "text": [
      "             1     2     3     4     5     6     7   \n",
      "c1   ------- == ----------------------------------------\n",
      "eta  ------- u1 -- U1 -- U2 -- tr --------------eta ----\n",
      "rho1 ------------- U1 -- U2 -- tr -- T1 ----------------\n",
      "rho2 ------------- U1 -- U2 -- tr -------- T2 ----------\n",
      "\n"
     ]
    }
   ],
   "source": [
    "a.logging = False\n",
    "a.loop(50)\n",
    "a.update_lane(0, -1)\n",
    "a.loop(50)\n",
    "a.draw()"
   ],
   "metadata": {
    "collapsed": false,
    "ExecuteTime": {
     "end_time": "2023-06-21T15:18:36.135806900Z",
     "start_time": "2023-06-21T15:18:24.472549500Z"
    }
   }
  },
  {
   "cell_type": "code",
   "execution_count": 53,
   "outputs": [
    {
     "data": {
      "text/plain": "[<matplotlib.lines.Line2D at 0x1e3c0032410>]"
     },
     "execution_count": 53,
     "metadata": {},
     "output_type": "execute_result"
    },
    {
     "data": {
      "text/plain": "<Figure size 640x480 with 1 Axes>",
      "image/png": "[encoded data removed]"
     },
     "metadata": {},
     "output_type": "display_data"
    }
   ],
   "source": [
    "y=[a.results['temperature S1'], a.results['temperature S2']]\n",
    "plt.plot(y[0])\n",
    "plt.plot(y[1])"
   ],
   "metadata": {
    "collapsed": false,
    "ExecuteTime": {
     "end_time": "2023-06-21T15:18:36.276024300Z",
     "start_time": "2023-06-21T15:18:36.096097300Z"
    }
   }
  },
  {
   "cell_type": "code",
   "execution_count": null,
   "outputs": [],
   "source": [
    "for t, sys in enumerate(a.lanes[1].system_evolution[:]):\n",
    "    print(t+1)\n",
    "    display(sys)"
   ],
   "metadata": {
    "collapsed": false
   }
  },
  {
   "cell_type": "code",
   "execution_count": null,
   "outputs": [],
   "source": [
    "a.loop(2)"
   ],
   "metadata": {
    "collapsed": false
   }
  },
  {
   "cell_type": "code",
   "execution_count": null,
   "outputs": [],
   "source": [
    "qutip.tensor(0)"
   ],
   "metadata": {
    "collapsed": false
   }
  },
  {
   "cell_type": "code",
   "execution_count": null,
   "outputs": [],
   "source": [
    "a = [0, 0, 0, 0, 0, 0, 0]\n",
    "s = 3\n",
    "a[s + 1: ] = [1 for _ in range(len(a)-s-1)]\n",
    "a"
   ],
   "metadata": {
    "collapsed": false
   }
  },
  {
   "cell_type": "code",
   "execution_count": null,
   "outputs": [],
   "source": [
    "class LittleCircuit(qc.Circuit):\n",
    "    def __init__(self, *args, **kwargs):\n",
    "        super().__init__(*args, **kwargs)\n",
    "        self.gates = [\n",
    "            DephasingGate(self, [1], name='u1', control_lane=0),\n",
    "\n",
    "        ]\n",
    "        self.lanes = [\n",
    "            qc.Lane(self, +1, name='c1'),\n",
    "            qc.Lane(self, eta, name='eta'),\n",
    "            qc.Lane(self, qutip.tensor(rho1, rho2), name='rho'),\n",
    "        ]\n",
    "\n",
    "lc = LittleCircuit(logging=True)\n",
    "lc.draw()"
   ],
   "metadata": {
    "collapsed": false
   }
  },
  {
   "cell_type": "code",
   "execution_count": null,
   "outputs": [],
   "source": [
    "lc.run()\n",
    "lc.lanes[1].system_evolution"
   ],
   "metadata": {
    "collapsed": false
   }
  },
  {
   "cell_type": "code",
   "execution_count": null,
   "outputs": [],
   "source": [],
   "metadata": {
    "collapsed": false
   }
  }
 ],
 "metadata": {
  "kernelspec": {
   "display_name": "Python 3 (ipykernel)",
   "language": "python",
   "name": "python3"
  },
  "language_info": {
   "codemirror_mode": {
    "name": "ipython",
    "version": 3
   },
   "file_extension": ".py",
   "mimetype": "text/x-python",
   "name": "python",
   "nbconvert_exporter": "python",
   "pygments_lexer": "ipython3",
   "version": "3.10.8"
  }
 },
 "nbformat": 4,
 "nbformat_minor": 5
}
