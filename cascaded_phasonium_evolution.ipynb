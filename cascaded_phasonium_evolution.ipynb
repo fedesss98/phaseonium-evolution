{
 "cells": [
  {
   "cell_type": "code",
   "execution_count": 1,
   "id": "6001ae59",
   "metadata": {},
   "outputs": [],
   "source": [
    "%matplotlib inline\n",
    "import copy\n",
    "from qutip import *\n",
    "import numpy as np\n",
    "import math, cmath\n",
    "import matplotlib.pyplot as plt\n",
    "from tqdm import tqdm\n",
    "\n",
    "import utilities as use\n",
    "from stateobj import QState, QAncilla, JointSystem\n",
    "\n",
    "from IPython.display import Markdown, display"
   ]
  },
  {
   "cell_type": "code",
   "execution_count": 2,
   "id": "fd572d90",
   "metadata": {},
   "outputs": [],
   "source": [
    "UNITARY_EVOLUTION = True\n",
    "MEQ_EVOLUTION = True\n",
    "U_ID = None\n",
    "MEQ_ID = None  # string (systems dimentions-timesteps-timedelta)\n",
    "PLOT = True\n",
    "# Set HISTORICAL = True to track histories of Systems evolutions\n",
    "HISTORICAL = False\n",
    "\n",
    "TIMESTEPS = 80000\n",
    "TIMEDELTA = 1e-2\n",
    "OMEGA = 10  # Strength of Interaction"
   ]
  },
  {
   "cell_type": "markdown",
   "id": "72b71dd0",
   "metadata": {},
   "source": [
    "## System"
   ]
  },
  {
   "cell_type": "code",
   "execution_count": 3,
   "id": "dd8c5ebc",
   "metadata": {},
   "outputs": [
    {
     "data": {
      "text/latex": [
       "Quantum object: dims = [[2], [2]], shape = (2, 2), type = oper, isherm = True\\begin{equation*}\\left(\\begin{array}{*{11}c}1.0 & 0.0\\\\0.0 & 0.0\\\\\\end{array}\\right)\\end{equation*}"
      ],
      "text/plain": [
       "Quantum object: dims = [[2], [2]], shape = (2, 2), type = oper, isherm = True\n",
       "Qobj data =\n",
       "[[1. 0.]\n",
       " [0. 0.]]"
      ]
     },
     "metadata": {},
     "output_type": "display_data"
    },
    {
     "data": {
      "text/latex": [
       "Quantum object: dims = [[2], [2]], shape = (2, 2), type = oper, isherm = True\\begin{equation*}\\left(\\begin{array}{*{11}c}0.0 & 0.0\\\\0.0 & 1.0\\\\\\end{array}\\right)\\end{equation*}"
      ],
      "text/plain": [
       "Quantum object: dims = [[2], [2]], shape = (2, 2), type = oper, isherm = True\n",
       "Qobj data =\n",
       "[[0. 0.]\n",
       " [0. 1.]]"
      ]
     },
     "metadata": {},
     "output_type": "display_data"
    },
    {
     "data": {
      "text/plain": [
       "stateobj.JointSystem"
      ]
     },
     "metadata": {},
     "output_type": "display_data"
    }
   ],
   "source": [
    "system_dimentions = 2\n",
    "system_energy = 1\n",
    "system1 = use.create_system('fock', n_dims=system_dimentions, n=0)\n",
    "system2 = use.create_system('fock', n_dims=system_dimentions, n=1)\n",
    "# Tensor Product state\n",
    "system = JointSystem([system1, system2])\n",
    "display(system1)\n",
    "display(system2)\n",
    "display(type(system))"
   ]
  },
  {
   "cell_type": "markdown",
   "id": "73e89309",
   "metadata": {},
   "source": [
    "## Ancilla"
   ]
  },
  {
   "cell_type": "code",
   "execution_count": 4,
   "id": "607532e4",
   "metadata": {},
   "outputs": [
    {
     "data": {
      "text/latex": [
       "Quantum object: dims = [[3], [3]], shape = (3, 3), type = oper, isherm = True\\begin{equation*}\\left(\\begin{array}{*{11}c}0.500 & 0.0 & 0.0\\\\0.0 & 0.250 & (0.125+0.217j)\\\\0.0 & (0.125-0.217j) & 0.250\\\\\\end{array}\\right)\\end{equation*}"
      ],
      "text/plain": [
       "Quantum object: dims = [[3], [3]], shape = (3, 3), type = oper, isherm = True\n",
       "Qobj data =\n",
       "[[0.5  +0.j         0.   +0.j         0.   +0.j        ]\n",
       " [0.   +0.j         0.25 +0.j         0.125+0.21650635j]\n",
       " [0.   +0.j         0.125-0.21650635j 0.25 +0.j        ]]"
      ]
     },
     "metadata": {},
     "output_type": "display_data"
    },
    {
     "data": {
      "text/markdown": [
       "This will thermalize the System to $T = -3.476059496782208$"
      ],
      "text/plain": [
       "<IPython.core.display.Markdown object>"
      ]
     },
     "metadata": {},
     "output_type": "display_data"
    }
   ],
   "source": [
    "alpha = complex(1/math.sqrt(2), 0)\n",
    "beta = complex(1/math.sqrt(2), 0)\n",
    "phi = np.pi/3\n",
    "eta = QAncilla(alpha=alpha, beta=beta, phi=phi)\n",
    "stable_temperature = - system1.energy / math.log(eta.factor)\n",
    "# Stampa informazioni sull'Ancella\n",
    "display(eta)\n",
    "display(Markdown(\n",
    "    f\"This will thermalize the System to $T = {stable_temperature}$\")\n",
    ")"
   ]
  },
  {
   "cell_type": "markdown",
   "id": "35b2d7b5",
   "metadata": {},
   "source": [
    "## Interaction"
   ]
  },
  {
   "cell_type": "code",
   "execution_count": 5,
   "id": "2c0ab316",
   "metadata": {},
   "outputs": [],
   "source": [
    "ap_int = [tensor(system.ap[i], qeye(3)) for i in range(len(system.systems))]\n",
    "am_int = [tensor(system.am[i], qeye(3)) for i in range(len(system.systems))]\n",
    "# Ladder Operators for the Ancilla\n",
    "bp_int = tensor(qeye(system_dimentions), qeye(system_dimentions), eta.sigmaminus)\n",
    "bm_int = tensor(qeye(system_dimentions), qeye(system_dimentions), eta.sigmaplus)\n",
    "# Interaction \n",
    "V = [OMEGA*(ap_int[i]*bp_int + am_int[i]*bm_int) for i in range(len(system.systems))]\n",
    "# Unitary Evolution Operator\n",
    "U = [(-1j*V[i]*TIMEDELTA).expm() for i in range(len(system.systems))]"
   ]
  },
  {
   "cell_type": "code",
   "execution_count": 6,
   "id": "305f23d9",
   "metadata": {},
   "outputs": [
    {
     "data": {
      "text/latex": [
       "Quantum object: dims = [[2, 2], [2, 2]], shape = (4, 4), type = oper, isherm = True\\begin{equation*}\\left(\\begin{array}{*{11}c}0.0 & 0.0 & 0.0 & 0.0\\\\0.0 & 1.0 & 0.0 & 0.0\\\\0.0 & 0.0 & 0.0 & 0.0\\\\0.0 & 0.0 & 0.0 & 0.0\\\\\\end{array}\\right)\\end{equation*}"
      ],
      "text/plain": [
       "Quantum object: dims = [[2, 2], [2, 2]], shape = (4, 4), type = oper, isherm = True\n",
       "Qobj data =\n",
       "[[0. 0. 0. 0.]\n",
       " [0. 1. 0. 0.]\n",
       " [0. 0. 0. 0.]\n",
       " [0. 0. 0. 0.]]"
      ]
     },
     "execution_count": 6,
     "metadata": {},
     "output_type": "execute_result"
    }
   ],
   "source": [
    "rho_u = copy.deepcopy(system)\n",
    "rho_u"
   ]
  },
  {
   "cell_type": "code",
   "execution_count": 7,
   "id": "04675993",
   "metadata": {},
   "outputs": [
    {
     "name": "stderr",
     "output_type": "stream",
     "text": [
      "100%|█████████████████████████████████████| 80000/80000 [26:59<00:00, 49.41it/s]\n"
     ]
    },
    {
     "data": {
      "text/latex": [
       "Quantum object: dims = [[2, 2], [2, 2]], shape = (4, 4), type = oper, isherm = True\\begin{equation*}\\left(\\begin{array}{*{11}c}0.184 & 0.0 & 0.0 & 0.0\\\\0.0 & 0.245 & 0.0 & 0.0\\\\0.0 & 0.0 & 0.245 & 0.0\\\\0.0 & 0.0 & 0.0 & 0.327\\\\\\end{array}\\right)\\end{equation*}"
      ],
      "text/plain": [
       "Quantum object: dims = [[2, 2], [2, 2]], shape = (4, 4), type = oper, isherm = True\n",
       "Qobj data =\n",
       "[[0.18367347+0.00000000e+00j 0.        +0.00000000e+00j\n",
       "  0.        +0.00000000e+00j 0.        +0.00000000e+00j]\n",
       " [0.        +0.00000000e+00j 0.24489796+0.00000000e+00j\n",
       "  0.        -1.08420217e-19j 0.        +0.00000000e+00j]\n",
       " [0.        +0.00000000e+00j 0.        +1.08420217e-19j\n",
       "  0.24489796+0.00000000e+00j 0.        +0.00000000e+00j]\n",
       " [0.        +0.00000000e+00j 0.        +0.00000000e+00j\n",
       "  0.        +0.00000000e+00j 0.32653061+0.00000000e+00j]]"
      ]
     },
     "metadata": {},
     "output_type": "display_data"
    }
   ],
   "source": [
    "if UNITARY_EVOLUTION:\n",
    "    temperatures_u = []\n",
    "    coherences_u = []\n",
    "    for i in tqdm(range(TIMESTEPS)):\n",
    "        rho_u = rho_u.interact(eta, V, TIMEDELTA, historical=HISTORICAL)\n",
    "        temperatures_u.append([rho_u[0].get_temperature(), rho_u[1].get_temperature()])\n",
    "        coherences_u.append(rho_u.full()[2, 1].real)\n",
    "    if U_ID is not None:\n",
    "            qsave(rho_u, f'objects/jointss_unitary_{U_ID}')\n",
    "            np.save(f'objects/jointtemp_unitary_{U_ID}', temperatures_u)\n",
    "            np.save(f'objects/jointcoh_unitary_{U_ID}', coherences_u)\n",
    "    display(rho_u)\n",
    "else:\n",
    "    try:\n",
    "        \"\"\"Carica i file delle Temperature e lo stato del Sistema\"\"\"\n",
    "        rho_u = qload(f'objects/jointss_unitary_{U_ID}')\n",
    "        temperatures_u = np.load(f'objects/jointtemp_unitary_{U_ID}.npy')\n",
    "        coherences_u = np.load(f'objects/jointcoh_unitary_{U_ID}.npy')\n",
    "        PLOT = True\n",
    "        display(rho_u)\n",
    "    except FileNotFoundError as e:\n",
    "        print('Error!\\n', str(e))\n",
    "        PLOT = False"
   ]
  },
  {
   "cell_type": "code",
   "execution_count": 32,
   "id": "79989699",
   "metadata": {},
   "outputs": [
    {
     "data": {
      "image/png": "[encoded data removed]",
      "text/plain": [
       "<Figure size 1152x288 with 2 Axes>"
      ]
     },
     "metadata": {
      "needs_background": "light"
     },
     "output_type": "display_data"
    },
    {
     "data": {
      "image/png": "[encoded data removed]",
      "text/plain": [
       "<Figure size 432x288 with 1 Axes>"
      ]
     },
     "metadata": {
      "needs_background": "light"
     },
     "output_type": "display_data"
    }
   ],
   "source": [
    "if PLOT:\n",
    "    fig, axs = plt.subplots(1,2, figsize=(16,4))\n",
    "    axs[0].plot(temperatures_u)\n",
    "    axs[0].set_title('Systems Temperature')\n",
    "    axs[0].legend(['System 1', 'System 2'])\n",
    "    axs[0].set_ylim(stable_temperature+0.3*stable_temperature, stable_temperature-0.3*stable_temperature,)\n",
    "    #plt.ylim(-10,10)\n",
    "    axs[0].axhline(stable_temperature, ls='--', color='r', label=f'Stable Temperature: {stable_temperature:.4}')\n",
    "    axs[1].plot(temperatures_u)\n",
    "    axs[1].set_title('Systems Temperature (first 1000 steps)')\n",
    "    axs[1].legend(['System 1', 'System 2'])\n",
    "    axs[1].set_xlim(0, 1000)\n",
    "    axs[1].set_ylim(-50,50)\n",
    "    #set_ylim(stable_temperature+0.3*stable_temperature, stable_temperature-0.3*stable_temperature,)\n",
    "    axs[1].axhline(stable_temperature, ls='--', color='r', label=f'Stable Temperature: {stable_temperature:.4}')\n",
    "    plt.show()\n",
    "    # Non diagonal element ( [3, 2] )\n",
    "    plt.plot(coherences_u)\n",
    "    plt.title('Element (3, 2)')\n",
    "    plt.legend(['System 1', 'System 2'])\n",
    "    plt.show()"
   ]
  },
  {
   "cell_type": "markdown",
   "id": "a1c5138f",
   "metadata": {},
   "source": [
    "# Master Equation Evolution\n",
    "$$\n",
    "    \\frac{\\Delta \\rho_{n}}{\\Delta t} = -\\frac{i}{2}[H_S'+H_S''; \\rho_{n-1}] + \\frac{1}{4}\\mathcal{D}_S[\\rho_{n-1}]\n",
    "$$\n",
    "\n",
    "$$\n",
    "\\begin{align}\n",
    "    &H_S' = \\hbar\\Omega\\sum_\\nu\\langle B_\\nu \\rangle\\left( A_{1\\nu}+A_{2\\nu} \\right) \\\\\n",
    "    &H_S'' = i\\frac{\\Delta t}{4}(\\hbar\\Omega)^2\\sum_{\\mu\\nu}\\langle [B_\\nu;B_\\mu] \\rangle A_{2\\mu}A_{1\\nu} \\\\\n",
    "    &\\mathcal{D}_S[\\rho] = (\\hbar\\Omega)^2\\Delta t\\sum_{\\mu\\nu}\\langle B_\\mu B_\\nu \\rangle \n",
    "        \\left( A_\\nu\\rho_{n-1}A_\\mu-\\frac{1}{2}[A_\\mu A_\\nu; \\rho_{n-1}] \\right)\n",
    "\\end{align}\n",
    "$$"
   ]
  },
  {
   "cell_type": "markdown",
   "id": "c3821f9a",
   "metadata": {},
   "source": [
    "### First Moments"
   ]
  },
  {
   "cell_type": "code",
   "execution_count": 9,
   "id": "f86eeb05",
   "metadata": {},
   "outputs": [
    {
     "name": "stdout",
     "output_type": "stream",
     "text": [
      "ExpVal\tComputed  \tTheoretical\n",
      "<B->\t0.0\t\t0\n",
      "<B+>\t0.0\t\t0\n"
     ]
    }
   ],
   "source": [
    "print(f'{\"ExpVal\":5}\\t{\"Computed\":10}\\t{\"Theoretical\":10}\\n'\n",
    "      f'<B->\\t{expect(eta.sigmaplus, eta).real}\\t\\t{0}\\n'\n",
    "      f'<B+>\\t{expect(eta.sigmaminus, eta).real}\\t\\t{0}')"
   ]
  },
  {
   "cell_type": "markdown",
   "id": "4250fb7d",
   "metadata": {},
   "source": [
    "### Commutator Moments"
   ]
  },
  {
   "cell_type": "code",
   "execution_count": 10,
   "id": "32b6ece9",
   "metadata": {},
   "outputs": [
    {
     "name": "stdout",
     "output_type": "stream",
     "text": [
      "ExpVal    \tComputed            \tTheoretical         \n",
      "<[B- ; B+]>\t0.24999999999999983\t0.25\n",
      "<[B+ ; B-]>\t-0.24999999999999983\t-0.25\n"
     ]
    }
   ],
   "source": [
    "theoretical = 2*eta.alpha**2 - eta.beta**2 * (1 + math.cos(eta.phi))\n",
    "print(f'{\"ExpVal\":10}\\t{\"Computed\":20}\\t{\"Theoretical\":20}\\n'\n",
    "      f'<[B- ; B+]>\\t{expect(commutator(eta.sigmaplus, eta.sigmaminus), eta).real}\\t{theoretical.real}\\n'\n",
    "      f'<[B+ ; B-]>\\t{expect(commutator(eta.sigmaminus, eta.sigmaplus), eta).real}\\t{-theoretical.real}')"
   ]
  },
  {
   "cell_type": "markdown",
   "id": "d7b7a0f3",
   "metadata": {},
   "source": [
    "### Second Moments"
   ]
  },
  {
   "cell_type": "code",
   "execution_count": 11,
   "id": "6b91e7dd",
   "metadata": {},
   "outputs": [
    {
     "name": "stdout",
     "output_type": "stream",
     "text": [
      "ExpVal\tComputed  \tTheoretical\n",
      "<B-B->\t0.0\t\t0\n",
      "<B+B+>\t0.0\t\t0\n"
     ]
    }
   ],
   "source": [
    "print(f'ExpVal\\t{\"Computed\":10}\\t{\"Theoretical\":10}\\n'\n",
    "      f'<B-B->\\t{expect(eta.sigmaplus*eta.sigmaplus, eta).real}\\t\\t{0}\\n'\n",
    "      f'<B+B+>\\t{expect(eta.sigmaminus*eta.sigmaminus, eta).real}\\t\\t{0}')"
   ]
  },
  {
   "cell_type": "markdown",
   "id": "8a2cb21b",
   "metadata": {},
   "source": [
    "### Cross Correlations"
   ]
  },
  {
   "cell_type": "code",
   "execution_count": 12,
   "id": "664fd102",
   "metadata": {},
   "outputs": [
    {
     "name": "stdout",
     "output_type": "stream",
     "text": [
      "ExpVal\tComputed            \tTheoretical         \n",
      "<B-B+>\t0.9999999999999998\t0.9999999999999998\n",
      "<B+B->\t0.7499999999999999\t0.7499999999999998\n"
     ]
    }
   ],
   "source": [
    "print(f'ExpVal\\t{\"Computed\":20}\\t{\"Theoretical\":20}\\n'\n",
    "      f'<B-B+>\\t{expect(eta.sigmaplus*eta.sigmaminus, eta).real}\\t{(2*eta.alpha**2).real}\\n'\n",
    "      f'<B+B->\\t{expect(eta.sigmaminus*eta.sigmaplus, eta).real}\\t{(eta.beta**2*(1+math.cos(eta.phi))).real}')"
   ]
  },
  {
   "cell_type": "markdown",
   "id": "1ffbb6a6",
   "metadata": {},
   "source": [
    "## Master Equation "
   ]
  },
  {
   "cell_type": "code",
   "execution_count": 13,
   "id": "1e8622e0",
   "metadata": {},
   "outputs": [
    {
     "data": {
      "text/latex": [
       "Quantum object: dims = [[2, 2], [2, 2]], shape = (4, 4), type = oper, isherm = True\\begin{equation*}\\left(\\begin{array}{*{11}c}0.0 & 0.0 & 0.0 & 0.0\\\\0.0 & 1.0 & 0.0 & 0.0\\\\0.0 & 0.0 & 0.0 & 0.0\\\\0.0 & 0.0 & 0.0 & 0.0\\\\\\end{array}\\right)\\end{equation*}"
      ],
      "text/plain": [
       "Quantum object: dims = [[2, 2], [2, 2]], shape = (4, 4), type = oper, isherm = True\n",
       "Qobj data =\n",
       "[[0. 0. 0. 0.]\n",
       " [0. 1. 0. 0.]\n",
       " [0. 0. 0. 0.]\n",
       " [0. 0. 0. 0.]]"
      ]
     },
     "execution_count": 13,
     "metadata": {},
     "output_type": "execute_result"
    }
   ],
   "source": [
    "rho_meq = copy.deepcopy(system)\n",
    "rho_meq"
   ]
  },
  {
   "cell_type": "code",
   "execution_count": 14,
   "id": "23217499",
   "metadata": {},
   "outputs": [
    {
     "name": "stderr",
     "output_type": "stream",
     "text": [
      "100%|████████████████████████████████████| 80000/80000 [13:03<00:00, 102.15it/s]\n"
     ]
    },
    {
     "data": {
      "text/latex": [
       "Quantum object: dims = [[2, 2], [2, 2]], shape = (4, 4), type = oper, isherm = True\\begin{equation*}\\left(\\begin{array}{*{11}c}0.183 & 0.0 & 0.0 & 0.0\\\\0.0 & 0.246 & -0.002 & 0.0\\\\0.0 & -0.002 & 0.246 & 0.0\\\\0.0 & 0.0 & 0.0 & 0.325\\\\\\end{array}\\right)\\end{equation*}"
      ],
      "text/plain": [
       "Quantum object: dims = [[2, 2], [2, 2]], shape = (4, 4), type = oper, isherm = True\n",
       "Qobj data =\n",
       "[[ 0.18299424  0.          0.          0.        ]\n",
       " [ 0.          0.24557718 -0.00184062  0.        ]\n",
       " [ 0.         -0.00184062  0.24611036  0.        ]\n",
       " [ 0.          0.          0.          0.32531821]]"
      ]
     },
     "metadata": {},
     "output_type": "display_data"
    }
   ],
   "source": [
    "if MEQ_EVOLUTION:\n",
    "    temperatures_meq = []\n",
    "    coherences_meq = []\n",
    "    for i in tqdm(range(TIMESTEPS)):\n",
    "        rho_meq = rho_meq.meq_step(eta, OMEGA, TIMEDELTA, historical=HISTORICAL)\n",
    "        temperatures_meq.append([rho_meq[0].get_temperature(), rho_meq[1].get_temperature()])\n",
    "        coherences_meq.append(rho_meq.full()[2, 1].real)\n",
    "    if MEQ_ID is not None:\n",
    "            qsave(rho_meq, f'objects/jointss_meq_{MEQ_ID}')\n",
    "            np.save(f'objects/jointtemp_meq_{MEQ_ID}', temperatures_meq)\n",
    "            np.save(f'objects/jointcoh_meq_{MEQ_ID}', coherences_meq)\n",
    "    display(rho_meq)\n",
    "else:\n",
    "    try:\n",
    "        \"\"\"Carica i file delle Temperature e lo stato del Sistema\"\"\"\n",
    "        rho_meq = qload(f'objects/jointss_meq_{MEQ_ID}')\n",
    "        temperatures_meq = np.load(f'objects/jointtemp_meq_{MEQ_ID}.npy')\n",
    "        coherences_meq = np.load(f'objects/jointcoh_meq_{MEQ_ID}.npy')\n",
    "        PLOT = True\n",
    "        display(rho_meq)\n",
    "    except FileNotFoundError as e:\n",
    "        print('Error!\\n', str(e))\n",
    "        PLOT = False"
   ]
  },
  {
   "cell_type": "code",
   "execution_count": 15,
   "id": "3807913a",
   "metadata": {},
   "outputs": [
    {
     "data": {
      "text/latex": [
       "Quantum object: dims = [[2], [2]], shape = (2, 2), type = oper, isherm = True\\begin{equation*}\\left(\\begin{array}{*{11}c}0.429 & 0.0\\\\0.0 & 0.571\\\\\\end{array}\\right)\\end{equation*}"
      ],
      "text/plain": [
       "Quantum object: dims = [[2], [2]], shape = (2, 2), type = oper, isherm = True\n",
       "Qobj data =\n",
       "[[0.42857143 0.        ]\n",
       " [0.         0.57142857]]"
      ]
     },
     "metadata": {},
     "output_type": "display_data"
    },
    {
     "data": {
      "text/latex": [
       "Quantum object: dims = [[2], [2]], shape = (2, 2), type = oper, isherm = True\\begin{equation*}\\left(\\begin{array}{*{11}c}0.429 & 0.0\\\\0.0 & 0.571\\\\\\end{array}\\right)\\end{equation*}"
      ],
      "text/plain": [
       "Quantum object: dims = [[2], [2]], shape = (2, 2), type = oper, isherm = True\n",
       "Qobj data =\n",
       "[[0.42857143 0.        ]\n",
       " [0.         0.57142857]]"
      ]
     },
     "metadata": {},
     "output_type": "display_data"
    },
    {
     "data": {
      "text/latex": [
       "Quantum object: dims = [[2], [2]], shape = (2, 2), type = oper, isherm = True\\begin{equation*}\\left(\\begin{array}{*{11}c}0.429 & 0.0\\\\0.0 & 0.571\\\\\\end{array}\\right)\\end{equation*}"
      ],
      "text/plain": [
       "Quantum object: dims = [[2], [2]], shape = (2, 2), type = oper, isherm = True\n",
       "Qobj data =\n",
       "[[0.42910461 0.        ]\n",
       " [0.         0.57089539]]"
      ]
     },
     "metadata": {},
     "output_type": "display_data"
    },
    {
     "data": {
      "text/latex": [
       "Quantum object: dims = [[2], [2]], shape = (2, 2), type = oper, isherm = True\\begin{equation*}\\left(\\begin{array}{*{11}c}0.429 & 0.0\\\\0.0 & 0.571\\\\\\end{array}\\right)\\end{equation*}"
      ],
      "text/plain": [
       "Quantum object: dims = [[2], [2]], shape = (2, 2), type = oper, isherm = True\n",
       "Qobj data =\n",
       "[[0.42857143 0.        ]\n",
       " [0.         0.57142857]]"
      ]
     },
     "metadata": {},
     "output_type": "display_data"
    }
   ],
   "source": [
    "display(rho_meq[0])\n",
    "display(rho_u[0])\n",
    "display(rho_meq[1])\n",
    "display(rho_u[1])"
   ]
  },
  {
   "cell_type": "code",
   "execution_count": 34,
   "id": "371bc353",
   "metadata": {},
   "outputs": [
    {
     "data": {
      "image/png": "[encoded data removed]",
      "text/plain": [
       "<Figure size 1152x288 with 2 Axes>"
      ]
     },
     "metadata": {
      "needs_background": "light"
     },
     "output_type": "display_data"
    },
    {
     "data": {
      "image/png": "[encoded data removed]",
      "text/plain": [
       "<Figure size 432x288 with 1 Axes>"
      ]
     },
     "metadata": {
      "needs_background": "light"
     },
     "output_type": "display_data"
    }
   ],
   "source": [
    "PLOT = True\n",
    "if PLOT:\n",
    "    fig, axs = plt.subplots(1,2, figsize=(16,4))\n",
    "    axs[0].plot(temperatures_meq)\n",
    "    axs[0].set_title('Systems Temperature')\n",
    "    axs[0].legend(['System 1', 'System 2'])\n",
    "    axs[0].set_ylim(stable_temperature+0.3*stable_temperature, stable_temperature-0.3*stable_temperature,)\n",
    "    #plt.ylim(-10,10)\n",
    "    axs[0].axhline(stable_temperature, ls='--', color='r', label=f'Stable Temperature: {stable_temperature:.4}')\n",
    "    axs[1].plot(temperatures_meq)\n",
    "    axs[1].set_title('Systems Temperature (first 1000 steps)')\n",
    "    axs[1].legend(['System 1', 'System 2'])\n",
    "    axs[1].set_xlim(0, 1000)\n",
    "    axs[1].set_ylim(-50,50)\n",
    "    #set_ylim(stable_temperature+0.3*stable_temperature, stable_temperature-0.3*stable_temperature,)\n",
    "    axs[1].axhline(stable_temperature, ls='--', color='r', label=f'Stable Temperature: {stable_temperature:.4}')\n",
    "    plt.show()\n",
    "    # Non diagonal element ( [3, 2] )\n",
    "    plt.plot(coherences_meq)\n",
    "    plt.title('Element (3, 2)')\n",
    "    plt.show()"
   ]
  },
  {
   "cell_type": "code",
   "execution_count": null,
   "id": "3e115b1d",
   "metadata": {},
   "outputs": [],
   "source": []
  }
 ],
 "metadata": {
  "kernelspec": {
   "display_name": "Python 3 (ipykernel)",
   "language": "python",
   "name": "python3"
  },
  "language_info": {
   "codemirror_mode": {
    "name": "ipython",
    "version": 3
   },
   "file_extension": ".py",
   "mimetype": "text/x-python",
   "name": "python",
   "nbconvert_exporter": "python",
   "pygments_lexer": "ipython3",
   "version": "3.10.2"
  }
 },
 "nbformat": 4,
 "nbformat_minor": 5
}
