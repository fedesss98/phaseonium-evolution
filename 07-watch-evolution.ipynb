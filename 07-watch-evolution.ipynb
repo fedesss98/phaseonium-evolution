{
 "cells": [
  {
   "cell_type": "code",
   "execution_count": 1,
   "outputs": [],
   "source": [
    "%matplotlib inline\n",
    "import matplotlib.pyplot as plt\n",
    "import numpy as np\n",
    "import os\n",
    "import qutip\n",
    "from tqdm import tqdm\n",
    "\n",
    "from observables import entropy_vn\n",
    "\n",
    "D = 50"
   ],
   "metadata": {
    "collapsed": false,
    "ExecuteTime": {
     "end_time": "2023-07-07T04:58:48.786071800Z",
     "start_time": "2023-07-07T04:58:47.061693200Z"
    }
   }
  },
  {
   "cell_type": "code",
   "execution_count": 2,
   "outputs": [],
   "source": [
    "def file_dims(filename):\n",
    "    return int(filename.split('_')[-2][1:])\n",
    "\n",
    "\n",
    "def file_time(filename):\n",
    "    return int(filename.split('_')[-1][1:])"
   ],
   "metadata": {
    "collapsed": false,
    "ExecuteTime": {
     "end_time": "2023-07-07T04:58:48.800626800Z",
     "start_time": "2023-07-07T04:58:48.789072Z"
    }
   }
  },
  {
   "cell_type": "code",
   "execution_count": 3,
   "metadata": {
    "collapsed": true,
    "ExecuteTime": {
     "end_time": "2023-07-07T05:00:02.244249300Z",
     "start_time": "2023-07-07T04:58:48.802126500Z"
    }
   },
   "outputs": [
    {
     "name": "stderr",
     "output_type": "stream",
     "text": [
      "  8%|▊         | 1/12 [00:06<01:15,  6.82s/it]"
     ]
    },
    {
     "name": "stdout",
     "output_type": "stream",
     "text": [
      "101\n",
      "2500\n"
     ]
    },
    {
     "name": "stderr",
     "output_type": "stream",
     "text": [
      " 17%|█▋        | 2/12 [00:14<01:12,  7.22s/it]"
     ]
    },
    {
     "name": "stdout",
     "output_type": "stream",
     "text": [
      "201\n",
      "2500\n"
     ]
    },
    {
     "name": "stderr",
     "output_type": "stream",
     "text": [
      " 25%|██▌       | 3/12 [00:21<01:06,  7.39s/it]"
     ]
    },
    {
     "name": "stdout",
     "output_type": "stream",
     "text": [
      "Unable to allocate 95.4 MiB for an array with shape (6250000,) and data type complex128\n"
     ]
    },
    {
     "name": "stderr",
     "output_type": "stream",
     "text": [
      " 33%|███▎      | 4/12 [00:29<00:59,  7.47s/it]"
     ]
    },
    {
     "name": "stdout",
     "output_type": "stream",
     "text": [
      "Unable to allocate 95.4 MiB for an array with shape (6250000,) and data type complex128\n"
     ]
    },
    {
     "name": "stderr",
     "output_type": "stream",
     "text": [
      " 42%|████▏     | 5/12 [00:36<00:50,  7.23s/it]"
     ]
    },
    {
     "name": "stdout",
     "output_type": "stream",
     "text": [
      "Unable to allocate 95.4 MiB for an array with shape (6250000,) and data type complex128\n"
     ]
    },
    {
     "name": "stderr",
     "output_type": "stream",
     "text": [
      " 50%|█████     | 6/12 [00:42<00:41,  6.87s/it]"
     ]
    },
    {
     "name": "stdout",
     "output_type": "stream",
     "text": [
      "Unable to allocate 95.4 MiB for an array with shape (6250000,) and data type complex128\n"
     ]
    },
    {
     "name": "stderr",
     "output_type": "stream",
     "text": [
      " 58%|█████▊    | 7/12 [00:48<00:32,  6.60s/it]"
     ]
    },
    {
     "name": "stdout",
     "output_type": "stream",
     "text": [
      "Unable to allocate 95.4 MiB for an array with shape (6250000,) and data type complex128\n"
     ]
    },
    {
     "name": "stderr",
     "output_type": "stream",
     "text": [
      " 67%|██████▋   | 8/12 [00:54<00:25,  6.40s/it]"
     ]
    },
    {
     "name": "stdout",
     "output_type": "stream",
     "text": [
      "Unable to allocate 95.4 MiB for an array with shape (6250000,) and data type complex128\n"
     ]
    },
    {
     "name": "stderr",
     "output_type": "stream",
     "text": [
      " 75%|███████▌  | 9/12 [01:00<00:18,  6.30s/it]"
     ]
    },
    {
     "name": "stdout",
     "output_type": "stream",
     "text": [
      "Unable to allocate 95.4 MiB for an array with shape (6250000,) and data type complex128\n"
     ]
    },
    {
     "name": "stderr",
     "output_type": "stream",
     "text": [
      " 83%|████████▎ | 10/12 [01:06<00:12,  6.21s/it]"
     ]
    },
    {
     "name": "stdout",
     "output_type": "stream",
     "text": [
      "Unable to allocate 95.4 MiB for an array with shape (6250000,) and data type complex128\n"
     ]
    },
    {
     "name": "stderr",
     "output_type": "stream",
     "text": [
      " 92%|█████████▏| 11/12 [01:12<00:06,  6.13s/it]"
     ]
    },
    {
     "name": "stdout",
     "output_type": "stream",
     "text": [
      "Unable to allocate 95.4 MiB for an array with shape (6250000,) and data type complex128\n"
     ]
    },
    {
     "name": "stderr",
     "output_type": "stream",
     "text": [
      "100%|██████████| 12/12 [01:13<00:00,  6.11s/it]"
     ]
    },
    {
     "name": "stdout",
     "output_type": "stream",
     "text": [
      "214\n",
      "2500\n"
     ]
    },
    {
     "name": "stderr",
     "output_type": "stream",
     "text": [
      "\n"
     ]
    }
   ],
   "source": [
    "files = [file.removesuffix('.npz') for file in os.listdir('objects') if file.endswith('.npz')]\n",
    "times = [file_time(file) for file in files if file_dims(file) == D]\n",
    "times.sort()\n",
    "rho_evolution = []\n",
    "for t in tqdm(times):\n",
    "    try:\n",
    "        rho_evolution_zip = np.load(f'objects/rho_evolution_d{D}_t{t}.npz')\n",
    "        rho_evolution_t = [rho_evolution_zip[t] for t in rho_evolution_zip.files]\n",
    "        rho_evolution.extend(rho_evolution_t)\n",
    "        print(len(rho_evolution))\n",
    "        print(len(rho_evolution_t[0]))\n",
    "    except MemoryError as e:\n",
    "        print(e)\n",
    "        break"
   ]
  },
  {
   "cell_type": "code",
   "execution_count": 4,
   "outputs": [
    {
     "data": {
      "text/plain": "(2500, 2500)"
     },
     "execution_count": 4,
     "metadata": {},
     "output_type": "execute_result"
    }
   ],
   "source": [
    "rho_evolution[0].shape"
   ],
   "metadata": {
    "collapsed": false,
    "ExecuteTime": {
     "end_time": "2023-07-07T05:00:02.249978900Z",
     "start_time": "2023-07-07T05:00:02.244742500Z"
    }
   }
  },
  {
   "cell_type": "code",
   "execution_count": 5,
   "outputs": [
    {
     "name": "stderr",
     "output_type": "stream",
     "text": [
      "100%|██████████| 214/214 [42:32<00:00, 11.93s/it]\n"
     ]
    },
    {
     "data": {
      "text/plain": "[<matplotlib.lines.Line2D at 0x17ab5876920>]"
     },
     "execution_count": 5,
     "metadata": {},
     "output_type": "execute_result"
    },
    {
     "data": {
      "text/plain": "<Figure size 640x480 with 1 Axes>",
      "image/png": "[encoded data removed]"
     },
     "metadata": {},
     "output_type": "display_data"
    }
   ],
   "source": [
    "entropies = []\n",
    "for rho in tqdm(rho_evolution):\n",
    "    entropies.append(entropy_vn(rho))\n",
    "\n",
    "plt.plot(entropies)"
   ],
   "metadata": {
    "collapsed": false,
    "ExecuteTime": {
     "end_time": "2023-07-07T05:42:35.165194500Z",
     "start_time": "2023-07-07T05:00:02.249242300Z"
    }
   }
  },
  {
   "cell_type": "code",
   "execution_count": 6,
   "outputs": [
    {
     "data": {
      "text/plain": "[2.777709137957055,\n 2.7828147109641352,\n 2.7879055729145477,\n 2.79298185366557,\n 2.798043681312313,\n 2.8030911822210314,\n 2.80812448106162,\n 2.81314370083932,\n 2.8181489629256644,\n 2.8231403870886775,\n 2.828118091522345,\n 2.8330821928754157,\n 2.8380328062794824,\n 2.8429700453764375,\n 2.8478940223452724,\n 2.852804847928249,\n 2.8577026314564873,\n 2.8625874808749634,\n 2.8674595027668914,\n 2.8723188023776323,\n 2.8771654836379827,\n 2.881999649187003,\n 2.8868214003942922,\n 2.891630837381782,\n 2.8964280590450606,\n 2.9012131630742055,\n 2.9059862459741796,\n 2.910747403084772,\n 2.9154967286001017,\n 2.920234315587718,\n 2.92496025600728,\n 2.929674640728825,\n 2.934377559550674,\n 2.9390691012169454,\n 2.9437493534346975,\n 2.9484184028907126,\n 2.953076335267946,\n 2.957723235261604,\n 2.96235918659492,\n 2.966984272034594,\n 2.971598573405919,\n 2.9762021716075866,\n 2.9807951466262144,\n 2.9853775775505698,\n 2.989949542585495,\n 2.9945111190655895,\n 2.9990623834685826,\n 3.0036034114284558,\n 3.0081342777483164,\n 3.0126550564130077,\n 3.017165820601472,\n 3.021666642698881,\n 3.0261575943085277,\n 3.0306387462634823,\n 3.0351101686380284,\n 3.039571930758911,\n 3.0440241012163023,\n 3.0484667478746283,\n 3.052899937883157,\n 3.057323737686394,\n 3.06173821303428,\n 3.0661434289922074,\n 3.070539449950855,\n 3.0749263396358093,\n 3.07930416111707,\n 3.0836729768183044,\n 3.088032848526001,\n 3.092383837398418,\n 3.096726003974389,\n 3.1010594081819507,\n 3.10538410934684,\n 3.109700166200827,\n 3.114007636889886,\n 3.1183065789822546,\n 3.1225970494763238,\n 3.1268791048083986,\n 3.1311528008603093,\n 3.1354181929669402,\n 3.1396753359235503,\n 3.1439242839930337,\n 3.1481650909130083,\n 3.152397809902832,\n 3.15662249367044,\n 3.160839194419117,\n 3.165047963854131,\n 3.169248853189252,\n 3.1734419131531713,\n 3.177627193995812,\n 3.1818047454945213,\n 3.1859746169601872,\n 3.190136857243217,\n 3.1942915147394477,\n 3.198438637395952,\n 3.202578272716731,\n 3.2067104677683482,\n 3.210835269185426,\n 3.2149527231761073,\n 3.219062875527386,\n 3.223165771610352,\n 3.227261456385404,\n 3.2313499744072978,\n 3.235431369830204,\n 3.239505686412595,\n 3.243572967522134,\n 3.2476332561404258,\n 3.2516865948677394,\n 3.2557330259276323,\n 3.2597725911714974,\n 3.263805332083062,\n 3.267831289782796,\n 3.2718505050322695,\n 3.275863018238421,\n 3.2798688694577818,\n 3.2838680984006423,\n 3.2878607444351124,\n 3.291846846591168,\n 3.295826443564607,\n 3.2997995737209638,\n 3.3037662750993593,\n 3.3077265854162694,\n 3.311680542069296,\n 3.31562818214081,\n 3.319569542401593,\n 3.3235046593144015,\n 3.327433569037494,\n 3.3313563074280883,\n 3.335272910045766,\n 3.3391834121558768,\n 3.3430878487328077,\n 3.346986254463295,\n 3.3508786637496026,\n 3.3547651107127443,\n 3.3586456291955713,\n 3.3625202527659024,\n 3.36638901471951,\n 3.3702519480831707,\n 3.374109085617582,\n 3.377960459820314,\n 3.3818061029286466,\n 3.385646046922423,\n 3.3894803235268367,\n 3.393308964215183,\n 3.397132000211592,\n 3.4009494624936805,\n 3.4047613817952165,\n 3.40856778860871,\n 3.412368713187989,\n 3.416164185550738,\n 3.419954235480991,\n 3.423738892531593,\n 3.4275181860266404,\n 3.4312921450638845,\n 3.435060798517087,\n 3.4388241750383624,\n 3.442582303060483,\n 3.44633521079915,\n 3.450082926255229,\n 3.453825477216989,\n 3.45756289126224,\n 3.4612951957605467,\n 3.465022417875306,\n 3.4687445845658753,\n 3.4724617225896286,\n 3.4761738585040103,\n 3.47988101866854,\n 3.483583229246825,\n 3.48728051620851,\n 3.490972905331217,\n 3.4946604222024726,\n 3.498343092221595,\n 3.502020940601546,\n 3.5056939923707997,\n 3.5093622723751383,\n 3.5130258052794696,\n 3.516684615569582,\n 3.5203387275539124,\n 3.523988165365253,\n 3.5276329529624895,\n 3.531273114132263,\n 3.534908672490649,\n 3.538539651484794,\n 3.5421660743945407,\n 3.545787964334037,\n 3.549405344253317,\n 3.5530182369398666,\n 3.5566266650201706,\n 3.5602306509612314,\n 3.563830217072094,\n 3.567425385505313,\n 3.5710161782584504,\n 3.574602617175501,\n 3.578184723948357,\n 3.5817625201181973,\n 3.585336027076919,\n 3.5889052660685064,\n 3.592470258190397,\n 3.5960310243948386,\n 3.599587585490238,\n 3.6031399621424485,\n 3.6066881748761133,\n 3.6102322440759322,\n 6.041412255307628,\n 6.043289055636006,\n 6.045162460722655,\n 6.047032465624714,\n 6.048899065443141,\n 6.050762255322808,\n 6.052622030452579,\n 6.054478386065364,\n 6.056331317438224,\n 6.058180819892429,\n 6.060026888793516,\n 6.06186951955137,\n 6.063708707620289]"
     },
     "execution_count": 6,
     "metadata": {},
     "output_type": "execute_result"
    }
   ],
   "source": [
    "entropies"
   ],
   "metadata": {
    "collapsed": false,
    "ExecuteTime": {
     "end_time": "2023-07-07T05:42:50.335539500Z",
     "start_time": "2023-07-07T05:42:50.329539500Z"
    }
   }
  },
  {
   "cell_type": "code",
   "execution_count": null,
   "outputs": [],
   "source": [],
   "metadata": {
    "collapsed": false
   }
  }
 ],
 "metadata": {
  "kernelspec": {
   "display_name": "Python 3",
   "language": "python",
   "name": "python3"
  },
  "language_info": {
   "codemirror_mode": {
    "name": "ipython",
    "version": 2
   },
   "file_extension": ".py",
   "mimetype": "text/x-python",
   "name": "python",
   "nbconvert_exporter": "python",
   "pygments_lexer": "ipython2",
   "version": "2.7.6"
  }
 },
 "nbformat": 4,
 "nbformat_minor": 0
}
