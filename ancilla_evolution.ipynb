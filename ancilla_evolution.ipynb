{
 "cells": [
  {
   "cell_type": "markdown",
   "id": "3977c2e7",
   "metadata": {},
   "source": [
    "# Ancilla Evolution - *After the System Thermalizes*"
   ]
  },
  {
   "cell_type": "code",
   "execution_count": 1,
   "id": "e6439584",
   "metadata": {},
   "outputs": [],
   "source": [
    "%matplotlib inline\n",
    "import copy\n",
    "from qutip import *\n",
    "import numpy as np\n",
    "import math, cmath\n",
    "import matplotlib.pyplot as plt\n",
    "from tqdm import tqdm\n",
    "\n",
    "import utilities as use\n",
    "from stateobj import QState, QAncilla\n",
    "\n",
    "from IPython.display import Markdown, display"
   ]
  },
  {
   "cell_type": "code",
   "execution_count": 2,
   "id": "c07a495b",
   "metadata": {},
   "outputs": [],
   "source": [
    "TIMESTEPS = 1000\n",
    "TIMEDELTA = 1e-02\n",
    "OMEGA = 10"
   ]
  },
  {
   "cell_type": "markdown",
   "id": "19e2176f",
   "metadata": {},
   "source": [
    "## Thermal System\n",
    "\n",
    "$$\n",
    "\\rho^* = \\frac{1}{Z}\n",
    "\\begin{pmatrix}\n",
    "    1 &  &  &  \\\\\n",
    "    & \\exp\\left( \\frac{\\hbar\\omega}{KT} \\right) & & \\\\\n",
    "    & & \\exp\\left( 2\\frac{\\hbar\\omega}{KT} \\right) & \\\\\n",
    "    & & & \\ddots \\\\\n",
    "    & & & & \\exp\\left( n\\frac{\\hbar\\omega}{KT} \\right) \\\\\n",
    "    & & & & & \\ddots\n",
    "\\end{pmatrix}\n",
    "= \\frac{1}{Z}\n",
    "\\begin{pmatrix}\n",
    "    E^0 &  &  &  \\\\\n",
    "    & E^1 & & \\\\\n",
    "    & & E^2 & \\\\\n",
    "    & & & \\ddots \\\\\n",
    "    & & & & E^n \\\\\n",
    "    & & & & & \\ddots\n",
    "\\end{pmatrix}\n",
    "$$"
   ]
  },
  {
   "cell_type": "code",
   "execution_count": 14,
   "id": "5dceede2",
   "metadata": {},
   "outputs": [
    {
     "name": "stdout",
     "output_type": "stream",
     "text": [
      "Loaded Qobj object:\n",
      "Quantum object: dims = [[60], [60]], shape = (60, 60), type = oper, isHerm = True\n",
      "\n"
     ]
    },
    {
     "data": {
      "text/latex": [
       "Quantum object: dims = [[60], [60]], shape = (60, 60), type = oper, isherm = True\\begin{equation*}\\left(\\begin{array}{*{11}c}1.103\\times10^{-08} & 0.0 & 0.0 & 0.0 & 0.0 & \\cdots & 0.0 & 0.0 & 0.0 & 0.0 & 0.0\\\\0.0 & 1.457\\times10^{-08} & 0.0 & 0.0 & 0.0 & \\cdots & 0.0 & 0.0 & 0.0 & 0.0 & 0.0\\\\0.0 & 0.0 & 1.929\\times10^{-08} & 0.0 & 0.0 & \\cdots & 0.0 & 0.0 & 0.0 & 0.0 & 0.0\\\\0.0 & 0.0 & 0.0 & 2.559\\times10^{-08} & 0.0 & \\cdots & 0.0 & 0.0 & 0.0 & 0.0 & 0.0\\\\0.0 & 0.0 & 0.0 & 0.0 & 3.399\\times10^{-08} & \\cdots & 0.0 & 0.0 & 0.0 & 0.0 & 0.0\\\\\\vdots & \\vdots & \\vdots & \\vdots & \\vdots & \\ddots & \\vdots & \\vdots & \\vdots & \\vdots & \\vdots\\\\0.0 & 0.0 & 0.0 & 0.0 & 0.0 & \\cdots & 0.079 & 0.0 & 0.0 & 0.0 & 0.0\\\\0.0 & 0.0 & 0.0 & 0.0 & 0.0 & \\cdots & 0.0 & 0.105 & 0.0 & 0.0 & 0.0\\\\0.0 & 0.0 & 0.0 & 0.0 & 0.0 & \\cdots & 0.0 & 0.0 & 0.141 & 0.0 & 0.0\\\\0.0 & 0.0 & 0.0 & 0.0 & 0.0 & \\cdots & 0.0 & 0.0 & 0.0 & 0.188 & 0.0\\\\0.0 & 0.0 & 0.0 & 0.0 & 0.0 & \\cdots & 0.0 & 0.0 & 0.0 & 0.0 & 0.250\\\\\\end{array}\\right)\\end{equation*}"
      ],
      "text/plain": [
       "Quantum object: dims = [[60], [60]], shape = (60, 60), type = oper, isherm = True\n",
       "Qobj data =\n",
       "[[1.10266496e-08 0.00000000e+00 0.00000000e+00 ... 0.00000000e+00\n",
       "  0.00000000e+00 0.00000000e+00]\n",
       " [0.00000000e+00 1.45690844e-08 0.00000000e+00 ... 0.00000000e+00\n",
       "  0.00000000e+00 0.00000000e+00]\n",
       " [0.00000000e+00 0.00000000e+00 1.92926877e-08 ... 0.00000000e+00\n",
       "  0.00000000e+00 0.00000000e+00]\n",
       " ...\n",
       " [0.00000000e+00 0.00000000e+00 0.00000000e+00 ... 1.40625011e-01\n",
       "  0.00000000e+00 0.00000000e+00]\n",
       " [0.00000000e+00 0.00000000e+00 0.00000000e+00 ... 0.00000000e+00\n",
       "  1.87500014e-01 0.00000000e+00]\n",
       " [0.00000000e+00 0.00000000e+00 0.00000000e+00 ... 0.00000000e+00\n",
       "  0.00000000e+00 2.50000019e-01]]"
      ]
     },
     "execution_count": 14,
     "metadata": {},
     "output_type": "execute_result"
    }
   ],
   "source": [
    "SIM_ID = '60D'\n",
    "system = qload(f'objects/steadystate_meq_{SIM_ID}')\n",
    "system"
   ]
  },
  {
   "cell_type": "markdown",
   "id": "6fdbda12",
   "metadata": {},
   "source": [
    "## Ancilla State"
   ]
  },
  {
   "cell_type": "code",
   "execution_count": 4,
   "id": "a3695622",
   "metadata": {},
   "outputs": [
    {
     "data": {
      "text/latex": [
       "Quantum object: dims = [[3], [3]], shape = (3, 3), type = oper, isherm = True\\begin{equation*}\\left(\\begin{array}{*{11}c}0.500 & 0.0 & 0.0\\\\0.0 & 0.250 & (0.125+0.217j)\\\\0.0 & (0.125-0.217j) & 0.250\\\\\\end{array}\\right)\\end{equation*}"
      ],
      "text/plain": [
       "Quantum object: dims = [[3], [3]], shape = (3, 3), type = oper, isherm = True\n",
       "Qobj data =\n",
       "[[0.5  +0.j         0.   +0.j         0.   +0.j        ]\n",
       " [0.   +0.j         0.25 +0.j         0.125+0.21650635j]\n",
       " [0.   +0.j         0.125-0.21650635j 0.25 +0.j        ]]"
      ]
     },
     "metadata": {},
     "output_type": "display_data"
    }
   ],
   "source": [
    "alpha = complex(1/math.sqrt(2), 0)\n",
    "beta = complex(1/math.sqrt(2), 0)\n",
    "phi = np.pi/3\n",
    "eta = QAncilla(alpha, beta, phi)\n",
    "# Stampa informazioni sull'Ancella\n",
    "display(eta)"
   ]
  },
  {
   "cell_type": "markdown",
   "id": "d768c539",
   "metadata": {},
   "source": [
    "## Interaction"
   ]
  },
  {
   "cell_type": "code",
   "execution_count": 5,
   "id": "bb85cd8c",
   "metadata": {},
   "outputs": [],
   "source": [
    "# System Opeators\n",
    "ap_int = tensor(system.ap, qeye(3))\n",
    "am_int = tensor(system.am, qeye(3))\n",
    "# Ancilla Operators \n",
    "bp_int = tensor(qeye(system.dimentions), eta.sigmaminus)\n",
    "bm_int = tensor(qeye(system.dimentions), eta.sigmaplus)\n",
    "# INTERACTION\n",
    "V = OMEGA * ( ap_int*bp_int + am_int*bm_int )"
   ]
  },
  {
   "cell_type": "markdown",
   "id": "51e86b60",
   "metadata": {},
   "source": [
    "## Evolution"
   ]
  },
  {
   "cell_type": "code",
   "execution_count": 6,
   "id": "48d64630",
   "metadata": {},
   "outputs": [
    {
     "data": {
      "text/latex": [
       "Quantum object: dims = [[3], [3]], shape = (3, 3), type = oper, isherm = True\\begin{equation*}\\left(\\begin{array}{*{11}c}0.500 & 0.0 & 0.0\\\\0.0 & 0.250 & (0.125+0.106j)\\\\0.0 & (0.125-0.106j) & 0.250\\\\\\end{array}\\right)\\end{equation*}"
      ],
      "text/plain": [
       "Quantum object: dims = [[3], [3]], shape = (3, 3), type = oper, isherm = True\n",
       "Qobj data =\n",
       "[[0.50000003+0.j         0.        +0.j         0.        +0.j        ]\n",
       " [0.        +0.j         0.25000002+0.j         0.12500001+0.10620357j]\n",
       " [0.        +0.j         0.12500001-0.10620357j 0.25000002+0.j        ]]"
      ]
     },
     "execution_count": 6,
     "metadata": {},
     "output_type": "execute_result"
    }
   ],
   "source": [
    "total_system = tensor(system, eta)\n",
    "total_system = use.evolve(total_system, V, TIMEDELTA)\n",
    "eta_new = total_system.ptrace(1)\n",
    "eta_new"
   ]
  },
  {
   "cell_type": "markdown",
   "id": "5e6305dd",
   "metadata": {},
   "source": [
    "## Theoretical Evolution\n",
    "$$ \\eta' = \\eta + \\Delta t\\left[\n",
    "   \\langle A_+A_- \\rangle\\left(B_-\\eta B_+ -\\frac{1}{2}[B_+B_-; \\eta]\\right) +\n",
    "   \\langle A_-A_+ \\rangle\\left(B_+\\eta B_- -\\frac{1}{2}[B_-B_+; \\eta]\\right)\n",
    "    \\right] \n",
    "$$"
   ]
  },
  {
   "cell_type": "markdown",
   "id": "3880f7f8",
   "metadata": {},
   "source": [
    "### *Moments*"
   ]
  },
  {
   "cell_type": "code",
   "execution_count": 7,
   "id": "9de8e9cf",
   "metadata": {},
   "outputs": [
    {
     "name": "stdout",
     "output_type": "stream",
     "text": [
      "<A+> = 0.0\n",
      "<A+> = 0.0\n"
     ]
    }
   ],
   "source": [
    "print(f\"<A+> = {expect(system.ap, system).real}\")\n",
    "print(f\"<A+> = {expect(system.ap, system).real}\")"
   ]
  },
  {
   "cell_type": "code",
   "execution_count": 8,
   "id": "c47a2c88",
   "metadata": {},
   "outputs": [
    {
     "name": "stdout",
     "output_type": "stream",
     "text": [
      "First Moments:\t\tComputed\tTheoretical\n",
      "\tA- :\t\t0.0000\t\t0\n",
      "\tA+ :\t\t0.0000\t\t0\n",
      "\n",
      "Second Moments:\t\tComputed\tTheoretical\n",
      "\tA-A- :\t\t0.0000\t\t0\n",
      "\tA+A+ :\t\t0.0000\t\t0\n",
      "\n"
     ]
    }
   ],
   "source": [
    "first_moments = expect([system.ap, system.am], system)\n",
    "print(f\"First Moments:\\t\\tComputed\\tTheoretical\\n\"\n",
    "      f\"\\tA- :\\t\\t{first_moments[0].real:.4f}\\t\\t0\\n\"\n",
    "      f\"\\tA+ :\\t\\t{first_moments[1].real:.4f}\\t\\t0\\n\")\n",
    "second_moments = expect([system.ap*system.ap, system.am*system.am], system)\n",
    "print(f\"Second Moments:\\t\\tComputed\\tTheoretical\\n\"\n",
    "      f\"\\tA-A- :\\t\\t{second_moments[0].real:.4f}\\t\\t0\\n\"\n",
    "      f\"\\tA+A+ :\\t\\t{second_moments[1].real:.4f}\\t\\t0\\n\")\n"
   ]
  },
  {
   "cell_type": "markdown",
   "id": "fb8c7d3f",
   "metadata": {},
   "source": [
    "### *Cross Correlations*\n",
    "$$\\text{Tr}\\{a^\\dagger a\\rho^*\\} = \\frac{1}{Z}\\sum_{n=0}^{\\infty} nE^n \\equiv \\frac{1}{Z}\\frac{E}{(1-E)^2}$$\n",
    "$$\\text{Tr}\\{a a^\\dagger\\rho^*\\} = \\frac{1}{Z}\\sum_{n=0}^{\\infty} (n+1)E^n \\equiv \\frac{1}{Z}\\frac{E}{(1-E)^2}+1$$"
   ]
  },
  {
   "cell_type": "code",
   "execution_count": 9,
   "id": "1a31a02e",
   "metadata": {},
   "outputs": [
    {
     "name": "stdout",
     "output_type": "stream",
     "text": [
      "Cross-correlations:\tComputed\tTheoretical\n",
      "\tA+A- :\t\t    56.0\t56.0\n",
      "\tA-A+ :\t\t    42.0\t57.0\n"
     ]
    }
   ],
   "source": [
    "apam = expect(system.ap*system.am, system)\n",
    "amap = expect(system.am*system.ap, system)\n",
    "# Sum of infinite series\n",
    "series = eta.factor/(system.partition-eta.factor)**2\n",
    "# Discrete sum up to n\n",
    "# number vector\n",
    "n = np.arange(system.dimentions)\n",
    "disc_sum = np.sum(n * system.diag())\n",
    "disc_sump = np.sum((n+1) * system.diag())\n",
    "print(f\"Cross-correlations:\\tComputed\\tTheoretical\\n\"\n",
    "      f\"\\tA+A- :\\t\\t{apam:>8.7}\\t{disc_sum:>0.7}\\n\"\n",
    "      f\"\\tA-A+ :\\t\\t{amap:>8.7}\\t{disc_sump:>0.7}\")"
   ]
  },
  {
   "cell_type": "code",
   "execution_count": 10,
   "id": "a0c84eb8",
   "metadata": {},
   "outputs": [
    {
     "data": {
      "text/plain": [
       "1.4569084399051786e-08"
      ]
     },
     "execution_count": 10,
     "metadata": {},
     "output_type": "execute_result"
    }
   ],
   "source": [
    "system.diag()[1]"
   ]
  },
  {
   "cell_type": "code",
   "execution_count": 11,
   "id": "7c394962",
   "metadata": {},
   "outputs": [
    {
     "data": {
      "text/plain": [
       "1.47021995005008e-08"
      ]
     },
     "execution_count": 11,
     "metadata": {},
     "output_type": "execute_result"
    }
   ],
   "source": [
    "eta.factor/system.partition"
   ]
  },
  {
   "cell_type": "code",
   "execution_count": 12,
   "id": "674f2d5d",
   "metadata": {},
   "outputs": [
    {
     "data": {
      "text/plain": [
       "56.00000488255883"
      ]
     },
     "execution_count": 12,
     "metadata": {},
     "output_type": "execute_result"
    }
   ],
   "source": [
    "np.sum(np.arange(len(system.diag()))*system.diag())"
   ]
  },
  {
   "cell_type": "code",
   "execution_count": 13,
   "id": "2fc1f943",
   "metadata": {},
   "outputs": [
    {
     "data": {
      "text/latex": [
       "Quantum object: dims = [[3], [3]], shape = (3, 3), type = oper, isherm = False\\begin{equation*}\\left(\\begin{array}{*{11}c}0.815 & 0.0 & 0.0\\\\0.0 & (0.530+0.091j) & (0.405+0.217j)\\\\0.0 & (0.405-0.217j) & (0.530-0.091j)\\\\\\end{array}\\right)\\end{equation*}"
      ],
      "text/plain": [
       "Quantum object: dims = [[3], [3]], shape = (3, 3), type = oper, isherm = False\n",
       "Qobj data =\n",
       "[[0.81500003+0.j         0.        +0.j         0.        +0.j        ]\n",
       " [0.        +0.j         0.53000002+0.09093268j 0.40500002+0.21650635j]\n",
       " [0.        +0.j         0.40500002-0.21650635j 0.53000002-0.09093268j]]"
      ]
     },
     "execution_count": 13,
     "metadata": {},
     "output_type": "execute_result"
    }
   ],
   "source": [
    "first_term = apam*(eta.sigmaminus*eta*eta.sigmaplus-0.5*commutator(eta.sigmaplus*eta.sigmaminus, eta))\n",
    "second_term = amap*(eta.sigmaplus*eta*eta.sigmaminus-0.5*commutator(eta.sigmaminus*eta.sigmaplus, eta))\n",
    "eta_new = eta + TIMEDELTA * (first_term + second_term)\n",
    "eta_new"
   ]
  }
 ],
 "metadata": {
  "kernelspec": {
   "display_name": "Python 3 (ipykernel)",
   "language": "python",
   "name": "python3"
  },
  "language_info": {
   "codemirror_mode": {
    "name": "ipython",
    "version": 3
   },
   "file_extension": ".py",
   "mimetype": "text/x-python",
   "name": "python",
   "nbconvert_exporter": "python",
   "pygments_lexer": "ipython3",
   "version": "3.10.2"
  }
 },
 "nbformat": 4,
 "nbformat_minor": 5
}
