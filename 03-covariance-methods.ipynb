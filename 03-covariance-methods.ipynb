{
 "cells": [
  {
   "cell_type": "markdown",
   "source": [
    "# Covariance Matrix methods\n",
    "To find symplectic eigenvalues of the covariance matrix gives simple means to compute quantities such as Entropy or Purity.\n",
    "\n",
    "**Problems**:\n",
    "1. Purity does not evolve correctly"
   ],
   "metadata": {
    "collapsed": false
   }
  },
  {
   "cell_type": "code",
   "execution_count": 1,
   "outputs": [],
   "source": [
    "%matplotlib inline\n",
    "import copy\n",
    "import qutip\n",
    "from qutip import Qobj\n",
    "import numpy as np\n",
    "import math, cmath\n",
    "import matplotlib.pyplot as plt\n",
    "from tqdm import tqdm, trange\n",
    "\n",
    "from stateobj import Physics\n",
    "import utilities as use\n",
    "import circuits as qc\n",
    "\n",
    "import os\n",
    "\n",
    "from IPython.display import Markdown, display"
   ],
   "metadata": {
    "collapsed": false,
    "ExecuteTime": {
     "end_time": "2023-07-05T12:33:29.510890200Z",
     "start_time": "2023-07-05T12:33:27.275574400Z"
    }
   }
  },
  {
   "cell_type": "code",
   "execution_count": 2,
   "outputs": [],
   "source": [
    "TIMESTEPS = 3000\n",
    "TIMEDELTA = 1e-01\n",
    "OMEGA = 0.5  # Strength of Interaction\n",
    "\n",
    "D = 30\n",
    "\n",
    "p = Physics(dimension=D, interaction_strength=OMEGA, interaction_time=TIMEDELTA)\n",
    "\n",
    "th = OMEGA * TIMEDELTA\n",
    "alpha = complex(1/math.sqrt(2), 0)\n",
    "beta = cmath.sqrt(1 - alpha**2)\n",
    "phi = np.pi/2"
   ],
   "metadata": {
    "collapsed": false,
    "ExecuteTime": {
     "end_time": "2023-07-05T12:33:29.618717400Z",
     "start_time": "2023-07-05T12:33:29.515390200Z"
    }
   }
  },
  {
   "cell_type": "code",
   "execution_count": 3,
   "outputs": [],
   "source": [
    "eta = use.create_ancilla_qobj(alpha, beta, phi)\n",
    "n1 = 2\n",
    "n2 = 1\n",
    "rho1 = use.create_system_qobj('thermal',n=n1, n_dims=D)\n",
    "rho2 = use.create_system_qobj('thermal', n=n2, n_dims=D)\n",
    "rho = qutip.tensor(rho1, rho2)\n",
    "# qutip.plot_wigner(rho)\n",
    "\n",
    "def cov_matrix_element(op1, op2):\n",
    "    comm = qutip.commutator(op1, op2, kind='anti')\n",
    "    return 0.5*qutip.expect(comm, rho) - qutip.expect(op1, rho)*qutip.expect(op2, rho)\n",
    "\n",
    "def create_covariance(operators):\n",
    "    cov = [[cov_matrix_element(operators[k], operators[l]) for k in range(2*n)] for l in range(2*n)]\n",
    "    return Qobj(cov, dims=[[n, n], [n, n]])"
   ],
   "metadata": {
    "collapsed": false,
    "ExecuteTime": {
     "end_time": "2023-07-05T12:33:29.632916400Z",
     "start_time": "2023-07-05T12:33:29.623415100Z"
    }
   }
  },
  {
   "cell_type": "code",
   "execution_count": 4,
   "outputs": [],
   "source": [
    "def dissipator(X: Qobj, system: Qobj, kind='standard'):\n",
    "        if kind == 'inverse':\n",
    "            sandwich = X.dag() * system * X\n",
    "        elif kind == 'standard':\n",
    "            sandwich = X * system * X.dag()\n",
    "        else:\n",
    "            raise ValueError('Invalid kind of dissipator')\n",
    "        comm = qutip.commutator(X.dag()*X, system, kind='anti')\n",
    "        return sandwich - 1/2 * comm\n",
    "\n",
    "def evolve(operator, dissipator_kind='inverse'):\n",
    "        ga = 2*alpha**2\n",
    "        gb = beta**2*(1-np.cos(phi))\n",
    "        # Bosonic Operators\n",
    "        C = p.C\n",
    "        Cp = p.Cp\n",
    "        S = p.S\n",
    "        Sd = p.S.dag()\n",
    "        first_line = 0.5*dissipator(qutip.tensor(C, C) - 2*qutip.tensor(S, Sd), operator, dissipator_kind)\n",
    "        first_line += dissipator(qutip.tensor(C, S) + qutip.tensor(S, Cp), operator, dissipator_kind)\n",
    "        second_line = 0.5*dissipator(qutip.tensor(Cp, Cp) - 2*qutip.tensor(Sd, S), operator, dissipator_kind)\n",
    "        second_line += dissipator(qutip.tensor(Cp, Sd) + qutip.tensor(Sd, C), operator, dissipator_kind)\n",
    "        return operator + ga * first_line + gb * second_line"
   ],
   "metadata": {
    "collapsed": false,
    "ExecuteTime": {
     "end_time": "2023-07-05T12:33:29.653225500Z",
     "start_time": "2023-07-05T12:33:29.639916100Z"
    }
   }
  },
  {
   "cell_type": "markdown",
   "source": [
    "## Covariance Matrix"
   ],
   "metadata": {
    "collapsed": false
   }
  },
  {
   "cell_type": "code",
   "execution_count": 5,
   "outputs": [
    {
     "data": {
      "text/plain": "Quantum object: dims = [[2, 2], [2, 2]], shape = (4, 4), type = oper, isherm = True\nQobj data =\n[[2.49980443 0.         0.         0.        ]\n [0.         2.49980443 0.         0.        ]\n [0.         0.         1.49999996 0.        ]\n [0.         0.         0.         1.49999996]]",
      "text/latex": "Quantum object: dims = [[2, 2], [2, 2]], shape = (4, 4), type = oper, isherm = True\\begin{equation*}\\left(\\begin{array}{*{11}c}2.500 & 0.0 & 0.0 & 0.0\\\\0.0 & 2.500 & 0.0 & 0.0\\\\0.0 & 0.0 & 1.500 & 0.0\\\\0.0 & 0.0 & 0.0 & 1.500\\\\\\end{array}\\right)\\end{equation*}"
     },
     "execution_count": 5,
     "metadata": {},
     "output_type": "execute_result"
    }
   ],
   "source": [
    "n = 2  # Number of systems\n",
    "# Bosonic Operators Vector\n",
    "a = [p.a1, p.ad1, p.a2, p.ad2]\n",
    "# Quadrature Operators Vector\n",
    "q = [p.q1, p.p1, p.q2, p.p2]\n",
    "cov = create_covariance(q)\n",
    "cov"
   ],
   "metadata": {
    "collapsed": false,
    "ExecuteTime": {
     "end_time": "2023-07-05T12:33:29.696332500Z",
     "start_time": "2023-07-05T12:33:29.650965600Z"
    }
   }
  },
  {
   "cell_type": "markdown",
   "source": [
    "## Symplectic Eigenvalues"
   ],
   "metadata": {
    "collapsed": false
   }
  },
  {
   "cell_type": "code",
   "execution_count": 6,
   "outputs": [
    {
     "data": {
      "text/plain": "array([1.5, 2.5])"
     },
     "execution_count": 6,
     "metadata": {},
     "output_type": "execute_result"
    }
   ],
   "source": [
    "def find_symplectic_eigenvalues(cov):\n",
    "    omega1 = Qobj([[0, 1], [-1, 0]])\n",
    "    omega = qutip.tensor(qutip.qeye(2), omega1)\n",
    "    matrix = 1j*omega*cov\n",
    "    symplectic = np.linalg.eigvals(matrix.full())\n",
    "    # Returns only unique values rounded and sorted\n",
    "    return np.sort(np.unique(np.abs(symplectic).round(decimals=3)))\n",
    "nus = find_symplectic_eigenvalues(cov)\n",
    "np.sort(nus)"
   ],
   "metadata": {
    "collapsed": false,
    "ExecuteTime": {
     "end_time": "2023-07-05T12:33:29.709333Z",
     "start_time": "2023-07-05T12:33:29.697834200Z"
    }
   }
  },
  {
   "cell_type": "markdown",
   "source": [
    "### Entropy"
   ],
   "metadata": {
    "collapsed": false
   }
  },
  {
   "cell_type": "code",
   "execution_count": 7,
   "outputs": [],
   "source": [
    "def minientropy(x):\n",
    "    x1 = 0.5 * (x+1)\n",
    "    x2 = 0.5 * (x-1)\n",
    "    return x1*np.log2(x1) - x2*np.log2(x2)\n",
    "\n",
    "def entropy(nus):\n",
    "    return sum([minientropy(nu) for nu in nus])"
   ],
   "metadata": {
    "collapsed": false,
    "ExecuteTime": {
     "end_time": "2023-07-05T12:33:29.735832400Z",
     "start_time": "2023-07-05T12:33:29.710832500Z"
    }
   }
  },
  {
   "cell_type": "code",
   "execution_count": 8,
   "outputs": [],
   "source": [
    "def purity(nus):\n",
    "    return np.prod([1/nu for nu in nus])\n"
   ],
   "metadata": {
    "collapsed": false,
    "ExecuteTime": {
     "end_time": "2023-07-05T12:33:29.751255800Z",
     "start_time": "2023-07-05T12:33:29.726831700Z"
    }
   }
  },
  {
   "cell_type": "markdown",
   "source": [
    "## Evolution"
   ],
   "metadata": {
    "collapsed": false
   }
  },
  {
   "cell_type": "code",
   "execution_count": 9,
   "outputs": [
    {
     "name": "stderr",
     "output_type": "stream",
     "text": [
      "100%|██████████| 2000/2000 [13:22<00:00,  2.49it/s]\n"
     ]
    }
   ],
   "source": [
    "evolved_operators = q\n",
    "nus_evolution = np.array([nus])\n",
    "for t in trange(2000):\n",
    "    evolved_operators = [evolve(op) for op in evolved_operators]\n",
    "    cov = create_covariance(evolved_operators)\n",
    "    new_nus = find_symplectic_eigenvalues(cov)\n",
    "    nus_evolution = np.append(nus_evolution, [new_nus], axis=0)"
   ],
   "metadata": {
    "collapsed": false,
    "ExecuteTime": {
     "end_time": "2023-07-05T12:46:52.742156Z",
     "start_time": "2023-07-05T12:33:29.745267300Z"
    }
   }
  },
  {
   "cell_type": "code",
   "execution_count": 10,
   "outputs": [
    {
     "name": "stderr",
     "output_type": "stream",
     "text": [
      "C:\\Users\\fedes\\AppData\\Local\\Temp\\ipykernel_5608\\1622176515.py:4: RuntimeWarning: divide by zero encountered in log2\n",
      "  return x1*np.log2(x1) - x2*np.log2(x2)\n",
      "C:\\Users\\fedes\\AppData\\Local\\Temp\\ipykernel_5608\\1622176515.py:4: RuntimeWarning: invalid value encountered in double_scalars\n",
      "  return x1*np.log2(x1) - x2*np.log2(x2)\n",
      "C:\\Users\\fedes\\AppData\\Local\\Temp\\ipykernel_5608\\1622176515.py:4: RuntimeWarning: invalid value encountered in log2\n",
      "  return x1*np.log2(x1) - x2*np.log2(x2)\n"
     ]
    },
    {
     "data": {
      "text/plain": "<Figure size 640x480 with 1 Axes>",
      "image/png": "[encoded data removed]"
     },
     "metadata": {},
     "output_type": "display_data"
    }
   ],
   "source": [
    "plt.plot([purity(nus) for nus in nus_evolution], label='Purity')\n",
    "plt.plot([entropy(nus) for nus in nus_evolution], label='Entropy')\n",
    "plt.legend()\n",
    "plt.show()"
   ],
   "metadata": {
    "collapsed": false,
    "ExecuteTime": {
     "end_time": "2023-07-05T12:46:52.866156Z",
     "start_time": "2023-07-05T12:46:52.743156200Z"
    }
   }
  },
  {
   "cell_type": "code",
   "execution_count": 11,
   "outputs": [
    {
     "data": {
      "text/plain": "array([[1.5  , 2.5  ],\n       [1.502, 2.503],\n       [1.504, 2.506],\n       ...,\n       [0.051, 2.343],\n       [0.051, 2.34 ],\n       [0.051, 2.336]])"
     },
     "execution_count": 11,
     "metadata": {},
     "output_type": "execute_result"
    }
   ],
   "source": [
    "nus_evolution"
   ],
   "metadata": {
    "collapsed": false,
    "ExecuteTime": {
     "end_time": "2023-07-05T12:46:52.895164900Z",
     "start_time": "2023-07-05T12:46:52.866655900Z"
    }
   }
  },
  {
   "cell_type": "code",
   "execution_count": 12,
   "outputs": [
    {
     "data": {
      "text/plain": "Quantum object: dims = [[2, 2], [2, 2]], shape = (4, 4), type = oper, isherm = True\nQobj data =\n[[ 0.99771769  0.         -1.12593487  0.        ]\n [ 0.          0.99771769  0.         -1.12593487]\n [-1.12593487  0.          1.38933538  0.        ]\n [ 0.         -1.12593487  0.          1.38933538]]",
      "text/latex": "Quantum object: dims = [[2, 2], [2, 2]], shape = (4, 4), type = oper, isherm = True\\begin{equation*}\\left(\\begin{array}{*{11}c}0.998 & 0.0 & -1.126 & 0.0\\\\0.0 & 0.998 & 0.0 & -1.126\\\\-1.126 & 0.0 & 1.389 & 0.0\\\\0.0 & -1.126 & 0.0 & 1.389\\\\\\end{array}\\right)\\end{equation*}"
     },
     "execution_count": 12,
     "metadata": {},
     "output_type": "execute_result"
    }
   ],
   "source": [
    "cov"
   ],
   "metadata": {
    "collapsed": false,
    "ExecuteTime": {
     "end_time": "2023-07-05T13:26:17.859578900Z",
     "start_time": "2023-07-05T13:26:17.811202900Z"
    }
   }
  },
  {
   "cell_type": "code",
   "execution_count": 15,
   "outputs": [
    {
     "data": {
      "text/plain": "Quantum object: dims = [[2, 2], [2, 2]], shape = (4, 4), type = oper, isherm = False\nQobj data =\n[[ 0.  1.  0.  0.]\n [-1.  0.  0.  0.]\n [ 0.  0.  0.  1.]\n [ 0.  0. -1.  0.]]",
      "text/latex": "Quantum object: dims = [[2, 2], [2, 2]], shape = (4, 4), type = oper, isherm = False\\begin{equation*}\\left(\\begin{array}{*{11}c}0.0 & 1.0 & 0.0 & 0.0\\\\-1.0 & 0.0 & 0.0 & 0.0\\\\0.0 & 0.0 & 0.0 & 1.0\\\\0.0 & 0.0 & -1.0 & 0.0\\\\\\end{array}\\right)\\end{equation*}"
     },
     "execution_count": 15,
     "metadata": {},
     "output_type": "execute_result"
    }
   ],
   "source": [
    "omega1 = Qobj([[0, 1], [-1, 0]])\n",
    "omega = qutip.tensor(qutip.qeye(2), omega1)\n",
    "omega"
   ],
   "metadata": {
    "collapsed": false,
    "ExecuteTime": {
     "end_time": "2023-07-05T13:27:06.301324500Z",
     "start_time": "2023-07-05T13:27:06.270489300Z"
    }
   }
  },
  {
   "cell_type": "code",
   "execution_count": 17,
   "outputs": [
    {
     "data": {
      "text/plain": "Quantum object: dims = [[2, 2], [2, 2]], shape = (4, 4), type = oper, isherm = True\nQobj data =\n[[0.+0.j         0.+0.99771769j 0.+0.j         0.-1.12593487j]\n [0.-0.99771769j 0.+0.j         0.+1.12593487j 0.+0.j        ]\n [0.+0.j         0.-1.12593487j 0.+0.j         0.+1.38933538j]\n [0.+1.12593487j 0.+0.j         0.-1.38933538j 0.+0.j        ]]",
      "text/latex": "Quantum object: dims = [[2, 2], [2, 2]], shape = (4, 4), type = oper, isherm = True\\begin{equation*}\\left(\\begin{array}{*{11}c}0.0 & 0.998j & 0.0 & -1.126j\\\\-0.998j & 0.0 & 1.126j & 0.0\\\\0.0 & -1.126j & 0.0 & 1.389j\\\\1.126j & 0.0 & -1.389j & 0.0\\\\\\end{array}\\right)\\end{equation*}"
     },
     "execution_count": 17,
     "metadata": {},
     "output_type": "execute_result"
    }
   ],
   "source": [
    "matrix = 1j*omega*cov\n",
    "matrix"
   ],
   "metadata": {
    "collapsed": false,
    "ExecuteTime": {
     "end_time": "2023-07-05T13:27:31.038942600Z",
     "start_time": "2023-07-05T13:27:31.024442600Z"
    }
   }
  },
  {
   "cell_type": "code",
   "execution_count": 18,
   "outputs": [
    {
     "data": {
      "text/plain": "array([ 2.33636092+4.66601746e-17j, -2.33636092-4.66601746e-17j,\n        0.05069214-3.45948518e-17j, -0.05069214+3.45948518e-17j])"
     },
     "execution_count": 18,
     "metadata": {},
     "output_type": "execute_result"
    }
   ],
   "source": [
    "symplectic = np.linalg.eigvals(matrix.full())\n",
    "symplectic"
   ],
   "metadata": {
    "collapsed": false,
    "ExecuteTime": {
     "end_time": "2023-07-05T13:27:43.949622100Z",
     "start_time": "2023-07-05T13:27:43.932541100Z"
    }
   }
  },
  {
   "cell_type": "code",
   "execution_count": null,
   "outputs": [],
   "source": [],
   "metadata": {
    "collapsed": false
   }
  }
 ],
 "metadata": {
  "kernelspec": {
   "display_name": "Python 3",
   "language": "python",
   "name": "python3"
  },
  "language_info": {
   "codemirror_mode": {
    "name": "ipython",
    "version": 2
   },
   "file_extension": ".py",
   "mimetype": "text/x-python",
   "name": "python",
   "nbconvert_exporter": "python",
   "pygments_lexer": "ipython2",
   "version": "2.7.6"
  }
 },
 "nbformat": 4,
 "nbformat_minor": 0
}
