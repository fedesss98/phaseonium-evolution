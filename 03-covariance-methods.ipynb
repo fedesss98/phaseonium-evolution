{
 "cells": [
  {
   "cell_type": "markdown",
   "source": [
    "# Covariance Matrix methods\n",
    "To find symplectic eigenvalues of the covariance matrix gives simple means to compute quantities such as Entropy or Purity.\n",
    "\n",
    "**Problems**:\n",
    "1. Quadrature-operators covariance matrix does not give correct mean photon number n1 and n2\n",
    "2. Covariance matrix does not evolve correctly"
   ],
   "metadata": {
    "collapsed": false
   }
  },
  {
   "cell_type": "code",
   "execution_count": 1,
   "outputs": [],
   "source": [
    "%matplotlib inline\n",
    "import copy\n",
    "import qutip\n",
    "from qutip import Qobj\n",
    "import numpy as np\n",
    "import math, cmath\n",
    "import matplotlib.pyplot as plt\n",
    "from tqdm import tqdm, trange\n",
    "\n",
    "from stateobj import Physics\n",
    "import utilities as use\n",
    "import circuits as qc\n",
    "\n",
    "import os\n",
    "\n",
    "from IPython.display import Markdown, display"
   ],
   "metadata": {
    "collapsed": false,
    "ExecuteTime": {
     "end_time": "2023-06-28T15:45:06.487262Z",
     "start_time": "2023-06-28T15:45:02.027934800Z"
    }
   }
  },
  {
   "cell_type": "code",
   "execution_count": 24,
   "outputs": [],
   "source": [
    "TIMESTEPS = 3000\n",
    "TIMEDELTA = 1e-01\n",
    "OMEGA = 0.5  # Strength of Interaction\n",
    "\n",
    "D = 30\n",
    "\n",
    "p = Physics(dimension=D, interaction_strength=OMEGA, interaction_time=TIMEDELTA)\n",
    "\n",
    "th = OMEGA * TIMEDELTA\n",
    "alpha = complex(1/math.sqrt(2), 0)\n",
    "beta = cmath.sqrt(1 - alpha**2)\n",
    "phi = np.pi/2"
   ],
   "metadata": {
    "collapsed": false,
    "ExecuteTime": {
     "end_time": "2023-06-28T15:51:10.931505100Z",
     "start_time": "2023-06-28T15:51:10.869827800Z"
    }
   }
  },
  {
   "cell_type": "code",
   "execution_count": 25,
   "outputs": [],
   "source": [
    "eta = use.create_ancilla_qobj(alpha, beta, phi)\n",
    "n1 = 2\n",
    "n2 = 1\n",
    "rho1 = use.create_system_qobj('thermal',n=n1, n_dims=D)\n",
    "rho2 = use.create_system_qobj('thermal', n=n2, n_dims=D)\n",
    "rho = qutip.tensor(rho1, rho2)\n",
    "# qutip.plot_wigner(rho)\n",
    "\n",
    "def cov_matrix_element(op1, op2):\n",
    "    comm = qutip.commutator(op1, op2, kind='anti')\n",
    "    return 0.5*qutip.expect(comm, rho) - qutip.expect(op1, rho)*qutip.expect(op2, rho)\n",
    "\n",
    "def create_covariance(operators):\n",
    "    cov = [[cov_matrix_element(operators[k], operators[l]) for k in range(2*n)] for l in range(2*n)]\n",
    "    return Qobj(cov, dims=[[n, n], [n, n]])"
   ],
   "metadata": {
    "collapsed": false,
    "ExecuteTime": {
     "end_time": "2023-06-28T15:51:11.080886900Z",
     "start_time": "2023-06-28T15:51:11.034599800Z"
    }
   }
  },
  {
   "cell_type": "code",
   "execution_count": 26,
   "outputs": [],
   "source": [
    "def dissipator(X: Qobj, system: Qobj, kind='standard'):\n",
    "        if kind == 'inverse':\n",
    "            sandwich = X.dag() * system * X\n",
    "        else:\n",
    "            sandwich = X * system * X.dag()\n",
    "        comm = qutip.commutator(X.dag()*X, system, kind='anti')\n",
    "        return sandwich - 1/2 * comm\n",
    "\n",
    "def evolve(operator, dissipator_kind='standard'):\n",
    "        ga = 2*alpha**2\n",
    "        gb = beta**2*(1-np.cos(phi))\n",
    "        # Bosonic Operators\n",
    "        C = p.C\n",
    "        Cp = p.Cp\n",
    "        S = p.S\n",
    "        Sd = p.S.dag()\n",
    "        first_line = 0.5*dissipator(qutip.tensor(C, C) - 2*qutip.tensor(S, Sd), operator, dissipator_kind)\n",
    "        first_line += dissipator(qutip.tensor(C, S) + qutip.tensor(S, Cp), operator, dissipator_kind)\n",
    "        second_line = 0.5*dissipator(qutip.tensor(Cp, Cp) - 2*qutip.tensor(Sd, S), operator, dissipator_kind)\n",
    "        second_line += dissipator(qutip.tensor(Cp, Sd) + qutip.tensor(Sd, C), operator, dissipator_kind)\n",
    "        return operator + ga * first_line + gb * second_line"
   ],
   "metadata": {
    "collapsed": false,
    "ExecuteTime": {
     "end_time": "2023-06-28T15:51:11.300513900Z",
     "start_time": "2023-06-28T15:51:11.202471100Z"
    }
   }
  },
  {
   "cell_type": "markdown",
   "source": [
    "## Covariance Matrix"
   ],
   "metadata": {
    "collapsed": false
   }
  },
  {
   "cell_type": "code",
   "execution_count": 27,
   "outputs": [
    {
     "data": {
      "text/plain": "Quantum object: dims = [[2, 2], [2, 2]], shape = (4, 4), type = oper, isherm = True\nQobj data =\n[[2.49980443 0.         0.         0.        ]\n [0.         2.49980443 0.         0.        ]\n [0.         0.         1.49999996 0.        ]\n [0.         0.         0.         1.49999996]]",
      "text/latex": "Quantum object: dims = [[2, 2], [2, 2]], shape = (4, 4), type = oper, isherm = True\\begin{equation*}\\left(\\begin{array}{*{11}c}2.500 & 0.0 & 0.0 & 0.0\\\\0.0 & 2.500 & 0.0 & 0.0\\\\0.0 & 0.0 & 1.500 & 0.0\\\\0.0 & 0.0 & 0.0 & 1.500\\\\\\end{array}\\right)\\end{equation*}"
     },
     "execution_count": 27,
     "metadata": {},
     "output_type": "execute_result"
    }
   ],
   "source": [
    "n = 2  # Number of systems\n",
    "# Bosonic Operators Vector\n",
    "a = [p.a1, p.ad1, p.a2, p.ad2]\n",
    "# Quadrature Operators Vector\n",
    "q = [p.q1, p.p1, p.q2, p.p2]\n",
    "cov = create_covariance(q)\n",
    "cov"
   ],
   "metadata": {
    "collapsed": false,
    "ExecuteTime": {
     "end_time": "2023-06-28T15:51:11.562308200Z",
     "start_time": "2023-06-28T15:51:11.476392600Z"
    }
   }
  },
  {
   "cell_type": "markdown",
   "source": [
    "## Symplectic Eigenvalues"
   ],
   "metadata": {
    "collapsed": false
   }
  },
  {
   "cell_type": "code",
   "execution_count": 36,
   "outputs": [
    {
     "data": {
      "text/plain": "array([1.5, 2.5])"
     },
     "execution_count": 36,
     "metadata": {},
     "output_type": "execute_result"
    }
   ],
   "source": [
    "def find_symplectic_eigenvalues(cov):\n",
    "    omega1 = Qobj([[0, 1], [-1, 0]])\n",
    "    omega = qutip.tensor(qutip.qeye(2), omega1)\n",
    "    matrix = 1j*omega*cov\n",
    "    symplectic = np.linalg.eigvals(matrix.full())\n",
    "    # Returns only unique values rounded and sorted\n",
    "    return np.sort(np.unique(np.abs(symplectic).round(decimals=3)))\n",
    "nus = find_symplectic_eigenvalues(cov)\n",
    "np.sort(nus)"
   ],
   "metadata": {
    "collapsed": false,
    "ExecuteTime": {
     "end_time": "2023-06-28T15:56:13.089663400Z",
     "start_time": "2023-06-28T15:56:13.042652300Z"
    }
   }
  },
  {
   "cell_type": "markdown",
   "source": [
    "### Entropy"
   ],
   "metadata": {
    "collapsed": false
   }
  },
  {
   "cell_type": "code",
   "execution_count": 37,
   "outputs": [],
   "source": [
    "def minientropy(x):\n",
    "    x1 = 0.5 * (x+1)\n",
    "    x2 = 0.5 * (x-1)\n",
    "    return x1*np.log2(x1) - x2*np.log2(x2)\n",
    "\n",
    "def entropy(nus):\n",
    "    return sum([minientropy(nu) for nu in nus])"
   ],
   "metadata": {
    "collapsed": false,
    "ExecuteTime": {
     "end_time": "2023-06-28T15:56:16.497731200Z",
     "start_time": "2023-06-28T15:56:16.482509700Z"
    }
   }
  },
  {
   "cell_type": "code",
   "execution_count": 38,
   "outputs": [],
   "source": [
    "def purity(nus):\n",
    "    return np.prod([1/nu for nu in nus])\n"
   ],
   "metadata": {
    "collapsed": false,
    "ExecuteTime": {
     "end_time": "2023-06-28T15:56:16.994654100Z",
     "start_time": "2023-06-28T15:56:16.962958700Z"
    }
   }
  },
  {
   "cell_type": "markdown",
   "source": [
    "## Evolution"
   ],
   "metadata": {
    "collapsed": false
   }
  },
  {
   "cell_type": "code",
   "execution_count": 57,
   "outputs": [
    {
     "name": "stderr",
     "output_type": "stream",
     "text": [
      "100%|██████████| 250/250 [02:04<00:00,  2.01it/s]\n"
     ]
    },
    {
     "data": {
      "text/plain": "Quantum object: dims = [[2, 2], [2, 2]], shape = (4, 4), type = oper, isherm = True\nQobj data =\n[[ 0.54270633+0.00000000e+00j  0.        +0.00000000e+00j\n  -0.16548968+0.00000000e+00j  0.        +3.04389169e-18j]\n [ 0.        +0.00000000e+00j  0.54270633+0.00000000e+00j\n   0.        -3.04389169e-18j -0.16548968+0.00000000e+00j]\n [-0.16548968+0.00000000e+00j  0.        -3.04389169e-18j\n   0.37458733+0.00000000e+00j  0.        +0.00000000e+00j]\n [ 0.        +3.04389169e-18j -0.16548968+0.00000000e+00j\n   0.        +0.00000000e+00j  0.37458733+0.00000000e+00j]]",
      "text/latex": "Quantum object: dims = [[2, 2], [2, 2]], shape = (4, 4), type = oper, isherm = True\\begin{equation*}\\left(\\begin{array}{*{11}c}0.543 & 0.0 & -0.165 & 0.0\\\\0.0 & 0.543 & 0.0 & -0.165\\\\-0.165 & 0.0 & 0.375 & 0.0\\\\0.0 & -0.165 & 0.0 & 0.375\\\\\\end{array}\\right)\\end{equation*}"
     },
     "execution_count": 57,
     "metadata": {},
     "output_type": "execute_result"
    }
   ],
   "source": [
    "evolved_operators = q\n",
    "nus_evolution = np.array([nus])\n",
    "for t in trange(250):\n",
    "    evolved_operators = [evolve(op) for op in evolved_operators]\n",
    "    cov = create_covariance(evolved_operators)\n",
    "    new_nus = find_symplectic_eigenvalues(cov)\n",
    "    nus_evolution = np.append(nus_evolution, [new_nus], axis=0)"
   ],
   "metadata": {
    "collapsed": false,
    "ExecuteTime": {
     "end_time": "2023-06-28T16:09:31.396471700Z",
     "start_time": "2023-06-28T16:07:26.692133700Z"
    }
   }
  },
  {
   "cell_type": "code",
   "execution_count": 54,
   "outputs": [
    {
     "name": "stderr",
     "output_type": "stream",
     "text": [
      "C:\\Users\\fedes\\AppData\\Local\\Temp\\ipykernel_6012\\1622176515.py:4: RuntimeWarning: invalid value encountered in log2\n",
      "  return x1*np.log2(x1) - x2*np.log2(x2)\n",
      "C:\\Users\\fedes\\AppData\\Local\\Temp\\ipykernel_6012\\1622176515.py:4: RuntimeWarning: divide by zero encountered in log2\n",
      "  return x1*np.log2(x1) - x2*np.log2(x2)\n",
      "C:\\Users\\fedes\\AppData\\Local\\Temp\\ipykernel_6012\\1622176515.py:4: RuntimeWarning: invalid value encountered in double_scalars\n",
      "  return x1*np.log2(x1) - x2*np.log2(x2)\n"
     ]
    },
    {
     "data": {
      "text/plain": "<Figure size 640x480 with 1 Axes>",
      "image/png": "[encoded data removed]"
     },
     "metadata": {},
     "output_type": "display_data"
    }
   ],
   "source": [
    "plt.plot([purity(nus) for nus in nus_evolution], label='Purity')\n",
    "plt.plot([entropy(nus) for nus in nus_evolution], label='Entropy')\n",
    "plt.legend()\n",
    "plt.show()"
   ],
   "metadata": {
    "collapsed": false,
    "ExecuteTime": {
     "end_time": "2023-06-28T16:06:47.775167100Z",
     "start_time": "2023-06-28T16:06:47.189573200Z"
    }
   }
  },
  {
   "cell_type": "code",
   "execution_count": 12,
   "outputs": [
    {
     "data": {
      "text/plain": "[array([1.5       , 1.5       , 1.93649163, 1.93649163]),\n array([1.4908518 , 1.4908518 , 1.92470259, 1.92470259]),\n array([1.48176658, 1.48176658, 1.91298983, 1.91298983]),\n array([1.47274387, 1.90135284, 1.90135284]),\n array([1.46378321, 1.8897911 ]),\n array([1.45488412, 1.45488412, 1.8783041 ]),\n array([1.44604616, 1.86689134, 1.86689134]),\n array([1.43726887, 1.8555523 , 1.8555523 ]),\n array([1.42855178, 1.42855178, 1.84428649, 1.84428649]),\n array([1.41989446, 1.83309342]),\n array([1.41129646, 1.41129646, 1.82197258, 1.82197258]),\n array([1.40275733, 1.40275733, 1.81092348, 1.81092348]),\n array([1.39427664, 1.79994565, 1.79994565]),\n array([1.38585394, 1.38585394, 1.78903859, 1.78903859]),\n array([1.37748882, 1.37748882, 1.77820183, 1.77820183]),\n array([1.36918084, 1.76743488, 1.76743488]),\n array([1.36092957, 1.75673729, 1.75673729]),\n array([1.35273459, 1.74610856]),\n array([1.34459548, 1.34459548, 1.73554825, 1.73554825]),\n array([1.33651184, 1.33651184, 1.72505588]),\n array([1.32848324, 1.32848324, 1.71463099])]"
     },
     "execution_count": 12,
     "metadata": {},
     "output_type": "execute_result"
    }
   ],
   "source": [
    "nus_evolution"
   ],
   "metadata": {
    "collapsed": false,
    "ExecuteTime": {
     "end_time": "2023-06-28T15:24:08.206784300Z",
     "start_time": "2023-06-28T15:24:08.004518100Z"
    }
   }
  },
  {
   "cell_type": "code",
   "execution_count": 12,
   "outputs": [],
   "source": [],
   "metadata": {
    "collapsed": false,
    "ExecuteTime": {
     "end_time": "2023-06-28T15:24:08.206784300Z",
     "start_time": "2023-06-28T15:24:08.028417900Z"
    }
   }
  }
 ],
 "metadata": {
  "kernelspec": {
   "display_name": "Python 3",
   "language": "python",
   "name": "python3"
  },
  "language_info": {
   "codemirror_mode": {
    "name": "ipython",
    "version": 2
   },
   "file_extension": ".py",
   "mimetype": "text/x-python",
   "name": "python",
   "nbconvert_exporter": "python",
   "pygments_lexer": "ipython2",
   "version": "2.7.6"
  }
 },
 "nbformat": 4,
 "nbformat_minor": 0
}
